{
  "cells": [
    {
      "cell_type": "code",
      "execution_count": 8,
      "metadata": {},
      "outputs": [
        {
          "name": "stdout",
          "output_type": "stream",
          "text": [
            "📊 이미지 크기 통계 분석을 시작합니다...\n",
            "==================================================\n"
          ]
        }
      ],
      "source": [
        "import os\n",
        "import pandas as pd\n",
        "from PIL import Image\n",
        "import numpy as np\n",
        "from pathlib import Path\n",
        "\n",
        "# 데이터 폴더 경로 설정\n",
        "train_path = '../../input/data/train'\n",
        "test_path = '../../input/data/test'\n",
        "\n",
        "print(\"📊 이미지 크기 통계 분석을 시작합니다...\")\n",
        "print(\"=\" * 50)\n"
      ]
    },
    {
      "cell_type": "code",
      "execution_count": 9,
      "metadata": {},
      "outputs": [],
      "source": [
        "def analyze_image_stats(folder_path, folder_name):\n",
        "    \"\"\"\n",
        "    폴더 내 이미지들의 크기 통계를 분석하는 함수\n",
        "    \n",
        "    Args:\n",
        "        folder_path (str): 이미지 폴더 경로\n",
        "        folder_name (str): 폴더 이름 (출력용)\n",
        "    \n",
        "    Returns:\n",
        "        dict: 통계 정보를 담은 딕셔너리\n",
        "    \"\"\"\n",
        "    widths = []\n",
        "    heights = []\n",
        "    sizes = []\n",
        "    \n",
        "    # jpg 파일만 필터링\n",
        "    image_files = [f for f in os.listdir(folder_path) if f.lower().endswith('.jpg')]\n",
        "    \n",
        "    print(f\"🔍 {folder_name} 폴더 분석 중... (총 {len(image_files)}개 이미지)\")\n",
        "    \n",
        "    for i, filename in enumerate(image_files):\n",
        "        try:\n",
        "            img_path = os.path.join(folder_path, filename)\n",
        "            with Image.open(img_path) as img:\n",
        "                width, height = img.size\n",
        "                widths.append(width)\n",
        "                heights.append(height)\n",
        "                sizes.append(width * height)\n",
        "                \n",
        "            # 진행률 표시 (10% 단위)\n",
        "            if (i + 1) % (len(image_files) // 10) == 0:\n",
        "                progress = (i + 1) / len(image_files) * 100\n",
        "                print(f\"   진행률: {progress:.0f}%\")\n",
        "                \n",
        "        except Exception as e:\n",
        "            print(f\"   ⚠️ 오류 발생 ({filename}): {e}\")\n",
        "            continue\n",
        "    \n",
        "    # 통계 계산\n",
        "    stats = {\n",
        "        'folder_name': folder_name,\n",
        "        'total_images': len(widths),\n",
        "        'min_width': min(widths) if widths else 0,\n",
        "        'max_width': max(widths) if widths else 0,\n",
        "        'min_height': min(heights) if heights else 0,\n",
        "        'max_height': max(heights) if heights else 0,\n",
        "        'min_size': min(sizes) if sizes else 0,\n",
        "        'max_size': max(sizes) if sizes else 0,\n",
        "        'avg_width': np.mean(widths) if widths else 0,\n",
        "        'avg_height': np.mean(heights) if heights else 0,\n",
        "        'avg_size': np.mean(sizes) if sizes else 0\n",
        "    }\n",
        "    \n",
        "    return stats\n"
      ]
    },
    {
      "cell_type": "code",
      "execution_count": 10,
      "metadata": {},
      "outputs": [
        {
          "name": "stdout",
          "output_type": "stream",
          "text": [
            "📁 Train 폴더 분석\n",
            "🔍 Train 폴더 분석 중... (총 1570개 이미지)\n",
            "   진행률: 10%\n",
            "   진행률: 20%\n",
            "   진행률: 30%\n",
            "   진행률: 40%\n",
            "   진행률: 50%\n",
            "   진행률: 60%\n",
            "   진행률: 70%\n",
            "   진행률: 80%\n",
            "   진행률: 90%\n",
            "   진행률: 100%\n",
            "✅ Train 폴더 분석 완료!\n",
            "\n",
            "📁 Test 폴더 분석\n",
            "🔍 Test 폴더 분석 중... (총 3140개 이미지)\n",
            "   진행률: 10%\n",
            "   진행률: 20%\n",
            "   진행률: 30%\n",
            "   진행률: 40%\n",
            "   진행률: 50%\n",
            "   진행률: 60%\n",
            "   진행률: 70%\n",
            "   진행률: 80%\n",
            "   진행률: 90%\n",
            "   진행률: 100%\n",
            "✅ Test 폴더 분석 완료!\n",
            "\n"
          ]
        }
      ],
      "source": [
        "# Train 폴더 분석\n",
        "print(\"📁 Train 폴더 분석\")\n",
        "train_stats = analyze_image_stats(train_path, \"Train\")\n",
        "print(\"✅ Train 폴더 분석 완료!\\n\")\n",
        "\n",
        "# Test 폴더 분석\n",
        "print(\"📁 Test 폴더 분석\")\n",
        "test_stats = analyze_image_stats(test_path, \"Test\")\n",
        "print(\"✅ Test 폴더 분석 완료!\\n\")\n"
      ]
    },
    {
      "cell_type": "code",
      "execution_count": 13,
      "metadata": {},
      "outputs": [
        {
          "name": "stdout",
          "output_type": "stream",
          "text": [
            "📋 전체 통계 요약표\n"
          ]
        },
        {
          "data": {
            "text/html": [
              "<div>\n",
              "<style scoped>\n",
              "    .dataframe tbody tr th:only-of-type {\n",
              "        vertical-align: middle;\n",
              "    }\n",
              "\n",
              "    .dataframe tbody tr th {\n",
              "        vertical-align: top;\n",
              "    }\n",
              "\n",
              "    .dataframe thead th {\n",
              "        text-align: right;\n",
              "    }\n",
              "</style>\n",
              "<table border=\"1\" class=\"dataframe\">\n",
              "  <thead>\n",
              "    <tr style=\"text-align: right;\">\n",
              "      <th></th>\n",
              "      <th>폴더</th>\n",
              "      <th>총 이미지 수</th>\n",
              "      <th>최소 Width</th>\n",
              "      <th>최대 Width</th>\n",
              "      <th>평균 Width</th>\n",
              "      <th>최소 Height</th>\n",
              "      <th>최대 Height</th>\n",
              "      <th>평균 Height</th>\n",
              "      <th>최소 Size</th>\n",
              "      <th>최대 Size</th>\n",
              "      <th>평균 Size</th>\n",
              "    </tr>\n",
              "  </thead>\n",
              "  <tbody>\n",
              "    <tr>\n",
              "      <th>0</th>\n",
              "      <td>Train</td>\n",
              "      <td>1570</td>\n",
              "      <td>384</td>\n",
              "      <td>753</td>\n",
              "      <td>497.6</td>\n",
              "      <td>348</td>\n",
              "      <td>682</td>\n",
              "      <td>538.2</td>\n",
              "      <td>261,184</td>\n",
              "      <td>262,144</td>\n",
              "      <td>261,780</td>\n",
              "    </tr>\n",
              "    <tr>\n",
              "      <th>1</th>\n",
              "      <td>Test</td>\n",
              "      <td>3140</td>\n",
              "      <td>343</td>\n",
              "      <td>763</td>\n",
              "      <td>517.1</td>\n",
              "      <td>343</td>\n",
              "      <td>763</td>\n",
              "      <td>518.6</td>\n",
              "      <td>261,120</td>\n",
              "      <td>262,144</td>\n",
              "      <td>261,787</td>\n",
              "    </tr>\n",
              "  </tbody>\n",
              "</table>\n",
              "</div>"
            ],
            "text/plain": [
              "      폴더  총 이미지 수  최소 Width  최대 Width 평균 Width  최소 Height  최대 Height  \\\n",
              "0  Train     1570       384       753    497.6        348        682   \n",
              "1   Test     3140       343       763    517.1        343        763   \n",
              "\n",
              "  평균 Height  최소 Size  최대 Size  평균 Size  \n",
              "0     538.2  261,184  262,144  261,780  \n",
              "1     518.6  261,120  262,144  261,787  "
            ]
          },
          "metadata": {},
          "output_type": "display_data"
        }
      ],
      "source": [
        "# 결과를 데이터프레임으로 정리\n",
        "summary_data = {\n",
        "    '폴더': ['Train', 'Test'],\n",
        "    '총 이미지 수': [train_stats['total_images'], test_stats['total_images']],\n",
        "    '최소 Width': [train_stats['min_width'], test_stats['min_width']],\n",
        "    '최대 Width': [train_stats['max_width'], test_stats['max_width']],\n",
        "    '평균 Width': [f\"{train_stats['avg_width']:.1f}\", f\"{test_stats['avg_width']:.1f}\"],\n",
        "    '최소 Height': [train_stats['min_height'], test_stats['min_height']],\n",
        "    '최대 Height': [train_stats['max_height'], test_stats['max_height']],\n",
        "    '평균 Height': [f\"{train_stats['avg_height']:.1f}\", f\"{test_stats['avg_height']:.1f}\"],\n",
        "    '최소 Size': [f\"{train_stats['min_size']:,}\", f\"{test_stats['min_size']:,}\"],\n",
        "    '최대 Size': [f\"{train_stats['max_size']:,}\", f\"{test_stats['max_size']:,}\"],\n",
        "    '평균 Size': [f\"{train_stats['avg_size']:,.0f}\", f\"{test_stats['avg_size']:,.0f}\"]\n",
        "}\n",
        "\n",
        "df_summary = pd.DataFrame(summary_data)\n",
        "\n",
        "print(\"📋 전체 통계 요약표\")\n",
        "display(df_summary)"
      ]
    },
    {
      "cell_type": "markdown",
      "metadata": {},
      "source": []
    },
    {
      "cell_type": "raw",
      "metadata": {
        "vscode": {
          "languageId": "raw"
        }
      },
      "source": [
        "# 🎯 이미지 크기 통계 분석 결과\n",
        "\n",
        "이 노트북은 `input/data/train`과 `input/data/test` 폴더에 있는 이미지들의 크기 통계를 분석합니다.\n",
        "\n",
        "## 📊 분석 항목\n",
        "- **Width (가로)**: 이미지의 가로 픽셀 수\n",
        "- **Height (세로)**: 이미지의 세로 픽셀 수  \n",
        "- **Size (전체 크기)**: Width × Height (총 픽셀 수)\n",
        "\n",
        "## 📈 통계 정보\n",
        "각 폴더별로 다음 통계를 제공합니다:\n",
        "- 최소값 (Minimum)\n",
        "- 최대값 (Maximum)  \n",
        "- 평균값 (Average)\n",
        "\n",
        "## 💡 활용 방안\n",
        "이 통계 정보는 다음과 같은 용도로 활용할 수 있습니다:\n",
        "- 모델 학습 시 입력 이미지 크기 결정\n",
        "- 데이터 전처리 전략 수립\n",
        "- 메모리 사용량 예측\n",
        "- 배치 크기 최적화\n"
      ]
    }
  ],
  "metadata": {
    "kernelspec": {
      "display_name": ".venv",
      "language": "python",
      "name": "python3"
    },
    "language_info": {
      "codemirror_mode": {
        "name": "ipython",
        "version": 3
      },
      "file_extension": ".py",
      "mimetype": "text/x-python",
      "name": "python",
      "nbconvert_exporter": "python",
      "pygments_lexer": "ipython3",
      "version": "3.10.13"
    }
  },
  "nbformat": 4,
  "nbformat_minor": 2
}
