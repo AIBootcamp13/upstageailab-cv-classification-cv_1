{
 "cells": [
  {
   "cell_type": "code",
   "execution_count": 1,
   "id": "61bf6c5d",
   "metadata": {},
   "outputs": [],
   "source": [
    "import os\n",
    "import torch\n",
    "import albumentations as A\n",
    "import numpy as np\n",
    "from albumentations.pytorch import ToTensorV2\n",
    "import pandas as pd\n",
    "from torch.utils.data import DataLoader\n",
    "\n",
    "from Load_Data import ImageDataset, random_seed, get_transforms\n",
    "from Preprocess import Augmentation\n",
    "from Train import Trainer\n",
    "from Inference import Model_Ensemble, tta, run_inference"
   ]
  },
  {
   "cell_type": "code",
   "execution_count": 2,
   "id": "c2c3b407",
   "metadata": {},
   "outputs": [],
   "source": [
    "train_csv_path = \"../data/train.csv\"\n",
    "test_csv_path = \"../data/sample_submission.csv\"\n",
    "\n",
    "train_df = pd.read_csv(train_csv_path)\n",
    "test_df = pd.read_csv(test_csv_path)\n",
    "\n",
    "random_seed(42) # 시드 고정"
   ]
  },
  {
   "cell_type": "code",
   "execution_count": 3,
   "id": "56e505bc",
   "metadata": {},
   "outputs": [],
   "source": [
    "device = torch.device('cuda' if torch.cuda.is_available() else 'cpu')\n",
    "img_size = 512  # EfficientNetV2 XL 권장 입력 크기\n",
    "LR = 2e-5  \n",
    "EPOCHS = 60\n",
    "BATCH_SIZE = 6\n",
    "Drop_out = 0.5\n",
    "weight_decay = 1e-4\n",
    "num_workers = 4\n",
    "num_classes = 17\n",
    "n_splits = 3  # K-fold \n",
    "patience = 5  # Early stopp\n",
    "# tta_iterations = 1  # TTA\n",
    "\n",
    "model_name = \"tf_efficientnetv2_xl_in21ft1k\"  \n",
    "run_name_prefix = \"V12\"\n",
    "train_path = \"../data/train/\"\n",
    "test_path = \"../data/test/\"\n",
    "fold_paths = \"../model/V12/\" # 학습된 fold 모델 경로\n",
    "model_save_path = \"../model/V12\" # 모델 저장 경로\n",
    "augmented_save_path = \"../data/augment_image/V12-augmented\" # 증강 이미지 저장 경로\n",
    "augmented_save_csv_path = \"../data/augment_csv/V12-augmented.csv\" # 증강 csv 저장 경로\n",
    "submission_save_path = \"../data/submission/V12-submission.csv\" # 추론 결과"
   ]
  },
  {
   "cell_type": "code",
   "execution_count": 4,
   "id": "66abb804",
   "metadata": {},
   "outputs": [
    {
     "name": "stdout",
     "output_type": "stream",
     "text": [
      "[INFO] Class 0: 현재 100개 → 목표 300개로 증강 중...\n"
     ]
    },
    {
     "name": "stderr",
     "output_type": "stream",
     "text": [
      "[Class 0] 원본 복사: 100%|██████████| 100/100 [00:00<00:00, 254.87it/s]\n"
     ]
    },
    {
     "name": "stdout",
     "output_type": "stream",
     "text": [
      "[INFO] Class 0: 추가 증강 200개 생성 중...\n"
     ]
    },
    {
     "name": "stderr",
     "output_type": "stream",
     "text": [
      "[Class 0] 증강 생성: 100%|██████████| 200/200 [00:08<00:00, 24.02it/s]\n"
     ]
    },
    {
     "name": "stdout",
     "output_type": "stream",
     "text": [
      "[INFO] Class 1: 현재 46개 → 목표 300개로 증강 중...\n"
     ]
    },
    {
     "name": "stderr",
     "output_type": "stream",
     "text": [
      "[Class 1] 원본 복사: 100%|██████████| 46/46 [00:00<00:00, 217.81it/s]\n"
     ]
    },
    {
     "name": "stdout",
     "output_type": "stream",
     "text": [
      "[INFO] Class 1: 추가 증강 254개 생성 중...\n"
     ]
    },
    {
     "name": "stderr",
     "output_type": "stream",
     "text": [
      "[Class 1] 증강 생성: 100%|██████████| 254/254 [00:10<00:00, 24.40it/s]\n"
     ]
    },
    {
     "name": "stdout",
     "output_type": "stream",
     "text": [
      "[INFO] Class 2: 현재 100개 → 목표 300개로 증강 중...\n"
     ]
    },
    {
     "name": "stderr",
     "output_type": "stream",
     "text": [
      "[Class 2] 원본 복사: 100%|██████████| 100/100 [00:00<00:00, 207.90it/s]\n"
     ]
    },
    {
     "name": "stdout",
     "output_type": "stream",
     "text": [
      "[INFO] Class 2: 추가 증강 200개 생성 중...\n"
     ]
    },
    {
     "name": "stderr",
     "output_type": "stream",
     "text": [
      "[Class 2] 증강 생성: 100%|██████████| 200/200 [00:01<00:00, 111.92it/s]\n"
     ]
    },
    {
     "name": "stdout",
     "output_type": "stream",
     "text": [
      "[INFO] Class 3: 현재 100개 → 목표 300개로 증강 중...\n"
     ]
    },
    {
     "name": "stderr",
     "output_type": "stream",
     "text": [
      "[Class 3] 원본 복사: 100%|██████████| 100/100 [00:00<00:00, 235.07it/s]\n"
     ]
    },
    {
     "name": "stdout",
     "output_type": "stream",
     "text": [
      "[INFO] Class 3: 추가 증강 200개 생성 중...\n"
     ]
    },
    {
     "name": "stderr",
     "output_type": "stream",
     "text": [
      "[Class 3] 증강 생성: 100%|██████████| 200/200 [00:07<00:00, 25.74it/s]\n"
     ]
    },
    {
     "name": "stdout",
     "output_type": "stream",
     "text": [
      "[INFO] Class 4: 현재 100개 → 목표 300개로 증강 중...\n"
     ]
    },
    {
     "name": "stderr",
     "output_type": "stream",
     "text": [
      "[Class 4] 원본 복사: 100%|██████████| 100/100 [00:00<00:00, 233.99it/s]\n"
     ]
    },
    {
     "name": "stdout",
     "output_type": "stream",
     "text": [
      "[INFO] Class 4: 추가 증강 200개 생성 중...\n"
     ]
    },
    {
     "name": "stderr",
     "output_type": "stream",
     "text": [
      "[Class 4] 증강 생성: 100%|██████████| 200/200 [00:07<00:00, 25.06it/s]\n"
     ]
    },
    {
     "name": "stdout",
     "output_type": "stream",
     "text": [
      "[INFO] Class 5: 현재 100개 → 목표 300개로 증강 중...\n"
     ]
    },
    {
     "name": "stderr",
     "output_type": "stream",
     "text": [
      "[Class 5] 원본 복사: 100%|██████████| 100/100 [00:00<00:00, 229.51it/s]\n"
     ]
    },
    {
     "name": "stdout",
     "output_type": "stream",
     "text": [
      "[INFO] Class 5: 추가 증강 200개 생성 중...\n"
     ]
    },
    {
     "name": "stderr",
     "output_type": "stream",
     "text": [
      "[Class 5] 증강 생성: 100%|██████████| 200/200 [00:09<00:00, 22.20it/s]\n"
     ]
    },
    {
     "name": "stdout",
     "output_type": "stream",
     "text": [
      "[INFO] Class 6: 현재 100개 → 목표 300개로 증강 중...\n"
     ]
    },
    {
     "name": "stderr",
     "output_type": "stream",
     "text": [
      "[Class 6] 원본 복사: 100%|██████████| 100/100 [00:00<00:00, 207.30it/s]\n"
     ]
    },
    {
     "name": "stdout",
     "output_type": "stream",
     "text": [
      "[INFO] Class 6: 추가 증강 200개 생성 중...\n"
     ]
    },
    {
     "name": "stderr",
     "output_type": "stream",
     "text": [
      "[Class 6] 증강 생성: 100%|██████████| 200/200 [00:08<00:00, 22.51it/s]\n"
     ]
    },
    {
     "name": "stdout",
     "output_type": "stream",
     "text": [
      "[INFO] Class 7: 현재 100개 → 목표 300개로 증강 중...\n"
     ]
    },
    {
     "name": "stderr",
     "output_type": "stream",
     "text": [
      "[Class 7] 원본 복사: 100%|██████████| 100/100 [00:00<00:00, 234.99it/s]\n"
     ]
    },
    {
     "name": "stdout",
     "output_type": "stream",
     "text": [
      "[INFO] Class 7: 추가 증강 200개 생성 중...\n"
     ]
    },
    {
     "name": "stderr",
     "output_type": "stream",
     "text": [
      "[Class 7] 증강 생성: 100%|██████████| 200/200 [00:08<00:00, 22.68it/s]\n"
     ]
    },
    {
     "name": "stdout",
     "output_type": "stream",
     "text": [
      "[INFO] Class 8: 현재 100개 → 목표 300개로 증강 중...\n"
     ]
    },
    {
     "name": "stderr",
     "output_type": "stream",
     "text": [
      "[Class 8] 원본 복사: 100%|██████████| 100/100 [00:00<00:00, 231.09it/s]\n"
     ]
    },
    {
     "name": "stdout",
     "output_type": "stream",
     "text": [
      "[INFO] Class 8: 추가 증강 200개 생성 중...\n"
     ]
    },
    {
     "name": "stderr",
     "output_type": "stream",
     "text": [
      "[Class 8] 증강 생성: 100%|██████████| 200/200 [00:07<00:00, 26.00it/s]\n"
     ]
    },
    {
     "name": "stdout",
     "output_type": "stream",
     "text": [
      "[INFO] Class 9: 현재 100개 → 목표 300개로 증강 중...\n"
     ]
    },
    {
     "name": "stderr",
     "output_type": "stream",
     "text": [
      "[Class 9] 원본 복사: 100%|██████████| 100/100 [00:00<00:00, 226.54it/s]\n"
     ]
    },
    {
     "name": "stdout",
     "output_type": "stream",
     "text": [
      "[INFO] Class 9: 추가 증강 200개 생성 중...\n"
     ]
    },
    {
     "name": "stderr",
     "output_type": "stream",
     "text": [
      "[Class 9] 증강 생성: 100%|██████████| 200/200 [00:07<00:00, 25.28it/s]\n"
     ]
    },
    {
     "name": "stdout",
     "output_type": "stream",
     "text": [
      "[INFO] Class 10: 현재 100개 → 목표 300개로 증강 중...\n"
     ]
    },
    {
     "name": "stderr",
     "output_type": "stream",
     "text": [
      "[Class 10] 원본 복사: 100%|██████████| 100/100 [00:00<00:00, 226.83it/s]\n"
     ]
    },
    {
     "name": "stdout",
     "output_type": "stream",
     "text": [
      "[INFO] Class 10: 추가 증강 200개 생성 중...\n"
     ]
    },
    {
     "name": "stderr",
     "output_type": "stream",
     "text": [
      "[Class 10] 증강 생성: 100%|██████████| 200/200 [00:08<00:00, 24.38it/s]\n"
     ]
    },
    {
     "name": "stdout",
     "output_type": "stream",
     "text": [
      "[INFO] Class 11: 현재 100개 → 목표 300개로 증강 중...\n"
     ]
    },
    {
     "name": "stderr",
     "output_type": "stream",
     "text": [
      "[Class 11] 원본 복사: 100%|██████████| 100/100 [00:00<00:00, 217.25it/s]\n"
     ]
    },
    {
     "name": "stdout",
     "output_type": "stream",
     "text": [
      "[INFO] Class 11: 추가 증강 200개 생성 중...\n"
     ]
    },
    {
     "name": "stderr",
     "output_type": "stream",
     "text": [
      "[Class 11] 증강 생성: 100%|██████████| 200/200 [00:09<00:00, 21.26it/s]\n"
     ]
    },
    {
     "name": "stdout",
     "output_type": "stream",
     "text": [
      "[INFO] Class 12: 현재 100개 → 목표 300개로 증강 중...\n"
     ]
    },
    {
     "name": "stderr",
     "output_type": "stream",
     "text": [
      "[Class 12] 원본 복사: 100%|██████████| 100/100 [00:00<00:00, 216.27it/s]\n"
     ]
    },
    {
     "name": "stdout",
     "output_type": "stream",
     "text": [
      "[INFO] Class 12: 추가 증강 200개 생성 중...\n"
     ]
    },
    {
     "name": "stderr",
     "output_type": "stream",
     "text": [
      "[Class 12] 증강 생성: 100%|██████████| 200/200 [00:09<00:00, 20.90it/s]\n"
     ]
    },
    {
     "name": "stdout",
     "output_type": "stream",
     "text": [
      "[INFO] Class 13: 현재 74개 → 목표 300개로 증강 중...\n"
     ]
    },
    {
     "name": "stderr",
     "output_type": "stream",
     "text": [
      "[Class 13] 원본 복사: 100%|██████████| 74/74 [00:00<00:00, 229.98it/s]\n"
     ]
    },
    {
     "name": "stdout",
     "output_type": "stream",
     "text": [
      "[INFO] Class 13: 추가 증강 226개 생성 중...\n"
     ]
    },
    {
     "name": "stderr",
     "output_type": "stream",
     "text": [
      "[Class 13] 증강 생성: 100%|██████████| 226/226 [00:09<00:00, 24.33it/s]\n"
     ]
    },
    {
     "name": "stdout",
     "output_type": "stream",
     "text": [
      "[INFO] Class 14: 현재 50개 → 목표 300개로 증강 중...\n"
     ]
    },
    {
     "name": "stderr",
     "output_type": "stream",
     "text": [
      "[Class 14] 원본 복사: 100%|██████████| 50/50 [00:00<00:00, 235.62it/s]\n"
     ]
    },
    {
     "name": "stdout",
     "output_type": "stream",
     "text": [
      "[INFO] Class 14: 추가 증강 250개 생성 중...\n"
     ]
    },
    {
     "name": "stderr",
     "output_type": "stream",
     "text": [
      "[Class 14] 증강 생성: 100%|██████████| 250/250 [00:10<00:00, 24.09it/s]\n"
     ]
    },
    {
     "name": "stdout",
     "output_type": "stream",
     "text": [
      "[INFO] Class 15: 현재 100개 → 목표 300개로 증강 중...\n"
     ]
    },
    {
     "name": "stderr",
     "output_type": "stream",
     "text": [
      "[Class 15] 원본 복사: 100%|██████████| 100/100 [00:00<00:00, 205.52it/s]\n"
     ]
    },
    {
     "name": "stdout",
     "output_type": "stream",
     "text": [
      "[INFO] Class 15: 추가 증강 200개 생성 중...\n"
     ]
    },
    {
     "name": "stderr",
     "output_type": "stream",
     "text": [
      "[Class 15] 증강 생성: 100%|██████████| 200/200 [00:08<00:00, 23.03it/s]\n"
     ]
    },
    {
     "name": "stdout",
     "output_type": "stream",
     "text": [
      "[INFO] Class 16: 현재 100개 → 목표 300개로 증강 중...\n"
     ]
    },
    {
     "name": "stderr",
     "output_type": "stream",
     "text": [
      "[Class 16] 원본 복사: 100%|██████████| 100/100 [00:00<00:00, 208.61it/s]\n"
     ]
    },
    {
     "name": "stdout",
     "output_type": "stream",
     "text": [
      "[INFO] Class 16: 추가 증강 200개 생성 중...\n"
     ]
    },
    {
     "name": "stderr",
     "output_type": "stream",
     "text": [
      "[Class 16] 증강 생성: 100%|██████████| 200/200 [00:01<00:00, 118.44it/s]\n"
     ]
    },
    {
     "name": "stdout",
     "output_type": "stream",
     "text": [
      "[완료] 클래스별 증강 완료\n",
      "[완료] 증강 CSV 저장 완료: ../data/augment_csv/V12-augmented.csv\n",
      "\n",
      "=== Fold 1: Train=3400, Val=1700 ===\n"
     ]
    },
    {
     "name": "stderr",
     "output_type": "stream",
     "text": [
      "\u001b[34m\u001b[1mwandb\u001b[0m: Currently logged in as: \u001b[33mmoonstalker9010\u001b[0m (\u001b[33mmoonstalker9010-none\u001b[0m) to \u001b[32mhttps://api.wandb.ai\u001b[0m. Use \u001b[1m`wandb login --relogin`\u001b[0m to force relogin\n"
     ]
    },
    {
     "data": {
      "text/html": [
       "Tracking run with wandb version 0.21.0"
      ],
      "text/plain": [
       "<IPython.core.display.HTML object>"
      ]
     },
     "metadata": {},
     "output_type": "display_data"
    },
    {
     "data": {
      "text/html": [
       "Run data is saved locally in <code>../../wandb/run-20250707_014849-4gk59mb8</code>"
      ],
      "text/plain": [
       "<IPython.core.display.HTML object>"
      ]
     },
     "metadata": {},
     "output_type": "display_data"
    },
    {
     "data": {
      "text/html": [
       "Syncing run <strong><a href='https://wandb.ai/moonstalker9010-none/Document%20Classification/runs/4gk59mb8' target=\"_blank\">V12-Fold 1</a></strong> to <a href='https://wandb.ai/moonstalker9010-none/Document%20Classification' target=\"_blank\">Weights & Biases</a> (<a href='https://wandb.me/developer-guide' target=\"_blank\">docs</a>)<br>"
      ],
      "text/plain": [
       "<IPython.core.display.HTML object>"
      ]
     },
     "metadata": {},
     "output_type": "display_data"
    },
    {
     "data": {
      "text/html": [
       " View project at <a href='https://wandb.ai/moonstalker9010-none/Document%20Classification' target=\"_blank\">https://wandb.ai/moonstalker9010-none/Document%20Classification</a>"
      ],
      "text/plain": [
       "<IPython.core.display.HTML object>"
      ]
     },
     "metadata": {},
     "output_type": "display_data"
    },
    {
     "data": {
      "text/html": [
       " View run at <a href='https://wandb.ai/moonstalker9010-none/Document%20Classification/runs/4gk59mb8' target=\"_blank\">https://wandb.ai/moonstalker9010-none/Document%20Classification/runs/4gk59mb8</a>"
      ],
      "text/plain": [
       "<IPython.core.display.HTML object>"
      ]
     },
     "metadata": {},
     "output_type": "display_data"
    },
    {
     "name": "stderr",
     "output_type": "stream",
     "text": [
      "[Fold 1][Epoch 1/60] Training: 100%|██████████| 567/567 [03:22<00:00,  2.80it/s, loss=1.8]  \n",
      "[Fold 1][Epoch 1/60] Validation: 100%|██████████| 284/284 [00:28<00:00,  9.84it/s]\n"
     ]
    },
    {
     "name": "stdout",
     "output_type": "stream",
     "text": [
      "[Fold 1] Ep1 - Train: 1.8202 | Val: 0.8553, Acc: 0.7876, F1: 0.7817\n"
     ]
    },
    {
     "name": "stderr",
     "output_type": "stream",
     "text": [
      "[Fold 1][Epoch 2/60] Training: 100%|██████████| 567/567 [03:18<00:00,  2.85it/s, loss=0.0836]\n",
      "[Fold 1][Epoch 2/60] Validation: 100%|██████████| 284/284 [00:28<00:00,  9.95it/s]\n"
     ]
    },
    {
     "name": "stdout",
     "output_type": "stream",
     "text": [
      "[Fold 1] Ep2 - Train: 0.7597 | Val: 0.6963, Acc: 0.8512, F1: 0.8513\n"
     ]
    },
    {
     "name": "stderr",
     "output_type": "stream",
     "text": [
      "[Fold 1][Epoch 3/60] Training: 100%|██████████| 567/567 [03:18<00:00,  2.85it/s, loss=0.00461]\n",
      "[Fold 1][Epoch 3/60] Validation: 100%|██████████| 284/284 [00:28<00:00,  9.92it/s]\n"
     ]
    },
    {
     "name": "stdout",
     "output_type": "stream",
     "text": [
      "[Fold 1] Ep3 - Train: 0.5159 | Val: 0.6765, Acc: 0.8724, F1: 0.8688\n"
     ]
    },
    {
     "name": "stderr",
     "output_type": "stream",
     "text": [
      "[Fold 1][Epoch 4/60] Training: 100%|██████████| 567/567 [03:18<00:00,  2.85it/s, loss=0.052]  \n",
      "[Fold 1][Epoch 4/60] Validation: 100%|██████████| 284/284 [00:28<00:00,  9.96it/s]\n"
     ]
    },
    {
     "name": "stdout",
     "output_type": "stream",
     "text": [
      "[Fold 1] Ep4 - Train: 0.3888 | Val: 0.6260, Acc: 0.8865, F1: 0.8851\n"
     ]
    },
    {
     "name": "stderr",
     "output_type": "stream",
     "text": [
      "[Fold 1][Epoch 5/60] Training: 100%|██████████| 567/567 [03:18<00:00,  2.85it/s, loss=0.333]  \n",
      "[Fold 1][Epoch 5/60] Validation: 100%|██████████| 284/284 [00:28<00:00,  9.95it/s]\n"
     ]
    },
    {
     "name": "stdout",
     "output_type": "stream",
     "text": [
      "[Fold 1] Ep5 - Train: 0.3146 | Val: 0.6476, Acc: 0.8941, F1: 0.8939\n"
     ]
    },
    {
     "name": "stderr",
     "output_type": "stream",
     "text": [
      "[Fold 1][Epoch 6/60] Training: 100%|██████████| 567/567 [03:18<00:00,  2.85it/s, loss=0.504]   \n",
      "[Fold 1][Epoch 6/60] Validation: 100%|██████████| 284/284 [00:28<00:00,  9.95it/s]\n"
     ]
    },
    {
     "name": "stdout",
     "output_type": "stream",
     "text": [
      "[Fold 1] Ep6 - Train: 0.3664 | Val: 0.6706, Acc: 0.8694, F1: 0.8698\n"
     ]
    },
    {
     "name": "stderr",
     "output_type": "stream",
     "text": [
      "[Fold 1][Epoch 7/60] Training: 100%|██████████| 567/567 [03:19<00:00,  2.85it/s, loss=0.00305]\n",
      "[Fold 1][Epoch 7/60] Validation: 100%|██████████| 284/284 [00:28<00:00,  9.95it/s]\n"
     ]
    },
    {
     "name": "stdout",
     "output_type": "stream",
     "text": [
      "[Fold 1] Ep7 - Train: 0.2942 | Val: 0.6572, Acc: 0.8959, F1: 0.8951\n"
     ]
    },
    {
     "name": "stderr",
     "output_type": "stream",
     "text": [
      "[Fold 1][Epoch 8/60] Training: 100%|██████████| 567/567 [03:18<00:00,  2.85it/s, loss=0.328]  \n",
      "[Fold 1][Epoch 8/60] Validation: 100%|██████████| 284/284 [00:28<00:00,  9.92it/s]\n"
     ]
    },
    {
     "name": "stdout",
     "output_type": "stream",
     "text": [
      "[Fold 1] Ep8 - Train: 0.2249 | Val: 0.7099, Acc: 0.9029, F1: 0.9016\n"
     ]
    },
    {
     "name": "stderr",
     "output_type": "stream",
     "text": [
      "[Fold 1][Epoch 9/60] Training: 100%|██████████| 567/567 [03:18<00:00,  2.85it/s, loss=0.441]   \n",
      "[Fold 1][Epoch 9/60] Validation: 100%|██████████| 284/284 [00:28<00:00,  9.91it/s]\n"
     ]
    },
    {
     "name": "stdout",
     "output_type": "stream",
     "text": [
      "[Fold 1] Ep9 - Train: 0.1633 | Val: 0.7131, Acc: 0.8976, F1: 0.8967\n"
     ]
    },
    {
     "name": "stderr",
     "output_type": "stream",
     "text": [
      "[Fold 1][Epoch 10/60] Training: 100%|██████████| 567/567 [03:18<00:00,  2.85it/s, loss=0.0325]  \n",
      "[Fold 1][Epoch 10/60] Validation: 100%|██████████| 284/284 [00:28<00:00,  9.92it/s]\n"
     ]
    },
    {
     "name": "stdout",
     "output_type": "stream",
     "text": [
      "[Fold 1] Ep10 - Train: 0.1332 | Val: 0.7208, Acc: 0.9000, F1: 0.8982\n"
     ]
    },
    {
     "name": "stderr",
     "output_type": "stream",
     "text": [
      "[Fold 1][Epoch 11/60] Training: 100%|██████████| 567/567 [03:18<00:00,  2.85it/s, loss=0.0226]  \n",
      "[Fold 1][Epoch 11/60] Validation: 100%|██████████| 284/284 [00:28<00:00,  9.93it/s]\n"
     ]
    },
    {
     "name": "stdout",
     "output_type": "stream",
     "text": [
      "[Fold 1] Ep11 - Train: 0.1082 | Val: 0.7839, Acc: 0.8994, F1: 0.8990\n"
     ]
    },
    {
     "name": "stderr",
     "output_type": "stream",
     "text": [
      "[Fold 1][Epoch 12/60] Training: 100%|██████████| 567/567 [03:18<00:00,  2.85it/s, loss=0.48]    \n",
      "[Fold 1][Epoch 12/60] Validation: 100%|██████████| 284/284 [00:28<00:00,  9.90it/s]\n"
     ]
    },
    {
     "name": "stdout",
     "output_type": "stream",
     "text": [
      "[Fold 1] Ep12 - Train: 0.0869 | Val: 0.7804, Acc: 0.9059, F1: 0.9048\n"
     ]
    },
    {
     "name": "stderr",
     "output_type": "stream",
     "text": [
      "[Fold 1][Epoch 13/60] Training: 100%|██████████| 567/567 [03:18<00:00,  2.85it/s, loss=0.224]   \n",
      "[Fold 1][Epoch 13/60] Validation: 100%|██████████| 284/284 [00:28<00:00,  9.92it/s]\n"
     ]
    },
    {
     "name": "stdout",
     "output_type": "stream",
     "text": [
      "[Fold 1] Ep13 - Train: 0.0725 | Val: 0.7934, Acc: 0.9035, F1: 0.9030\n"
     ]
    },
    {
     "name": "stderr",
     "output_type": "stream",
     "text": [
      "[Fold 1][Epoch 14/60] Training: 100%|██████████| 567/567 [03:18<00:00,  2.85it/s, loss=0.0159]  \n",
      "[Fold 1][Epoch 14/60] Validation: 100%|██████████| 284/284 [00:28<00:00,  9.95it/s]\n"
     ]
    },
    {
     "name": "stdout",
     "output_type": "stream",
     "text": [
      "[Fold 1] Ep14 - Train: 0.0652 | Val: 0.7795, Acc: 0.9041, F1: 0.9035\n"
     ]
    },
    {
     "name": "stderr",
     "output_type": "stream",
     "text": [
      "[Fold 1][Epoch 15/60] Training: 100%|██████████| 567/567 [03:18<00:00,  2.85it/s, loss=0.0015]  \n",
      "[Fold 1][Epoch 15/60] Validation: 100%|██████████| 284/284 [00:28<00:00,  9.95it/s]\n"
     ]
    },
    {
     "name": "stdout",
     "output_type": "stream",
     "text": [
      "[Fold 1] Ep15 - Train: 0.0678 | Val: 0.7524, Acc: 0.9047, F1: 0.9044\n"
     ]
    },
    {
     "name": "stderr",
     "output_type": "stream",
     "text": [
      "[Fold 1][Epoch 16/60] Training: 100%|██████████| 567/567 [03:18<00:00,  2.86it/s, loss=0.876]   \n",
      "[Fold 1][Epoch 16/60] Validation: 100%|██████████| 284/284 [00:28<00:00,  9.88it/s]\n"
     ]
    },
    {
     "name": "stdout",
     "output_type": "stream",
     "text": [
      "[Fold 1] Ep16 - Train: 0.1273 | Val: 0.7470, Acc: 0.9041, F1: 0.9037\n"
     ]
    },
    {
     "name": "stderr",
     "output_type": "stream",
     "text": [
      "[Fold 1][Epoch 17/60] Training: 100%|██████████| 567/567 [03:18<00:00,  2.86it/s, loss=0.00259] \n",
      "[Fold 1][Epoch 17/60] Validation: 100%|██████████| 284/284 [00:28<00:00,  9.95it/s]"
     ]
    },
    {
     "name": "stdout",
     "output_type": "stream",
     "text": [
      "[Fold 1] Ep17 - Train: 0.1403 | Val: 0.7807, Acc: 0.9012, F1: 0.9011\n",
      "[Fold 1] Early stopping. Best F1: 0.9048\n"
     ]
    },
    {
     "name": "stderr",
     "output_type": "stream",
     "text": [
      "\n"
     ]
    },
    {
     "data": {
      "text/html": [],
      "text/plain": [
       "<IPython.core.display.HTML object>"
      ]
     },
     "metadata": {},
     "output_type": "display_data"
    },
    {
     "data": {
      "text/html": [
       "<br>    <style><br>        .wandb-row {<br>            display: flex;<br>            flex-direction: row;<br>            flex-wrap: wrap;<br>            justify-content: flex-start;<br>            width: 100%;<br>        }<br>        .wandb-col {<br>            display: flex;<br>            flex-direction: column;<br>            flex-basis: 100%;<br>            flex: 1;<br>            padding: 10px;<br>        }<br>    </style><br><div class=\"wandb-row\"><div class=\"wandb-col\"><h3>Run history:</h3><br/><table class=\"wandb\"><tr><td>Train_Data</td><td>▁▁▁▁▁▁▁▁▁▁▁▁▁▁▁▁▁</td></tr><tr><td>Val_Data</td><td>▁▁▁▁▁▁▁▁▁▁▁▁▁▁▁▁▁</td></tr><tr><td>best_val_f1</td><td>▁▅▆▇▇▇▇█████████</td></tr><tr><td>scheduler_lr</td><td>▇▆▃▂██▇▇▆▄▃▂▂▁███</td></tr><tr><td>train_loss</td><td>█▄▃▂▂▂▂▂▁▁▁▁▁▁▁▁▁</td></tr><tr><td>val_acc</td><td>▁▅▆▇▇▆▇██████████</td></tr><tr><td>val_f1</td><td>▁▅▆▇▇▆▇██████████</td></tr><tr><td>val_loss</td><td>█▃▃▁▂▂▂▄▄▄▆▆▆▆▅▅▆</td></tr></table><br/></div><div class=\"wandb-col\"><h3>Run summary:</h3><br/><table class=\"wandb\"><tr><td>Train_Data</td><td>3400</td></tr><tr><td>Val_Data</td><td>1700</td></tr><tr><td>best_val_f1</td><td>0.90484</td></tr><tr><td>fold</td><td>Fold 1</td></tr><tr><td>scheduler_lr</td><td>2e-05</td></tr><tr><td>train_loss</td><td>0.1403</td></tr><tr><td>val_acc</td><td>0.90118</td></tr><tr><td>val_f1</td><td>0.90114</td></tr><tr><td>val_loss</td><td>0.78068</td></tr></table><br/></div></div>"
      ],
      "text/plain": [
       "<IPython.core.display.HTML object>"
      ]
     },
     "metadata": {},
     "output_type": "display_data"
    },
    {
     "data": {
      "text/html": [
       " View run <strong style=\"color:#cdcd00\">V12-Fold 1</strong> at: <a href='https://wandb.ai/moonstalker9010-none/Document%20Classification/runs/4gk59mb8' target=\"_blank\">https://wandb.ai/moonstalker9010-none/Document%20Classification/runs/4gk59mb8</a><br> View project at: <a href='https://wandb.ai/moonstalker9010-none/Document%20Classification' target=\"_blank\">https://wandb.ai/moonstalker9010-none/Document%20Classification</a><br>Synced 5 W&B file(s), 0 media file(s), 0 artifact file(s) and 0 other file(s)"
      ],
      "text/plain": [
       "<IPython.core.display.HTML object>"
      ]
     },
     "metadata": {},
     "output_type": "display_data"
    },
    {
     "data": {
      "text/html": [
       "Find logs at: <code>../../wandb/run-20250707_014849-4gk59mb8/logs</code>"
      ],
      "text/plain": [
       "<IPython.core.display.HTML object>"
      ]
     },
     "metadata": {},
     "output_type": "display_data"
    },
    {
     "name": "stdout",
     "output_type": "stream",
     "text": [
      "\n",
      "=== Fold 2: Train=3400, Val=1700 ===\n"
     ]
    },
    {
     "data": {
      "text/html": [
       "Tracking run with wandb version 0.21.0"
      ],
      "text/plain": [
       "<IPython.core.display.HTML object>"
      ]
     },
     "metadata": {},
     "output_type": "display_data"
    },
    {
     "data": {
      "text/html": [
       "Run data is saved locally in <code>../../wandb/run-20250707_025332-hmuu87mv</code>"
      ],
      "text/plain": [
       "<IPython.core.display.HTML object>"
      ]
     },
     "metadata": {},
     "output_type": "display_data"
    },
    {
     "data": {
      "text/html": [
       "Syncing run <strong><a href='https://wandb.ai/moonstalker9010-none/Document%20Classification/runs/hmuu87mv' target=\"_blank\">V12-Fold 2</a></strong> to <a href='https://wandb.ai/moonstalker9010-none/Document%20Classification' target=\"_blank\">Weights & Biases</a> (<a href='https://wandb.me/developer-guide' target=\"_blank\">docs</a>)<br>"
      ],
      "text/plain": [
       "<IPython.core.display.HTML object>"
      ]
     },
     "metadata": {},
     "output_type": "display_data"
    },
    {
     "data": {
      "text/html": [
       " View project at <a href='https://wandb.ai/moonstalker9010-none/Document%20Classification' target=\"_blank\">https://wandb.ai/moonstalker9010-none/Document%20Classification</a>"
      ],
      "text/plain": [
       "<IPython.core.display.HTML object>"
      ]
     },
     "metadata": {},
     "output_type": "display_data"
    },
    {
     "data": {
      "text/html": [
       " View run at <a href='https://wandb.ai/moonstalker9010-none/Document%20Classification/runs/hmuu87mv' target=\"_blank\">https://wandb.ai/moonstalker9010-none/Document%20Classification/runs/hmuu87mv</a>"
      ],
      "text/plain": [
       "<IPython.core.display.HTML object>"
      ]
     },
     "metadata": {},
     "output_type": "display_data"
    },
    {
     "name": "stderr",
     "output_type": "stream",
     "text": [
      "[Fold 2][Epoch 1/60] Training: 100%|██████████| 567/567 [03:18<00:00,  2.85it/s, loss=1.6]   \n",
      "[Fold 2][Epoch 1/60] Validation: 100%|██████████| 284/284 [00:28<00:00,  9.97it/s]\n"
     ]
    },
    {
     "name": "stdout",
     "output_type": "stream",
     "text": [
      "[Fold 2] Ep1 - Train: 1.7447 | Val: 0.8817, Acc: 0.7659, F1: 0.7672\n"
     ]
    },
    {
     "name": "stderr",
     "output_type": "stream",
     "text": [
      "[Fold 2][Epoch 2/60] Training: 100%|██████████| 567/567 [03:18<00:00,  2.86it/s, loss=0.767]  \n",
      "[Fold 2][Epoch 2/60] Validation: 100%|██████████| 284/284 [00:28<00:00,  9.94it/s]\n"
     ]
    },
    {
     "name": "stdout",
     "output_type": "stream",
     "text": [
      "[Fold 2] Ep2 - Train: 0.7609 | Val: 0.6221, Acc: 0.8700, F1: 0.8668\n"
     ]
    },
    {
     "name": "stderr",
     "output_type": "stream",
     "text": [
      "[Fold 2][Epoch 3/60] Training: 100%|██████████| 567/567 [03:18<00:00,  2.86it/s, loss=0.258]  \n",
      "[Fold 2][Epoch 3/60] Validation: 100%|██████████| 284/284 [00:28<00:00,  9.92it/s]\n"
     ]
    },
    {
     "name": "stdout",
     "output_type": "stream",
     "text": [
      "[Fold 2] Ep3 - Train: 0.5202 | Val: 0.5381, Acc: 0.8929, F1: 0.8921\n"
     ]
    },
    {
     "name": "stderr",
     "output_type": "stream",
     "text": [
      "[Fold 2][Epoch 4/60] Training: 100%|██████████| 567/567 [03:18<00:00,  2.86it/s, loss=0.0242] \n",
      "[Fold 2][Epoch 4/60] Validation: 100%|██████████| 284/284 [00:28<00:00,  9.94it/s]\n"
     ]
    },
    {
     "name": "stdout",
     "output_type": "stream",
     "text": [
      "[Fold 2] Ep4 - Train: 0.3830 | Val: 0.5441, Acc: 0.8994, F1: 0.8985\n"
     ]
    },
    {
     "name": "stderr",
     "output_type": "stream",
     "text": [
      "[Fold 2][Epoch 5/60] Training: 100%|██████████| 567/567 [03:18<00:00,  2.85it/s, loss=0.662]  \n",
      "[Fold 2][Epoch 5/60] Validation: 100%|██████████| 284/284 [00:28<00:00,  9.89it/s]\n"
     ]
    },
    {
     "name": "stdout",
     "output_type": "stream",
     "text": [
      "[Fold 2] Ep5 - Train: 0.3070 | Val: 0.5497, Acc: 0.8965, F1: 0.8968\n"
     ]
    },
    {
     "name": "stderr",
     "output_type": "stream",
     "text": [
      "[Fold 2][Epoch 6/60] Training: 100%|██████████| 567/567 [03:18<00:00,  2.85it/s, loss=0.136]  \n",
      "[Fold 2][Epoch 6/60] Validation: 100%|██████████| 284/284 [00:28<00:00,  9.92it/s]\n"
     ]
    },
    {
     "name": "stdout",
     "output_type": "stream",
     "text": [
      "[Fold 2] Ep6 - Train: 0.3611 | Val: 0.5673, Acc: 0.9006, F1: 0.9012\n"
     ]
    },
    {
     "name": "stderr",
     "output_type": "stream",
     "text": [
      "[Fold 2][Epoch 7/60] Training: 100%|██████████| 567/567 [03:18<00:00,  2.85it/s, loss=0.155]  \n",
      "[Fold 2][Epoch 7/60] Validation: 100%|██████████| 284/284 [00:28<00:00,  9.97it/s]\n"
     ]
    },
    {
     "name": "stdout",
     "output_type": "stream",
     "text": [
      "[Fold 2] Ep7 - Train: 0.2855 | Val: 0.6193, Acc: 0.9076, F1: 0.9074\n"
     ]
    },
    {
     "name": "stderr",
     "output_type": "stream",
     "text": [
      "[Fold 2][Epoch 8/60] Training: 100%|██████████| 567/567 [03:18<00:00,  2.85it/s, loss=0.25]    \n",
      "[Fold 2][Epoch 8/60] Validation: 100%|██████████| 284/284 [00:28<00:00,  9.88it/s]\n"
     ]
    },
    {
     "name": "stdout",
     "output_type": "stream",
     "text": [
      "[Fold 2] Ep8 - Train: 0.2037 | Val: 0.6057, Acc: 0.9094, F1: 0.9102\n"
     ]
    },
    {
     "name": "stderr",
     "output_type": "stream",
     "text": [
      "[Fold 2][Epoch 9/60] Training: 100%|██████████| 567/567 [03:18<00:00,  2.85it/s, loss=0.0149]  \n",
      "[Fold 2][Epoch 9/60] Validation: 100%|██████████| 284/284 [00:28<00:00,  9.92it/s]\n"
     ]
    },
    {
     "name": "stdout",
     "output_type": "stream",
     "text": [
      "[Fold 2] Ep9 - Train: 0.1423 | Val: 0.6497, Acc: 0.9047, F1: 0.9060\n"
     ]
    },
    {
     "name": "stderr",
     "output_type": "stream",
     "text": [
      "[Fold 2][Epoch 10/60] Training: 100%|██████████| 567/567 [03:18<00:00,  2.85it/s, loss=0.000413]\n",
      "[Fold 2][Epoch 10/60] Validation: 100%|██████████| 284/284 [00:28<00:00,  9.91it/s]\n"
     ]
    },
    {
     "name": "stdout",
     "output_type": "stream",
     "text": [
      "[Fold 2] Ep10 - Train: 0.1389 | Val: 0.6644, Acc: 0.9088, F1: 0.9098\n"
     ]
    },
    {
     "name": "stderr",
     "output_type": "stream",
     "text": [
      "[Fold 2][Epoch 11/60] Training: 100%|██████████| 567/567 [03:18<00:00,  2.85it/s, loss=0.0957]  \n",
      "[Fold 2][Epoch 11/60] Validation: 100%|██████████| 284/284 [00:28<00:00,  9.96it/s]\n"
     ]
    },
    {
     "name": "stdout",
     "output_type": "stream",
     "text": [
      "[Fold 2] Ep11 - Train: 0.0796 | Val: 0.6575, Acc: 0.9141, F1: 0.9152\n"
     ]
    },
    {
     "name": "stderr",
     "output_type": "stream",
     "text": [
      "[Fold 2][Epoch 12/60] Training: 100%|██████████| 567/567 [03:18<00:00,  2.86it/s, loss=0.226]   \n",
      "[Fold 2][Epoch 12/60] Validation: 100%|██████████| 284/284 [00:28<00:00,  9.92it/s]\n"
     ]
    },
    {
     "name": "stdout",
     "output_type": "stream",
     "text": [
      "[Fold 2] Ep12 - Train: 0.0913 | Val: 0.6564, Acc: 0.9171, F1: 0.9173\n"
     ]
    },
    {
     "name": "stderr",
     "output_type": "stream",
     "text": [
      "[Fold 2][Epoch 13/60] Training: 100%|██████████| 567/567 [03:18<00:00,  2.86it/s, loss=0.0363]  \n",
      "[Fold 2][Epoch 13/60] Validation: 100%|██████████| 284/284 [00:28<00:00,  9.94it/s]\n"
     ]
    },
    {
     "name": "stdout",
     "output_type": "stream",
     "text": [
      "[Fold 2] Ep13 - Train: 0.0610 | Val: 0.6417, Acc: 0.9212, F1: 0.9217\n"
     ]
    },
    {
     "name": "stderr",
     "output_type": "stream",
     "text": [
      "[Fold 2][Epoch 14/60] Training: 100%|██████████| 567/567 [03:18<00:00,  2.85it/s, loss=0.375]   \n",
      "[Fold 2][Epoch 14/60] Validation: 100%|██████████| 284/284 [00:28<00:00,  9.97it/s]\n"
     ]
    },
    {
     "name": "stdout",
     "output_type": "stream",
     "text": [
      "[Fold 2] Ep14 - Train: 0.0687 | Val: 0.6740, Acc: 0.9171, F1: 0.9180\n"
     ]
    },
    {
     "name": "stderr",
     "output_type": "stream",
     "text": [
      "[Fold 2][Epoch 15/60] Training: 100%|██████████| 567/567 [03:18<00:00,  2.85it/s, loss=0.00797] \n",
      "[Fold 2][Epoch 15/60] Validation: 100%|██████████| 284/284 [00:28<00:00,  9.91it/s]\n"
     ]
    },
    {
     "name": "stdout",
     "output_type": "stream",
     "text": [
      "[Fold 2] Ep15 - Train: 0.0547 | Val: 0.6459, Acc: 0.9253, F1: 0.9255\n"
     ]
    },
    {
     "name": "stderr",
     "output_type": "stream",
     "text": [
      "[Fold 2][Epoch 16/60] Training: 100%|██████████| 567/567 [03:18<00:00,  2.86it/s, loss=0.0493]  \n",
      "[Fold 2][Epoch 16/60] Validation: 100%|██████████| 284/284 [00:28<00:00,  9.92it/s]\n"
     ]
    },
    {
     "name": "stdout",
     "output_type": "stream",
     "text": [
      "[Fold 2] Ep16 - Train: 0.1397 | Val: 0.6364, Acc: 0.9124, F1: 0.9134\n"
     ]
    },
    {
     "name": "stderr",
     "output_type": "stream",
     "text": [
      "[Fold 2][Epoch 17/60] Training: 100%|██████████| 567/567 [03:18<00:00,  2.86it/s, loss=0.0638]  \n",
      "[Fold 2][Epoch 17/60] Validation: 100%|██████████| 284/284 [00:28<00:00,  9.96it/s]\n"
     ]
    },
    {
     "name": "stdout",
     "output_type": "stream",
     "text": [
      "[Fold 2] Ep17 - Train: 0.1338 | Val: 0.6350, Acc: 0.9171, F1: 0.9175\n"
     ]
    },
    {
     "name": "stderr",
     "output_type": "stream",
     "text": [
      "[Fold 2][Epoch 18/60] Training: 100%|██████████| 567/567 [03:18<00:00,  2.86it/s, loss=0.205]   \n",
      "[Fold 2][Epoch 18/60] Validation: 100%|██████████| 284/284 [00:28<00:00,  9.92it/s]\n"
     ]
    },
    {
     "name": "stdout",
     "output_type": "stream",
     "text": [
      "[Fold 2] Ep18 - Train: 0.1026 | Val: 0.6301, Acc: 0.9129, F1: 0.9133\n"
     ]
    },
    {
     "name": "stderr",
     "output_type": "stream",
     "text": [
      "[Fold 2][Epoch 19/60] Training: 100%|██████████| 567/567 [03:18<00:00,  2.86it/s, loss=0.0144]  \n",
      "[Fold 2][Epoch 19/60] Validation: 100%|██████████| 284/284 [00:28<00:00,  9.93it/s]\n"
     ]
    },
    {
     "name": "stdout",
     "output_type": "stream",
     "text": [
      "[Fold 2] Ep19 - Train: 0.0999 | Val: 0.6448, Acc: 0.9218, F1: 0.9225\n"
     ]
    },
    {
     "name": "stderr",
     "output_type": "stream",
     "text": [
      "[Fold 2][Epoch 20/60] Training: 100%|██████████| 567/567 [03:18<00:00,  2.85it/s, loss=0.00329] \n",
      "[Fold 2][Epoch 20/60] Validation: 100%|██████████| 284/284 [00:28<00:00,  9.98it/s]\n"
     ]
    },
    {
     "name": "stdout",
     "output_type": "stream",
     "text": [
      "[Fold 2] Ep20 - Train: 0.0795 | Val: 0.6878, Acc: 0.9259, F1: 0.9261\n"
     ]
    },
    {
     "name": "stderr",
     "output_type": "stream",
     "text": [
      "[Fold 2][Epoch 21/60] Training:  11%|█         | 63/567 [00:22<03:00,  2.79it/s, loss=0.00311] \n"
     ]
    },
    {
     "ename": "KeyboardInterrupt",
     "evalue": "",
     "output_type": "error",
     "traceback": [
      "\u001b[0;31m---------------------------------------------------------------------------\u001b[0m",
      "\u001b[0;31mKeyboardInterrupt\u001b[0m                         Traceback (most recent call last)",
      "Cell \u001b[0;32mIn[4], line 32\u001b[0m\n\u001b[1;32m     11\u001b[0m \u001b[38;5;66;03m# Train\u001b[39;00m\n\u001b[1;32m     12\u001b[0m trainer \u001b[38;5;241m=\u001b[39m Trainer(\n\u001b[1;32m     13\u001b[0m     df\u001b[38;5;241m=\u001b[39maug_df,                            \u001b[38;5;66;03m# 증강된 데이터 사용\u001b[39;00m\n\u001b[1;32m     14\u001b[0m     data_path\u001b[38;5;241m=\u001b[39maugmented_save_path,        \u001b[38;5;66;03m# 증강된 이미지 경로 사용\u001b[39;00m\n\u001b[0;32m   (...)\u001b[0m\n\u001b[1;32m     29\u001b[0m     k_fold\u001b[38;5;241m=\u001b[39m\u001b[38;5;28;01mTrue\u001b[39;00m\n\u001b[1;32m     30\u001b[0m )\n\u001b[0;32m---> 32\u001b[0m f1_df \u001b[38;5;241m=\u001b[39m \u001b[43mtrainer\u001b[49m\u001b[38;5;241;43m.\u001b[39;49m\u001b[43mrun\u001b[49m\u001b[43m(\u001b[49m\u001b[43m)\u001b[49m\n\u001b[1;32m     33\u001b[0m fold_weights \u001b[38;5;241m=\u001b[39m f1_df[\u001b[38;5;124m\"\u001b[39m\u001b[38;5;124mf1\u001b[39m\u001b[38;5;124m\"\u001b[39m]\u001b[38;5;241m.\u001b[39mvalues \u001b[38;5;241m/\u001b[39m f1_df[\u001b[38;5;124m\"\u001b[39m\u001b[38;5;124mf1\u001b[39m\u001b[38;5;124m\"\u001b[39m]\u001b[38;5;241m.\u001b[39msum()\n",
      "File \u001b[0;32m/root/dev/upstageailab-cv-classification-cv_1/code/Train.py:63\u001b[0m, in \u001b[0;36mTrainer.run\u001b[0;34m(self)\u001b[0m\n\u001b[1;32m     61\u001b[0m         val_df \u001b[38;5;241m=\u001b[39m \u001b[38;5;28mself\u001b[39m\u001b[38;5;241m.\u001b[39mdf\u001b[38;5;241m.\u001b[39miloc[val_idx]\u001b[38;5;241m.\u001b[39mreset_index(drop\u001b[38;5;241m=\u001b[39m\u001b[38;5;28;01mTrue\u001b[39;00m)\n\u001b[1;32m     62\u001b[0m         \u001b[38;5;28mprint\u001b[39m(\u001b[38;5;124mf\u001b[39m\u001b[38;5;124m\"\u001b[39m\u001b[38;5;130;01m\\n\u001b[39;00m\u001b[38;5;124m=== Fold \u001b[39m\u001b[38;5;132;01m{\u001b[39;00mfold\u001b[38;5;241m+\u001b[39m\u001b[38;5;241m1\u001b[39m\u001b[38;5;132;01m}\u001b[39;00m\u001b[38;5;124m: Train=\u001b[39m\u001b[38;5;132;01m{\u001b[39;00m\u001b[38;5;28mlen\u001b[39m(train_df)\u001b[38;5;132;01m}\u001b[39;00m\u001b[38;5;124m, Val=\u001b[39m\u001b[38;5;132;01m{\u001b[39;00m\u001b[38;5;28mlen\u001b[39m(val_df)\u001b[38;5;132;01m}\u001b[39;00m\u001b[38;5;124m ===\u001b[39m\u001b[38;5;124m\"\u001b[39m)\n\u001b[0;32m---> 63\u001b[0m         best_f1 \u001b[38;5;241m=\u001b[39m \u001b[38;5;28;43mself\u001b[39;49m\u001b[38;5;241;43m.\u001b[39;49m\u001b[43mtrain_fold\u001b[49m\u001b[43m(\u001b[49m\u001b[43mfold\u001b[49m\u001b[43m,\u001b[49m\u001b[43m \u001b[49m\u001b[43mtrain_df\u001b[49m\u001b[43m,\u001b[49m\u001b[43m \u001b[49m\u001b[43mval_df\u001b[49m\u001b[43m)\u001b[49m\n\u001b[1;32m     64\u001b[0m         fold_f1s\u001b[38;5;241m.\u001b[39mappend(best_f1)\n\u001b[1;32m     66\u001b[0m \u001b[38;5;28;01melse\u001b[39;00m:  \u001b[38;5;66;03m# 수정 부분: k_fold=False면 Holdout\u001b[39;00m\n",
      "File \u001b[0;32m/root/dev/upstageailab-cv-classification-cv_1/code/Train.py:119\u001b[0m, in \u001b[0;36mTrainer.train_fold\u001b[0;34m(self, fold, train_df, val_df)\u001b[0m\n\u001b[1;32m    117\u001b[0m outputs \u001b[38;5;241m=\u001b[39m model(images)\n\u001b[1;32m    118\u001b[0m loss \u001b[38;5;241m=\u001b[39m loss_fn(outputs, targets)\n\u001b[0;32m--> 119\u001b[0m \u001b[43mloss\u001b[49m\u001b[38;5;241;43m.\u001b[39;49m\u001b[43mbackward\u001b[49m\u001b[43m(\u001b[49m\u001b[43m)\u001b[49m\n\u001b[1;32m    120\u001b[0m optimizer\u001b[38;5;241m.\u001b[39mstep()\n\u001b[1;32m    121\u001b[0m train_loss \u001b[38;5;241m+\u001b[39m\u001b[38;5;241m=\u001b[39m loss\u001b[38;5;241m.\u001b[39mitem()\n",
      "File \u001b[0;32m/opt/conda/envs/CV_Project/lib/python3.9/site-packages/torch/_tensor.py:581\u001b[0m, in \u001b[0;36mTensor.backward\u001b[0;34m(self, gradient, retain_graph, create_graph, inputs)\u001b[0m\n\u001b[1;32m    571\u001b[0m \u001b[38;5;28;01mif\u001b[39;00m has_torch_function_unary(\u001b[38;5;28mself\u001b[39m):\n\u001b[1;32m    572\u001b[0m     \u001b[38;5;28;01mreturn\u001b[39;00m handle_torch_function(\n\u001b[1;32m    573\u001b[0m         Tensor\u001b[38;5;241m.\u001b[39mbackward,\n\u001b[1;32m    574\u001b[0m         (\u001b[38;5;28mself\u001b[39m,),\n\u001b[0;32m   (...)\u001b[0m\n\u001b[1;32m    579\u001b[0m         inputs\u001b[38;5;241m=\u001b[39minputs,\n\u001b[1;32m    580\u001b[0m     )\n\u001b[0;32m--> 581\u001b[0m \u001b[43mtorch\u001b[49m\u001b[38;5;241;43m.\u001b[39;49m\u001b[43mautograd\u001b[49m\u001b[38;5;241;43m.\u001b[39;49m\u001b[43mbackward\u001b[49m\u001b[43m(\u001b[49m\n\u001b[1;32m    582\u001b[0m \u001b[43m    \u001b[49m\u001b[38;5;28;43mself\u001b[39;49m\u001b[43m,\u001b[49m\u001b[43m \u001b[49m\u001b[43mgradient\u001b[49m\u001b[43m,\u001b[49m\u001b[43m \u001b[49m\u001b[43mretain_graph\u001b[49m\u001b[43m,\u001b[49m\u001b[43m \u001b[49m\u001b[43mcreate_graph\u001b[49m\u001b[43m,\u001b[49m\u001b[43m \u001b[49m\u001b[43minputs\u001b[49m\u001b[38;5;241;43m=\u001b[39;49m\u001b[43minputs\u001b[49m\n\u001b[1;32m    583\u001b[0m \u001b[43m\u001b[49m\u001b[43m)\u001b[49m\n",
      "File \u001b[0;32m/opt/conda/envs/CV_Project/lib/python3.9/site-packages/torch/autograd/__init__.py:347\u001b[0m, in \u001b[0;36mbackward\u001b[0;34m(tensors, grad_tensors, retain_graph, create_graph, grad_variables, inputs)\u001b[0m\n\u001b[1;32m    342\u001b[0m     retain_graph \u001b[38;5;241m=\u001b[39m create_graph\n\u001b[1;32m    344\u001b[0m \u001b[38;5;66;03m# The reason we repeat the same comment below is that\u001b[39;00m\n\u001b[1;32m    345\u001b[0m \u001b[38;5;66;03m# some Python versions print out the first line of a multi-line function\u001b[39;00m\n\u001b[1;32m    346\u001b[0m \u001b[38;5;66;03m# calls in the traceback and some print out the last line\u001b[39;00m\n\u001b[0;32m--> 347\u001b[0m \u001b[43m_engine_run_backward\u001b[49m\u001b[43m(\u001b[49m\n\u001b[1;32m    348\u001b[0m \u001b[43m    \u001b[49m\u001b[43mtensors\u001b[49m\u001b[43m,\u001b[49m\n\u001b[1;32m    349\u001b[0m \u001b[43m    \u001b[49m\u001b[43mgrad_tensors_\u001b[49m\u001b[43m,\u001b[49m\n\u001b[1;32m    350\u001b[0m \u001b[43m    \u001b[49m\u001b[43mretain_graph\u001b[49m\u001b[43m,\u001b[49m\n\u001b[1;32m    351\u001b[0m \u001b[43m    \u001b[49m\u001b[43mcreate_graph\u001b[49m\u001b[43m,\u001b[49m\n\u001b[1;32m    352\u001b[0m \u001b[43m    \u001b[49m\u001b[43minputs\u001b[49m\u001b[43m,\u001b[49m\n\u001b[1;32m    353\u001b[0m \u001b[43m    \u001b[49m\u001b[43mallow_unreachable\u001b[49m\u001b[38;5;241;43m=\u001b[39;49m\u001b[38;5;28;43;01mTrue\u001b[39;49;00m\u001b[43m,\u001b[49m\n\u001b[1;32m    354\u001b[0m \u001b[43m    \u001b[49m\u001b[43maccumulate_grad\u001b[49m\u001b[38;5;241;43m=\u001b[39;49m\u001b[38;5;28;43;01mTrue\u001b[39;49;00m\u001b[43m,\u001b[49m\n\u001b[1;32m    355\u001b[0m \u001b[43m\u001b[49m\u001b[43m)\u001b[49m\n",
      "File \u001b[0;32m/opt/conda/envs/CV_Project/lib/python3.9/site-packages/torch/autograd/graph.py:825\u001b[0m, in \u001b[0;36m_engine_run_backward\u001b[0;34m(t_outputs, *args, **kwargs)\u001b[0m\n\u001b[1;32m    823\u001b[0m     unregister_hooks \u001b[38;5;241m=\u001b[39m _register_logging_hooks_on_whole_graph(t_outputs)\n\u001b[1;32m    824\u001b[0m \u001b[38;5;28;01mtry\u001b[39;00m:\n\u001b[0;32m--> 825\u001b[0m     \u001b[38;5;28;01mreturn\u001b[39;00m \u001b[43mVariable\u001b[49m\u001b[38;5;241;43m.\u001b[39;49m\u001b[43m_execution_engine\u001b[49m\u001b[38;5;241;43m.\u001b[39;49m\u001b[43mrun_backward\u001b[49m\u001b[43m(\u001b[49m\u001b[43m  \u001b[49m\u001b[38;5;66;43;03m# Calls into the C++ engine to run the backward pass\u001b[39;49;00m\n\u001b[1;32m    826\u001b[0m \u001b[43m        \u001b[49m\u001b[43mt_outputs\u001b[49m\u001b[43m,\u001b[49m\u001b[43m \u001b[49m\u001b[38;5;241;43m*\u001b[39;49m\u001b[43margs\u001b[49m\u001b[43m,\u001b[49m\u001b[43m \u001b[49m\u001b[38;5;241;43m*\u001b[39;49m\u001b[38;5;241;43m*\u001b[39;49m\u001b[43mkwargs\u001b[49m\n\u001b[1;32m    827\u001b[0m \u001b[43m    \u001b[49m\u001b[43m)\u001b[49m  \u001b[38;5;66;03m# Calls into the C++ engine to run the backward pass\u001b[39;00m\n\u001b[1;32m    828\u001b[0m \u001b[38;5;28;01mfinally\u001b[39;00m:\n\u001b[1;32m    829\u001b[0m     \u001b[38;5;28;01mif\u001b[39;00m attach_logging_hooks:\n",
      "\u001b[0;31mKeyboardInterrupt\u001b[0m: "
     ]
    },
    {
     "name": "stdout",
     "output_type": "stream",
     "text": [
      "Error in callback <bound method _WandbInit._post_run_cell_hook of <wandb.sdk.wandb_init._WandbInit object at 0x7f22f742a160>> (for post_run_cell), with arguments args (<ExecutionResult object at 7f24f57b88e0, execution_count=4 error_before_exec=None error_in_exec= info=<ExecutionInfo object at 7f25040e72b0, raw_cell=\"# Augmentation\n",
      "augmenter = Augmentation(\n",
      "    train..\" store_history=True silent=False shell_futures=True cell_id=vscode-notebook-cell://ssh-remote%2B7b22686f73744e616d65223a2243565f50726f6a656374227d/root/dev/upstageailab-cv-classification-cv_1/code/Models-Final.ipynb#W3sdnNjb2RlLXJlbW90ZQ%3D%3D> result=None>,),kwargs {}:\n"
     ]
    },
    {
     "ename": "BrokenPipeError",
     "evalue": "[Errno 32] Broken pipe",
     "output_type": "error",
     "traceback": [
      "\u001b[0;31m---------------------------------------------------------------------------\u001b[0m",
      "\u001b[0;31mBrokenPipeError\u001b[0m                           Traceback (most recent call last)",
      "File \u001b[0;32m/opt/conda/envs/CV_Project/lib/python3.9/site-packages/wandb/sdk/wandb_init.py:593\u001b[0m, in \u001b[0;36m_WandbInit._post_run_cell_hook\u001b[0;34m(self, *args, **kwargs)\u001b[0m\n\u001b[1;32m    590\u001b[0m     \u001b[38;5;28;01mreturn\u001b[39;00m\n\u001b[1;32m    592\u001b[0m \u001b[38;5;28mself\u001b[39m\u001b[38;5;241m.\u001b[39m_logger\u001b[38;5;241m.\u001b[39minfo(\u001b[38;5;124m\"\u001b[39m\u001b[38;5;124mresuming backend\u001b[39m\u001b[38;5;124m\"\u001b[39m)\n\u001b[0;32m--> 593\u001b[0m \u001b[38;5;28;43mself\u001b[39;49m\u001b[38;5;241;43m.\u001b[39;49m\u001b[43mbackend\u001b[49m\u001b[38;5;241;43m.\u001b[39;49m\u001b[43minterface\u001b[49m\u001b[38;5;241;43m.\u001b[39;49m\u001b[43mpublish_resume\u001b[49m\u001b[43m(\u001b[49m\u001b[43m)\u001b[49m\n",
      "File \u001b[0;32m/opt/conda/envs/CV_Project/lib/python3.9/site-packages/wandb/sdk/interface/interface.py:787\u001b[0m, in \u001b[0;36mInterfaceBase.publish_resume\u001b[0;34m(self)\u001b[0m\n\u001b[1;32m    785\u001b[0m \u001b[38;5;28;01mdef\u001b[39;00m\u001b[38;5;250m \u001b[39m\u001b[38;5;21mpublish_resume\u001b[39m(\u001b[38;5;28mself\u001b[39m) \u001b[38;5;241m-\u001b[39m\u001b[38;5;241m>\u001b[39m \u001b[38;5;28;01mNone\u001b[39;00m:\n\u001b[1;32m    786\u001b[0m     resume \u001b[38;5;241m=\u001b[39m pb\u001b[38;5;241m.\u001b[39mResumeRequest()\n\u001b[0;32m--> 787\u001b[0m     \u001b[38;5;28;43mself\u001b[39;49m\u001b[38;5;241;43m.\u001b[39;49m\u001b[43m_publish_resume\u001b[49m\u001b[43m(\u001b[49m\u001b[43mresume\u001b[49m\u001b[43m)\u001b[49m\n",
      "File \u001b[0;32m/opt/conda/envs/CV_Project/lib/python3.9/site-packages/wandb/sdk/interface/interface_shared.py:294\u001b[0m, in \u001b[0;36mInterfaceShared._publish_resume\u001b[0;34m(self, resume)\u001b[0m\n\u001b[1;32m    292\u001b[0m \u001b[38;5;28;01mdef\u001b[39;00m\u001b[38;5;250m \u001b[39m\u001b[38;5;21m_publish_resume\u001b[39m(\u001b[38;5;28mself\u001b[39m, resume: pb\u001b[38;5;241m.\u001b[39mResumeRequest) \u001b[38;5;241m-\u001b[39m\u001b[38;5;241m>\u001b[39m \u001b[38;5;28;01mNone\u001b[39;00m:\n\u001b[1;32m    293\u001b[0m     rec \u001b[38;5;241m=\u001b[39m \u001b[38;5;28mself\u001b[39m\u001b[38;5;241m.\u001b[39m_make_request(resume\u001b[38;5;241m=\u001b[39mresume)\n\u001b[0;32m--> 294\u001b[0m     \u001b[38;5;28;43mself\u001b[39;49m\u001b[38;5;241;43m.\u001b[39;49m\u001b[43m_publish\u001b[49m\u001b[43m(\u001b[49m\u001b[43mrec\u001b[49m\u001b[43m)\u001b[49m\n",
      "File \u001b[0;32m/opt/conda/envs/CV_Project/lib/python3.9/site-packages/wandb/sdk/interface/interface_sock.py:39\u001b[0m, in \u001b[0;36mInterfaceSock._publish\u001b[0;34m(self, record, local)\u001b[0m\n\u001b[1;32m     37\u001b[0m \u001b[38;5;28;01mdef\u001b[39;00m\u001b[38;5;250m \u001b[39m\u001b[38;5;21m_publish\u001b[39m(\u001b[38;5;28mself\u001b[39m, record: \u001b[38;5;124m\"\u001b[39m\u001b[38;5;124mpb.Record\u001b[39m\u001b[38;5;124m\"\u001b[39m, local: Optional[\u001b[38;5;28mbool\u001b[39m] \u001b[38;5;241m=\u001b[39m \u001b[38;5;28;01mNone\u001b[39;00m) \u001b[38;5;241m-\u001b[39m\u001b[38;5;241m>\u001b[39m \u001b[38;5;28;01mNone\u001b[39;00m:\n\u001b[1;32m     38\u001b[0m     \u001b[38;5;28mself\u001b[39m\u001b[38;5;241m.\u001b[39m_assign(record)\n\u001b[0;32m---> 39\u001b[0m     \u001b[38;5;28;43mself\u001b[39;49m\u001b[38;5;241;43m.\u001b[39;49m\u001b[43m_sock_client\u001b[49m\u001b[38;5;241;43m.\u001b[39;49m\u001b[43msend_record_publish\u001b[49m\u001b[43m(\u001b[49m\u001b[43mrecord\u001b[49m\u001b[43m)\u001b[49m\n",
      "File \u001b[0;32m/opt/conda/envs/CV_Project/lib/python3.9/site-packages/wandb/sdk/lib/sock_client.py:170\u001b[0m, in \u001b[0;36mSockClient.send_record_publish\u001b[0;34m(self, record)\u001b[0m\n\u001b[1;32m    168\u001b[0m server_req\u001b[38;5;241m.\u001b[39mrequest_id \u001b[38;5;241m=\u001b[39m record\u001b[38;5;241m.\u001b[39mcontrol\u001b[38;5;241m.\u001b[39mmailbox_slot\n\u001b[1;32m    169\u001b[0m server_req\u001b[38;5;241m.\u001b[39mrecord_publish\u001b[38;5;241m.\u001b[39mCopyFrom(record)\n\u001b[0;32m--> 170\u001b[0m \u001b[38;5;28;43mself\u001b[39;49m\u001b[38;5;241;43m.\u001b[39;49m\u001b[43msend_server_request\u001b[49m\u001b[43m(\u001b[49m\u001b[43mserver_req\u001b[49m\u001b[43m)\u001b[49m\n",
      "File \u001b[0;32m/opt/conda/envs/CV_Project/lib/python3.9/site-packages/wandb/sdk/lib/sock_client.py:150\u001b[0m, in \u001b[0;36mSockClient.send_server_request\u001b[0;34m(self, msg)\u001b[0m\n\u001b[1;32m    149\u001b[0m \u001b[38;5;28;01mdef\u001b[39;00m\u001b[38;5;250m \u001b[39m\u001b[38;5;21msend_server_request\u001b[39m(\u001b[38;5;28mself\u001b[39m, msg: spb\u001b[38;5;241m.\u001b[39mServerRequest) \u001b[38;5;241m-\u001b[39m\u001b[38;5;241m>\u001b[39m \u001b[38;5;28;01mNone\u001b[39;00m:\n\u001b[0;32m--> 150\u001b[0m     \u001b[38;5;28;43mself\u001b[39;49m\u001b[38;5;241;43m.\u001b[39;49m\u001b[43m_send_message\u001b[49m\u001b[43m(\u001b[49m\u001b[43mmsg\u001b[49m\u001b[43m)\u001b[49m\n",
      "File \u001b[0;32m/opt/conda/envs/CV_Project/lib/python3.9/site-packages/wandb/sdk/lib/sock_client.py:147\u001b[0m, in \u001b[0;36mSockClient._send_message\u001b[0;34m(self, msg)\u001b[0m\n\u001b[1;32m    145\u001b[0m header \u001b[38;5;241m=\u001b[39m struct\u001b[38;5;241m.\u001b[39mpack(\u001b[38;5;124m\"\u001b[39m\u001b[38;5;124m<BI\u001b[39m\u001b[38;5;124m\"\u001b[39m, \u001b[38;5;28mord\u001b[39m(\u001b[38;5;124m\"\u001b[39m\u001b[38;5;124mW\u001b[39m\u001b[38;5;124m\"\u001b[39m), raw_size)\n\u001b[1;32m    146\u001b[0m \u001b[38;5;28;01mwith\u001b[39;00m \u001b[38;5;28mself\u001b[39m\u001b[38;5;241m.\u001b[39m_lock:\n\u001b[0;32m--> 147\u001b[0m     \u001b[38;5;28;43mself\u001b[39;49m\u001b[38;5;241;43m.\u001b[39;49m\u001b[43m_sendall_with_error_handle\u001b[49m\u001b[43m(\u001b[49m\u001b[43mheader\u001b[49m\u001b[43m \u001b[49m\u001b[38;5;241;43m+\u001b[39;49m\u001b[43m \u001b[49m\u001b[43mdata\u001b[49m\u001b[43m)\u001b[49m\n",
      "File \u001b[0;32m/opt/conda/envs/CV_Project/lib/python3.9/site-packages/wandb/sdk/lib/sock_client.py:126\u001b[0m, in \u001b[0;36mSockClient._sendall_with_error_handle\u001b[0;34m(self, data)\u001b[0m\n\u001b[1;32m    124\u001b[0m start_time \u001b[38;5;241m=\u001b[39m time\u001b[38;5;241m.\u001b[39mmonotonic()\n\u001b[1;32m    125\u001b[0m \u001b[38;5;28;01mtry\u001b[39;00m:\n\u001b[0;32m--> 126\u001b[0m     sent \u001b[38;5;241m=\u001b[39m \u001b[38;5;28;43mself\u001b[39;49m\u001b[38;5;241;43m.\u001b[39;49m\u001b[43m_sock\u001b[49m\u001b[38;5;241;43m.\u001b[39;49m\u001b[43msend\u001b[49m\u001b[43m(\u001b[49m\u001b[43mdata\u001b[49m\u001b[43m)\u001b[49m\n\u001b[1;32m    127\u001b[0m     \u001b[38;5;66;03m# sent equal to 0 indicates a closed socket\u001b[39;00m\n\u001b[1;32m    128\u001b[0m     \u001b[38;5;28;01mif\u001b[39;00m sent \u001b[38;5;241m==\u001b[39m \u001b[38;5;241m0\u001b[39m:\n",
      "\u001b[0;31mBrokenPipeError\u001b[0m: [Errno 32] Broken pipe"
     ]
    }
   ],
   "source": [
    "# Augmentation\n",
    "augmenter = Augmentation(\n",
    "    train_df=train_df,\n",
    "    train_path=train_path, \n",
    "    save_path=augmented_save_path,\n",
    "    img_size=img_size,\n",
    "    save_csv_path=augmented_save_csv_path \n",
    ")\n",
    "aug_df = augmenter.run(target_count=300) # Class 별 300\n",
    "\n",
    "# Train\n",
    "trainer = Trainer(\n",
    "    df=aug_df,                            # 증강된 데이터 사용\n",
    "    data_path=augmented_save_path,        # 증강된 이미지 경로 사용\n",
    "    model_name=model_name,\n",
    "    epochs=EPOCHS,\n",
    "    batch_size=BATCH_SIZE,\n",
    "    lr=LR,\n",
    "    drop_out=Drop_out,\n",
    "    weight_decay=weight_decay,\n",
    "    img_size=img_size,\n",
    "    num_workers=num_workers,\n",
    "    device=device,\n",
    "    save_dir=model_save_path,\n",
    "    run_name_prefix=run_name_prefix,\n",
    "    num_classes=num_classes,\n",
    "    n_splits=n_splits,\n",
    "    patience=patience,\n",
    "    k_fold=True\n",
    ")\n",
    "\n",
    "f1_df = trainer.run()\n",
    "fold_weights = f1_df[\"f1\"].values / f1_df[\"f1\"].sum()"
   ]
  },
  {
   "cell_type": "code",
   "execution_count": null,
   "id": "af95b5f5",
   "metadata": {},
   "outputs": [],
   "source": [
    "import cv2\n",
    "\n",
    "def get_transforms(img_size):\n",
    "    train_transform = A.Compose([\n",
    "        A.LongestMaxSize(max_size=img_size, interpolation=cv2.INTER_AREA),\n",
    "        # A.Resize(height=img_size, width=img_size),\n",
    "        A.PadIfNeeded(min_height=img_size, min_width=img_size,\n",
    "                      border_mode=cv2.BORDER_CONSTANT, fill=(255, 255, 255), p=1),\n",
    "        A.Normalize(mean=(0.485, 0.456, 0.406), std=(0.229, 0.224, 0.225)),\n",
    "        ToTensorV2(),\n",
    "    ])\n",
    "    val_transform = A.Compose([\n",
    "        A.LongestMaxSize(max_size=img_size, interpolation=cv2.INTER_AREA),\n",
    "        # A.Resize(height=img_size, width=img_size),\n",
    "        A.PadIfNeeded(min_height=img_size, min_width=img_size,\n",
    "                      border_mode=cv2.BORDER_CONSTANT, fill=(255, 255, 255), p=1),\n",
    "        A.Normalize(mean=(0.485, 0.456, 0.406), std=(0.229, 0.224, 0.225)),\n",
    "        ToTensorV2(),\n",
    "    ])\n",
    "    return train_transform, val_transform"
   ]
  },
  {
   "cell_type": "code",
   "execution_count": null,
   "id": "ee3e163c",
   "metadata": {},
   "outputs": [
    {
     "name": "stderr",
     "output_type": "stream",
     "text": [
      "Inference: 100%|██████████| 524/524 [02:30<00:00,  3.49it/s]"
     ]
    },
    {
     "name": "stdout",
     "output_type": "stream",
     "text": [
      "[✓] Saved submission to: ../data/submission/V11-submission.csv\n"
     ]
    },
    {
     "name": "stderr",
     "output_type": "stream",
     "text": [
      "\n"
     ]
    }
   ],
   "source": [
    "# Test Data Loader\n",
    "test_transform = get_transforms(img_size)[1] \n",
    "test_dataset = ImageDataset(test_df, path=test_path, transform=test_transform)\n",
    "test_loader = DataLoader(test_dataset, batch_size=BATCH_SIZE, shuffle=False, num_workers=num_workers)\n",
    "\n",
    "# TTA \n",
    "tta_transforms = tta()\n",
    "\n",
    "# Inference\n",
    "ensembler = Model_Ensemble(\n",
    "    model_name=model_name,\n",
    "    fold_paths_dir=fold_paths,  \n",
    "    device=device,\n",
    "    num_classes=num_classes,\n",
    "    drop_out=Drop_out,\n",
    "    fold_weights=fold_weights,\n",
    "    k_fold=True \n",
    ")\n",
    "\n",
    "run_inference(\n",
    "    test_loader=test_loader,\n",
    "    ensembler=ensembler,\n",
    "    submission_df=test_df.copy(),\n",
    "    save_path=submission_save_path,\n",
    "    tta_transforms=None # TTA X \n",
    ")"
   ]
  },
  {
   "cell_type": "code",
   "execution_count": null,
   "id": "598404c2",
   "metadata": {},
   "outputs": [],
   "source": []
  }
 ],
 "metadata": {
  "kernelspec": {
   "display_name": "CV_Project",
   "language": "python",
   "name": "python3"
  },
  "language_info": {
   "codemirror_mode": {
    "name": "ipython",
    "version": 3
   },
   "file_extension": ".py",
   "mimetype": "text/x-python",
   "name": "python",
   "nbconvert_exporter": "python",
   "pygments_lexer": "ipython3",
   "version": "3.9.23"
  }
 },
 "nbformat": 4,
 "nbformat_minor": 5
}
