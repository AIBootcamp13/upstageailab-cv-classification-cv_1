{
 "cells": [
  {
   "cell_type": "code",
   "execution_count": 1,
   "id": "61bf6c5d",
   "metadata": {},
   "outputs": [],
   "source": [
    "import os\n",
    "import torch\n",
    "import albumentations as A\n",
    "import numpy as np\n",
    "from albumentations.pytorch import ToTensorV2\n",
    "import pandas as pd\n",
    "from torch.utils.data import DataLoader\n",
    "\n",
    "from Load_Data import ImageDataset, random_seed, get_transforms\n",
    "from Preprocess import Augmentation\n",
    "from Train import Trainer\n",
    "from Inference import Model_Ensemble, tta, run_inference"
   ]
  },
  {
   "cell_type": "code",
   "execution_count": 2,
   "id": "c2c3b407",
   "metadata": {},
   "outputs": [],
   "source": [
    "train_csv_path = \"../data/train_update.csv\"\n",
    "test_csv_path = \"../data/sample_submission.csv\"\n",
    "\n",
    "train_df = pd.read_csv(train_csv_path)\n",
    "test_df = pd.read_csv(test_csv_path)\n",
    "\n",
    "random_seed(42) # 시드 고정"
   ]
  },
  {
   "cell_type": "code",
   "execution_count": 3,
   "id": "56e505bc",
   "metadata": {},
   "outputs": [],
   "source": [
    "device = torch.device('cuda' if torch.cuda.is_available() else 'cpu')\n",
    "img_size = 480  # EfficientNetV2 L 권장 입력 크기\n",
    "LR = 1e-5\n",
    "EPOCHS = 80\n",
    "BATCH_SIZE = 10\n",
    "Drop_out = 0.45\n",
    "weight_decay = 1e-3\n",
    "num_workers = 4\n",
    "num_classes = 17\n",
    "n_splits = 3  # K-fold \n",
    "patience = 5  # Early stopp\n",
    "\n",
    "model_name = \"tf_efficientnetv2_l_in21ft1k\"  \n",
    "run_name_prefix = \"V14\"\n",
    "train_path = \"../data/train/\"\n",
    "test_path = \"../data/test/\"\n",
    "fold_paths = \"../model/V14/\" # 학습된 fold 모델 경로\n",
    "model_save_path = \"../model/V14\" # 모델 저장 경로\n",
    "augmented_save_path = \"../data/augment_image/V14-augmented\" # 증강 이미지 저장 경로\n",
    "augmented_save_csv_path = \"../data/augment_csv/V14-augmented.csv\" # 증강 csv 저장 경로\n",
    "submission_save_path = \"../data/submission/V14-submission.csv\" # 추론 결과"
   ]
  },
  {
   "cell_type": "code",
   "execution_count": null,
   "id": "66abb804",
   "metadata": {},
   "outputs": [
    {
     "name": "stdout",
     "output_type": "stream",
     "text": [
      "[INFO] Class 0: 현재 100개 → 목표 300개로 증강 중...\n"
     ]
    },
    {
     "name": "stderr",
     "output_type": "stream",
     "text": [
      "[Class 0] 원본 복사: 100%|██████████| 100/100 [00:00<00:00, 280.22it/s]\n"
     ]
    },
    {
     "name": "stdout",
     "output_type": "stream",
     "text": [
      "[INFO] Class 0: 추가 증강 200개 생성 중...\n"
     ]
    },
    {
     "name": "stderr",
     "output_type": "stream",
     "text": [
      "[Class 0] 증강 생성: 100%|██████████| 200/200 [00:07<00:00, 26.29it/s]\n"
     ]
    },
    {
     "name": "stdout",
     "output_type": "stream",
     "text": [
      "[INFO] Class 1: 현재 46개 → 목표 300개로 증강 중...\n"
     ]
    },
    {
     "name": "stderr",
     "output_type": "stream",
     "text": [
      "[Class 1] 원본 복사: 100%|██████████| 46/46 [00:00<00:00, 243.81it/s]\n"
     ]
    },
    {
     "name": "stdout",
     "output_type": "stream",
     "text": [
      "[INFO] Class 1: 추가 증강 254개 생성 중...\n"
     ]
    },
    {
     "name": "stderr",
     "output_type": "stream",
     "text": [
      "[Class 1] 증강 생성: 100%|██████████| 254/254 [00:10<00:00, 25.22it/s]\n"
     ]
    },
    {
     "name": "stdout",
     "output_type": "stream",
     "text": [
      "[INFO] Class 2: 현재 100개 → 목표 300개로 증강 중...\n"
     ]
    },
    {
     "name": "stderr",
     "output_type": "stream",
     "text": [
      "[Class 2] 원본 복사: 100%|██████████| 100/100 [00:00<00:00, 255.27it/s]\n"
     ]
    },
    {
     "name": "stdout",
     "output_type": "stream",
     "text": [
      "[INFO] Class 2: 추가 증강 200개 생성 중...\n"
     ]
    },
    {
     "name": "stderr",
     "output_type": "stream",
     "text": [
      "[Class 2] 증강 생성: 100%|██████████| 200/200 [00:01<00:00, 173.82it/s]\n"
     ]
    },
    {
     "name": "stdout",
     "output_type": "stream",
     "text": [
      "[INFO] Class 3: 현재 100개 → 목표 300개로 증강 중...\n"
     ]
    },
    {
     "name": "stderr",
     "output_type": "stream",
     "text": [
      "[Class 3] 원본 복사: 100%|██████████| 100/100 [00:00<00:00, 257.19it/s]\n"
     ]
    },
    {
     "name": "stdout",
     "output_type": "stream",
     "text": [
      "[INFO] Class 3: 추가 증강 200개 생성 중...\n"
     ]
    },
    {
     "name": "stderr",
     "output_type": "stream",
     "text": [
      "[Class 3] 증강 생성: 100%|██████████| 200/200 [00:07<00:00, 26.94it/s]\n"
     ]
    },
    {
     "name": "stdout",
     "output_type": "stream",
     "text": [
      "[INFO] Class 4: 현재 100개 → 목표 300개로 증강 중...\n"
     ]
    },
    {
     "name": "stderr",
     "output_type": "stream",
     "text": [
      "[Class 4] 원본 복사: 100%|██████████| 100/100 [00:00<00:00, 257.62it/s]\n"
     ]
    },
    {
     "name": "stdout",
     "output_type": "stream",
     "text": [
      "[INFO] Class 4: 추가 증강 200개 생성 중...\n"
     ]
    },
    {
     "name": "stderr",
     "output_type": "stream",
     "text": [
      "[Class 4] 증강 생성: 100%|██████████| 200/200 [00:06<00:00, 29.44it/s]\n"
     ]
    },
    {
     "name": "stdout",
     "output_type": "stream",
     "text": [
      "[INFO] Class 5: 현재 100개 → 목표 300개로 증강 중...\n"
     ]
    },
    {
     "name": "stderr",
     "output_type": "stream",
     "text": [
      "[Class 5] 원본 복사: 100%|██████████| 100/100 [00:00<00:00, 260.58it/s]\n"
     ]
    },
    {
     "name": "stdout",
     "output_type": "stream",
     "text": [
      "[INFO] Class 5: 추가 증강 200개 생성 중...\n"
     ]
    },
    {
     "name": "stderr",
     "output_type": "stream",
     "text": [
      "[Class 5] 증강 생성: 100%|██████████| 200/200 [00:07<00:00, 26.51it/s]\n"
     ]
    },
    {
     "name": "stdout",
     "output_type": "stream",
     "text": [
      "[INFO] Class 6: 현재 100개 → 목표 300개로 증강 중...\n"
     ]
    },
    {
     "name": "stderr",
     "output_type": "stream",
     "text": [
      "[Class 6] 원본 복사: 100%|██████████| 100/100 [00:00<00:00, 229.94it/s]\n"
     ]
    },
    {
     "name": "stdout",
     "output_type": "stream",
     "text": [
      "[INFO] Class 6: 추가 증강 200개 생성 중...\n"
     ]
    },
    {
     "name": "stderr",
     "output_type": "stream",
     "text": [
      "[Class 6] 증강 생성: 100%|██████████| 200/200 [00:07<00:00, 25.36it/s]\n"
     ]
    },
    {
     "name": "stdout",
     "output_type": "stream",
     "text": [
      "[INFO] Class 7: 현재 100개 → 목표 300개로 증강 중...\n"
     ]
    },
    {
     "name": "stderr",
     "output_type": "stream",
     "text": [
      "[Class 7] 원본 복사: 100%|██████████| 100/100 [00:00<00:00, 264.26it/s]\n"
     ]
    },
    {
     "name": "stdout",
     "output_type": "stream",
     "text": [
      "[INFO] Class 7: 추가 증강 200개 생성 중...\n"
     ]
    },
    {
     "name": "stderr",
     "output_type": "stream",
     "text": [
      "[Class 7] 증강 생성: 100%|██████████| 200/200 [00:07<00:00, 27.78it/s]\n"
     ]
    },
    {
     "name": "stdout",
     "output_type": "stream",
     "text": [
      "[INFO] Class 8: 현재 100개 → 목표 300개로 증강 중...\n"
     ]
    },
    {
     "name": "stderr",
     "output_type": "stream",
     "text": [
      "[Class 8] 원본 복사: 100%|██████████| 100/100 [00:00<00:00, 257.02it/s]\n"
     ]
    },
    {
     "name": "stdout",
     "output_type": "stream",
     "text": [
      "[INFO] Class 8: 추가 증강 200개 생성 중...\n"
     ]
    },
    {
     "name": "stderr",
     "output_type": "stream",
     "text": [
      "[Class 8] 증강 생성: 100%|██████████| 200/200 [00:07<00:00, 26.75it/s]\n"
     ]
    },
    {
     "name": "stdout",
     "output_type": "stream",
     "text": [
      "[INFO] Class 9: 현재 100개 → 목표 300개로 증강 중...\n"
     ]
    },
    {
     "name": "stderr",
     "output_type": "stream",
     "text": [
      "[Class 9] 원본 복사: 100%|██████████| 100/100 [00:00<00:00, 245.45it/s]\n"
     ]
    },
    {
     "name": "stdout",
     "output_type": "stream",
     "text": [
      "[INFO] Class 9: 추가 증강 200개 생성 중...\n"
     ]
    },
    {
     "name": "stderr",
     "output_type": "stream",
     "text": [
      "[Class 9] 증강 생성: 100%|██████████| 200/200 [00:07<00:00, 27.97it/s]\n"
     ]
    },
    {
     "name": "stdout",
     "output_type": "stream",
     "text": [
      "[INFO] Class 10: 현재 100개 → 목표 300개로 증강 중...\n"
     ]
    },
    {
     "name": "stderr",
     "output_type": "stream",
     "text": [
      "[Class 10] 원본 복사: 100%|██████████| 100/100 [00:00<00:00, 255.06it/s]\n"
     ]
    },
    {
     "name": "stdout",
     "output_type": "stream",
     "text": [
      "[INFO] Class 10: 추가 증강 200개 생성 중...\n"
     ]
    },
    {
     "name": "stderr",
     "output_type": "stream",
     "text": [
      "[Class 10] 증강 생성: 100%|██████████| 200/200 [00:07<00:00, 27.35it/s]\n"
     ]
    },
    {
     "name": "stdout",
     "output_type": "stream",
     "text": [
      "[INFO] Class 11: 현재 100개 → 목표 300개로 증강 중...\n"
     ]
    },
    {
     "name": "stderr",
     "output_type": "stream",
     "text": [
      "[Class 11] 원본 복사: 100%|██████████| 100/100 [00:00<00:00, 241.63it/s]\n"
     ]
    },
    {
     "name": "stdout",
     "output_type": "stream",
     "text": [
      "[INFO] Class 11: 추가 증강 200개 생성 중...\n"
     ]
    },
    {
     "name": "stderr",
     "output_type": "stream",
     "text": [
      "[Class 11] 증강 생성: 100%|██████████| 200/200 [00:07<00:00, 26.12it/s]\n"
     ]
    },
    {
     "name": "stdout",
     "output_type": "stream",
     "text": [
      "[INFO] Class 12: 현재 100개 → 목표 300개로 증강 중...\n"
     ]
    },
    {
     "name": "stderr",
     "output_type": "stream",
     "text": [
      "[Class 12] 원본 복사: 100%|██████████| 100/100 [00:00<00:00, 250.26it/s]\n"
     ]
    },
    {
     "name": "stdout",
     "output_type": "stream",
     "text": [
      "[INFO] Class 12: 추가 증강 200개 생성 중...\n"
     ]
    },
    {
     "name": "stderr",
     "output_type": "stream",
     "text": [
      "[Class 12] 증강 생성: 100%|██████████| 200/200 [00:06<00:00, 28.67it/s]\n"
     ]
    },
    {
     "name": "stdout",
     "output_type": "stream",
     "text": [
      "[INFO] Class 13: 현재 74개 → 목표 300개로 증강 중...\n"
     ]
    },
    {
     "name": "stderr",
     "output_type": "stream",
     "text": [
      "[Class 13] 원본 복사: 100%|██████████| 74/74 [00:00<00:00, 257.25it/s]\n"
     ]
    },
    {
     "name": "stdout",
     "output_type": "stream",
     "text": [
      "[INFO] Class 13: 추가 증강 226개 생성 중...\n"
     ]
    },
    {
     "name": "stderr",
     "output_type": "stream",
     "text": [
      "[Class 13] 증강 생성: 100%|██████████| 226/226 [00:08<00:00, 28.06it/s]\n"
     ]
    },
    {
     "name": "stdout",
     "output_type": "stream",
     "text": [
      "[INFO] Class 14: 현재 50개 → 목표 300개로 증강 중...\n"
     ]
    },
    {
     "name": "stderr",
     "output_type": "stream",
     "text": [
      "[Class 14] 원본 복사: 100%|██████████| 50/50 [00:00<00:00, 265.31it/s]\n"
     ]
    },
    {
     "name": "stdout",
     "output_type": "stream",
     "text": [
      "[INFO] Class 14: 추가 증강 250개 생성 중...\n"
     ]
    },
    {
     "name": "stderr",
     "output_type": "stream",
     "text": [
      "[Class 14] 증강 생성: 100%|██████████| 250/250 [00:09<00:00, 26.39it/s]\n"
     ]
    },
    {
     "name": "stdout",
     "output_type": "stream",
     "text": [
      "[INFO] Class 15: 현재 100개 → 목표 300개로 증강 중...\n"
     ]
    },
    {
     "name": "stderr",
     "output_type": "stream",
     "text": [
      "[Class 15] 원본 복사: 100%|██████████| 100/100 [00:00<00:00, 230.01it/s]\n"
     ]
    },
    {
     "name": "stdout",
     "output_type": "stream",
     "text": [
      "[INFO] Class 15: 추가 증강 200개 생성 중...\n"
     ]
    },
    {
     "name": "stderr",
     "output_type": "stream",
     "text": [
      "[Class 15] 증강 생성: 100%|██████████| 200/200 [00:07<00:00, 27.11it/s]\n"
     ]
    },
    {
     "name": "stdout",
     "output_type": "stream",
     "text": [
      "[INFO] Class 16: 현재 100개 → 목표 300개로 증강 중...\n"
     ]
    },
    {
     "name": "stderr",
     "output_type": "stream",
     "text": [
      "[Class 16] 원본 복사: 100%|██████████| 100/100 [00:00<00:00, 229.65it/s]\n"
     ]
    },
    {
     "name": "stdout",
     "output_type": "stream",
     "text": [
      "[INFO] Class 16: 추가 증강 200개 생성 중...\n"
     ]
    },
    {
     "name": "stderr",
     "output_type": "stream",
     "text": [
      "[Class 16] 증강 생성: 100%|██████████| 200/200 [00:01<00:00, 170.78it/s]\n"
     ]
    },
    {
     "name": "stdout",
     "output_type": "stream",
     "text": [
      "[완료] 클래스별 증강 완료\n"
     ]
    },
    {
     "name": "stderr",
     "output_type": "stream",
     "text": [
      "Generating augmentation metadata: 100%|██████████| 5100/5100 [00:00<00:00, 19789.43it/s]\n"
     ]
    },
    {
     "name": "stdout",
     "output_type": "stream",
     "text": [
      "[완료] 증강 CSV 저장 완료: ../data/augment_csv/V14-augmented.csv\n",
      "\n",
      "=== Fold 1: Train=3400, Val=1700 ===\n"
     ]
    },
    {
     "data": {
      "application/vnd.jupyter.widget-view+json": {
       "model_id": "3757fd18e3d9480db24e0edf29e6b2c8",
       "version_major": 2,
       "version_minor": 0
      },
      "text/plain": [
       "model.safetensors:   0%|          | 0.00/476M [00:00<?, ?B/s]"
      ]
     },
     "metadata": {},
     "output_type": "display_data"
    },
    {
     "name": "stderr",
     "output_type": "stream",
     "text": [
      "\u001b[34m\u001b[1mwandb\u001b[0m: Currently logged in as: \u001b[33mmoonstalker9010\u001b[0m (\u001b[33mmoonstalker9010-none\u001b[0m) to \u001b[32mhttps://api.wandb.ai\u001b[0m. Use \u001b[1m`wandb login --relogin`\u001b[0m to force relogin\n"
     ]
    },
    {
     "data": {
      "text/html": [
       "Tracking run with wandb version 0.21.0"
      ],
      "text/plain": [
       "<IPython.core.display.HTML object>"
      ]
     },
     "metadata": {},
     "output_type": "display_data"
    },
    {
     "data": {
      "text/html": [
       "Run data is saved locally in <code>../../wandb/run-20250708_045013-y4h5yvlr</code>"
      ],
      "text/plain": [
       "<IPython.core.display.HTML object>"
      ]
     },
     "metadata": {},
     "output_type": "display_data"
    },
    {
     "data": {
      "text/html": [
       "Syncing run <strong><a href='https://wandb.ai/moonstalker9010-none/Document%20Classification/runs/y4h5yvlr' target=\"_blank\">V14-Fold 1</a></strong> to <a href='https://wandb.ai/moonstalker9010-none/Document%20Classification' target=\"_blank\">Weights & Biases</a> (<a href='https://wandb.me/developer-guide' target=\"_blank\">docs</a>)<br>"
      ],
      "text/plain": [
       "<IPython.core.display.HTML object>"
      ]
     },
     "metadata": {},
     "output_type": "display_data"
    },
    {
     "data": {
      "text/html": [
       " View project at <a href='https://wandb.ai/moonstalker9010-none/Document%20Classification' target=\"_blank\">https://wandb.ai/moonstalker9010-none/Document%20Classification</a>"
      ],
      "text/plain": [
       "<IPython.core.display.HTML object>"
      ]
     },
     "metadata": {},
     "output_type": "display_data"
    },
    {
     "data": {
      "text/html": [
       " View run at <a href='https://wandb.ai/moonstalker9010-none/Document%20Classification/runs/y4h5yvlr' target=\"_blank\">https://wandb.ai/moonstalker9010-none/Document%20Classification/runs/y4h5yvlr</a>"
      ],
      "text/plain": [
       "<IPython.core.display.HTML object>"
      ]
     },
     "metadata": {},
     "output_type": "display_data"
    },
    {
     "name": "stderr",
     "output_type": "stream",
     "text": [
      "[Fold 1][Epoch 1/80] Training: 100%|██████████| 340/340 [02:07<00:00,  2.68it/s, loss=0.972]\n",
      "[Fold 1][Epoch 1/80] Validation: 100%|██████████| 170/170 [00:18<00:00,  9.22it/s]\n"
     ]
    },
    {
     "name": "stdout",
     "output_type": "stream",
     "text": [
      "[Fold 1] Ep1 - Train: 3.4784 | Val: 1.5124, Acc: 0.5453, F1: 0.5498\n"
     ]
    },
    {
     "name": "stderr",
     "output_type": "stream",
     "text": [
      "[Fold 1][Epoch 2/80] Training: 100%|██████████| 340/340 [02:05<00:00,  2.70it/s, loss=0.795]\n",
      "[Fold 1][Epoch 2/80] Validation: 100%|██████████| 170/170 [00:18<00:00,  9.20it/s]\n"
     ]
    },
    {
     "name": "stdout",
     "output_type": "stream",
     "text": [
      "[Fold 1] Ep2 - Train: 1.3871 | Val: 1.0408, Acc: 0.7147, F1: 0.7201\n"
     ]
    },
    {
     "name": "stderr",
     "output_type": "stream",
     "text": [
      "[Fold 1][Epoch 3/80] Training: 100%|██████████| 340/340 [02:05<00:00,  2.71it/s, loss=0.939]\n",
      "[Fold 1][Epoch 3/80] Validation: 100%|██████████| 170/170 [00:18<00:00,  9.23it/s]\n"
     ]
    },
    {
     "name": "stdout",
     "output_type": "stream",
     "text": [
      "[Fold 1] Ep3 - Train: 0.9414 | Val: 0.8893, Acc: 0.7853, F1: 0.7859\n"
     ]
    },
    {
     "name": "stderr",
     "output_type": "stream",
     "text": [
      "[Fold 1][Epoch 4/80] Training: 100%|██████████| 340/340 [02:05<00:00,  2.71it/s, loss=1.03]  \n",
      "[Fold 1][Epoch 4/80] Validation: 100%|██████████| 170/170 [00:18<00:00,  9.23it/s]\n"
     ]
    },
    {
     "name": "stdout",
     "output_type": "stream",
     "text": [
      "[Fold 1] Ep4 - Train: 0.7525 | Val: 0.7841, Acc: 0.8212, F1: 0.8219\n"
     ]
    },
    {
     "name": "stderr",
     "output_type": "stream",
     "text": [
      "[Fold 1][Epoch 5/80] Training: 100%|██████████| 340/340 [02:05<00:00,  2.71it/s, loss=0.372] \n",
      "[Fold 1][Epoch 5/80] Validation: 100%|██████████| 170/170 [00:18<00:00,  9.25it/s]\n"
     ]
    },
    {
     "name": "stdout",
     "output_type": "stream",
     "text": [
      "[Fold 1] Ep5 - Train: 0.6281 | Val: 0.7350, Acc: 0.8524, F1: 0.8527\n"
     ]
    },
    {
     "name": "stderr",
     "output_type": "stream",
     "text": [
      "[Fold 1][Epoch 6/80] Training: 100%|██████████| 340/340 [02:05<00:00,  2.70it/s, loss=0.751] \n",
      "[Fold 1][Epoch 6/80] Validation: 100%|██████████| 170/170 [00:18<00:00,  9.21it/s]\n"
     ]
    },
    {
     "name": "stdout",
     "output_type": "stream",
     "text": [
      "[Fold 1] Ep6 - Train: 0.5103 | Val: 0.6890, Acc: 0.8647, F1: 0.8650\n"
     ]
    },
    {
     "name": "stderr",
     "output_type": "stream",
     "text": [
      "[Fold 1][Epoch 7/80] Training: 100%|██████████| 340/340 [02:05<00:00,  2.71it/s, loss=1.04]  \n",
      "[Fold 1][Epoch 7/80] Validation: 100%|██████████| 170/170 [00:18<00:00,  9.23it/s]\n"
     ]
    },
    {
     "name": "stdout",
     "output_type": "stream",
     "text": [
      "[Fold 1] Ep7 - Train: 0.4301 | Val: 0.6664, Acc: 0.8665, F1: 0.8679\n"
     ]
    },
    {
     "name": "stderr",
     "output_type": "stream",
     "text": [
      "[Fold 1][Epoch 8/80] Training: 100%|██████████| 340/340 [02:05<00:00,  2.70it/s, loss=0.115]  \n",
      "[Fold 1][Epoch 8/80] Validation: 100%|██████████| 170/170 [00:18<00:00,  9.24it/s]\n"
     ]
    },
    {
     "name": "stdout",
     "output_type": "stream",
     "text": [
      "[Fold 1] Ep8 - Train: 0.3869 | Val: 0.6537, Acc: 0.8794, F1: 0.8787\n"
     ]
    },
    {
     "name": "stderr",
     "output_type": "stream",
     "text": [
      "[Fold 1][Epoch 9/80] Training: 100%|██████████| 340/340 [02:05<00:00,  2.71it/s, loss=0.404]  \n",
      "[Fold 1][Epoch 9/80] Validation: 100%|██████████| 170/170 [00:18<00:00,  9.24it/s]\n"
     ]
    },
    {
     "name": "stdout",
     "output_type": "stream",
     "text": [
      "[Fold 1] Ep9 - Train: 0.3368 | Val: 0.6081, Acc: 0.8894, F1: 0.8892\n"
     ]
    },
    {
     "name": "stderr",
     "output_type": "stream",
     "text": [
      "[Fold 1][Epoch 10/80] Training: 100%|██████████| 340/340 [02:05<00:00,  2.71it/s, loss=0.0217] \n",
      "[Fold 1][Epoch 10/80] Validation: 100%|██████████| 170/170 [00:18<00:00,  9.19it/s]\n"
     ]
    },
    {
     "name": "stdout",
     "output_type": "stream",
     "text": [
      "[Fold 1] Ep10 - Train: 0.2823 | Val: 0.6339, Acc: 0.8841, F1: 0.8828\n"
     ]
    },
    {
     "name": "stderr",
     "output_type": "stream",
     "text": [
      "[Fold 1][Epoch 11/80] Training: 100%|██████████| 340/340 [02:05<00:00,  2.70it/s, loss=0.335]  \n",
      "[Fold 1][Epoch 11/80] Validation: 100%|██████████| 170/170 [00:18<00:00,  9.23it/s]\n"
     ]
    },
    {
     "name": "stdout",
     "output_type": "stream",
     "text": [
      "[Fold 1] Ep11 - Train: 0.2328 | Val: 0.6462, Acc: 0.8847, F1: 0.8851\n"
     ]
    },
    {
     "name": "stderr",
     "output_type": "stream",
     "text": [
      "[Fold 1][Epoch 12/80] Training: 100%|██████████| 340/340 [02:05<00:00,  2.71it/s, loss=0.115]  \n",
      "[Fold 1][Epoch 12/80] Validation: 100%|██████████| 170/170 [00:18<00:00,  9.24it/s]\n"
     ]
    },
    {
     "name": "stdout",
     "output_type": "stream",
     "text": [
      "[Fold 1] Ep12 - Train: 0.2274 | Val: 0.6407, Acc: 0.8876, F1: 0.8878\n"
     ]
    },
    {
     "name": "stderr",
     "output_type": "stream",
     "text": [
      "[Fold 1][Epoch 13/80] Training: 100%|██████████| 340/340 [02:05<00:00,  2.71it/s, loss=0.0426] \n",
      "[Fold 1][Epoch 13/80] Validation: 100%|██████████| 170/170 [00:18<00:00,  9.22it/s]\n"
     ]
    },
    {
     "name": "stdout",
     "output_type": "stream",
     "text": [
      "[Fold 1] Ep13 - Train: 0.1919 | Val: 0.6102, Acc: 0.8900, F1: 0.8899\n"
     ]
    },
    {
     "name": "stderr",
     "output_type": "stream",
     "text": [
      "[Fold 1][Epoch 14/80] Training: 100%|██████████| 340/340 [02:05<00:00,  2.71it/s, loss=0.281]  \n",
      "[Fold 1][Epoch 14/80] Validation: 100%|██████████| 170/170 [00:18<00:00,  9.20it/s]\n"
     ]
    },
    {
     "name": "stdout",
     "output_type": "stream",
     "text": [
      "[Fold 1] Ep14 - Train: 0.1573 | Val: 0.6867, Acc: 0.8924, F1: 0.8922\n"
     ]
    },
    {
     "name": "stderr",
     "output_type": "stream",
     "text": [
      "[Fold 1][Epoch 15/80] Training: 100%|██████████| 340/340 [02:05<00:00,  2.70it/s, loss=0.0661] \n",
      "[Fold 1][Epoch 15/80] Validation: 100%|██████████| 170/170 [00:18<00:00,  9.24it/s]\n"
     ]
    },
    {
     "name": "stdout",
     "output_type": "stream",
     "text": [
      "[Fold 1] Ep15 - Train: 0.1672 | Val: 0.6534, Acc: 0.8982, F1: 0.8983\n"
     ]
    },
    {
     "name": "stderr",
     "output_type": "stream",
     "text": [
      "[Fold 1][Epoch 16/80] Training: 100%|██████████| 340/340 [02:05<00:00,  2.71it/s, loss=0.161]   \n",
      "[Fold 1][Epoch 16/80] Validation: 100%|██████████| 170/170 [00:18<00:00,  9.26it/s]\n"
     ]
    },
    {
     "name": "stdout",
     "output_type": "stream",
     "text": [
      "[Fold 1] Ep16 - Train: 0.1464 | Val: 0.6274, Acc: 0.8988, F1: 0.8989\n"
     ]
    },
    {
     "name": "stderr",
     "output_type": "stream",
     "text": [
      "[Fold 1][Epoch 17/80] Training: 100%|██████████| 340/340 [02:05<00:00,  2.71it/s, loss=0.0495]  \n",
      "[Fold 1][Epoch 17/80] Validation: 100%|██████████| 170/170 [00:18<00:00,  9.25it/s]\n"
     ]
    },
    {
     "name": "stdout",
     "output_type": "stream",
     "text": [
      "[Fold 1] Ep17 - Train: 0.1153 | Val: 0.6652, Acc: 0.9035, F1: 0.9036\n"
     ]
    },
    {
     "name": "stderr",
     "output_type": "stream",
     "text": [
      "[Fold 1][Epoch 18/80] Training: 100%|██████████| 340/340 [02:05<00:00,  2.71it/s, loss=0.0596]  \n",
      "[Fold 1][Epoch 18/80] Validation: 100%|██████████| 170/170 [00:18<00:00,  9.24it/s]\n"
     ]
    },
    {
     "name": "stdout",
     "output_type": "stream",
     "text": [
      "[Fold 1] Ep18 - Train: 0.1114 | Val: 0.6941, Acc: 0.9018, F1: 0.9016\n"
     ]
    },
    {
     "name": "stderr",
     "output_type": "stream",
     "text": [
      "[Fold 1][Epoch 19/80] Training:   0%|          | 1/340 [00:00<03:57,  1.43it/s, loss=0.0482]"
     ]
    }
   ],
   "source": [
    "# Augmentation\n",
    "augmenter = Augmentation(\n",
    "    train_df=train_df,\n",
    "    train_path=train_path, \n",
    "    save_path=augmented_save_path,\n",
    "    img_size=img_size,\n",
    "    save_csv_path=augmented_save_csv_path \n",
    ")\n",
    "aug_df = augmenter.run(target_count=300) # Class 별 300\n",
    "\n",
    "# Train\n",
    "trainer = Trainer(\n",
    "    df=aug_df,                            # 증강된 데이터 사용\n",
    "    data_path=augmented_save_path,        # 증강된 이미지 경로 사용\n",
    "    model_name=model_name,\n",
    "    epochs=EPOCHS,\n",
    "    batch_size=BATCH_SIZE,\n",
    "    lr=LR,\n",
    "    drop_out=Drop_out,\n",
    "    weight_decay=weight_decay,\n",
    "    img_size=img_size,\n",
    "    num_workers=num_workers,\n",
    "    device=device,\n",
    "    save_dir=model_save_path,\n",
    "    run_name_prefix=run_name_prefix,\n",
    "    num_classes=num_classes,\n",
    "    n_splits=n_splits,\n",
    "    patience=patience,\n",
    "    k_fold=True\n",
    ")\n",
    "\n",
    "f1_df = trainer.run()\n",
    "fold_weights = f1_df[\"f1\"].values / f1_df[\"f1\"].sum()"
   ]
  },
  {
   "cell_type": "code",
   "execution_count": null,
   "id": "ee3e163c",
   "metadata": {},
   "outputs": [
    {
     "name": "stderr",
     "output_type": "stream",
     "text": [
      "Inference: 100%|██████████| 524/524 [02:30<00:00,  3.48it/s]"
     ]
    },
    {
     "name": "stdout",
     "output_type": "stream",
     "text": [
      "[✓] Saved submission to: ../data/submission/V13-submission.csv\n"
     ]
    },
    {
     "name": "stderr",
     "output_type": "stream",
     "text": [
      "\n"
     ]
    }
   ],
   "source": [
    "# Ensemble\n",
    "ensembler = Model_Ensemble(\n",
    "    model_name=model_name,\n",
    "    fold_paths_dir=fold_paths,  \n",
    "    device=device,\n",
    "    num_classes=num_classes,\n",
    "    drop_out=Drop_out,\n",
    "    fold_weights=fold_weights,\n",
    "    k_fold=True  # k_fold=True / Hold_out=False\n",
    ")\n",
    "\n",
    "# Inference \n",
    "run_inference(\n",
    "    ensembler=ensembler,\n",
    "    submission_df=test_df.copy(),\n",
    "    test_path=test_path,    \n",
    "    img_size=img_size,\n",
    "    save_path=submission_save_path,\n",
    "    batch_size=BATCH_SIZE,                  \n",
    "    num_workers=num_workers,\n",
    "    tta_transforms=False # TTA \n",
    ")"
   ]
  },
  {
   "cell_type": "code",
   "execution_count": null,
   "id": "598404c2",
   "metadata": {},
   "outputs": [],
   "source": []
  }
 ],
 "metadata": {
  "kernelspec": {
   "display_name": "CV_Project",
   "language": "python",
   "name": "python3"
  },
  "language_info": {
   "codemirror_mode": {
    "name": "ipython",
    "version": 3
   },
   "file_extension": ".py",
   "mimetype": "text/x-python",
   "name": "python",
   "nbconvert_exporter": "python",
   "pygments_lexer": "ipython3",
   "version": "3.9.23"
  }
 },
 "nbformat": 4,
 "nbformat_minor": 5
}
