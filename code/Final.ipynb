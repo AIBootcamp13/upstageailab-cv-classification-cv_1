{
 "cells": [
  {
   "cell_type": "code",
   "execution_count": 1,
   "id": "61bf6c5d",
   "metadata": {},
   "outputs": [],
   "source": [
    "import os\n",
    "import torch\n",
    "import pandas as pd\n",
    "import numpy as np\n",
    "\n",
    "from Load_Data import random_seed\n",
    "from Train import Trainer\n",
    "from Inference import Model_Ensemble, run_inference\n",
    "from PseudoLabel import PseudoLabeler"
   ]
  },
  {
   "cell_type": "code",
   "execution_count": 2,
   "id": "646f795b",
   "metadata": {},
   "outputs": [],
   "source": [
    "# 시드 고정\n",
    "random_seed(42)\n",
    "\n",
    "# 기본 설정\n",
    "device = torch.device('cuda' if torch.cuda.is_available() else 'cpu')\n",
    "img_size = 384\n",
    "LR = 1e-5\n",
    "EPOCHS = 60\n",
    "BATCH_SIZE = 14\n",
    "Drop_out = 0.4\n",
    "weight_decay = 5e-4\n",
    "num_workers = 4\n",
    "num_classes = 17\n",
    "n_splits = 3\n",
    "patience = 5\n",
    "model_name = \"convnextv2_large.fcmae_ft_in22k_in1k_384\"\n",
    "# model_name = \"convnext_large_in22ft1k\" # batch_size=14~16\n",
    "# model_name = \"convnext_base_in22ft1k\" # batch_size=32\n",
    "# model_name = \"maxvit_large_tf_384\"\n",
    "\n",
    "# 경로\n",
    "run_name = \"V18\"\n",
    "train_csv_path = \"../data/train_update2.csv\"\n",
    "test_csv_path = \"../data/sample_submission.csv\"\n",
    "original_train_path = \"../data/train/\"\n",
    "test_path = \"../data/test/\"\n",
    "model_save_path = f\"../model/{run_name}/\"\n",
    "augmented_save_path = f\"../data/augment_image/{run_name}-augmented\"\n",
    "augmented_csv_save_path = f\"../data/augment_csv/{run_name}-augmented.csv\"\n",
    "submission_path = f\"../data/submission/{run_name}-submission.csv\""
   ]
  },
  {
   "cell_type": "code",
   "execution_count": 3,
   "id": "c3c6aede",
   "metadata": {},
   "outputs": [
    {
     "name": "stderr",
     "output_type": "stream",
     "text": [
      "Calculating aspect ratios: 100%|██████████| 1570/1570 [00:00<00:00, 18364.11it/s]"
     ]
    },
    {
     "name": "stderr",
     "output_type": "stream",
     "text": [
      "\n"
     ]
    },
    {
     "name": "stdout",
     "output_type": "stream",
     "text": [
      "\n",
      "==================== Processing Fold 1 ====================\n",
      "\n"
     ]
    },
    {
     "ename": "KeyboardInterrupt",
     "evalue": "",
     "output_type": "error",
     "traceback": [
      "\u001b[0;31m---------------------------------------------------------------------------\u001b[0m",
      "\u001b[0;31mKeyboardInterrupt\u001b[0m                         Traceback (most recent call last)",
      "Cell \u001b[0;32mIn[3], line 30\u001b[0m\n\u001b[1;32m      6\u001b[0m trainer \u001b[38;5;241m=\u001b[39m Trainer(\n\u001b[1;32m      7\u001b[0m     df\u001b[38;5;241m=\u001b[39mtrain_df,\n\u001b[1;32m      8\u001b[0m     original_data_path\u001b[38;5;241m=\u001b[39moriginal_train_path,\n\u001b[0;32m   (...)\u001b[0m\n\u001b[1;32m     26\u001b[0m     augmentation_target_count\u001b[38;5;241m=\u001b[39m\u001b[38;5;241m500\u001b[39m\n\u001b[1;32m     27\u001b[0m )\n\u001b[1;32m     29\u001b[0m \u001b[38;5;66;03m# K-Fold 분할, 증강, 학습 모두 실행\u001b[39;00m\n\u001b[0;32m---> 30\u001b[0m f1_df \u001b[38;5;241m=\u001b[39m \u001b[43mtrainer\u001b[49m\u001b[38;5;241;43m.\u001b[39;49m\u001b[43mrun\u001b[49m\u001b[43m(\u001b[49m\u001b[43m)\u001b[49m\n",
      "File \u001b[0;32m/root/dev/upstageailab-cv-classification-cv_1/code/Train.py:83\u001b[0m, in \u001b[0;36mTrainer.run\u001b[0;34m(self)\u001b[0m\n\u001b[1;32m     80\u001b[0m \u001b[38;5;28mprint\u001b[39m(\u001b[38;5;124mf\u001b[39m\u001b[38;5;124m\"\u001b[39m\u001b[38;5;130;01m\\n\u001b[39;00m\u001b[38;5;132;01m{\u001b[39;00m\u001b[38;5;124m'\u001b[39m\u001b[38;5;124m=\u001b[39m\u001b[38;5;124m'\u001b[39m\u001b[38;5;241m*\u001b[39m\u001b[38;5;241m20\u001b[39m\u001b[38;5;132;01m}\u001b[39;00m\u001b[38;5;124m Processing Fold \u001b[39m\u001b[38;5;132;01m{\u001b[39;00mfold\u001b[38;5;241m+\u001b[39m\u001b[38;5;241m1\u001b[39m\u001b[38;5;132;01m}\u001b[39;00m\u001b[38;5;124m \u001b[39m\u001b[38;5;132;01m{\u001b[39;00m\u001b[38;5;124m'\u001b[39m\u001b[38;5;124m=\u001b[39m\u001b[38;5;124m'\u001b[39m\u001b[38;5;241m*\u001b[39m\u001b[38;5;241m20\u001b[39m\u001b[38;5;132;01m}\u001b[39;00m\u001b[38;5;130;01m\\n\u001b[39;00m\u001b[38;5;124m\"\u001b[39m)\n\u001b[1;32m     82\u001b[0m fold_aug_image_path \u001b[38;5;241m=\u001b[39m os\u001b[38;5;241m.\u001b[39mpath\u001b[38;5;241m.\u001b[39mjoin(\u001b[38;5;28mself\u001b[39m\u001b[38;5;241m.\u001b[39maugmented_save_path, \u001b[38;5;124mf\u001b[39m\u001b[38;5;124m\"\u001b[39m\u001b[38;5;124mfold_\u001b[39m\u001b[38;5;132;01m{\u001b[39;00mfold\u001b[38;5;241m+\u001b[39m\u001b[38;5;241m1\u001b[39m\u001b[38;5;132;01m}\u001b[39;00m\u001b[38;5;124m\"\u001b[39m)\n\u001b[0;32m---> 83\u001b[0m augmented_info_df \u001b[38;5;241m=\u001b[39m \u001b[38;5;28;43mself\u001b[39;49m\u001b[38;5;241;43m.\u001b[39;49m\u001b[43maugmenter\u001b[49m\u001b[38;5;241;43m.\u001b[39;49m\u001b[43mrun\u001b[49m\u001b[43m(\u001b[49m\n\u001b[1;32m     84\u001b[0m \u001b[43m    \u001b[49m\u001b[43mdf_to_augment\u001b[49m\u001b[38;5;241;43m=\u001b[39;49m\u001b[43mfold_train_df_orig\u001b[49m\u001b[43m,\u001b[49m\n\u001b[1;32m     85\u001b[0m \u001b[43m    \u001b[49m\u001b[43moriginal_data_path\u001b[49m\u001b[38;5;241;43m=\u001b[39;49m\u001b[38;5;28;43mself\u001b[39;49m\u001b[38;5;241;43m.\u001b[39;49m\u001b[43moriginal_data_path\u001b[49m\u001b[43m,\u001b[49m\n\u001b[1;32m     86\u001b[0m \u001b[43m    \u001b[49m\u001b[43msave_path\u001b[49m\u001b[38;5;241;43m=\u001b[39;49m\u001b[43mfold_aug_image_path\u001b[49m\u001b[43m,\u001b[49m\n\u001b[1;32m     87\u001b[0m \u001b[43m    \u001b[49m\u001b[43mtarget_count\u001b[49m\u001b[38;5;241;43m=\u001b[39;49m\u001b[38;5;28;43mself\u001b[39;49m\u001b[38;5;241;43m.\u001b[39;49m\u001b[43maugmentation_target_count\u001b[49m\n\u001b[1;32m     88\u001b[0m \u001b[43m\u001b[49m\u001b[43m)\u001b[49m\n\u001b[1;32m     90\u001b[0m final_train_df \u001b[38;5;241m=\u001b[39m pd\u001b[38;5;241m.\u001b[39mconcat([fold_train_df_orig, augmented_info_df[\u001b[38;5;241m~\u001b[39maugmented_info_df[\u001b[38;5;124m'\u001b[39m\u001b[38;5;124mID\u001b[39m\u001b[38;5;124m'\u001b[39m]\u001b[38;5;241m.\u001b[39misin(fold_train_df_orig[\u001b[38;5;124m'\u001b[39m\u001b[38;5;124mID\u001b[39m\u001b[38;5;124m'\u001b[39m])]])\u001b[38;5;241m.\u001b[39mreset_index(drop\u001b[38;5;241m=\u001b[39m\u001b[38;5;28;01mTrue\u001b[39;00m)\n\u001b[1;32m     92\u001b[0m \u001b[38;5;66;03m# 이 Fold의 최종 학습 데이터 정보를 리스트에 추가\u001b[39;00m\n",
      "File \u001b[0;32m/root/dev/upstageailab-cv-classification-cv_1/code/Preprocess.py:140\u001b[0m, in \u001b[0;36mAugmentation.run\u001b[0;34m(self, df_to_augment, original_data_path, save_path, target_count)\u001b[0m\n\u001b[1;32m    138\u001b[0m \u001b[38;5;28;01mfor\u001b[39;00m _, row \u001b[38;5;129;01min\u001b[39;00m df_to_augment\u001b[38;5;241m.\u001b[39miterrows():\n\u001b[1;32m    139\u001b[0m     img_path \u001b[38;5;241m=\u001b[39m os\u001b[38;5;241m.\u001b[39mpath\u001b[38;5;241m.\u001b[39mjoin(original_data_path, row[\u001b[38;5;124m\"\u001b[39m\u001b[38;5;124mID\u001b[39m\u001b[38;5;124m\"\u001b[39m])\n\u001b[0;32m--> 140\u001b[0m     img \u001b[38;5;241m=\u001b[39m \u001b[43mImage\u001b[49m\u001b[38;5;241;43m.\u001b[39;49m\u001b[43mopen\u001b[49m\u001b[43m(\u001b[49m\u001b[43mimg_path\u001b[49m\u001b[43m)\u001b[49m\u001b[38;5;241;43m.\u001b[39;49m\u001b[43mconvert\u001b[49m\u001b[43m(\u001b[49m\u001b[38;5;124;43m\"\u001b[39;49m\u001b[38;5;124;43mRGB\u001b[39;49m\u001b[38;5;124;43m\"\u001b[39;49m\u001b[43m)\u001b[49m\n\u001b[1;32m    141\u001b[0m     img \u001b[38;5;241m=\u001b[39m np\u001b[38;5;241m.\u001b[39marray(img)\n\u001b[1;32m    142\u001b[0m     resized_img \u001b[38;5;241m=\u001b[39m resize_and_pad(img, \u001b[38;5;28mself\u001b[39m\u001b[38;5;241m.\u001b[39mimg_size)\n",
      "File \u001b[0;32m/opt/conda/envs/CV_Project/lib/python3.9/site-packages/PIL/Image.py:984\u001b[0m, in \u001b[0;36mImage.convert\u001b[0;34m(self, mode, matrix, dither, palette, colors)\u001b[0m\n\u001b[1;32m    981\u001b[0m \u001b[38;5;28;01mif\u001b[39;00m mode \u001b[38;5;129;01min\u001b[39;00m (\u001b[38;5;124m\"\u001b[39m\u001b[38;5;124mBGR;15\u001b[39m\u001b[38;5;124m\"\u001b[39m, \u001b[38;5;124m\"\u001b[39m\u001b[38;5;124mBGR;16\u001b[39m\u001b[38;5;124m\"\u001b[39m, \u001b[38;5;124m\"\u001b[39m\u001b[38;5;124mBGR;24\u001b[39m\u001b[38;5;124m\"\u001b[39m):\n\u001b[1;32m    982\u001b[0m     deprecate(mode, \u001b[38;5;241m12\u001b[39m)\n\u001b[0;32m--> 984\u001b[0m \u001b[38;5;28;43mself\u001b[39;49m\u001b[38;5;241;43m.\u001b[39;49m\u001b[43mload\u001b[49m\u001b[43m(\u001b[49m\u001b[43m)\u001b[49m\n\u001b[1;32m    986\u001b[0m has_transparency \u001b[38;5;241m=\u001b[39m \u001b[38;5;124m\"\u001b[39m\u001b[38;5;124mtransparency\u001b[39m\u001b[38;5;124m\"\u001b[39m \u001b[38;5;129;01min\u001b[39;00m \u001b[38;5;28mself\u001b[39m\u001b[38;5;241m.\u001b[39minfo\n\u001b[1;32m    987\u001b[0m \u001b[38;5;28;01mif\u001b[39;00m \u001b[38;5;129;01mnot\u001b[39;00m mode \u001b[38;5;129;01mand\u001b[39;00m \u001b[38;5;28mself\u001b[39m\u001b[38;5;241m.\u001b[39mmode \u001b[38;5;241m==\u001b[39m \u001b[38;5;124m\"\u001b[39m\u001b[38;5;124mP\u001b[39m\u001b[38;5;124m\"\u001b[39m:\n\u001b[1;32m    988\u001b[0m     \u001b[38;5;66;03m# determine default mode\u001b[39;00m\n",
      "File \u001b[0;32m/opt/conda/envs/CV_Project/lib/python3.9/site-packages/PIL/ImageFile.py:300\u001b[0m, in \u001b[0;36mImageFile.load\u001b[0;34m(self)\u001b[0m\n\u001b[1;32m    297\u001b[0m         \u001b[38;5;28;01mraise\u001b[39;00m \u001b[38;5;167;01mOSError\u001b[39;00m(msg)\n\u001b[1;32m    299\u001b[0m b \u001b[38;5;241m=\u001b[39m b \u001b[38;5;241m+\u001b[39m s\n\u001b[0;32m--> 300\u001b[0m n, err_code \u001b[38;5;241m=\u001b[39m \u001b[43mdecoder\u001b[49m\u001b[38;5;241;43m.\u001b[39;49m\u001b[43mdecode\u001b[49m\u001b[43m(\u001b[49m\u001b[43mb\u001b[49m\u001b[43m)\u001b[49m\n\u001b[1;32m    301\u001b[0m \u001b[38;5;28;01mif\u001b[39;00m n \u001b[38;5;241m<\u001b[39m \u001b[38;5;241m0\u001b[39m:\n\u001b[1;32m    302\u001b[0m     \u001b[38;5;28;01mbreak\u001b[39;00m\n",
      "\u001b[0;31mKeyboardInterrupt\u001b[0m: "
     ]
    }
   ],
   "source": [
    "# 원본 데이터\n",
    "train_df = pd.read_csv(train_csv_path)\n",
    "test_df = pd.read_csv(test_csv_path)\n",
    "\n",
    "# Trainer 생성\n",
    "trainer = Trainer(\n",
    "    df=train_df,\n",
    "    original_data_path=original_train_path,\n",
    "    augmented_save_path=augmented_save_path,\n",
    "    augmented_csv_save_path=augmented_csv_save_path,\n",
    "    model_name=model_name,\n",
    "    epochs=EPOCHS,\n",
    "    batch_size=BATCH_SIZE,\n",
    "    lr=LR,\n",
    "    drop_out=Drop_out,\n",
    "    weight_decay=weight_decay,\n",
    "    img_size=img_size,\n",
    "    num_workers=num_workers,\n",
    "    device=device,\n",
    "    save_dir=model_save_path,\n",
    "    run_name_prefix=run_name,\n",
    "    num_classes=num_classes,\n",
    "    n_splits=n_splits,\n",
    "    patience=patience,\n",
    "    k_fold=True,\n",
    "    augmentation_target_count=500\n",
    ")\n",
    "\n",
    "# K-Fold 분할, 증강, 학습 모두 실행\n",
    "f1_df = trainer.run()"
   ]
  },
  {
   "cell_type": "code",
   "execution_count": 6,
   "id": "8dd11597",
   "metadata": {},
   "outputs": [
    {
     "name": "stderr",
     "output_type": "stream",
     "text": [
      "Inference: 100%|██████████| 449/449 [06:52<00:00,  1.09it/s]"
     ]
    },
    {
     "name": "stdout",
     "output_type": "stream",
     "text": [
      "[✓] Saved submission to: ../data/submission/V17-submission.csv\n"
     ]
    },
    {
     "name": "stderr",
     "output_type": "stream",
     "text": [
      "\n"
     ]
    }
   ],
   "source": [
    "test_df = pd.read_csv(test_csv_path)\n",
    "\n",
    "# 앙상블 모델\n",
    "fold_weights = np.array([0.9416, 0.94768, 0.93204])\n",
    "# fold_weights = f1_df[\"f1\"].values\n",
    "ensembler = Model_Ensemble(\n",
    "    model_name=model_name,\n",
    "    fold_paths_dir=model_save_path,\n",
    "    fold_weights=fold_weights,\n",
    "    num_classes=num_classes,\n",
    "    drop_out=Drop_out,\n",
    "    device=device,\n",
    "    k_fold=True\n",
    ")\n",
    "\n",
    "# 추론 실행 (TTA 적용)\n",
    "run_inference(\n",
    "    ensembler=ensembler,\n",
    "    submission_df=test_df.copy(),\n",
    "    test_path=test_path,\n",
    "    img_size=img_size,\n",
    "    save_path=submission_path, # 저장\n",
    "    batch_size=BATCH_SIZE,\n",
    "    num_workers=num_workers,\n",
    "    use_tta=False # TTA \n",
    ")"
   ]
  },
  {
   "cell_type": "code",
   "execution_count": null,
   "id": "a32121f0",
   "metadata": {},
   "outputs": [],
   "source": [
    "# 의사 레이블링 실행기 생성\n",
    "labeler = PseudoLabeler(\n",
    "    ensembler=initial_ensembler,\n",
    "    device=device,\n",
    "    img_size=img_size,\n",
    "    batch_size=BATCH_SIZE,\n",
    "    num_workers=num_workers\n",
    ")\n",
    "\n",
    "# 의사 레이블 생성, 데이터 결합, 파일 저장까지 모두 실행\n",
    "final_df, final_image_path = labeler.run(\n",
    "    original_aug_df=initial_trainer.df, # strata 정보가 포함된 원본 df\n",
    "    original_aug_path=initial_augmented_save_path,\n",
    "    test_df=test_df,\n",
    "    test_path=test_path,\n",
    "    confidence_threshold=0.97,\n",
    "    save_base_dir=combined_data_save_dir,\n",
    "    run_name=f\"{final_run_name}-Pseudo-Data\"\n",
    ")"
   ]
  },
  {
   "cell_type": "code",
   "execution_count": null,
   "id": "d5a22cb2",
   "metadata": {},
   "outputs": [],
   "source": []
  }
 ],
 "metadata": {
  "kernelspec": {
   "display_name": "CV_Project",
   "language": "python",
   "name": "python3"
  },
  "language_info": {
   "codemirror_mode": {
    "name": "ipython",
    "version": 3
   },
   "file_extension": ".py",
   "mimetype": "text/x-python",
   "name": "python",
   "nbconvert_exporter": "python",
   "pygments_lexer": "ipython3",
   "version": "3.9.23"
  }
 },
 "nbformat": 4,
 "nbformat_minor": 5
}
