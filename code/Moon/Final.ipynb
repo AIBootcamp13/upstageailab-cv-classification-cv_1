{
 "cells": [
  {
   "cell_type": "code",
   "execution_count": 1,
   "id": "61bf6c5d",
   "metadata": {},
   "outputs": [],
   "source": [
    "import os\n",
    "import torch\n",
    "import pandas as pd\n",
    "import numpy as np\n",
    "\n",
    "from Load_Data import random_seed\n",
    "from Train import Trainer\n",
    "from Inference import Model_Ensemble, run_inference\n",
    "from PseudoLabel import PseudoLabeler"
   ]
  },
  {
   "cell_type": "code",
   "execution_count": 2,
   "id": "646f795b",
   "metadata": {},
   "outputs": [],
   "source": [
    "# 시드 고정\n",
    "random_seed(42)\n",
    "\n",
    "# 기본 설정\n",
    "device = torch.device('cuda' if torch.cuda.is_available() else 'cpu')\n",
    "img_size = 384\n",
    "LR = 1e-5\n",
    "EPOCHS = 60\n",
    "BATCH_SIZE = 12\n",
    "Drop_out = 0.4\n",
    "weight_decay = 5e-4\n",
    "num_workers = 4\n",
    "num_classes = 17\n",
    "n_splits = 3\n",
    "patience = 5\n",
    "model_name = \"convnextv2_large.fcmae_ft_in22k_in1k_384\"\n",
    "# model_name = \"convnextv2_huge.fcmae_ft_in22k_in1k_512\"\n",
    "# model_name = \"convnext_large_in22ft1k\" # batch_size=14~16\n",
    "# model_name = \"convnext_base_in22ft1k\" # batch_size=32\n",
    "# model_name = \"maxvit_large_tf_384\"\n",
    "\n",
    "# 경로\n",
    "run_name = \"V18\"\n",
    "train_csv_path = \"../data/train_update2.csv\"\n",
    "test_csv_path = \"../data/sample_submission.csv\"\n",
    "original_train_path = \"../data/train/\"\n",
    "test_path = \"../data/test/\"\n",
    "model_save_path = f\"../model/{run_name}/\"\n",
    "augmented_save_path = f\"../data/augment_image/{run_name}-augmented\"\n",
    "augmented_csv_save_path = f\"../data/augment_csv/{run_name}-augmented.csv\"\n",
    "submission_path = f\"../data/submission/{run_name}-submission.csv\""
   ]
  },
  {
   "cell_type": "code",
   "execution_count": null,
   "id": "c3c6aede",
   "metadata": {},
   "outputs": [
    {
     "name": "stderr",
     "output_type": "stream",
     "text": [
      "Calculating aspect ratios:   0%|          | 0/1570 [00:00<?, ?it/s]"
     ]
    },
    {
     "name": "stderr",
     "output_type": "stream",
     "text": [
      "Calculating aspect ratios: 100%|██████████| 1570/1570 [00:00<00:00, 18442.03it/s]\n"
     ]
    },
    {
     "name": "stdout",
     "output_type": "stream",
     "text": [
      "\n",
      "==================== Processing Fold 1 ====================\n",
      "\n"
     ]
    },
    {
     "name": "stderr",
     "output_type": "stream",
     "text": [
      "Augmented for class 0: 100%|██████████| 383/383 [00:09<00:00, 41.95it/s]\n",
      "Augmented for class 1: 100%|██████████| 420/420 [00:10<00:00, 40.53it/s]\n",
      "Augmented for class 2: 100%|██████████| 383/383 [00:09<00:00, 41.84it/s]\n",
      "Augmented for class 3: 100%|██████████| 384/384 [00:09<00:00, 42.25it/s]\n",
      "Augmented for class 4: 100%|██████████| 382/382 [00:08<00:00, 42.67it/s]\n",
      "Augmented for class 5: 100%|██████████| 384/384 [00:09<00:00, 39.68it/s]\n",
      "Augmented for class 6: 100%|██████████| 383/383 [00:08<00:00, 44.36it/s]\n",
      "Augmented for class 7: 100%|██████████| 383/383 [00:08<00:00, 43.89it/s]\n",
      "Augmented for class 8: 100%|██████████| 383/383 [00:09<00:00, 39.27it/s]\n",
      "Augmented for class 9: 100%|██████████| 384/384 [00:09<00:00, 39.82it/s]\n",
      "Augmented for class 10: 100%|██████████| 384/384 [00:09<00:00, 41.55it/s]\n",
      "Augmented for class 11: 100%|██████████| 383/383 [00:09<00:00, 41.03it/s]\n",
      "Augmented for class 12: 100%|██████████| 383/383 [00:09<00:00, 40.49it/s]\n",
      "Augmented for class 13: 100%|██████████| 400/400 [00:10<00:00, 38.65it/s]\n",
      "Augmented for class 14: 100%|██████████| 417/417 [00:10<00:00, 40.70it/s]\n",
      "Augmented for class 15: 100%|██████████| 383/383 [00:09<00:00, 42.36it/s]\n",
      "Augmented for class 16: 100%|██████████| 384/384 [00:08<00:00, 47.33it/s]\n"
     ]
    },
    {
     "name": "stdout",
     "output_type": "stream",
     "text": [
      "\n",
      "=== Fold 1: Train=7650, Val=523 ===\n"
     ]
    },
    {
     "name": "stderr",
     "output_type": "stream",
     "text": [
      "\u001b[34m\u001b[1mwandb\u001b[0m: Currently logged in as: \u001b[33mmoonstalker9010\u001b[0m (\u001b[33mmoonstalker9010-none\u001b[0m) to \u001b[32mhttps://api.wandb.ai\u001b[0m. Use \u001b[1m`wandb login --relogin`\u001b[0m to force relogin\n"
     ]
    },
    {
     "data": {
      "text/html": [
       "Tracking run with wandb version 0.21.0"
      ],
      "text/plain": [
       "<IPython.core.display.HTML object>"
      ]
     },
     "metadata": {},
     "output_type": "display_data"
    },
    {
     "data": {
      "text/html": [
       "Run data is saved locally in <code>../wandb/run-20250710_063227-upea8ec9</code>"
      ],
      "text/plain": [
       "<IPython.core.display.HTML object>"
      ]
     },
     "metadata": {},
     "output_type": "display_data"
    },
    {
     "data": {
      "text/html": [
       "Syncing run <strong><a href='https://wandb.ai/moonstalker9010-none/Document%20Classification/runs/upea8ec9' target=\"_blank\">V18-Fold 1</a></strong> to <a href='https://wandb.ai/moonstalker9010-none/Document%20Classification' target=\"_blank\">Weights & Biases</a> (<a href='https://wandb.me/developer-guide' target=\"_blank\">docs</a>)<br>"
      ],
      "text/plain": [
       "<IPython.core.display.HTML object>"
      ]
     },
     "metadata": {},
     "output_type": "display_data"
    },
    {
     "data": {
      "text/html": [
       " View project at <a href='https://wandb.ai/moonstalker9010-none/Document%20Classification' target=\"_blank\">https://wandb.ai/moonstalker9010-none/Document%20Classification</a>"
      ],
      "text/plain": [
       "<IPython.core.display.HTML object>"
      ]
     },
     "metadata": {},
     "output_type": "display_data"
    },
    {
     "data": {
      "text/html": [
       " View run at <a href='https://wandb.ai/moonstalker9010-none/Document%20Classification/runs/upea8ec9' target=\"_blank\">https://wandb.ai/moonstalker9010-none/Document%20Classification/runs/upea8ec9</a>"
      ],
      "text/plain": [
       "<IPython.core.display.HTML object>"
      ]
     },
     "metadata": {},
     "output_type": "display_data"
    },
    {
     "name": "stderr",
     "output_type": "stream",
     "text": [
      "[Fold 1][Epoch 1/60] Training: 100%|██████████| 638/638 [08:46<00:00,  1.21it/s, loss=0.906]\n",
      "[Fold 1][Epoch 1/60] Validation: 100%|██████████| 44/44 [00:10<00:00,  4.39it/s]\n"
     ]
    },
    {
     "name": "stdout",
     "output_type": "stream",
     "text": [
      "[Fold 1] Ep1 - Train: 1.3000 | Val: 0.2515, Acc: 0.9254, F1: 0.9131\n"
     ]
    },
    {
     "name": "stderr",
     "output_type": "stream",
     "text": [
      "[Fold 1][Epoch 2/60] Training: 100%|██████████| 638/638 [08:34<00:00,  1.24it/s, loss=0.668] \n",
      "[Fold 1][Epoch 2/60] Validation: 100%|██████████| 44/44 [00:09<00:00,  4.67it/s]\n"
     ]
    },
    {
     "name": "stdout",
     "output_type": "stream",
     "text": [
      "[Fold 1] Ep2 - Train: 0.6284 | Val: 0.1626, Acc: 0.9465, F1: 0.9401\n"
     ]
    },
    {
     "name": "stderr",
     "output_type": "stream",
     "text": [
      "[Fold 1][Epoch 3/60] Training: 100%|██████████| 638/638 [08:33<00:00,  1.24it/s, loss=0.252] \n",
      "[Fold 1][Epoch 3/60] Validation: 100%|██████████| 44/44 [00:09<00:00,  4.62it/s]\n"
     ]
    },
    {
     "name": "stdout",
     "output_type": "stream",
     "text": [
      "[Fold 1] Ep3 - Train: 0.4591 | Val: 0.1497, Acc: 0.9541, F1: 0.9478\n"
     ]
    },
    {
     "name": "stderr",
     "output_type": "stream",
     "text": [
      "[Fold 1][Epoch 4/60] Training: 100%|██████████| 638/638 [08:34<00:00,  1.24it/s, loss=0.465] \n",
      "[Fold 1][Epoch 4/60] Validation: 100%|██████████| 44/44 [00:09<00:00,  4.66it/s]\n"
     ]
    },
    {
     "name": "stdout",
     "output_type": "stream",
     "text": [
      "[Fold 1] Ep4 - Train: 0.3753 | Val: 0.1391, Acc: 0.9560, F1: 0.9500\n"
     ]
    },
    {
     "name": "stderr",
     "output_type": "stream",
     "text": [
      "[Fold 1][Epoch 5/60] Training: 100%|██████████| 638/638 [08:34<00:00,  1.24it/s, loss=0.774] \n",
      "[Fold 1][Epoch 5/60] Validation: 100%|██████████| 44/44 [00:09<00:00,  4.64it/s]\n"
     ]
    },
    {
     "name": "stdout",
     "output_type": "stream",
     "text": [
      "[Fold 1] Ep5 - Train: 0.3110 | Val: 0.1515, Acc: 0.9618, F1: 0.9559\n"
     ]
    },
    {
     "name": "stderr",
     "output_type": "stream",
     "text": [
      "[Fold 1][Epoch 6/60] Training: 100%|██████████| 638/638 [08:35<00:00,  1.24it/s, loss=0.0389]\n",
      "[Fold 1][Epoch 6/60] Validation: 100%|██████████| 44/44 [00:09<00:00,  4.66it/s]\n"
     ]
    },
    {
     "name": "stdout",
     "output_type": "stream",
     "text": [
      "[Fold 1] Ep6 - Train: 0.2582 | Val: 0.1803, Acc: 0.9484, F1: 0.9424\n"
     ]
    },
    {
     "name": "stderr",
     "output_type": "stream",
     "text": [
      "[Fold 1][Epoch 7/60] Training: 100%|██████████| 638/638 [08:35<00:00,  1.24it/s, loss=0.449]  \n",
      "[Fold 1][Epoch 7/60] Validation: 100%|██████████| 44/44 [00:09<00:00,  4.64it/s]\n"
     ]
    },
    {
     "name": "stdout",
     "output_type": "stream",
     "text": [
      "[Fold 1] Ep7 - Train: 0.2298 | Val: 0.1683, Acc: 0.9579, F1: 0.9515\n"
     ]
    },
    {
     "name": "stderr",
     "output_type": "stream",
     "text": [
      "[Fold 1][Epoch 8/60] Training: 100%|██████████| 638/638 [08:35<00:00,  1.24it/s, loss=0.0486] \n",
      "[Fold 1][Epoch 8/60] Validation: 100%|██████████| 44/44 [00:09<00:00,  4.64it/s]\n"
     ]
    },
    {
     "name": "stdout",
     "output_type": "stream",
     "text": [
      "[Fold 1] Ep8 - Train: 0.1971 | Val: 0.1770, Acc: 0.9560, F1: 0.9493\n"
     ]
    },
    {
     "name": "stderr",
     "output_type": "stream",
     "text": [
      "[Fold 1][Epoch 9/60] Training: 100%|██████████| 638/638 [08:35<00:00,  1.24it/s, loss=1.35]   \n",
      "[Fold 1][Epoch 9/60] Validation: 100%|██████████| 44/44 [00:09<00:00,  4.63it/s]\n"
     ]
    },
    {
     "name": "stdout",
     "output_type": "stream",
     "text": [
      "[Fold 1] Ep9 - Train: 0.1873 | Val: 0.1793, Acc: 0.9541, F1: 0.9476\n"
     ]
    },
    {
     "name": "stderr",
     "output_type": "stream",
     "text": [
      "[Fold 1][Epoch 10/60] Training:  89%|████████▉ | 571/638 [07:40<00:53,  1.24it/s, loss=0.0474]"
     ]
    }
   ],
   "source": [
    "# 원본 데이터\n",
    "train_df = pd.read_csv(train_csv_path)\n",
    "test_df = pd.read_csv(test_csv_path)\n",
    "\n",
    "# Trainer 생성\n",
    "trainer = Trainer(\n",
    "    df=train_df,\n",
    "    original_data_path=original_train_path,\n",
    "    augmented_save_path=augmented_save_path,\n",
    "    augmented_csv_save_path=augmented_csv_save_path,\n",
    "    model_name=model_name,\n",
    "    epochs=EPOCHS,\n",
    "    batch_size=BATCH_SIZE,\n",
    "    lr=LR,\n",
    "    drop_out=Drop_out,\n",
    "    weight_decay=weight_decay,\n",
    "    img_size=img_size,\n",
    "    num_workers=num_workers,\n",
    "    device=device,\n",
    "    save_dir=model_save_path,\n",
    "    run_name_prefix=run_name,\n",
    "    num_classes=num_classes,\n",
    "    n_splits=n_splits,\n",
    "    patience=patience,\n",
    "    k_fold=True,\n",
    "    augmentation_target_count=450\n",
    ")\n",
    "\n",
    "# K-Fold 분할, 증강, 학습 모두 실행\n",
    "f1_df = trainer.run()"
   ]
  },
  {
   "cell_type": "code",
   "execution_count": null,
   "id": "8dd11597",
   "metadata": {},
   "outputs": [
    {
     "name": "stderr",
     "output_type": "stream",
     "text": [
      "Inference: 100%|██████████| 449/449 [06:52<00:00,  1.09it/s]"
     ]
    },
    {
     "name": "stdout",
     "output_type": "stream",
     "text": [
      "[✓] Saved submission to: ../data/submission/V17-submission.csv\n"
     ]
    },
    {
     "name": "stderr",
     "output_type": "stream",
     "text": [
      "\n"
     ]
    }
   ],
   "source": [
    "test_df = pd.read_csv(test_csv_path)\n",
    "\n",
    "# 앙상블 모델\n",
    "# fold_weights = np.array([0.9416, 0.94768, 0.93204])\n",
    "fold_weights = f1_df[\"f1\"].values\n",
    "ensembler = Model_Ensemble(\n",
    "    model_name=model_name,\n",
    "    fold_paths_dir=model_save_path,\n",
    "    fold_weights=fold_weights,\n",
    "    num_classes=num_classes,\n",
    "    drop_out=Drop_out,\n",
    "    device=device,\n",
    "    k_fold=True\n",
    ")\n",
    "\n",
    "# 추론 실행 (TTA 적용)\n",
    "run_inference(\n",
    "    ensembler=ensembler,\n",
    "    submission_df=test_df.copy(),\n",
    "    test_path=test_path,\n",
    "    img_size=img_size,\n",
    "    save_path=submission_path, # 저장\n",
    "    batch_size=BATCH_SIZE,\n",
    "    num_workers=num_workers,\n",
    "    use_tta=False # TTA \n",
    ")"
   ]
  },
  {
   "cell_type": "code",
   "execution_count": null,
   "id": "a32121f0",
   "metadata": {},
   "outputs": [],
   "source": [
    "# 의사 레이블링 실행기 생성\n",
    "labeler = PseudoLabeler(\n",
    "    ensembler=initial_ensembler,\n",
    "    device=device,\n",
    "    img_size=img_size,\n",
    "    batch_size=BATCH_SIZE,\n",
    "    num_workers=num_workers\n",
    ")\n",
    "\n",
    "# 의사 레이블 생성, 데이터 결합, 파일 저장까지 모두 실행\n",
    "final_df, final_image_path = labeler.run(\n",
    "    original_aug_df=initial_trainer.df, # strata 정보가 포함된 원본 df\n",
    "    original_aug_path=initial_augmented_save_path,\n",
    "    test_df=test_df,\n",
    "    test_path=test_path,\n",
    "    confidence_threshold=0.97,\n",
    "    save_base_dir=combined_data_save_dir,\n",
    "    run_name=f\"{final_run_name}-Pseudo-Data\"\n",
    ")"
   ]
  },
  {
   "cell_type": "code",
   "execution_count": null,
   "id": "d5a22cb2",
   "metadata": {},
   "outputs": [],
   "source": []
  }
 ],
 "metadata": {
  "kernelspec": {
   "display_name": "CV_Project",
   "language": "python",
   "name": "python3"
  },
  "language_info": {
   "codemirror_mode": {
    "name": "ipython",
    "version": 3
   },
   "file_extension": ".py",
   "mimetype": "text/x-python",
   "name": "python",
   "nbconvert_exporter": "python",
   "pygments_lexer": "ipython3",
   "version": "3.9.23"
  }
 },
 "nbformat": 4,
 "nbformat_minor": 5
}
