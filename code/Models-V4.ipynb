{
 "cells": [
  {
   "cell_type": "markdown",
   "id": "073b1c71",
   "metadata": {},
   "source": [
    "### Library"
   ]
  },
  {
   "cell_type": "code",
   "execution_count": 1,
   "id": "afce244c",
   "metadata": {},
   "outputs": [],
   "source": [
    "import os\n",
    "import time\n",
    "import random\n",
    "import timm\n",
    "import torch\n",
    "import cv2\n",
    "import albumentations as A\n",
    "import pandas as pd\n",
    "import numpy as np\n",
    "import torch.nn as nn\n",
    "import matplotlib.pyplot as plt\n",
    "import seaborn as sns\n",
    "import warnings\n",
    "import shutil\n",
    "import wandb\n",
    "warnings.filterwarnings('ignore')\n",
    "\n",
    "from albumentations import Compose, RandomBrightnessContrast, Blur, ShiftScaleRotate, GaussNoise, RandomGamma, CLAHE\n",
    "from albumentations.pytorch import ToTensorV2\n",
    "from torch.optim import Adam\n",
    "from torchvision import transforms\n",
    "from torch.utils.data import Dataset, DataLoader\n",
    "from PIL import Image\n",
    "from tqdm import tqdm\n",
    "from sklearn.metrics import accuracy_score, f1_score, classification_report, confusion_matrix\n",
    "from sklearn.model_selection import StratifiedKFold\n",
    "from sklearn.model_selection import train_test_split\n",
    "from augraphy import (\n",
    "    InkBleed, BleedThrough, Markup, ColorPaper,\n",
    "    AugraphyPipeline, PaperFactory)"
   ]
  },
  {
   "cell_type": "code",
   "execution_count": 2,
   "id": "25c69525",
   "metadata": {},
   "outputs": [],
   "source": [
    "def random_seed(SEED=42):\n",
    "    # SEED = 42 # default\n",
    "    os.environ['PYTHONHASHSEED'] = str(SEED)\n",
    "    random.seed(SEED)\n",
    "    np.random.seed(SEED)\n",
    "    torch.manual_seed(SEED)\n",
    "    torch.cuda.manual_seed(SEED)\n",
    "    torch.cuda.manual_seed_all(SEED)\n",
    "    torch.backends.cudnn.benchmark = True\n",
    "\n",
    "random_seed()"
   ]
  },
  {
   "cell_type": "markdown",
   "id": "cfb06b4c",
   "metadata": {},
   "source": [
    "### Load Data"
   ]
  },
  {
   "cell_type": "code",
   "execution_count": 3,
   "id": "492d947f",
   "metadata": {},
   "outputs": [
    {
     "name": "stdout",
     "output_type": "stream",
     "text": [
      "Train Data: (1570, 2)\n",
      "Test Data: (3140, 2)\n"
     ]
    }
   ],
   "source": [
    "train_csv = \"../data/train.csv\"\n",
    "inference_csv = \"../data/sample_submission.csv\"\n",
    "\n",
    "train_df = pd.read_csv(train_csv)\n",
    "test_df = pd.read_csv(inference_csv)\n",
    "\n",
    "print(f\"Train Data: {train_df.shape}\")\n",
    "print(f\"Test Data: {test_df.shape}\")"
   ]
  },
  {
   "cell_type": "code",
   "execution_count": 4,
   "id": "6c25dcf8",
   "metadata": {},
   "outputs": [],
   "source": [
    "device = torch.device('cuda' if torch.cuda.is_available() else 'cpu')\n",
    "model_name = \"tf_efficientnetv2_xl_in21ft1k\" \n",
    "img_size = 343 \n",
    "LR = 1e-4\n",
    "EPOCHS = 40\n",
    "BATCH_SIZE = 8\n",
    "Drop_out = 0.3\n",
    "num_workers = 2 # GPU 사용"
   ]
  },
  {
   "cell_type": "code",
   "execution_count": 5,
   "id": "7551aa4d",
   "metadata": {},
   "outputs": [],
   "source": [
    "# Count_plot\n",
    "def count_plot(df, col, figsize=(10, 6), palette=\"Blues_r\", rotation=None, title=None, xlabel=None, ylabel='Count'):\n",
    "    plt.figure(figsize=figsize)\n",
    "    sns.countplot(data=df, x=col, palette=palette)\n",
    "    plt.title(title if title else f'{col} Count')\n",
    "    plt.xticks(rotation=rotation)\n",
    "    plt.xlabel(xlabel if xlabel is not None else col)\n",
    "    plt.ylabel(ylabel)\n",
    "    plt.show()\n",
    "\n",
    "# hist plot\n",
    "def hist_plot(df1, col, df2=None, figsize=(8, 6), bins=30, alpha=0.6, \n",
    "              color1='skyblue', color2='salmon', label1=None, label2=None, \n",
    "              title=None, density=False):\n",
    "    plt.figure(figsize=figsize)\n",
    "    \n",
    "    stat_mode = 'density' if density else 'count'\n",
    "\n",
    "    sns.histplot(df1[col], kde=True, bins=bins, alpha=alpha, color=color1, \n",
    "                 stat=stat_mode, label=label1 if label1 else ('Group 1' if df2 is not None else None))\n",
    "    \n",
    "    if df2 is not None:\n",
    "        sns.histplot(df2[col], kde=True, bins=bins, alpha=alpha, color=color2, \n",
    "                     stat=stat_mode, label=label2 if label2 else 'Group 2')\n",
    "        plt.legend()\n",
    "\n",
    "    plt.title(title if title else f'{col} Distribution ({\"Density\" if density else \"Count\"} Histogram + KDE)')\n",
    "    plt.xlabel(col)\n",
    "    plt.ylabel(\"Density\" if density else \"Count\")\n",
    "    plt.show()\n",
    "\n",
    "# bar plot    \n",
    "def bar_plot(df, x_col, y_col, figsize=(10, 6), hue=None, palette=\"Blues_r\", rotation=None, title=None, xlabel=None, ylabel=None):\n",
    "     plt.figure(figsize=figsize)\n",
    "     \n",
    "     if hue: # hue 지정\n",
    "        sns.barplot(x=x_col, y=y_col, hue=hue, data=df, palette=palette)\n",
    "     else: # hue 지정 X\n",
    "        sns.barplot(x=x_col, y=y_col, data=df, palette=palette)\n",
    "\n",
    "     plt.xticks(rotation=rotation)\n",
    "     plt.title(title)\n",
    "     plt.xlabel(xlabel)\n",
    "     plt.ylabel(ylabel)\n",
    "     plt.show()\n",
    "\n",
    "# heatmap\n",
    "def heat_map(df, target_col=None, figsize=(8, 10), threshold=0, cmap='Reds', method='pearson', annot_kws=None, return_data=False):\n",
    "        df = df.select_dtypes(include=['number'])\n",
    "        \n",
    "        if annot_kws is None:\n",
    "            annot_kws = {\"size\": 10}\n",
    "\n",
    "        if target_col is not None:\n",
    "            corr_series = df.corr(method=method)[target_col].drop(target_col)\n",
    "            corr_filtered = corr_series[abs(corr_series) >= threshold].sort_values(ascending=False)\n",
    "\n",
    "            plt.figure(figsize=figsize)\n",
    "            sns.heatmap(corr_filtered.to_frame(name='Correlation'), annot=True, fmt='.2f', cmap=cmap, annot_kws=annot_kws, cbar=True)\n",
    "            plt.title(f'{method.capitalize()} Correlation with {target_col}', fontsize=14)\n",
    "            plt.show()\n",
    "\n",
    "            corr_df = corr_filtered.reset_index()\n",
    "            corr_df.columns = ['Variable', 'Correlation']\n",
    "\n",
    "            if return_data:\n",
    "                return corr_df\n",
    "\n",
    "        else:\n",
    "            corr_matrix = df.corr(method=method) # 전체 변수 간 상관계수\n",
    "\n",
    "            plt.figure(figsize=figsize)\n",
    "            sns.heatmap(corr_matrix, annot=True, fmt='.2f', cmap=cmap, annot_kws=annot_kws, cbar=True)\n",
    "            plt.title(f'{method.capitalize()} Correlation Matrix (All Variables)', fontsize=14)\n",
    "            plt.show()\n",
    "\n",
    "            if return_data:\n",
    "                return corr_matrix"
   ]
  },
  {
   "cell_type": "markdown",
   "id": "69213ccb",
   "metadata": {},
   "source": [
    "### Preprocessing"
   ]
  },
  {
   "cell_type": "code",
   "execution_count": 6,
   "id": "4cf223e9",
   "metadata": {},
   "outputs": [
    {
     "name": "stdout",
     "output_type": "stream",
     "text": [
      "[INFO] Class 0: 현재 100개 → 목표 250개로 증강 중...\n"
     ]
    },
    {
     "name": "stderr",
     "output_type": "stream",
     "text": [
      "[Class 0] 원본 복사: 100%|██████████| 100/100 [00:00<00:00, 6018.08it/s]\n"
     ]
    },
    {
     "name": "stdout",
     "output_type": "stream",
     "text": [
      "[INFO] Class 0: 추가 증강 150개 생성 중...\n"
     ]
    },
    {
     "name": "stderr",
     "output_type": "stream",
     "text": [
      "[Class 0] 추가증강:   0%|          | 0/150 [00:00<?, ?it/s]"
     ]
    },
    {
     "name": "stderr",
     "output_type": "stream",
     "text": [
      "[Class 0] 추가증강: 100%|██████████| 150/150 [00:03<00:00, 39.69it/s]\n"
     ]
    },
    {
     "name": "stdout",
     "output_type": "stream",
     "text": [
      "[INFO] Class 1: 현재 46개 → 목표 250개로 증강 중...\n"
     ]
    },
    {
     "name": "stderr",
     "output_type": "stream",
     "text": [
      "[Class 1] 원본 복사: 100%|██████████| 46/46 [00:00<00:00, 5733.50it/s]\n"
     ]
    },
    {
     "name": "stdout",
     "output_type": "stream",
     "text": [
      "[INFO] Class 1: 추가 증강 204개 생성 중...\n"
     ]
    },
    {
     "name": "stderr",
     "output_type": "stream",
     "text": [
      "[Class 1] 추가증강: 100%|██████████| 204/204 [00:05<00:00, 37.99it/s]\n"
     ]
    },
    {
     "name": "stdout",
     "output_type": "stream",
     "text": [
      "[INFO] Class 2: 현재 100개 → 목표 250개로 증강 중...\n"
     ]
    },
    {
     "name": "stderr",
     "output_type": "stream",
     "text": [
      "[Class 2] 원본 복사: 100%|██████████| 100/100 [00:00<00:00, 5397.94it/s]\n"
     ]
    },
    {
     "name": "stdout",
     "output_type": "stream",
     "text": [
      "[INFO] Class 2: 추가 증강 150개 생성 중...\n"
     ]
    },
    {
     "name": "stderr",
     "output_type": "stream",
     "text": [
      "[Class 2] 추가증강: 100%|██████████| 150/150 [00:01<00:00, 83.57it/s]\n"
     ]
    },
    {
     "name": "stdout",
     "output_type": "stream",
     "text": [
      "[INFO] Class 3: 현재 100개 → 목표 250개로 증강 중...\n"
     ]
    },
    {
     "name": "stderr",
     "output_type": "stream",
     "text": [
      "[Class 3] 원본 복사: 100%|██████████| 100/100 [00:00<00:00, 4595.99it/s]\n"
     ]
    },
    {
     "name": "stdout",
     "output_type": "stream",
     "text": [
      "[INFO] Class 3: 추가 증강 150개 생성 중...\n"
     ]
    },
    {
     "name": "stderr",
     "output_type": "stream",
     "text": [
      "[Class 3] 추가증강: 100%|██████████| 150/150 [00:03<00:00, 39.16it/s]\n"
     ]
    },
    {
     "name": "stdout",
     "output_type": "stream",
     "text": [
      "[INFO] Class 4: 현재 100개 → 목표 250개로 증강 중...\n"
     ]
    },
    {
     "name": "stderr",
     "output_type": "stream",
     "text": [
      "[Class 4] 원본 복사: 100%|██████████| 100/100 [00:00<00:00, 6202.11it/s]\n"
     ]
    },
    {
     "name": "stdout",
     "output_type": "stream",
     "text": [
      "[INFO] Class 4: 추가 증강 150개 생성 중...\n"
     ]
    },
    {
     "name": "stderr",
     "output_type": "stream",
     "text": [
      "[Class 4] 추가증강: 100%|██████████| 150/150 [00:04<00:00, 35.66it/s]\n"
     ]
    },
    {
     "name": "stdout",
     "output_type": "stream",
     "text": [
      "[INFO] Class 5: 현재 100개 → 목표 250개로 증강 중...\n"
     ]
    },
    {
     "name": "stderr",
     "output_type": "stream",
     "text": [
      "[Class 5] 원본 복사: 100%|██████████| 100/100 [00:00<00:00, 5997.69it/s]\n"
     ]
    },
    {
     "name": "stdout",
     "output_type": "stream",
     "text": [
      "[INFO] Class 5: 추가 증강 150개 생성 중...\n"
     ]
    },
    {
     "name": "stderr",
     "output_type": "stream",
     "text": [
      "[Class 5] 추가증강: 100%|██████████| 150/150 [00:03<00:00, 40.52it/s]\n"
     ]
    },
    {
     "name": "stdout",
     "output_type": "stream",
     "text": [
      "[INFO] Class 6: 현재 100개 → 목표 250개로 증강 중...\n"
     ]
    },
    {
     "name": "stderr",
     "output_type": "stream",
     "text": [
      "[Class 6] 원본 복사: 100%|██████████| 100/100 [00:00<00:00, 5347.56it/s]\n"
     ]
    },
    {
     "name": "stdout",
     "output_type": "stream",
     "text": [
      "[INFO] Class 6: 추가 증강 150개 생성 중...\n"
     ]
    },
    {
     "name": "stderr",
     "output_type": "stream",
     "text": [
      "[Class 6] 추가증강: 100%|██████████| 150/150 [00:04<00:00, 35.38it/s]\n"
     ]
    },
    {
     "name": "stdout",
     "output_type": "stream",
     "text": [
      "[INFO] Class 7: 현재 100개 → 목표 250개로 증강 중...\n"
     ]
    },
    {
     "name": "stderr",
     "output_type": "stream",
     "text": [
      "[Class 7] 원본 복사: 100%|██████████| 100/100 [00:00<00:00, 6505.42it/s]\n"
     ]
    },
    {
     "name": "stdout",
     "output_type": "stream",
     "text": [
      "[INFO] Class 7: 추가 증강 150개 생성 중...\n"
     ]
    },
    {
     "name": "stderr",
     "output_type": "stream",
     "text": [
      "[Class 7] 추가증강: 100%|██████████| 150/150 [00:03<00:00, 41.54it/s]\n"
     ]
    },
    {
     "name": "stdout",
     "output_type": "stream",
     "text": [
      "[INFO] Class 8: 현재 100개 → 목표 250개로 증강 중...\n"
     ]
    },
    {
     "name": "stderr",
     "output_type": "stream",
     "text": [
      "[Class 8] 원본 복사: 100%|██████████| 100/100 [00:00<00:00, 5604.21it/s]\n"
     ]
    },
    {
     "name": "stdout",
     "output_type": "stream",
     "text": [
      "[INFO] Class 8: 추가 증강 150개 생성 중...\n"
     ]
    },
    {
     "name": "stderr",
     "output_type": "stream",
     "text": [
      "[Class 8] 추가증강: 100%|██████████| 150/150 [00:03<00:00, 40.42it/s]\n"
     ]
    },
    {
     "name": "stdout",
     "output_type": "stream",
     "text": [
      "[INFO] Class 9: 현재 100개 → 목표 250개로 증강 중...\n"
     ]
    },
    {
     "name": "stderr",
     "output_type": "stream",
     "text": [
      "[Class 9] 원본 복사: 100%|██████████| 100/100 [00:00<00:00, 4590.06it/s]\n"
     ]
    },
    {
     "name": "stdout",
     "output_type": "stream",
     "text": [
      "[INFO] Class 9: 추가 증강 150개 생성 중...\n"
     ]
    },
    {
     "name": "stderr",
     "output_type": "stream",
     "text": [
      "[Class 9] 추가증강: 100%|██████████| 150/150 [00:04<00:00, 34.41it/s]\n"
     ]
    },
    {
     "name": "stdout",
     "output_type": "stream",
     "text": [
      "[INFO] Class 10: 현재 100개 → 목표 250개로 증강 중...\n"
     ]
    },
    {
     "name": "stderr",
     "output_type": "stream",
     "text": [
      "[Class 10] 원본 복사: 100%|██████████| 100/100 [00:00<00:00, 5919.56it/s]\n"
     ]
    },
    {
     "name": "stdout",
     "output_type": "stream",
     "text": [
      "[INFO] Class 10: 추가 증강 150개 생성 중...\n"
     ]
    },
    {
     "name": "stderr",
     "output_type": "stream",
     "text": [
      "[Class 10] 추가증강: 100%|██████████| 150/150 [00:03<00:00, 39.66it/s]\n"
     ]
    },
    {
     "name": "stdout",
     "output_type": "stream",
     "text": [
      "[INFO] Class 11: 현재 100개 → 목표 250개로 증강 중...\n"
     ]
    },
    {
     "name": "stderr",
     "output_type": "stream",
     "text": [
      "[Class 11] 원본 복사: 100%|██████████| 100/100 [00:00<00:00, 5772.27it/s]\n"
     ]
    },
    {
     "name": "stdout",
     "output_type": "stream",
     "text": [
      "[INFO] Class 11: 추가 증강 150개 생성 중...\n"
     ]
    },
    {
     "name": "stderr",
     "output_type": "stream",
     "text": [
      "[Class 11] 추가증강: 100%|██████████| 150/150 [00:04<00:00, 36.48it/s]\n"
     ]
    },
    {
     "name": "stdout",
     "output_type": "stream",
     "text": [
      "[INFO] Class 12: 현재 100개 → 목표 250개로 증강 중...\n"
     ]
    },
    {
     "name": "stderr",
     "output_type": "stream",
     "text": [
      "[Class 12] 원본 복사: 100%|██████████| 100/100 [00:00<00:00, 5963.66it/s]\n"
     ]
    },
    {
     "name": "stdout",
     "output_type": "stream",
     "text": [
      "[INFO] Class 12: 추가 증강 150개 생성 중...\n"
     ]
    },
    {
     "name": "stderr",
     "output_type": "stream",
     "text": [
      "[Class 12] 추가증강: 100%|██████████| 150/150 [00:03<00:00, 39.21it/s]\n"
     ]
    },
    {
     "name": "stdout",
     "output_type": "stream",
     "text": [
      "[INFO] Class 13: 현재 74개 → 목표 250개로 증강 중...\n"
     ]
    },
    {
     "name": "stderr",
     "output_type": "stream",
     "text": [
      "[Class 13] 원본 복사: 100%|██████████| 74/74 [00:00<00:00, 5980.20it/s]\n"
     ]
    },
    {
     "name": "stdout",
     "output_type": "stream",
     "text": [
      "[INFO] Class 13: 추가 증강 176개 생성 중...\n"
     ]
    },
    {
     "name": "stderr",
     "output_type": "stream",
     "text": [
      "[Class 13] 추가증강: 100%|██████████| 176/176 [00:04<00:00, 39.57it/s]\n"
     ]
    },
    {
     "name": "stdout",
     "output_type": "stream",
     "text": [
      "[INFO] Class 14: 현재 50개 → 목표 250개로 증강 중...\n"
     ]
    },
    {
     "name": "stderr",
     "output_type": "stream",
     "text": [
      "[Class 14] 원본 복사: 100%|██████████| 50/50 [00:00<00:00, 5945.15it/s]\n"
     ]
    },
    {
     "name": "stdout",
     "output_type": "stream",
     "text": [
      "[INFO] Class 14: 추가 증강 200개 생성 중...\n"
     ]
    },
    {
     "name": "stderr",
     "output_type": "stream",
     "text": [
      "[Class 14] 추가증강: 100%|██████████| 200/200 [00:05<00:00, 38.42it/s]\n"
     ]
    },
    {
     "name": "stdout",
     "output_type": "stream",
     "text": [
      "[INFO] Class 15: 현재 100개 → 목표 250개로 증강 중...\n"
     ]
    },
    {
     "name": "stderr",
     "output_type": "stream",
     "text": [
      "[Class 15] 원본 복사: 100%|██████████| 100/100 [00:00<00:00, 5673.27it/s]\n"
     ]
    },
    {
     "name": "stdout",
     "output_type": "stream",
     "text": [
      "[INFO] Class 15: 추가 증강 150개 생성 중...\n"
     ]
    },
    {
     "name": "stderr",
     "output_type": "stream",
     "text": [
      "[Class 15] 추가증강: 100%|██████████| 150/150 [00:04<00:00, 37.14it/s]\n"
     ]
    },
    {
     "name": "stdout",
     "output_type": "stream",
     "text": [
      "[INFO] Class 16: 현재 100개 → 목표 250개로 증강 중...\n"
     ]
    },
    {
     "name": "stderr",
     "output_type": "stream",
     "text": [
      "[Class 16] 원본 복사: 100%|██████████| 100/100 [00:00<00:00, 5685.65it/s]\n"
     ]
    },
    {
     "name": "stdout",
     "output_type": "stream",
     "text": [
      "[INFO] Class 16: 추가 증강 150개 생성 중...\n"
     ]
    },
    {
     "name": "stderr",
     "output_type": "stream",
     "text": [
      "[Class 16] 추가증강: 100%|██████████| 150/150 [00:01<00:00, 81.16it/s]"
     ]
    },
    {
     "name": "stdout",
     "output_type": "stream",
     "text": [
      "[완료] 클래스별 250장 증강 완료\n",
      "[완료] 원본 + 증강 데이터 및 CSV 저장 완료\n"
     ]
    },
    {
     "name": "stderr",
     "output_type": "stream",
     "text": [
      "\n"
     ]
    }
   ],
   "source": [
    "# 증강 설정\n",
    "augmentation = A.Compose([\n",
    "    A.RandomResizedCrop(size=(img_size, img_size), scale=(0.98, 1.0), p=0.2),\n",
    "    A.RandomBrightnessContrast(limit=0.1, p=0.2),\n",
    "    A.ColorJitter(brightness=0.2, contrast=0.2, saturation=0.2, hue=0.1, p=0.2),\n",
    "    \n",
    "    # 흐림 효과를 OneOf로 묶음\n",
    "    A.OneOf([\n",
    "        A.Blur(blur_limit=2),\n",
    "        A.MotionBlur(blur_limit=5),\n",
    "        A.Defocus(radius=(1, 3)),\n",
    "    ], p=0.3),\n",
    "\n",
    "    A.Perspective(scale=(0.05, 0.1), keep_size=True, p=0.2),\n",
    "    A.Affine(shear={\"x\": (-10, 10), \"y\": (-10, 10)}, p=0.2),\n",
    "    A.ShiftScaleRotate(shift_limit=0.02, scale_limit=0.05, rotate_limit=5, p=0.2),\n",
    "\n",
    "    # 회전, 반전 등\n",
    "    A.OneOf([   \n",
    "        A.HorizontalFlip(p=1.0),\n",
    "        A.VerticalFlip(p=1.0),\n",
    "    ], p=0.45),\n",
    "    A.Rotate(limit=[-90, 90], p=0.4),\n",
    "\n",
    "    # 깨짐·노이즈성 증강도 OneOf로 묶어 한 번에 하나만 적용되도록 제한\n",
    "    A.OneOf([\n",
    "        A.GaussNoise(var_limit=(0.0000002, 0.000001), mean=0, p=1.0),  # 은은한 미세 노이즈\n",
    "        A.ImageCompression(quality_lower=40, quality_upper=60, p=1.0),  # 압축으로 전체적 얼룩\n",
    "        A.CoarseDropout(max_holes=8, max_height=img_size//10, max_width=img_size//10),\n",
    "    ], p=0.3),\n",
    "\n",
    "    A.RandomGamma(gamma_limit=(95, 105), p=0.2),\n",
    "    A.CLAHE(clip_limit=1.5, p=0.2),\n",
    "])\n",
    "\n",
    "# 문서 기반 증강\n",
    "augraphy_aug = AugraphyPipeline(\n",
    "    ink_phase=[\n",
    "        InkBleed(p=0.2),\n",
    "        BleedThrough(p=0.2),\n",
    "        Markup(p=0.2),\n",
    "    ],\n",
    "    paper_phase=[\n",
    "        ColorPaper(p=0.2),\n",
    "    ],\n",
    "    post_phase=[],\n",
    ")\n",
    "\n",
    "# Class 2, 16 제외: 문서 기반 증강\n",
    "document_classes = set(range(0, 2)) | set(range(3, 16))\n",
    "save_dir = \"../data/V4-augmented\"\n",
    "train_path = '../data/train/'\n",
    "os.makedirs(save_dir, exist_ok=True)\n",
    "\n",
    "augmented_records = []\n",
    "\n",
    "for target_class in sorted(train_df[\"target\"].unique()):\n",
    "    class_df = train_df[train_df[\"target\"] == target_class]\n",
    "    current_count = len(class_df)\n",
    "    print(f\"[INFO] Class {target_class}: 현재 {current_count}개 → 목표 250개로 증강 중...\")\n",
    "\n",
    "    # 원본 이미지 복사 후 저장\n",
    "    for _, row in tqdm(class_df.iterrows(), total=current_count, desc=f\"[Class {target_class}] 원본 복사\"):\n",
    "        img_name = row[\"ID\"]\n",
    "        src = os.path.join(train_path, img_name)\n",
    "        dst = os.path.join(save_dir, img_name)\n",
    "        shutil.copy2(src, dst)\n",
    "        augmented_records.append({\"ID\": img_name, \"target\": target_class})\n",
    "\n",
    "    # 추가로 필요한 증강 개수 계산\n",
    "    n_to_augment = max(0, 250 - current_count)\n",
    "    print(f\"[INFO] Class {target_class}: 추가 증강 {n_to_augment}개 생성 중...\")\n",
    "\n",
    "    for i in tqdm(range(n_to_augment), desc=f\"[Class {target_class}] 추가증강\"):\n",
    "        sample_row = class_df.sample(1).iloc[0]\n",
    "        img_name = sample_row[\"ID\"]\n",
    "        img_path = os.path.join(train_path, img_name)\n",
    "        img = np.array(Image.open(img_path).convert(\"RGB\"))\n",
    "\n",
    "        # 확률적으로 Augraphy or Albumentations 증강 선택\n",
    "        if target_class in document_classes and np.random.rand() < 0.5:\n",
    "            aug_img = augraphy_aug(image=img)\n",
    "            aug_name = f\"augraphy_{target_class}_{i}_{img_name}\"\n",
    "        else:\n",
    "            aug_img = augmentation(image=img)['image']\n",
    "            aug_name = f\"alb_{target_class}_{i}_{img_name}\"\n",
    "\n",
    "        aug_path = os.path.join(save_dir, aug_name)\n",
    "        Image.fromarray(aug_img).save(aug_path)\n",
    "        augmented_records.append({\"ID\": aug_name, \"target\": target_class})\n",
    "\n",
    "print(\"[완료] 클래스별 250장 증강 완료\")\n",
    "\n",
    "# CSV 저장\n",
    "aug_df = pd.DataFrame(augmented_records)\n",
    "aug_df.to_csv(\"../data/V4-augmented.csv\", index=False)\n",
    "print(\"[완료] 원본 + 증강 데이터 및 CSV 저장 완료\")"
   ]
  },
  {
   "cell_type": "code",
   "execution_count": 6,
   "id": "7b9378cc",
   "metadata": {},
   "outputs": [
    {
     "data": {
      "image/png": "[encoded data removed]",
      "text/plain": [
       "<Figure size 1000x600 with 1 Axes>"
      ]
     },
     "metadata": {},
     "output_type": "display_data"
    },
    {
     "data": {
      "text/html": [
       "<div>\n",
       "<style scoped>\n",
       "    .dataframe tbody tr th:only-of-type {\n",
       "        vertical-align: middle;\n",
       "    }\n",
       "\n",
       "    .dataframe tbody tr th {\n",
       "        vertical-align: top;\n",
       "    }\n",
       "\n",
       "    .dataframe thead th {\n",
       "        text-align: right;\n",
       "    }\n",
       "</style>\n",
       "<table border=\"1\" class=\"dataframe\">\n",
       "  <thead>\n",
       "    <tr style=\"text-align: right;\">\n",
       "      <th></th>\n",
       "      <th>ID</th>\n",
       "      <th>target</th>\n",
       "    </tr>\n",
       "  </thead>\n",
       "  <tbody>\n",
       "    <tr>\n",
       "      <th>0</th>\n",
       "      <td>06c04208033a0ebf.jpg</td>\n",
       "      <td>0</td>\n",
       "    </tr>\n",
       "    <tr>\n",
       "      <th>1</th>\n",
       "      <td>07a0a849cab135e0.jpg</td>\n",
       "      <td>0</td>\n",
       "    </tr>\n",
       "    <tr>\n",
       "      <th>2</th>\n",
       "      <td>096c4b74a832db46.jpg</td>\n",
       "      <td>0</td>\n",
       "    </tr>\n",
       "    <tr>\n",
       "      <th>3</th>\n",
       "      <td>097bf6816bf11df3.jpg</td>\n",
       "      <td>0</td>\n",
       "    </tr>\n",
       "    <tr>\n",
       "      <th>4</th>\n",
       "      <td>0cdf7f30dbeacb1c.jpg</td>\n",
       "      <td>0</td>\n",
       "    </tr>\n",
       "    <tr>\n",
       "      <th>...</th>\n",
       "      <td>...</td>\n",
       "      <td>...</td>\n",
       "    </tr>\n",
       "    <tr>\n",
       "      <th>4245</th>\n",
       "      <td>alb_16_145_461eea7d62965d0e.jpg</td>\n",
       "      <td>16</td>\n",
       "    </tr>\n",
       "    <tr>\n",
       "      <th>4246</th>\n",
       "      <td>alb_16_146_64de0d5782390458.jpg</td>\n",
       "      <td>16</td>\n",
       "    </tr>\n",
       "    <tr>\n",
       "      <th>4247</th>\n",
       "      <td>alb_16_147_b27747c52c58fc0b.jpg</td>\n",
       "      <td>16</td>\n",
       "    </tr>\n",
       "    <tr>\n",
       "      <th>4248</th>\n",
       "      <td>alb_16_148_392a24cddc8df59f.jpg</td>\n",
       "      <td>16</td>\n",
       "    </tr>\n",
       "    <tr>\n",
       "      <th>4249</th>\n",
       "      <td>alb_16_149_2af50704a985252c.jpg</td>\n",
       "      <td>16</td>\n",
       "    </tr>\n",
       "  </tbody>\n",
       "</table>\n",
       "<p>4250 rows × 2 columns</p>\n",
       "</div>"
      ],
      "text/plain": [
       "                                   ID  target\n",
       "0                06c04208033a0ebf.jpg       0\n",
       "1                07a0a849cab135e0.jpg       0\n",
       "2                096c4b74a832db46.jpg       0\n",
       "3                097bf6816bf11df3.jpg       0\n",
       "4                0cdf7f30dbeacb1c.jpg       0\n",
       "...                               ...     ...\n",
       "4245  alb_16_145_461eea7d62965d0e.jpg      16\n",
       "4246  alb_16_146_64de0d5782390458.jpg      16\n",
       "4247  alb_16_147_b27747c52c58fc0b.jpg      16\n",
       "4248  alb_16_148_392a24cddc8df59f.jpg      16\n",
       "4249  alb_16_149_2af50704a985252c.jpg      16\n",
       "\n",
       "[4250 rows x 2 columns]"
      ]
     },
     "execution_count": 6,
     "metadata": {},
     "output_type": "execute_result"
    }
   ],
   "source": [
    "# Class check\n",
    "aug_df = pd.read_csv(\"../data/V4-augmented.csv\")\n",
    "count_plot(df=aug_df, col='target')\n",
    "aug_df"
   ]
  },
  {
   "cell_type": "code",
   "execution_count": 7,
   "id": "1a530731",
   "metadata": {},
   "outputs": [],
   "source": [
    "class ImageDataset(Dataset):\n",
    "    def __init__(self, df, path, transform=None):\n",
    "        self.df = df.values \n",
    "        self.path = path\n",
    "        self.transform = transform\n",
    "\n",
    "    def __len__(self):\n",
    "        return len(self.df)\n",
    "\n",
    "    def __getitem__(self, idx):\n",
    "        name, target = self.df[idx]\n",
    "        img = np.array(Image.open(os.path.join(self.path, name)))\n",
    "        if self.transform:\n",
    "            img = self.transform(image=img)['image']\n",
    "        return img, target"
   ]
  },
  {
   "cell_type": "code",
   "execution_count": 8,
   "id": "b24d5629",
   "metadata": {},
   "outputs": [],
   "source": [
    "train_transform = A.Compose([\n",
    "    A.Resize(height=img_size, width=img_size),   # 1) 이미지 크기 통일\n",
    "    A.Normalize(                                 # 2) 픽셀 정규화\n",
    "        mean=(0.485, 0.456, 0.406), std=(0.229, 0.224, 0.225)),\n",
    "    ToTensorV2(),                                # 3) 텐서 변환\n",
    "])\n",
    "\n",
    "test_transform = A.Compose([\n",
    "    A.Resize(height=img_size, width=img_size),   # 1) 이미지 크기 통일\n",
    "    A.Normalize(                                 # 2) 픽셀 정규화\n",
    "        mean=(0.485, 0.456, 0.406), std=(0.229, 0.224, 0.225)),\n",
    "    ToTensorV2(),                                # 3) 텐서 변환\n",
    "])\n",
    "\n",
    "train_agument_path = '../data/V4-agumented/'\n",
    "test_path = '../data/test/'"
   ]
  },
  {
   "cell_type": "code",
   "execution_count": 12,
   "id": "fc4e203e",
   "metadata": {},
   "outputs": [
    {
     "name": "stdout",
     "output_type": "stream",
     "text": [
      "\n",
      "=== Fold 1 ===\n",
      "Fold 1: Train samples=2833, Val samples=1417\n"
     ]
    },
    {
     "data": {
      "application/vnd.jupyter.widget-view+json": {
       "model_id": "8c5fd1e7cdfb480faad21878e9c95f65",
       "version_major": 2,
       "version_minor": 0
      },
      "text/plain": [
       "model.safetensors:   0%|          | 0.00/836M [00:00<?, ?B/s]"
      ]
     },
     "metadata": {},
     "output_type": "display_data"
    },
    {
     "name": "stderr",
     "output_type": "stream",
     "text": [
      "\u001b[34m\u001b[1mwandb\u001b[0m: Currently logged in as: \u001b[33mmoonstalker9010\u001b[0m (\u001b[33mmoonstalker9010-none\u001b[0m) to \u001b[32mhttps://api.wandb.ai\u001b[0m. Use \u001b[1m`wandb login --relogin`\u001b[0m to force relogin\n"
     ]
    },
    {
     "data": {
      "text/html": [
       "Tracking run with wandb version 0.21.0"
      ],
      "text/plain": [
       "<IPython.core.display.HTML object>"
      ]
     },
     "metadata": {},
     "output_type": "display_data"
    },
    {
     "data": {
      "text/html": [
       "Run data is saved locally in <code>../../wandb/run-20250704_025318-v6jwxnrs</code>"
      ],
      "text/plain": [
       "<IPython.core.display.HTML object>"
      ]
     },
     "metadata": {},
     "output_type": "display_data"
    },
    {
     "data": {
      "text/html": [
       "Syncing run <strong><a href='https://wandb.ai/moonstalker9010-none/Document%20Classification/runs/v6jwxnrs' target=\"_blank\">V4-fold_1</a></strong> to <a href='https://wandb.ai/moonstalker9010-none/Document%20Classification' target=\"_blank\">Weights & Biases</a> (<a href='https://wandb.me/developer-guide' target=\"_blank\">docs</a>)<br>"
      ],
      "text/plain": [
       "<IPython.core.display.HTML object>"
      ]
     },
     "metadata": {},
     "output_type": "display_data"
    },
    {
     "data": {
      "text/html": [
       " View project at <a href='https://wandb.ai/moonstalker9010-none/Document%20Classification' target=\"_blank\">https://wandb.ai/moonstalker9010-none/Document%20Classification</a>"
      ],
      "text/plain": [
       "<IPython.core.display.HTML object>"
      ]
     },
     "metadata": {},
     "output_type": "display_data"
    },
    {
     "data": {
      "text/html": [
       " View run at <a href='https://wandb.ai/moonstalker9010-none/Document%20Classification/runs/v6jwxnrs' target=\"_blank\">https://wandb.ai/moonstalker9010-none/Document%20Classification/runs/v6jwxnrs</a>"
      ],
      "text/plain": [
       "<IPython.core.display.HTML object>"
      ]
     },
     "metadata": {},
     "output_type": "display_data"
    },
    {
     "name": "stderr",
     "output_type": "stream",
     "text": [
      "[Fold 1][Epoch 1/40] Training: 100%|██████████| 355/355 [01:34<00:00,  3.77it/s, loss=3.96]   \n",
      "[Fold 1][Epoch 1/40] Validation: 100%|██████████| 178/178 [00:12<00:00, 14.35it/s]\n"
     ]
    },
    {
     "name": "stdout",
     "output_type": "stream",
     "text": [
      "[F1] Ep1 - Train: 0.8574 | VaL: 0.3300, Acc: 0.8920, F1: 0.8945\n"
     ]
    },
    {
     "name": "stderr",
     "output_type": "stream",
     "text": [
      "[Fold 1][Epoch 2/40] Training: 100%|██████████| 355/355 [01:31<00:00,  3.90it/s, loss=4.97]    \n",
      "[Fold 1][Epoch 2/40] Validation: 100%|██████████| 178/178 [00:12<00:00, 14.34it/s]\n"
     ]
    },
    {
     "name": "stdout",
     "output_type": "stream",
     "text": [
      "[F1] Ep2 - Train: 0.2287 | VaL: 0.2026, Acc: 0.9428, F1: 0.9414\n"
     ]
    },
    {
     "name": "stderr",
     "output_type": "stream",
     "text": [
      "[Fold 1][Epoch 3/40] Training: 100%|██████████| 355/355 [01:31<00:00,  3.89it/s, loss=2.41]    \n",
      "[Fold 1][Epoch 3/40] Validation: 100%|██████████| 178/178 [00:12<00:00, 14.28it/s]\n"
     ]
    },
    {
     "name": "stdout",
     "output_type": "stream",
     "text": [
      "[F1] Ep3 - Train: 0.1148 | VaL: 0.1618, Acc: 0.9570, F1: 0.9564\n"
     ]
    },
    {
     "name": "stderr",
     "output_type": "stream",
     "text": [
      "[Fold 1][Epoch 4/40] Training: 100%|██████████| 355/355 [01:31<00:00,  3.90it/s, loss=1.13]    \n",
      "[Fold 1][Epoch 4/40] Validation: 100%|██████████| 178/178 [00:12<00:00, 14.32it/s]\n"
     ]
    },
    {
     "name": "stdout",
     "output_type": "stream",
     "text": [
      "[F1] Ep4 - Train: 0.0440 | VaL: 0.1239, Acc: 0.9675, F1: 0.9673\n"
     ]
    },
    {
     "name": "stderr",
     "output_type": "stream",
     "text": [
      "[Fold 1][Epoch 5/40] Training: 100%|██████████| 355/355 [01:30<00:00,  3.91it/s, loss=1.85]    \n",
      "[Fold 1][Epoch 5/40] Validation: 100%|██████████| 178/178 [00:12<00:00, 14.39it/s]\n"
     ]
    },
    {
     "name": "stdout",
     "output_type": "stream",
     "text": [
      "[F1] Ep5 - Train: 0.0257 | VaL: 0.1171, Acc: 0.9675, F1: 0.9674\n"
     ]
    },
    {
     "name": "stderr",
     "output_type": "stream",
     "text": [
      "[Fold 1][Epoch 6/40] Training: 100%|██████████| 355/355 [01:30<00:00,  3.90it/s, loss=1.39]    \n",
      "[Fold 1][Epoch 6/40] Validation: 100%|██████████| 178/178 [00:12<00:00, 14.33it/s]\n"
     ]
    },
    {
     "name": "stdout",
     "output_type": "stream",
     "text": [
      "[F1] Ep6 - Train: 0.2303 | VaL: 0.2271, Acc: 0.9407, F1: 0.9391\n"
     ]
    },
    {
     "name": "stderr",
     "output_type": "stream",
     "text": [
      "[Fold 1][Epoch 7/40] Training: 100%|██████████| 355/355 [01:31<00:00,  3.90it/s, loss=1.41]    \n",
      "[Fold 1][Epoch 7/40] Validation: 100%|██████████| 178/178 [00:12<00:00, 14.32it/s]\n"
     ]
    },
    {
     "name": "stdout",
     "output_type": "stream",
     "text": [
      "[F1] Ep7 - Train: 0.1252 | VaL: 0.3847, Acc: 0.9090, F1: 0.9072\n"
     ]
    },
    {
     "name": "stderr",
     "output_type": "stream",
     "text": [
      "[Fold 1][Epoch 8/40] Training: 100%|██████████| 355/355 [01:31<00:00,  3.90it/s, loss=2.07]    \n",
      "[Fold 1][Epoch 8/40] Validation: 100%|██████████| 178/178 [00:12<00:00, 14.28it/s]\n"
     ]
    },
    {
     "name": "stdout",
     "output_type": "stream",
     "text": [
      "[F1] Ep8 - Train: 0.0942 | VaL: 0.1588, Acc: 0.9605, F1: 0.9605\n",
      "[Fold 1] Early stopping triggered. Best F1: 0.9674\n"
     ]
    },
    {
     "data": {
      "text/html": [],
      "text/plain": [
       "<IPython.core.display.HTML object>"
      ]
     },
     "metadata": {},
     "output_type": "display_data"
    },
    {
     "data": {
      "text/html": [
       "<br>    <style><br>        .wandb-row {<br>            display: flex;<br>            flex-direction: row;<br>            flex-wrap: wrap;<br>            justify-content: flex-start;<br>            width: 100%;<br>        }<br>        .wandb-col {<br>            display: flex;<br>            flex-direction: column;<br>            flex-basis: 100%;<br>            flex: 1;<br>            padding: 10px;<br>        }<br>    </style><br><div class=\"wandb-row\"><div class=\"wandb-col\"><h3>Run history:</h3><br/><table class=\"wandb\"><tr><td>Train_Data</td><td>▁</td></tr><tr><td>Val_Data</td><td>▁</td></tr><tr><td>epoch</td><td>▁▂▃▄▅▆▇█</td></tr><tr><td>fold</td><td>▁▁▁▁▁▁▁▁</td></tr><tr><td>lr</td><td>▇▅▃▁██▇▆</td></tr><tr><td>train_loss</td><td>█▃▂▁▁▃▂▂</td></tr><tr><td>val_acc</td><td>▁▆▇██▆▃▇</td></tr><tr><td>val_f1</td><td>▁▆▇██▅▂▇</td></tr><tr><td>val_loss</td><td>▇▃▂▁▁▄█▂</td></tr></table><br/></div><div class=\"wandb-col\"><h3>Run summary:</h3><br/><table class=\"wandb\"><tr><td>Train_Data</td><td>2833</td></tr><tr><td>Val_Data</td><td>1417</td></tr><tr><td>epoch</td><td>8</td></tr><tr><td>fold</td><td>1</td></tr><tr><td>lr</td><td>8e-05</td></tr><tr><td>train_loss</td><td>0.09418</td></tr><tr><td>val_acc</td><td>0.96048</td></tr><tr><td>val_f1</td><td>0.96051</td></tr><tr><td>val_loss</td><td>0.15877</td></tr></table><br/></div></div>"
      ],
      "text/plain": [
       "<IPython.core.display.HTML object>"
      ]
     },
     "metadata": {},
     "output_type": "display_data"
    },
    {
     "data": {
      "text/html": [
       " View run <strong style=\"color:#cdcd00\">V4-fold_1</strong> at: <a href='https://wandb.ai/moonstalker9010-none/Document%20Classification/runs/v6jwxnrs' target=\"_blank\">https://wandb.ai/moonstalker9010-none/Document%20Classification/runs/v6jwxnrs</a><br> View project at: <a href='https://wandb.ai/moonstalker9010-none/Document%20Classification' target=\"_blank\">https://wandb.ai/moonstalker9010-none/Document%20Classification</a><br>Synced 5 W&B file(s), 0 media file(s), 0 artifact file(s) and 0 other file(s)"
      ],
      "text/plain": [
       "<IPython.core.display.HTML object>"
      ]
     },
     "metadata": {},
     "output_type": "display_data"
    },
    {
     "data": {
      "text/html": [
       "Find logs at: <code>../../wandb/run-20250704_025318-v6jwxnrs/logs</code>"
      ],
      "text/plain": [
       "<IPython.core.display.HTML object>"
      ]
     },
     "metadata": {},
     "output_type": "display_data"
    },
    {
     "name": "stdout",
     "output_type": "stream",
     "text": [
      "\n",
      "=== Fold 2 ===\n",
      "Fold 2: Train samples=2833, Val samples=1417\n"
     ]
    },
    {
     "data": {
      "text/html": [
       "Tracking run with wandb version 0.21.0"
      ],
      "text/plain": [
       "<IPython.core.display.HTML object>"
      ]
     },
     "metadata": {},
     "output_type": "display_data"
    },
    {
     "data": {
      "text/html": [
       "Run data is saved locally in <code>../../wandb/run-20250704_030718-pvb313w5</code>"
      ],
      "text/plain": [
       "<IPython.core.display.HTML object>"
      ]
     },
     "metadata": {},
     "output_type": "display_data"
    },
    {
     "data": {
      "text/html": [
       "Syncing run <strong><a href='https://wandb.ai/moonstalker9010-none/Document%20Classification/runs/pvb313w5' target=\"_blank\">V4-fold_2</a></strong> to <a href='https://wandb.ai/moonstalker9010-none/Document%20Classification' target=\"_blank\">Weights & Biases</a> (<a href='https://wandb.me/developer-guide' target=\"_blank\">docs</a>)<br>"
      ],
      "text/plain": [
       "<IPython.core.display.HTML object>"
      ]
     },
     "metadata": {},
     "output_type": "display_data"
    },
    {
     "data": {
      "text/html": [
       " View project at <a href='https://wandb.ai/moonstalker9010-none/Document%20Classification' target=\"_blank\">https://wandb.ai/moonstalker9010-none/Document%20Classification</a>"
      ],
      "text/plain": [
       "<IPython.core.display.HTML object>"
      ]
     },
     "metadata": {},
     "output_type": "display_data"
    },
    {
     "data": {
      "text/html": [
       " View run at <a href='https://wandb.ai/moonstalker9010-none/Document%20Classification/runs/pvb313w5' target=\"_blank\">https://wandb.ai/moonstalker9010-none/Document%20Classification/runs/pvb313w5</a>"
      ],
      "text/plain": [
       "<IPython.core.display.HTML object>"
      ]
     },
     "metadata": {},
     "output_type": "display_data"
    },
    {
     "name": "stderr",
     "output_type": "stream",
     "text": [
      "[Fold 2][Epoch 1/40] Training: 100%|██████████| 355/355 [01:30<00:00,  3.91it/s, loss=2]      \n",
      "[Fold 2][Epoch 1/40] Validation: 100%|██████████| 178/178 [00:12<00:00, 14.36it/s]\n"
     ]
    },
    {
     "name": "stdout",
     "output_type": "stream",
     "text": [
      "[F2] Ep1 - Train: 0.9178 | VaL: 0.2592, Acc: 0.9118, F1: 0.9128\n"
     ]
    },
    {
     "name": "stderr",
     "output_type": "stream",
     "text": [
      "[Fold 2][Epoch 2/40] Training: 100%|██████████| 355/355 [01:31<00:00,  3.90it/s, loss=2.01]    \n",
      "[Fold 2][Epoch 2/40] Validation: 100%|██████████| 178/178 [00:12<00:00, 14.37it/s]\n"
     ]
    },
    {
     "name": "stdout",
     "output_type": "stream",
     "text": [
      "[F2] Ep2 - Train: 0.2452 | VaL: 0.1694, Acc: 0.9421, F1: 0.9421\n"
     ]
    },
    {
     "name": "stderr",
     "output_type": "stream",
     "text": [
      "[Fold 2][Epoch 3/40] Training: 100%|██████████| 355/355 [01:31<00:00,  3.90it/s, loss=2.91]    \n",
      "[Fold 2][Epoch 3/40] Validation: 100%|██████████| 178/178 [00:12<00:00, 14.32it/s]\n"
     ]
    },
    {
     "name": "stdout",
     "output_type": "stream",
     "text": [
      "[F2] Ep3 - Train: 0.1202 | VaL: 0.1489, Acc: 0.9485, F1: 0.9485\n"
     ]
    },
    {
     "name": "stderr",
     "output_type": "stream",
     "text": [
      "[Fold 2][Epoch 4/40] Training: 100%|██████████| 355/355 [01:31<00:00,  3.90it/s, loss=0.287]   \n",
      "[Fold 2][Epoch 4/40] Validation: 100%|██████████| 178/178 [00:12<00:00, 14.35it/s]\n"
     ]
    },
    {
     "name": "stdout",
     "output_type": "stream",
     "text": [
      "[F2] Ep4 - Train: 0.0530 | VaL: 0.1221, Acc: 0.9570, F1: 0.9568\n"
     ]
    },
    {
     "name": "stderr",
     "output_type": "stream",
     "text": [
      "[Fold 2][Epoch 5/40] Training: 100%|██████████| 355/355 [01:30<00:00,  3.91it/s, loss=0.831]   \n",
      "[Fold 2][Epoch 5/40] Validation: 100%|██████████| 178/178 [00:12<00:00, 14.38it/s]\n"
     ]
    },
    {
     "name": "stdout",
     "output_type": "stream",
     "text": [
      "[F2] Ep5 - Train: 0.0280 | VaL: 0.1240, Acc: 0.9591, F1: 0.9590\n"
     ]
    },
    {
     "name": "stderr",
     "output_type": "stream",
     "text": [
      "[Fold 2][Epoch 6/40] Training: 100%|██████████| 355/355 [01:30<00:00,  3.91it/s, loss=1.84]    \n",
      "[Fold 2][Epoch 6/40] Validation: 100%|██████████| 178/178 [00:12<00:00, 14.38it/s]\n"
     ]
    },
    {
     "name": "stdout",
     "output_type": "stream",
     "text": [
      "[F2] Ep6 - Train: 0.2222 | VaL: 0.3039, Acc: 0.9097, F1: 0.9050\n"
     ]
    },
    {
     "name": "stderr",
     "output_type": "stream",
     "text": [
      "[Fold 2][Epoch 7/40] Training: 100%|██████████| 355/355 [01:31<00:00,  3.90it/s, loss=3.2]     \n",
      "[Fold 2][Epoch 7/40] Validation: 100%|██████████| 178/178 [00:12<00:00, 14.32it/s]\n"
     ]
    },
    {
     "name": "stdout",
     "output_type": "stream",
     "text": [
      "[F2] Ep7 - Train: 0.1560 | VaL: 0.2048, Acc: 0.9499, F1: 0.9492\n"
     ]
    },
    {
     "name": "stderr",
     "output_type": "stream",
     "text": [
      "[Fold 2][Epoch 8/40] Training: 100%|██████████| 355/355 [01:30<00:00,  3.90it/s, loss=0.0162]  \n",
      "[Fold 2][Epoch 8/40] Validation: 100%|██████████| 178/178 [00:12<00:00, 14.29it/s]"
     ]
    },
    {
     "name": "stdout",
     "output_type": "stream",
     "text": [
      "[F2] Ep8 - Train: 0.0598 | VaL: 0.1641, Acc: 0.9534, F1: 0.9539\n",
      "[Fold 2] Early stopping triggered. Best F1: 0.9590\n"
     ]
    },
    {
     "name": "stderr",
     "output_type": "stream",
     "text": [
      "\n"
     ]
    },
    {
     "data": {
      "text/html": [],
      "text/plain": [
       "<IPython.core.display.HTML object>"
      ]
     },
     "metadata": {},
     "output_type": "display_data"
    },
    {
     "data": {
      "text/html": [
       "<br>    <style><br>        .wandb-row {<br>            display: flex;<br>            flex-direction: row;<br>            flex-wrap: wrap;<br>            justify-content: flex-start;<br>            width: 100%;<br>        }<br>        .wandb-col {<br>            display: flex;<br>            flex-direction: column;<br>            flex-basis: 100%;<br>            flex: 1;<br>            padding: 10px;<br>        }<br>    </style><br><div class=\"wandb-row\"><div class=\"wandb-col\"><h3>Run history:</h3><br/><table class=\"wandb\"><tr><td>Train_Data</td><td>▁</td></tr><tr><td>Val_Data</td><td>▁</td></tr><tr><td>epoch</td><td>▁▂▃▄▅▆▇█</td></tr><tr><td>fold</td><td>▁▁▁▁▁▁▁▁</td></tr><tr><td>lr</td><td>▇▅▃▁██▇▆</td></tr><tr><td>train_loss</td><td>█▃▂▁▁▃▂▁</td></tr><tr><td>val_acc</td><td>▁▆▆██▁▇▇</td></tr><tr><td>val_f1</td><td>▂▆▇██▁▇▇</td></tr><tr><td>val_loss</td><td>▆▃▂▁▁█▄▃</td></tr></table><br/></div><div class=\"wandb-col\"><h3>Run summary:</h3><br/><table class=\"wandb\"><tr><td>Train_Data</td><td>2833</td></tr><tr><td>Val_Data</td><td>1417</td></tr><tr><td>epoch</td><td>8</td></tr><tr><td>fold</td><td>2</td></tr><tr><td>lr</td><td>8e-05</td></tr><tr><td>train_loss</td><td>0.05981</td></tr><tr><td>val_acc</td><td>0.95342</td></tr><tr><td>val_f1</td><td>0.95388</td></tr><tr><td>val_loss</td><td>0.16415</td></tr></table><br/></div></div>"
      ],
      "text/plain": [
       "<IPython.core.display.HTML object>"
      ]
     },
     "metadata": {},
     "output_type": "display_data"
    },
    {
     "data": {
      "text/html": [
       " View run <strong style=\"color:#cdcd00\">V4-fold_2</strong> at: <a href='https://wandb.ai/moonstalker9010-none/Document%20Classification/runs/pvb313w5' target=\"_blank\">https://wandb.ai/moonstalker9010-none/Document%20Classification/runs/pvb313w5</a><br> View project at: <a href='https://wandb.ai/moonstalker9010-none/Document%20Classification' target=\"_blank\">https://wandb.ai/moonstalker9010-none/Document%20Classification</a><br>Synced 5 W&B file(s), 0 media file(s), 0 artifact file(s) and 0 other file(s)"
      ],
      "text/plain": [
       "<IPython.core.display.HTML object>"
      ]
     },
     "metadata": {},
     "output_type": "display_data"
    },
    {
     "data": {
      "text/html": [
       "Find logs at: <code>../../wandb/run-20250704_030718-pvb313w5/logs</code>"
      ],
      "text/plain": [
       "<IPython.core.display.HTML object>"
      ]
     },
     "metadata": {},
     "output_type": "display_data"
    },
    {
     "name": "stdout",
     "output_type": "stream",
     "text": [
      "\n",
      "=== Fold 3 ===\n",
      "Fold 3: Train samples=2834, Val samples=1416\n"
     ]
    },
    {
     "data": {
      "text/html": [
       "Tracking run with wandb version 0.21.0"
      ],
      "text/plain": [
       "<IPython.core.display.HTML object>"
      ]
     },
     "metadata": {},
     "output_type": "display_data"
    },
    {
     "data": {
      "text/html": [
       "Run data is saved locally in <code>../../wandb/run-20250704_032115-v01k4enk</code>"
      ],
      "text/plain": [
       "<IPython.core.display.HTML object>"
      ]
     },
     "metadata": {},
     "output_type": "display_data"
    },
    {
     "data": {
      "text/html": [
       "Syncing run <strong><a href='https://wandb.ai/moonstalker9010-none/Document%20Classification/runs/v01k4enk' target=\"_blank\">V4-fold_3</a></strong> to <a href='https://wandb.ai/moonstalker9010-none/Document%20Classification' target=\"_blank\">Weights & Biases</a> (<a href='https://wandb.me/developer-guide' target=\"_blank\">docs</a>)<br>"
      ],
      "text/plain": [
       "<IPython.core.display.HTML object>"
      ]
     },
     "metadata": {},
     "output_type": "display_data"
    },
    {
     "data": {
      "text/html": [
       " View project at <a href='https://wandb.ai/moonstalker9010-none/Document%20Classification' target=\"_blank\">https://wandb.ai/moonstalker9010-none/Document%20Classification</a>"
      ],
      "text/plain": [
       "<IPython.core.display.HTML object>"
      ]
     },
     "metadata": {},
     "output_type": "display_data"
    },
    {
     "data": {
      "text/html": [
       " View run at <a href='https://wandb.ai/moonstalker9010-none/Document%20Classification/runs/v01k4enk' target=\"_blank\">https://wandb.ai/moonstalker9010-none/Document%20Classification/runs/v01k4enk</a>"
      ],
      "text/plain": [
       "<IPython.core.display.HTML object>"
      ]
     },
     "metadata": {},
     "output_type": "display_data"
    },
    {
     "name": "stderr",
     "output_type": "stream",
     "text": [
      "[Fold 3][Epoch 1/40] Training: 100%|██████████| 355/355 [01:32<00:00,  3.82it/s, loss=1.6]    \n",
      "[Fold 3][Epoch 1/40] Validation: 100%|██████████| 177/177 [00:12<00:00, 14.28it/s]\n"
     ]
    },
    {
     "name": "stdout",
     "output_type": "stream",
     "text": [
      "[F3] Ep1 - Train: 0.8211 | VaL: 0.3411, Acc: 0.8969, F1: 0.8949\n"
     ]
    },
    {
     "name": "stderr",
     "output_type": "stream",
     "text": [
      "[Fold 3][Epoch 2/40] Training: 100%|██████████| 355/355 [01:31<00:00,  3.90it/s, loss=4.69]    \n",
      "[Fold 3][Epoch 2/40] Validation: 100%|██████████| 177/177 [00:12<00:00, 14.28it/s]\n"
     ]
    },
    {
     "name": "stdout",
     "output_type": "stream",
     "text": [
      "[F3] Ep2 - Train: 0.2331 | VaL: 0.2311, Acc: 0.9287, F1: 0.9302\n"
     ]
    },
    {
     "name": "stderr",
     "output_type": "stream",
     "text": [
      "[Fold 3][Epoch 3/40] Training: 100%|██████████| 355/355 [01:31<00:00,  3.90it/s, loss=0.447]   \n",
      "[Fold 3][Epoch 3/40] Validation: 100%|██████████| 177/177 [00:12<00:00, 14.29it/s]\n"
     ]
    },
    {
     "name": "stdout",
     "output_type": "stream",
     "text": [
      "[F3] Ep3 - Train: 0.1118 | VaL: 0.1968, Acc: 0.9414, F1: 0.9412\n"
     ]
    },
    {
     "name": "stderr",
     "output_type": "stream",
     "text": [
      "[Fold 3][Epoch 4/40] Training: 100%|██████████| 355/355 [01:31<00:00,  3.90it/s, loss=0.013]   \n",
      "[Fold 3][Epoch 4/40] Validation: 100%|██████████| 177/177 [00:12<00:00, 14.30it/s]\n"
     ]
    },
    {
     "name": "stdout",
     "output_type": "stream",
     "text": [
      "[F3] Ep4 - Train: 0.0392 | VaL: 0.1609, Acc: 0.9555, F1: 0.9554\n"
     ]
    },
    {
     "name": "stderr",
     "output_type": "stream",
     "text": [
      "[Fold 3][Epoch 5/40] Training: 100%|██████████| 355/355 [01:30<00:00,  3.90it/s, loss=0.0118]  \n",
      "[Fold 3][Epoch 5/40] Validation: 100%|██████████| 177/177 [00:12<00:00, 14.27it/s]\n"
     ]
    },
    {
     "name": "stdout",
     "output_type": "stream",
     "text": [
      "[F3] Ep5 - Train: 0.0175 | VaL: 0.1619, Acc: 0.9555, F1: 0.9553\n"
     ]
    },
    {
     "name": "stderr",
     "output_type": "stream",
     "text": [
      "[Fold 3][Epoch 6/40] Training: 100%|██████████| 355/355 [01:31<00:00,  3.90it/s, loss=1.25]    \n",
      "[Fold 3][Epoch 6/40] Validation: 100%|██████████| 177/177 [00:12<00:00, 14.26it/s]\n"
     ]
    },
    {
     "name": "stdout",
     "output_type": "stream",
     "text": [
      "[F3] Ep6 - Train: 0.1791 | VaL: 0.4868, Acc: 0.8757, F1: 0.8758\n"
     ]
    },
    {
     "name": "stderr",
     "output_type": "stream",
     "text": [
      "[Fold 3][Epoch 7/40] Training: 100%|██████████| 355/355 [01:31<00:00,  3.90it/s, loss=0.328]   \n",
      "[Fold 3][Epoch 7/40] Validation: 100%|██████████| 177/177 [00:12<00:00, 14.25it/s]"
     ]
    },
    {
     "name": "stdout",
     "output_type": "stream",
     "text": [
      "[F3] Ep7 - Train: 0.1734 | VaL: 0.3370, Acc: 0.9181, F1: 0.9195\n",
      "[Fold 3] Early stopping triggered. Best F1: 0.9554\n"
     ]
    },
    {
     "name": "stderr",
     "output_type": "stream",
     "text": [
      "\n"
     ]
    },
    {
     "data": {
      "text/html": [],
      "text/plain": [
       "<IPython.core.display.HTML object>"
      ]
     },
     "metadata": {},
     "output_type": "display_data"
    },
    {
     "data": {
      "text/html": [
       "<br>    <style><br>        .wandb-row {<br>            display: flex;<br>            flex-direction: row;<br>            flex-wrap: wrap;<br>            justify-content: flex-start;<br>            width: 100%;<br>        }<br>        .wandb-col {<br>            display: flex;<br>            flex-direction: column;<br>            flex-basis: 100%;<br>            flex: 1;<br>            padding: 10px;<br>        }<br>    </style><br><div class=\"wandb-row\"><div class=\"wandb-col\"><h3>Run history:</h3><br/><table class=\"wandb\"><tr><td>Train_Data</td><td>▁</td></tr><tr><td>Val_Data</td><td>▁</td></tr><tr><td>epoch</td><td>▁▂▃▅▆▇█</td></tr><tr><td>fold</td><td>▁▁▁▁▁▁▁</td></tr><tr><td>lr</td><td>▇▅▃▁██▇</td></tr><tr><td>train_loss</td><td>█▃▂▁▁▂▂</td></tr><tr><td>val_acc</td><td>▃▆▇██▁▅</td></tr><tr><td>val_f1</td><td>▃▆▇██▁▅</td></tr><tr><td>val_loss</td><td>▅▃▂▁▁█▅</td></tr></table><br/></div><div class=\"wandb-col\"><h3>Run summary:</h3><br/><table class=\"wandb\"><tr><td>Train_Data</td><td>2834</td></tr><tr><td>Val_Data</td><td>1416</td></tr><tr><td>epoch</td><td>7</td></tr><tr><td>fold</td><td>3</td></tr><tr><td>lr</td><td>9e-05</td></tr><tr><td>train_loss</td><td>0.17343</td></tr><tr><td>val_acc</td><td>0.91808</td></tr><tr><td>val_f1</td><td>0.91946</td></tr><tr><td>val_loss</td><td>0.33699</td></tr></table><br/></div></div>"
      ],
      "text/plain": [
       "<IPython.core.display.HTML object>"
      ]
     },
     "metadata": {},
     "output_type": "display_data"
    },
    {
     "data": {
      "text/html": [
       " View run <strong style=\"color:#cdcd00\">V4-fold_3</strong> at: <a href='https://wandb.ai/moonstalker9010-none/Document%20Classification/runs/v01k4enk' target=\"_blank\">https://wandb.ai/moonstalker9010-none/Document%20Classification/runs/v01k4enk</a><br> View project at: <a href='https://wandb.ai/moonstalker9010-none/Document%20Classification' target=\"_blank\">https://wandb.ai/moonstalker9010-none/Document%20Classification</a><br>Synced 5 W&B file(s), 0 media file(s), 0 artifact file(s) and 0 other file(s)"
      ],
      "text/plain": [
       "<IPython.core.display.HTML object>"
      ]
     },
     "metadata": {},
     "output_type": "display_data"
    },
    {
     "data": {
      "text/html": [
       "Find logs at: <code>../../wandb/run-20250704_032115-v01k4enk/logs</code>"
      ],
      "text/plain": [
       "<IPython.core.display.HTML object>"
      ]
     },
     "metadata": {},
     "output_type": "display_data"
    }
   ],
   "source": [
    "# StratifiedKFold 설정\n",
    "kf = StratifiedKFold(n_splits=3, shuffle=True, random_state=42)\n",
    "\n",
    "for fold, (train_idx, val_idx) in enumerate(kf.split(aug_df, aug_df['target'])):\n",
    "    print(f\"\\n=== Fold {fold+1} ===\")\n",
    "    train_fold_df = aug_df.iloc[train_idx].reset_index(drop=True)\n",
    "    val_fold_df = aug_df.iloc[val_idx].reset_index(drop=True)\n",
    "\n",
    "    train_dataset = ImageDataset(train_fold_df, path=\"../data/V4-augmented\", transform=train_transform)\n",
    "    val_dataset = ImageDataset(val_fold_df, path=\"../data/V4-augmented\", transform=test_transform)\n",
    "\n",
    "    train_loader = DataLoader(train_dataset, batch_size=BATCH_SIZE, shuffle=True, num_workers=num_workers)\n",
    "    val_loader = DataLoader(val_dataset, batch_size=BATCH_SIZE, shuffle=False, num_workers=num_workers)\n",
    "    print(f\"Fold {fold+1}: Train samples={len(train_fold_df)}, Val samples={len(val_fold_df)}\")\n",
    "\n",
    "    # 모델 정의\n",
    "    model = timm.create_model(model_name, pretrained=True, num_classes=17, drop_path_rate=Drop_out).to(device)\n",
    "    loss_fn = nn.CrossEntropyLoss()\n",
    "    optimizer = torch.optim.Adam(model.parameters(), lr=LR)\n",
    "\n",
    "    scheduler = torch.optim.lr_scheduler.CosineAnnealingWarmRestarts(\n",
    "    optimizer,\n",
    "    T_0=5,        # 처음 warm restart 주기 (5 에폭)\n",
    "    T_mult=2,     # 이후 주기를 배수로 늘림\n",
    "    eta_min=1e-6  # 최소 학습률\n",
    ")\n",
    "\n",
    "    best_f1 = -1.0\n",
    "    patience = 3\n",
    "    trigger = 0\n",
    "\n",
    "    os.environ[\"WANDB_DIR\"] = \"../../\"\n",
    "\n",
    "    wandb.init(\n",
    "    project=\"Document Classification\",\n",
    "    entity=\"moonstalker9010-none\",\n",
    "    name=f\"V4-fold_{fold+1}\",\n",
    "    config={\n",
    "        \"epochs\": EPOCHS,\n",
    "        \"img_size\": img_size,\n",
    "        \"batch_size\": BATCH_SIZE,\n",
    "        \"learning_rate\": LR,\n",
    "        \"Drop_out\": Drop_out,\n",
    "        \"model_name\": model_name,\n",
    "        \"train_samples\": len(train_fold_df),\n",
    "        \"val_samples\": len(val_fold_df),\n",
    "    }\n",
    ")\n",
    "    \n",
    "    wandb.log({\n",
    "    \"Train_Data\": len(train_fold_df),\n",
    "    \"Val_Data\": len(val_fold_df),\n",
    "})\n",
    "\n",
    "    for epoch in range(1, EPOCHS + 1):\n",
    "        # 학습\n",
    "        model.train()\n",
    "        train_loss = 0.0\n",
    "        train_bar = tqdm(train_loader, desc=f\"[Fold {fold+1}][Epoch {epoch}/{EPOCHS}] Training\")\n",
    "        for images, targets in train_bar:\n",
    "            images, targets = images.to(device), targets.to(device)\n",
    "            optimizer.zero_grad()\n",
    "            outputs = model(images)\n",
    "            loss = loss_fn(outputs, targets)\n",
    "            loss.backward()\n",
    "            optimizer.step()\n",
    "            train_loss += loss.item()\n",
    "            train_bar.set_postfix(loss=loss.item())\n",
    "\n",
    "        avg_train_loss = train_loss / len(train_loader)\n",
    "\n",
    "        # 검증\n",
    "        model.eval()\n",
    "        val_loss = 0.0\n",
    "        correct = 0\n",
    "        total = 0\n",
    "        all_preds = []\n",
    "        all_targets = []\n",
    "        scheduler.step()\n",
    "\n",
    "        with torch.no_grad():\n",
    "            val_bar = tqdm(val_loader, desc=f\"[Fold {fold+1}][Epoch {epoch}/{EPOCHS}] Validation\")\n",
    "            for images, targets in val_bar:\n",
    "                images, targets = images.to(device), targets.to(device)\n",
    "                outputs = model(images)\n",
    "                loss = loss_fn(outputs, targets)\n",
    "                val_loss += loss.item()\n",
    "\n",
    "                _, preds = torch.max(outputs, 1)\n",
    "                all_preds.extend(preds.cpu().numpy())\n",
    "                all_targets.extend(targets.cpu().numpy())\n",
    "\n",
    "                correct += (preds == targets).sum().item()\n",
    "                total += targets.size(0)\n",
    "\n",
    "        avg_val_loss = val_loss / len(val_loader)\n",
    "        val_acc = correct / total\n",
    "        val_f1 = f1_score(all_targets, all_preds, average='macro')\n",
    "\n",
    "        print(f\"[F{fold+1}] Ep{epoch} - \"\n",
    "              f\"Train: {avg_train_loss:.4f} | VaL: {avg_val_loss:.4f}, \"\n",
    "              f\"Acc: {val_acc:.4f}, F1: {val_f1:.4f}\")\n",
    "        \n",
    "        current_lr = optimizer.param_groups[0]['lr']\n",
    "        wandb.log({\n",
    "            \"fold\": fold + 1,\n",
    "            \"epoch\": epoch,\n",
    "            \"train_loss\": avg_train_loss,\n",
    "            \"val_loss\": avg_val_loss,\n",
    "            \"val_acc\": val_acc,\n",
    "            \"val_f1\": val_f1,\n",
    "            \"lr\": current_lr,\n",
    "        })\n",
    "\n",
    "        # EarlyStopping\n",
    "        if val_f1 > best_f1:\n",
    "            best_f1 = val_f1\n",
    "            trigger = 0\n",
    "            save_dir = \"../model/V4\"\n",
    "            os.makedirs(save_dir, exist_ok=True)\n",
    "            torch.save(model.state_dict(), os.path.join(save_dir, f\"model_fold{fold+1}.pth\"))\n",
    "        else:\n",
    "            trigger += 1\n",
    "            if trigger >= patience:\n",
    "                print(f\"[Fold {fold+1}] Early stopping triggered. Best F1: {best_f1:.4f}\")\n",
    "                break\n",
    "\n",
    "    wandb.finish()"
   ]
  },
  {
   "cell_type": "markdown",
   "id": "a129a87a",
   "metadata": {},
   "source": [
    "### Ensemble & Inference"
   ]
  },
  {
   "cell_type": "code",
   "execution_count": 9,
   "id": "21b5a8d5",
   "metadata": {},
   "outputs": [],
   "source": [
    "# fold별 모델 로드\n",
    "models = []\n",
    "for fold in range(3):\n",
    "    model = timm.create_model(model_name, pretrained=False, num_classes=17, drop_path_rate=Drop_out)\n",
    "    model.load_state_dict(torch.load(f\"../model/V4/model_fold{fold+1}.pth\", map_location=device))\n",
    "    model.to(device)\n",
    "    model.eval()\n",
    "    models.append(model)\n",
    "\n",
    "# 가중치 계산\n",
    "fold_f1s = np.array([0.9674, 0.9590, 0.9554])\n",
    "fold_weights = fold_f1s / fold_f1s.sum()  # 합이 1이 되도록 정규화"
   ]
  },
  {
   "cell_type": "code",
   "execution_count": 10,
   "id": "5da7eb05",
   "metadata": {},
   "outputs": [
    {
     "name": "stderr",
     "output_type": "stream",
     "text": [
      "Ensemble Inference: 100%|██████████| 393/393 [01:18<00:00,  5.00it/s]"
     ]
    },
    {
     "name": "stdout",
     "output_type": "stream",
     "text": [
      "V4-submission.csv 저장 완료\n"
     ]
    },
    {
     "name": "stderr",
     "output_type": "stream",
     "text": [
      "\n"
     ]
    }
   ],
   "source": [
    "test_dataset = ImageDataset(test_df, test_path, transform=test_transform)\n",
    "test_loader = DataLoader(test_dataset, batch_size=BATCH_SIZE, shuffle=False, num_workers=num_workers)\n",
    "\n",
    "submission_preds = []\n",
    "\n",
    "with torch.no_grad():\n",
    "    for images, _ in tqdm(test_loader, desc=\"Ensemble Inference\"):\n",
    "        images = images.to(device)\n",
    "\n",
    "        weighted_probs = None\n",
    "        for weight, model in zip(fold_weights, models):\n",
    "            outputs = model(images)\n",
    "            probs = torch.softmax(outputs, dim=1)\n",
    "            if weighted_probs is None:\n",
    "                weighted_probs = weight * probs\n",
    "            else:\n",
    "                weighted_probs += weight * probs\n",
    "\n",
    "        preds = torch.argmax(weighted_probs, dim=1)\n",
    "        submission_preds.extend(preds.cpu().numpy())\n",
    "\n",
    "# 결과 저장\n",
    "submission_df = test_df.copy()\n",
    "submission_df[\"target\"] = submission_preds\n",
    "submission_df.to_csv(\"../data/V4-submission.csv\", index=False)\n",
    "print(\"V4-submission.csv 저장 완료\")"
   ]
  }
 ],
 "metadata": {
  "kernelspec": {
   "display_name": "CV_Project",
   "language": "python",
   "name": "python3"
  },
  "language_info": {
   "codemirror_mode": {
    "name": "ipython",
    "version": 3
   },
   "file_extension": ".py",
   "mimetype": "text/x-python",
   "name": "python",
   "nbconvert_exporter": "python",
   "pygments_lexer": "ipython3",
   "version": "3.9.23"
  }
 },
 "nbformat": 4,
 "nbformat_minor": 5
}
