{
 "cells": [
  {
   "cell_type": "markdown",
   "id": "073b1c71",
   "metadata": {},
   "source": [
    "### Library"
   ]
  },
  {
   "cell_type": "code",
   "execution_count": 1,
   "id": "afce244c",
   "metadata": {},
   "outputs": [],
   "source": [
    "import os\n",
    "import time\n",
    "import random\n",
    "import timm\n",
    "import torch\n",
    "import cv2\n",
    "import albumentations as A\n",
    "import pandas as pd\n",
    "import numpy as np\n",
    "import torch.nn as nn\n",
    "import matplotlib.pyplot as plt\n",
    "import seaborn as sns\n",
    "import warnings\n",
    "import shutil\n",
    "import wandb\n",
    "warnings.filterwarnings('ignore')\n",
    "\n",
    "from albumentations import Compose, RandomBrightnessContrast, Blur, ShiftScaleRotate, GaussNoise, RandomGamma, CLAHE\n",
    "from albumentations.pytorch import ToTensorV2\n",
    "from torch.optim import Adam\n",
    "from torchvision import transforms\n",
    "from torch.utils.data import Dataset, DataLoader\n",
    "from PIL import Image\n",
    "from tqdm import tqdm\n",
    "from sklearn.metrics import accuracy_score, f1_score\n",
    "from sklearn.model_selection import StratifiedKFold"
   ]
  },
  {
   "cell_type": "code",
   "execution_count": 2,
   "id": "25c69525",
   "metadata": {},
   "outputs": [],
   "source": [
    "def random_seed(SEED=42):\n",
    "    # SEED = 42 # default\n",
    "    os.environ['PYTHONHASHSEED'] = str(SEED)\n",
    "    random.seed(SEED)\n",
    "    np.random.seed(SEED)\n",
    "    torch.manual_seed(SEED)\n",
    "    torch.cuda.manual_seed(SEED)\n",
    "    torch.cuda.manual_seed_all(SEED)\n",
    "    torch.backends.cudnn.benchmark = True\n",
    "\n",
    "random_seed()"
   ]
  },
  {
   "cell_type": "markdown",
   "id": "cfb06b4c",
   "metadata": {},
   "source": [
    "### Load Data"
   ]
  },
  {
   "cell_type": "code",
   "execution_count": 3,
   "id": "32449edb",
   "metadata": {},
   "outputs": [
    {
     "data": {
      "text/html": [
       "<div>\n",
       "<style scoped>\n",
       "    .dataframe tbody tr th:only-of-type {\n",
       "        vertical-align: middle;\n",
       "    }\n",
       "\n",
       "    .dataframe tbody tr th {\n",
       "        vertical-align: top;\n",
       "    }\n",
       "\n",
       "    .dataframe thead th {\n",
       "        text-align: right;\n",
       "    }\n",
       "</style>\n",
       "<table border=\"1\" class=\"dataframe\">\n",
       "  <thead>\n",
       "    <tr style=\"text-align: right;\">\n",
       "      <th></th>\n",
       "      <th>ID</th>\n",
       "      <th>target</th>\n",
       "    </tr>\n",
       "  </thead>\n",
       "  <tbody>\n",
       "    <tr>\n",
       "      <th>0</th>\n",
       "      <td>002f99746285dfdd.jpg</td>\n",
       "      <td>16</td>\n",
       "    </tr>\n",
       "    <tr>\n",
       "      <th>1</th>\n",
       "      <td>008ccd231e1fea5d.jpg</td>\n",
       "      <td>10</td>\n",
       "    </tr>\n",
       "    <tr>\n",
       "      <th>2</th>\n",
       "      <td>008f5911bfda7695.jpg</td>\n",
       "      <td>10</td>\n",
       "    </tr>\n",
       "    <tr>\n",
       "      <th>3</th>\n",
       "      <td>009235e4c9c07af5.jpg</td>\n",
       "      <td>4</td>\n",
       "    </tr>\n",
       "    <tr>\n",
       "      <th>4</th>\n",
       "      <td>00b2f44967580c74.jpg</td>\n",
       "      <td>16</td>\n",
       "    </tr>\n",
       "    <tr>\n",
       "      <th>...</th>\n",
       "      <td>...</td>\n",
       "      <td>...</td>\n",
       "    </tr>\n",
       "    <tr>\n",
       "      <th>1565</th>\n",
       "      <td>fed9e9ec4a77bc06.jpg</td>\n",
       "      <td>4</td>\n",
       "    </tr>\n",
       "    <tr>\n",
       "      <th>1566</th>\n",
       "      <td>feeade617aa68c45.jpg</td>\n",
       "      <td>7</td>\n",
       "    </tr>\n",
       "    <tr>\n",
       "      <th>1567</th>\n",
       "      <td>ff51dd281a8423f1.jpg</td>\n",
       "      <td>11</td>\n",
       "    </tr>\n",
       "    <tr>\n",
       "      <th>1568</th>\n",
       "      <td>ff8a6a251ce51c95.jpg</td>\n",
       "      <td>5</td>\n",
       "    </tr>\n",
       "    <tr>\n",
       "      <th>1569</th>\n",
       "      <td>ffc22136f958deb1.jpg</td>\n",
       "      <td>9</td>\n",
       "    </tr>\n",
       "  </tbody>\n",
       "</table>\n",
       "<p>1570 rows × 2 columns</p>\n",
       "</div>"
      ],
      "text/plain": [
       "                        ID  target\n",
       "0     002f99746285dfdd.jpg      16\n",
       "1     008ccd231e1fea5d.jpg      10\n",
       "2     008f5911bfda7695.jpg      10\n",
       "3     009235e4c9c07af5.jpg       4\n",
       "4     00b2f44967580c74.jpg      16\n",
       "...                    ...     ...\n",
       "1565  fed9e9ec4a77bc06.jpg       4\n",
       "1566  feeade617aa68c45.jpg       7\n",
       "1567  ff51dd281a8423f1.jpg      11\n",
       "1568  ff8a6a251ce51c95.jpg       5\n",
       "1569  ffc22136f958deb1.jpg       9\n",
       "\n",
       "[1570 rows x 2 columns]"
      ]
     },
     "execution_count": 3,
     "metadata": {},
     "output_type": "execute_result"
    }
   ],
   "source": [
    "train_label_path = \"../../data/train.csv\"\n",
    "meta_data_path = \"../../data/meta.csv\"\n",
    "\n",
    "train_df = pd.read_csv(train_label_path)\n",
    "meta_data = pd.read_csv(meta_data_path)\n",
    "train_df"
   ]
  },
  {
   "cell_type": "code",
   "execution_count": 4,
   "id": "9aac144a",
   "metadata": {},
   "outputs": [],
   "source": [
    "# Count_plot\n",
    "def count_plot(df, col, figsize=(10, 6), palette=\"Blues_r\", rotation=None, title=None, xlabel=None, ylabel='Count'):\n",
    "    plt.figure(figsize=figsize)\n",
    "    sns.countplot(data=df, x=col, palette=palette)\n",
    "    plt.title(title if title else f'{col} Count')\n",
    "    plt.xticks(rotation=rotation)\n",
    "    plt.xlabel(xlabel if xlabel is not None else col)\n",
    "    plt.ylabel(ylabel)\n",
    "    plt.show()\n",
    "\n",
    "# hist plot\n",
    "def hist_plot(df1, col, df2=None, figsize=(8, 6), bins=30, alpha=0.6, \n",
    "              color1='skyblue', color2='salmon', label1=None, label2=None, \n",
    "              title=None, density=False):\n",
    "    plt.figure(figsize=figsize)\n",
    "    \n",
    "    stat_mode = 'density' if density else 'count'\n",
    "\n",
    "    sns.histplot(df1[col], kde=True, bins=bins, alpha=alpha, color=color1, \n",
    "                 stat=stat_mode, label=label1 if label1 else ('Group 1' if df2 is not None else None))\n",
    "    \n",
    "    if df2 is not None:\n",
    "        sns.histplot(df2[col], kde=True, bins=bins, alpha=alpha, color=color2, \n",
    "                     stat=stat_mode, label=label2 if label2 else 'Group 2')\n",
    "        plt.legend()\n",
    "\n",
    "    plt.title(title if title else f'{col} Distribution ({\"Density\" if density else \"Count\"} Histogram + KDE)')\n",
    "    plt.xlabel(col)\n",
    "    plt.ylabel(\"Density\" if density else \"Count\")\n",
    "    plt.show()\n",
    "\n",
    "# bar plot    \n",
    "def bar_plot(df, x_col, y_col, figsize=(10, 6), hue=None, palette=\"Blues_r\", rotation=None, title=None, xlabel=None, ylabel=None):\n",
    "     plt.figure(figsize=figsize)\n",
    "     \n",
    "     if hue: # hue 지정\n",
    "        sns.barplot(x=x_col, y=y_col, hue=hue, data=df, palette=palette)\n",
    "     else: # hue 지정 X\n",
    "        sns.barplot(x=x_col, y=y_col, data=df, palette=palette)\n",
    "\n",
    "     plt.xticks(rotation=rotation)\n",
    "     plt.title(title)\n",
    "     plt.xlabel(xlabel)\n",
    "     plt.ylabel(ylabel)\n",
    "     plt.show()\n",
    "\n",
    "# heatmap\n",
    "def heat_map(df, target_col=None, figsize=(8, 10), threshold=0, cmap='Reds', method='pearson', annot_kws=None, return_data=False):\n",
    "        df = df.select_dtypes(include=['number'])\n",
    "        \n",
    "        if annot_kws is None:\n",
    "            annot_kws = {\"size\": 10}\n",
    "\n",
    "        if target_col is not None:\n",
    "            corr_series = df.corr(method=method)[target_col].drop(target_col)\n",
    "            corr_filtered = corr_series[abs(corr_series) >= threshold].sort_values(ascending=False)\n",
    "\n",
    "            plt.figure(figsize=figsize)\n",
    "            sns.heatmap(corr_filtered.to_frame(name='Correlation'), annot=True, fmt='.2f', cmap=cmap, annot_kws=annot_kws, cbar=True)\n",
    "            plt.title(f'{method.capitalize()} Correlation with {target_col}', fontsize=14)\n",
    "            plt.show()\n",
    "\n",
    "            corr_df = corr_filtered.reset_index()\n",
    "            corr_df.columns = ['Variable', 'Correlation']\n",
    "\n",
    "            if return_data:\n",
    "                return corr_df\n",
    "\n",
    "        else:\n",
    "            corr_matrix = df.corr(method=method) # 전체 변수 간 상관계수\n",
    "\n",
    "            plt.figure(figsize=figsize)\n",
    "            sns.heatmap(corr_matrix, annot=True, fmt='.2f', cmap=cmap, annot_kws=annot_kws, cbar=True)\n",
    "            plt.title(f'{method.capitalize()} Correlation Matrix (All Variables)', fontsize=14)\n",
    "            plt.show()\n",
    "\n",
    "            if return_data:\n",
    "                return corr_matrix"
   ]
  },
  {
   "cell_type": "code",
   "execution_count": 5,
   "id": "7b9378cc",
   "metadata": {},
   "outputs": [
    {
     "data": {
      "image/png": "[encoded data removed]",
      "text/plain": [
       "<Figure size 1000x600 with 1 Axes>"
      ]
     },
     "metadata": {},
     "output_type": "display_data"
    }
   ],
   "source": [
    "# Class check\n",
    "count_plot(df=train_df, col='target')"
   ]
  },
  {
   "cell_type": "markdown",
   "id": "69213ccb",
   "metadata": {},
   "source": [
    "### Preprocessing"
   ]
  },
  {
   "cell_type": "code",
   "execution_count": 6,
   "id": "e4c40541",
   "metadata": {},
   "outputs": [],
   "source": [
    "def augment_image(train_df, train_path, save_dir, augmentation, classes):\n",
    "    os.makedirs(save_dir, exist_ok=True)\n",
    "    augmented_records = []\n",
    "\n",
    "    for target_class, target_count in classes.items():\n",
    "        current_count = len(train_df[train_df[\"target\"] == target_class])\n",
    "        if current_count >= target_count:\n",
    "            continue\n",
    "\n",
    "        n_to_augment = target_count - current_count\n",
    "        samples = train_df[train_df[\"target\"] == target_class]\n",
    "\n",
    "        print(f\"[INFO] Class {target_class}: 증강 {n_to_augment}개 생성 중...\")\n",
    "        for i in tqdm(range(n_to_augment)):\n",
    "            sample_row = samples.sample(1).iloc[0]\n",
    "            img_name = sample_row['ID']\n",
    "            img_path = os.path.join(train_path, img_name)\n",
    "            true_target = sample_row['target']\n",
    "\n",
    "            img = cv2.imread(img_path)\n",
    "            if img is None:\n",
    "                print(f\"[경고] 이미지 로드 실패: {img_path}\")\n",
    "                continue\n",
    "\n",
    "            img = cv2.cvtColor(img, cv2.COLOR_BGR2RGB)\n",
    "            augmented = augmentation(image=img)['image']\n",
    "\n",
    "            aug_name = f\"aug_class{true_target}_{i}_{img_name}\"\n",
    "            aug_path = os.path.join(save_dir, aug_name)\n",
    "            cv2.imwrite(aug_path, cv2.cvtColor(augmented, cv2.COLOR_RGB2BGR))\n",
    "\n",
    "            # 실제 저장 여부를 확인\n",
    "            if not os.path.exists(aug_path):\n",
    "                print(f\"[에러] 증강 이미지 저장 실패: {aug_path}\")\n",
    "                continue\n",
    "\n",
    "            # 디버그용: 증강 대상 및 경로 출력\n",
    "            if i < 3 or i % 50 == 0:\n",
    "                pass\n",
    "                # print(f\"[디버그] Target={true_target}, Saved: {aug_path}\")\n",
    "\n",
    "            augmented_records.append({\"ID\": aug_name, \"target\": true_target})\n",
    "\n",
    "    aug_df = pd.DataFrame(augmented_records)\n",
    "    aug_df.to_csv(\"../../data/augmented.csv\", index=False)\n",
    "    print(\"[완료] 증강 데이터 생성 및 레이블 저장 완료\")"
   ]
  },
  {
   "cell_type": "code",
   "execution_count": 7,
   "id": "bafd1bbe",
   "metadata": {},
   "outputs": [
    {
     "name": "stdout",
     "output_type": "stream",
     "text": [
      "[INFO] Class 1: 증강 54개 생성 중...\n"
     ]
    },
    {
     "name": "stderr",
     "output_type": "stream",
     "text": [
      "100%|██████████| 54/54 [00:00<00:00, 204.27it/s]\n"
     ]
    },
    {
     "name": "stdout",
     "output_type": "stream",
     "text": [
      "[INFO] Class 13: 증강 26개 생성 중...\n"
     ]
    },
    {
     "name": "stderr",
     "output_type": "stream",
     "text": [
      "100%|██████████| 26/26 [00:00<00:00, 296.16it/s]\n"
     ]
    },
    {
     "name": "stdout",
     "output_type": "stream",
     "text": [
      "[INFO] Class 14: 증강 50개 생성 중...\n"
     ]
    },
    {
     "name": "stderr",
     "output_type": "stream",
     "text": [
      "100%|██████████| 50/50 [00:00<00:00, 302.53it/s]"
     ]
    },
    {
     "name": "stdout",
     "output_type": "stream",
     "text": [
      "[완료] 증강 데이터 생성 및 레이블 저장 완료\n"
     ]
    },
    {
     "name": "stderr",
     "output_type": "stream",
     "text": [
      "\n"
     ]
    }
   ],
   "source": [
    "augmentation = A.Compose([\n",
    "    A.RandomBrightnessContrast(limit=0.1, p=0.3),  # 밝기 & 대비: limit 줄이고 확률 30%\n",
    "    A.Blur(blur_limit=2, p=0.2),                  # 블러: 흐림 강도 크게 낮추고 확률 10%\n",
    "    A.ShiftScaleRotate(                            # 이동/스케일/회전: 범위 축소 & 확률 20%\n",
    "        shift_limit=0.02, scale_limit=0.05, rotate_limit=5, p=0.2\n",
    "    ),\n",
    "    A.OneOf([                                      # 테스트셋처럼 강한 회전/반전 케이스 생성\n",
    "        A.Rotate(limit=[-90, 90], p=0.2),          # ±90도까지 강한 회전 허용\n",
    "        A.HorizontalFlip(p=0.2),                   # 좌우 반전\n",
    "        A.VerticalFlip(p=0.1),                     # 상하 반전\n",
    "    ], p=0.3),                                     # 위 셋 중 하나를 30% 확률로 적용\n",
    "\n",
    "    # A.GaussNoise(var_limit=(0.001, 0.01), mean=0, p=0.05),     # 노이즈: 강도 크게 낮추고 확률 10%\n",
    "    A.RandomGamma(gamma_limit=(95, 105), p=0.2),   # 감마: 조정 범위를 매우 좁게\n",
    "    A.CLAHE(clip_limit=1.5, p=0.2),                # CLAHE: 대비 과도 상승 방지\n",
    "])\n",
    "save_dir=\"../../data/augmented_images\"\n",
    "classes={1: 100, 13: 100, 14: 100}\n",
    "train_path = '../../data/train/'\n",
    "test_path = '../../data/test/'\n",
    "\n",
    "augment_image(train_df=train_df, train_path=train_path, save_dir=save_dir, augmentation=augmentation, classes=classes)"
   ]
  },
  {
   "cell_type": "code",
   "execution_count": 8,
   "id": "822b0429",
   "metadata": {},
   "outputs": [
    {
     "data": {
      "text/html": [
       "<div>\n",
       "<style scoped>\n",
       "    .dataframe tbody tr th:only-of-type {\n",
       "        vertical-align: middle;\n",
       "    }\n",
       "\n",
       "    .dataframe tbody tr th {\n",
       "        vertical-align: top;\n",
       "    }\n",
       "\n",
       "    .dataframe thead th {\n",
       "        text-align: right;\n",
       "    }\n",
       "</style>\n",
       "<table border=\"1\" class=\"dataframe\">\n",
       "  <thead>\n",
       "    <tr style=\"text-align: right;\">\n",
       "      <th></th>\n",
       "      <th>ID</th>\n",
       "      <th>target</th>\n",
       "      <th>full_path</th>\n",
       "    </tr>\n",
       "  </thead>\n",
       "  <tbody>\n",
       "    <tr>\n",
       "      <th>0</th>\n",
       "      <td>002f99746285dfdd.jpg</td>\n",
       "      <td>16</td>\n",
       "      <td>../../data/train/002f99746285dfdd.jpg</td>\n",
       "    </tr>\n",
       "    <tr>\n",
       "      <th>1</th>\n",
       "      <td>008ccd231e1fea5d.jpg</td>\n",
       "      <td>10</td>\n",
       "      <td>../../data/train/008ccd231e1fea5d.jpg</td>\n",
       "    </tr>\n",
       "    <tr>\n",
       "      <th>2</th>\n",
       "      <td>008f5911bfda7695.jpg</td>\n",
       "      <td>10</td>\n",
       "      <td>../../data/train/008f5911bfda7695.jpg</td>\n",
       "    </tr>\n",
       "    <tr>\n",
       "      <th>3</th>\n",
       "      <td>009235e4c9c07af5.jpg</td>\n",
       "      <td>4</td>\n",
       "      <td>../../data/train/009235e4c9c07af5.jpg</td>\n",
       "    </tr>\n",
       "    <tr>\n",
       "      <th>4</th>\n",
       "      <td>00b2f44967580c74.jpg</td>\n",
       "      <td>16</td>\n",
       "      <td>../../data/train/00b2f44967580c74.jpg</td>\n",
       "    </tr>\n",
       "    <tr>\n",
       "      <th>...</th>\n",
       "      <td>...</td>\n",
       "      <td>...</td>\n",
       "      <td>...</td>\n",
       "    </tr>\n",
       "    <tr>\n",
       "      <th>1695</th>\n",
       "      <td>aug_class14_45_76ff32bef566bd38.jpg</td>\n",
       "      <td>14</td>\n",
       "      <td>../../data/augmented_images/aug_class14_45_76f...</td>\n",
       "    </tr>\n",
       "    <tr>\n",
       "      <th>1696</th>\n",
       "      <td>aug_class14_46_c323c86de8033ad1.jpg</td>\n",
       "      <td>14</td>\n",
       "      <td>../../data/augmented_images/aug_class14_46_c32...</td>\n",
       "    </tr>\n",
       "    <tr>\n",
       "      <th>1697</th>\n",
       "      <td>aug_class14_47_706f88bd829080ed.jpg</td>\n",
       "      <td>14</td>\n",
       "      <td>../../data/augmented_images/aug_class14_47_706...</td>\n",
       "    </tr>\n",
       "    <tr>\n",
       "      <th>1698</th>\n",
       "      <td>aug_class14_48_80f998b8dd043ab3.jpg</td>\n",
       "      <td>14</td>\n",
       "      <td>../../data/augmented_images/aug_class14_48_80f...</td>\n",
       "    </tr>\n",
       "    <tr>\n",
       "      <th>1699</th>\n",
       "      <td>aug_class14_49_7c6fb8ca1b30ee46.jpg</td>\n",
       "      <td>14</td>\n",
       "      <td>../../data/augmented_images/aug_class14_49_7c6...</td>\n",
       "    </tr>\n",
       "  </tbody>\n",
       "</table>\n",
       "<p>1700 rows × 3 columns</p>\n",
       "</div>"
      ],
      "text/plain": [
       "                                       ID  target  \\\n",
       "0                    002f99746285dfdd.jpg      16   \n",
       "1                    008ccd231e1fea5d.jpg      10   \n",
       "2                    008f5911bfda7695.jpg      10   \n",
       "3                    009235e4c9c07af5.jpg       4   \n",
       "4                    00b2f44967580c74.jpg      16   \n",
       "...                                   ...     ...   \n",
       "1695  aug_class14_45_76ff32bef566bd38.jpg      14   \n",
       "1696  aug_class14_46_c323c86de8033ad1.jpg      14   \n",
       "1697  aug_class14_47_706f88bd829080ed.jpg      14   \n",
       "1698  aug_class14_48_80f998b8dd043ab3.jpg      14   \n",
       "1699  aug_class14_49_7c6fb8ca1b30ee46.jpg      14   \n",
       "\n",
       "                                              full_path  \n",
       "0                 ../../data/train/002f99746285dfdd.jpg  \n",
       "1                 ../../data/train/008ccd231e1fea5d.jpg  \n",
       "2                 ../../data/train/008f5911bfda7695.jpg  \n",
       "3                 ../../data/train/009235e4c9c07af5.jpg  \n",
       "4                 ../../data/train/00b2f44967580c74.jpg  \n",
       "...                                                 ...  \n",
       "1695  ../../data/augmented_images/aug_class14_45_76f...  \n",
       "1696  ../../data/augmented_images/aug_class14_46_c32...  \n",
       "1697  ../../data/augmented_images/aug_class14_47_706...  \n",
       "1698  ../../data/augmented_images/aug_class14_48_80f...  \n",
       "1699  ../../data/augmented_images/aug_class14_49_7c6...  \n",
       "\n",
       "[1700 rows x 3 columns]"
      ]
     },
     "execution_count": 8,
     "metadata": {},
     "output_type": "execute_result"
    }
   ],
   "source": [
    "aug_df = pd.read_csv(\"../../data/augmented.csv\")\n",
    "train_dfs = pd.concat([train_df, aug_df], ignore_index=True)\n",
    "train_dfs[\"full_path\"] = train_dfs[\"ID\"].apply(\n",
    "    lambda x: os.path.join(\n",
    "        \"../../data/augmented_images\" if x.startswith(\"aug_\") else \"../../data/train\", x\n",
    "    )\n",
    ")\n",
    "train_dfs"
   ]
  },
  {
   "cell_type": "code",
   "execution_count": 9,
   "id": "10d9f511",
   "metadata": {},
   "outputs": [
    {
     "data": {
      "image/png": "[encoded data removed]",
      "text/plain": [
       "<Figure size 1000x600 with 1 Axes>"
      ]
     },
     "metadata": {},
     "output_type": "display_data"
    }
   ],
   "source": [
    "# Class check\n",
    "count_plot(df=train_dfs, col='target')"
   ]
  },
  {
   "cell_type": "code",
   "execution_count": 10,
   "id": "9f5228d7",
   "metadata": {},
   "outputs": [],
   "source": [
    "class ImageDataset(Dataset):\n",
    "    def __init__(self, df, transform=None):\n",
    "        self.df = df.values\n",
    "        self.transform = transform\n",
    "\n",
    "    def __len__(self):\n",
    "        return len(self.df)\n",
    "\n",
    "    def __getitem__(self, idx):\n",
    "        name, target, full_path = self.df[idx]  # 3개 컬럼 순서 주의\n",
    "        img = np.array(Image.open(full_path))\n",
    "        if self.transform:\n",
    "            img = self.transform(image=img)['image']\n",
    "        return img, target"
   ]
  },
  {
   "cell_type": "code",
   "execution_count": 11,
   "id": "48a1befb",
   "metadata": {},
   "outputs": [],
   "source": [
    "device = torch.device('cuda' if torch.cuda.is_available() else 'cpu')\n",
    "model_name = \"convnextv2_large.fcmae_ft_in22k_in1k\"  \n",
    "img_size = 256 \n",
    "LR = 5e-5\n",
    "EPOCHS = 60\n",
    "BATCH_SIZE = 4\n",
    "num_workers = 2 # GPU 사용\n",
    "\n",
    "train_transform = A.Compose([\n",
    "    A.Resize(height=img_size, width=img_size),   # 1) 이미지 크기 통일\n",
    "    A.Normalize(                                 # 2) 픽셀 정규화\n",
    "        mean=(0.485, 0.456, 0.406), std=(0.229, 0.224, 0.225)),\n",
    "    ToTensorV2(),                                # 3) 텐서 변환\n",
    "])\n",
    "\n",
    "test_transform = A.Compose([\n",
    "    A.Resize(height=img_size, width=img_size),   # 1) 이미지 크기 통일\n",
    "    A.Normalize(                                 # 2) 픽셀 정규화\n",
    "        mean=(0.485, 0.456, 0.406), std=(0.229, 0.224, 0.225)),\n",
    "    ToTensorV2(),                                # 3) 텐서 변환\n",
    "])"
   ]
  },
  {
   "cell_type": "code",
   "execution_count": 12,
   "id": "52b7dc8c",
   "metadata": {},
   "outputs": [
    {
     "name": "stdout",
     "output_type": "stream",
     "text": [
      "\n",
      "=== Fold 1 ===\n",
      "Fold 1: Train samples=1360, Val samples=340\n"
     ]
    },
    {
     "name": "stderr",
     "output_type": "stream",
     "text": [
      "\u001b[34m\u001b[1mwandb\u001b[0m: Currently logged in as: \u001b[33mmoonstalker9010\u001b[0m (\u001b[33mmoonstalker9010-none\u001b[0m) to \u001b[32mhttps://api.wandb.ai\u001b[0m. Use \u001b[1m`wandb login --relogin`\u001b[0m to force relogin\n"
     ]
    },
    {
     "data": {
      "text/html": [
       "Tracking run with wandb version 0.21.0"
      ],
      "text/plain": [
       "<IPython.core.display.HTML object>"
      ]
     },
     "metadata": {},
     "output_type": "display_data"
    },
    {
     "data": {
      "text/html": [
       "Run data is saved locally in <code>../../wandb/run-20250702_141456-223tazis</code>"
      ],
      "text/plain": [
       "<IPython.core.display.HTML object>"
      ]
     },
     "metadata": {},
     "output_type": "display_data"
    },
    {
     "data": {
      "text/html": [
       "Syncing run <strong><a href='https://wandb.ai/moonstalker9010-none/Document%20Classification/runs/223tazis' target=\"_blank\">fold_1</a></strong> to <a href='https://wandb.ai/moonstalker9010-none/Document%20Classification' target=\"_blank\">Weights & Biases</a> (<a href='https://wandb.me/developer-guide' target=\"_blank\">docs</a>)<br>"
      ],
      "text/plain": [
       "<IPython.core.display.HTML object>"
      ]
     },
     "metadata": {},
     "output_type": "display_data"
    },
    {
     "data": {
      "text/html": [
       " View project at <a href='https://wandb.ai/moonstalker9010-none/Document%20Classification' target=\"_blank\">https://wandb.ai/moonstalker9010-none/Document%20Classification</a>"
      ],
      "text/plain": [
       "<IPython.core.display.HTML object>"
      ]
     },
     "metadata": {},
     "output_type": "display_data"
    },
    {
     "data": {
      "text/html": [
       " View run at <a href='https://wandb.ai/moonstalker9010-none/Document%20Classification/runs/223tazis' target=\"_blank\">https://wandb.ai/moonstalker9010-none/Document%20Classification/runs/223tazis</a>"
      ],
      "text/plain": [
       "<IPython.core.display.HTML object>"
      ]
     },
     "metadata": {},
     "output_type": "display_data"
    },
    {
     "name": "stderr",
     "output_type": "stream",
     "text": [
      "[Fold 1][Epoch 1/60] Training: 100%|██████████| 340/340 [00:54<00:00,  6.22it/s, loss=0.0125] \n",
      "[Fold 1][Epoch 1/60] Validation: 100%|██████████| 85/85 [00:03<00:00, 27.43it/s]\n"
     ]
    },
    {
     "name": "stdout",
     "output_type": "stream",
     "text": [
      "[F1] Ep1 - Train: 0.8823 | VaL: 0.3146, Acc: 0.8853, F1: 0.8816\n"
     ]
    },
    {
     "name": "stderr",
     "output_type": "stream",
     "text": [
      "[Fold 1][Epoch 2/60] Training: 100%|██████████| 340/340 [00:51<00:00,  6.61it/s, loss=0.267]  \n",
      "[Fold 1][Epoch 2/60] Validation: 100%|██████████| 85/85 [00:03<00:00, 27.31it/s]\n"
     ]
    },
    {
     "name": "stdout",
     "output_type": "stream",
     "text": [
      "[F1] Ep2 - Train: 0.2241 | VaL: 0.2554, Acc: 0.8971, F1: 0.8848\n"
     ]
    },
    {
     "name": "stderr",
     "output_type": "stream",
     "text": [
      "[Fold 1][Epoch 3/60] Training: 100%|██████████| 340/340 [00:51<00:00,  6.57it/s, loss=0.74]    \n",
      "[Fold 1][Epoch 3/60] Validation: 100%|██████████| 85/85 [00:03<00:00, 27.61it/s]\n"
     ]
    },
    {
     "name": "stdout",
     "output_type": "stream",
     "text": [
      "[F1] Ep3 - Train: 0.1482 | VaL: 0.3541, Acc: 0.8824, F1: 0.8753\n"
     ]
    },
    {
     "name": "stderr",
     "output_type": "stream",
     "text": [
      "[Fold 1][Epoch 4/60] Training: 100%|██████████| 340/340 [00:51<00:00,  6.59it/s, loss=0.0114]  \n",
      "[Fold 1][Epoch 4/60] Validation: 100%|██████████| 85/85 [00:03<00:00, 27.25it/s]\n"
     ]
    },
    {
     "name": "stdout",
     "output_type": "stream",
     "text": [
      "[F1] Ep4 - Train: 0.1114 | VaL: 0.2595, Acc: 0.9176, F1: 0.9168\n"
     ]
    },
    {
     "name": "stderr",
     "output_type": "stream",
     "text": [
      "[Fold 1][Epoch 5/60] Training: 100%|██████████| 340/340 [00:51<00:00,  6.59it/s, loss=0.086]   \n",
      "[Fold 1][Epoch 5/60] Validation: 100%|██████████| 85/85 [00:03<00:00, 27.10it/s]\n"
     ]
    },
    {
     "name": "stdout",
     "output_type": "stream",
     "text": [
      "[F1] Ep5 - Train: 0.0425 | VaL: 0.2564, Acc: 0.9206, F1: 0.9191\n"
     ]
    },
    {
     "name": "stderr",
     "output_type": "stream",
     "text": [
      "[Fold 1][Epoch 6/60] Training: 100%|██████████| 340/340 [00:51<00:00,  6.60it/s, loss=0.000273]\n",
      "[Fold 1][Epoch 6/60] Validation: 100%|██████████| 85/85 [00:03<00:00, 26.96it/s]\n"
     ]
    },
    {
     "name": "stdout",
     "output_type": "stream",
     "text": [
      "[F1] Ep6 - Train: 0.0509 | VaL: 0.3175, Acc: 0.9176, F1: 0.9130\n"
     ]
    },
    {
     "name": "stderr",
     "output_type": "stream",
     "text": [
      "[Fold 1][Epoch 7/60] Training: 100%|██████████| 340/340 [00:51<00:00,  6.59it/s, loss=0.000819]\n",
      "[Fold 1][Epoch 7/60] Validation: 100%|██████████| 85/85 [00:03<00:00, 27.36it/s]\n"
     ]
    },
    {
     "name": "stdout",
     "output_type": "stream",
     "text": [
      "[F1] Ep7 - Train: 0.0605 | VaL: 0.2390, Acc: 0.9324, F1: 0.9316\n"
     ]
    },
    {
     "name": "stderr",
     "output_type": "stream",
     "text": [
      "[Fold 1][Epoch 8/60] Training: 100%|██████████| 340/340 [00:51<00:00,  6.59it/s, loss=0.0102]  \n",
      "[Fold 1][Epoch 8/60] Validation: 100%|██████████| 85/85 [00:03<00:00, 27.61it/s]\n"
     ]
    },
    {
     "name": "stdout",
     "output_type": "stream",
     "text": [
      "[F1] Ep8 - Train: 0.0402 | VaL: 0.3875, Acc: 0.9176, F1: 0.9157\n"
     ]
    },
    {
     "name": "stderr",
     "output_type": "stream",
     "text": [
      "[Fold 1][Epoch 9/60] Training: 100%|██████████| 340/340 [00:51<00:00,  6.58it/s, loss=0.000481]\n",
      "[Fold 1][Epoch 9/60] Validation: 100%|██████████| 85/85 [00:03<00:00, 27.08it/s]\n"
     ]
    },
    {
     "name": "stdout",
     "output_type": "stream",
     "text": [
      "[F1] Ep9 - Train: 0.0362 | VaL: 0.2101, Acc: 0.9235, F1: 0.9230\n"
     ]
    },
    {
     "name": "stderr",
     "output_type": "stream",
     "text": [
      "[Fold 1][Epoch 10/60] Training: 100%|██████████| 340/340 [00:51<00:00,  6.58it/s, loss=0.000123]\n",
      "[Fold 1][Epoch 10/60] Validation: 100%|██████████| 85/85 [00:03<00:00, 27.46it/s]\n"
     ]
    },
    {
     "name": "stdout",
     "output_type": "stream",
     "text": [
      "[F1] Ep10 - Train: 0.0168 | VaL: 0.3131, Acc: 0.9118, F1: 0.9098\n"
     ]
    },
    {
     "name": "stderr",
     "output_type": "stream",
     "text": [
      "[Fold 1][Epoch 11/60] Training: 100%|██████████| 340/340 [00:51<00:00,  6.58it/s, loss=0.000684]\n",
      "[Fold 1][Epoch 11/60] Validation: 100%|██████████| 85/85 [00:03<00:00, 27.44it/s]\n"
     ]
    },
    {
     "name": "stdout",
     "output_type": "stream",
     "text": [
      "[F1] Ep11 - Train: 0.0018 | VaL: 0.3051, Acc: 0.9324, F1: 0.9346\n"
     ]
    },
    {
     "name": "stderr",
     "output_type": "stream",
     "text": [
      "[Fold 1][Epoch 12/60] Training: 100%|██████████| 340/340 [00:51<00:00,  6.60it/s, loss=0.0122]  \n",
      "[Fold 1][Epoch 12/60] Validation: 100%|██████████| 85/85 [00:03<00:00, 27.02it/s]\n"
     ]
    },
    {
     "name": "stdout",
     "output_type": "stream",
     "text": [
      "[F1] Ep12 - Train: 0.0015 | VaL: 0.4902, Acc: 0.9206, F1: 0.9152\n"
     ]
    },
    {
     "name": "stderr",
     "output_type": "stream",
     "text": [
      "[Fold 1][Epoch 13/60] Training: 100%|██████████| 340/340 [00:51<00:00,  6.60it/s, loss=0.0177]  \n",
      "[Fold 1][Epoch 13/60] Validation: 100%|██████████| 85/85 [00:03<00:00, 27.65it/s]\n"
     ]
    },
    {
     "name": "stdout",
     "output_type": "stream",
     "text": [
      "[F1] Ep13 - Train: 0.1533 | VaL: 0.3871, Acc: 0.9206, F1: 0.9184\n"
     ]
    },
    {
     "name": "stderr",
     "output_type": "stream",
     "text": [
      "[Fold 1][Epoch 14/60] Training: 100%|██████████| 340/340 [00:51<00:00,  6.59it/s, loss=4.37e-5] \n",
      "[Fold 1][Epoch 14/60] Validation: 100%|██████████| 85/85 [00:03<00:00, 27.34it/s]\n"
     ]
    },
    {
     "name": "stdout",
     "output_type": "stream",
     "text": [
      "[F1] Ep14 - Train: 0.0445 | VaL: 0.2410, Acc: 0.9441, F1: 0.9435\n"
     ]
    },
    {
     "name": "stderr",
     "output_type": "stream",
     "text": [
      "[Fold 1][Epoch 15/60] Training: 100%|██████████| 340/340 [00:51<00:00,  6.58it/s, loss=0.000986]\n",
      "[Fold 1][Epoch 15/60] Validation: 100%|██████████| 85/85 [00:03<00:00, 27.37it/s]\n"
     ]
    },
    {
     "name": "stdout",
     "output_type": "stream",
     "text": [
      "[F1] Ep15 - Train: 0.0323 | VaL: 0.4074, Acc: 0.9235, F1: 0.9221\n"
     ]
    },
    {
     "name": "stderr",
     "output_type": "stream",
     "text": [
      "[Fold 1][Epoch 16/60] Training: 100%|██████████| 340/340 [00:51<00:00,  6.59it/s, loss=0.000191]\n",
      "[Fold 1][Epoch 16/60] Validation: 100%|██████████| 85/85 [00:03<00:00, 27.07it/s]\n"
     ]
    },
    {
     "name": "stdout",
     "output_type": "stream",
     "text": [
      "[F1] Ep16 - Train: 0.0061 | VaL: 0.3724, Acc: 0.9265, F1: 0.9264\n"
     ]
    },
    {
     "name": "stderr",
     "output_type": "stream",
     "text": [
      "[Fold 1][Epoch 17/60] Training: 100%|██████████| 340/340 [00:51<00:00,  6.60it/s, loss=0.000559]\n",
      "[Fold 1][Epoch 17/60] Validation: 100%|██████████| 85/85 [00:03<00:00, 26.99it/s]\n"
     ]
    },
    {
     "name": "stdout",
     "output_type": "stream",
     "text": [
      "[F1] Ep17 - Train: 0.0009 | VaL: 0.3832, Acc: 0.9382, F1: 0.9380\n"
     ]
    },
    {
     "name": "stderr",
     "output_type": "stream",
     "text": [
      "[Fold 1][Epoch 18/60] Training: 100%|██████████| 340/340 [00:51<00:00,  6.59it/s, loss=2.05e-5] \n",
      "[Fold 1][Epoch 18/60] Validation: 100%|██████████| 85/85 [00:03<00:00, 27.05it/s]\n"
     ]
    },
    {
     "name": "stdout",
     "output_type": "stream",
     "text": [
      "[F1] Ep18 - Train: 0.0003 | VaL: 0.3807, Acc: 0.9353, F1: 0.9359\n"
     ]
    },
    {
     "name": "stderr",
     "output_type": "stream",
     "text": [
      "[Fold 1][Epoch 19/60] Training: 100%|██████████| 340/340 [00:51<00:00,  6.59it/s, loss=6.53e-6] \n",
      "[Fold 1][Epoch 19/60] Validation: 100%|██████████| 85/85 [00:03<00:00, 27.23it/s]"
     ]
    },
    {
     "name": "stdout",
     "output_type": "stream",
     "text": [
      "[F1] Ep19 - Train: 0.0004 | VaL: 0.4184, Acc: 0.9294, F1: 0.9307\n",
      "[Fold 1] Early stopping triggered. Best F1: 0.9435\n"
     ]
    },
    {
     "name": "stderr",
     "output_type": "stream",
     "text": [
      "\n"
     ]
    },
    {
     "data": {
      "text/html": [],
      "text/plain": [
       "<IPython.core.display.HTML object>"
      ]
     },
     "metadata": {},
     "output_type": "display_data"
    },
    {
     "data": {
      "text/html": [
       "<br>    <style><br>        .wandb-row {<br>            display: flex;<br>            flex-direction: row;<br>            flex-wrap: wrap;<br>            justify-content: flex-start;<br>            width: 100%;<br>        }<br>        .wandb-col {<br>            display: flex;<br>            flex-direction: column;<br>            flex-basis: 100%;<br>            flex: 1;<br>            padding: 10px;<br>        }<br>    </style><br><div class=\"wandb-row\"><div class=\"wandb-col\"><h3>Run history:</h3><br/><table class=\"wandb\"><tr><td>epoch</td><td>▁▁▂▂▃▃▃▄▄▅▅▅▆▆▆▇▇██</td></tr><tr><td>fold</td><td>▁▁▁▁▁▁▁▁▁▁▁▁▁▁▁▁▁▁▁</td></tr><tr><td>train_loss</td><td>█▃▂▂▁▁▁▁▁▁▁▁▂▁▁▁▁▁▁</td></tr><tr><td>val_acc</td><td>▁▃▁▅▅▅▇▅▆▄▇▅▅█▆▆▇▇▆</td></tr><tr><td>val_f1</td><td>▂▂▁▅▅▅▇▅▆▅▇▅▅█▆▆▇▇▇</td></tr><tr><td>val_loss</td><td>▄▂▅▂▂▄▂▅▁▄▃█▅▂▆▅▅▅▆</td></tr></table><br/></div><div class=\"wandb-col\"><h3>Run summary:</h3><br/><table class=\"wandb\"><tr><td>epoch</td><td>19</td></tr><tr><td>fold</td><td>1</td></tr><tr><td>train_loss</td><td>0.00039</td></tr><tr><td>val_acc</td><td>0.92941</td></tr><tr><td>val_f1</td><td>0.93071</td></tr><tr><td>val_loss</td><td>0.41837</td></tr></table><br/></div></div>"
      ],
      "text/plain": [
       "<IPython.core.display.HTML object>"
      ]
     },
     "metadata": {},
     "output_type": "display_data"
    },
    {
     "data": {
      "text/html": [
       " View run <strong style=\"color:#cdcd00\">fold_1</strong> at: <a href='https://wandb.ai/moonstalker9010-none/Document%20Classification/runs/223tazis' target=\"_blank\">https://wandb.ai/moonstalker9010-none/Document%20Classification/runs/223tazis</a><br> View project at: <a href='https://wandb.ai/moonstalker9010-none/Document%20Classification' target=\"_blank\">https://wandb.ai/moonstalker9010-none/Document%20Classification</a><br>Synced 5 W&B file(s), 0 media file(s), 0 artifact file(s) and 0 other file(s)"
      ],
      "text/plain": [
       "<IPython.core.display.HTML object>"
      ]
     },
     "metadata": {},
     "output_type": "display_data"
    },
    {
     "data": {
      "text/html": [
       "Find logs at: <code>../../wandb/run-20250702_141456-223tazis/logs</code>"
      ],
      "text/plain": [
       "<IPython.core.display.HTML object>"
      ]
     },
     "metadata": {},
     "output_type": "display_data"
    },
    {
     "name": "stdout",
     "output_type": "stream",
     "text": [
      "\n",
      "=== Fold 2 ===\n",
      "Fold 2: Train samples=1360, Val samples=340\n"
     ]
    },
    {
     "data": {
      "text/html": [
       "Tracking run with wandb version 0.21.0"
      ],
      "text/plain": [
       "<IPython.core.display.HTML object>"
      ]
     },
     "metadata": {},
     "output_type": "display_data"
    },
    {
     "data": {
      "text/html": [
       "Run data is saved locally in <code>../../wandb/run-20250702_143230-arf2cm1h</code>"
      ],
      "text/plain": [
       "<IPython.core.display.HTML object>"
      ]
     },
     "metadata": {},
     "output_type": "display_data"
    },
    {
     "data": {
      "text/html": [
       "Syncing run <strong><a href='https://wandb.ai/moonstalker9010-none/Document%20Classification/runs/arf2cm1h' target=\"_blank\">fold_2</a></strong> to <a href='https://wandb.ai/moonstalker9010-none/Document%20Classification' target=\"_blank\">Weights & Biases</a> (<a href='https://wandb.me/developer-guide' target=\"_blank\">docs</a>)<br>"
      ],
      "text/plain": [
       "<IPython.core.display.HTML object>"
      ]
     },
     "metadata": {},
     "output_type": "display_data"
    },
    {
     "data": {
      "text/html": [
       " View project at <a href='https://wandb.ai/moonstalker9010-none/Document%20Classification' target=\"_blank\">https://wandb.ai/moonstalker9010-none/Document%20Classification</a>"
      ],
      "text/plain": [
       "<IPython.core.display.HTML object>"
      ]
     },
     "metadata": {},
     "output_type": "display_data"
    },
    {
     "data": {
      "text/html": [
       " View run at <a href='https://wandb.ai/moonstalker9010-none/Document%20Classification/runs/arf2cm1h' target=\"_blank\">https://wandb.ai/moonstalker9010-none/Document%20Classification/runs/arf2cm1h</a>"
      ],
      "text/plain": [
       "<IPython.core.display.HTML object>"
      ]
     },
     "metadata": {},
     "output_type": "display_data"
    },
    {
     "name": "stderr",
     "output_type": "stream",
     "text": [
      "[Fold 2][Epoch 1/60] Training: 100%|██████████| 340/340 [00:51<00:00,  6.60it/s, loss=1.46]   \n",
      "[Fold 2][Epoch 1/60] Validation: 100%|██████████| 85/85 [00:03<00:00, 26.85it/s]\n"
     ]
    },
    {
     "name": "stdout",
     "output_type": "stream",
     "text": [
      "[F2] Ep1 - Train: 0.8501 | VaL: 0.4286, Acc: 0.8559, F1: 0.8399\n"
     ]
    },
    {
     "name": "stderr",
     "output_type": "stream",
     "text": [
      "[Fold 2][Epoch 2/60] Training: 100%|██████████| 340/340 [00:51<00:00,  6.56it/s, loss=0.296]  \n",
      "[Fold 2][Epoch 2/60] Validation: 100%|██████████| 85/85 [00:03<00:00, 27.48it/s]\n"
     ]
    },
    {
     "name": "stdout",
     "output_type": "stream",
     "text": [
      "[F2] Ep2 - Train: 0.2342 | VaL: 0.2523, Acc: 0.9147, F1: 0.9107\n"
     ]
    },
    {
     "name": "stderr",
     "output_type": "stream",
     "text": [
      "[Fold 2][Epoch 3/60] Training: 100%|██████████| 340/340 [00:51<00:00,  6.58it/s, loss=0.82]    \n",
      "[Fold 2][Epoch 3/60] Validation: 100%|██████████| 85/85 [00:03<00:00, 27.51it/s]\n"
     ]
    },
    {
     "name": "stdout",
     "output_type": "stream",
     "text": [
      "[F2] Ep3 - Train: 0.1544 | VaL: 0.2219, Acc: 0.9265, F1: 0.9153\n"
     ]
    },
    {
     "name": "stderr",
     "output_type": "stream",
     "text": [
      "[Fold 2][Epoch 4/60] Training: 100%|██████████| 340/340 [00:51<00:00,  6.58it/s, loss=0.00052] \n",
      "[Fold 2][Epoch 4/60] Validation: 100%|██████████| 85/85 [00:03<00:00, 27.41it/s]\n"
     ]
    },
    {
     "name": "stdout",
     "output_type": "stream",
     "text": [
      "[F2] Ep4 - Train: 0.0837 | VaL: 0.1582, Acc: 0.9294, F1: 0.9255\n"
     ]
    },
    {
     "name": "stderr",
     "output_type": "stream",
     "text": [
      "[Fold 2][Epoch 5/60] Training: 100%|██████████| 340/340 [00:51<00:00,  6.59it/s, loss=0.294]   \n",
      "[Fold 2][Epoch 5/60] Validation: 100%|██████████| 85/85 [00:03<00:00, 27.60it/s]\n"
     ]
    },
    {
     "name": "stdout",
     "output_type": "stream",
     "text": [
      "[F2] Ep5 - Train: 0.0629 | VaL: 0.2662, Acc: 0.9294, F1: 0.9282\n"
     ]
    },
    {
     "name": "stderr",
     "output_type": "stream",
     "text": [
      "[Fold 2][Epoch 6/60] Training: 100%|██████████| 340/340 [00:51<00:00,  6.58it/s, loss=0.12]    \n",
      "[Fold 2][Epoch 6/60] Validation: 100%|██████████| 85/85 [00:03<00:00, 27.59it/s]\n"
     ]
    },
    {
     "name": "stdout",
     "output_type": "stream",
     "text": [
      "[F2] Ep6 - Train: 0.0676 | VaL: 0.2354, Acc: 0.9412, F1: 0.9393\n"
     ]
    },
    {
     "name": "stderr",
     "output_type": "stream",
     "text": [
      "[Fold 2][Epoch 7/60] Training: 100%|██████████| 340/340 [00:51<00:00,  6.59it/s, loss=0.00269] \n",
      "[Fold 2][Epoch 7/60] Validation: 100%|██████████| 85/85 [00:03<00:00, 27.12it/s]\n"
     ]
    },
    {
     "name": "stdout",
     "output_type": "stream",
     "text": [
      "[F2] Ep7 - Train: 0.0475 | VaL: 0.2435, Acc: 0.9353, F1: 0.9360\n"
     ]
    },
    {
     "name": "stderr",
     "output_type": "stream",
     "text": [
      "[Fold 2][Epoch 8/60] Training: 100%|██████████| 340/340 [00:51<00:00,  6.58it/s, loss=0.262]   \n",
      "[Fold 2][Epoch 8/60] Validation: 100%|██████████| 85/85 [00:03<00:00, 27.44it/s]\n"
     ]
    },
    {
     "name": "stdout",
     "output_type": "stream",
     "text": [
      "[F2] Ep8 - Train: 0.0474 | VaL: 0.2294, Acc: 0.9471, F1: 0.9470\n"
     ]
    },
    {
     "name": "stderr",
     "output_type": "stream",
     "text": [
      "[Fold 2][Epoch 9/60] Training: 100%|██████████| 340/340 [00:51<00:00,  6.59it/s, loss=0.0103]  \n",
      "[Fold 2][Epoch 9/60] Validation: 100%|██████████| 85/85 [00:03<00:00, 27.32it/s]\n"
     ]
    },
    {
     "name": "stdout",
     "output_type": "stream",
     "text": [
      "[F2] Ep9 - Train: 0.0642 | VaL: 0.2943, Acc: 0.9088, F1: 0.9078\n"
     ]
    },
    {
     "name": "stderr",
     "output_type": "stream",
     "text": [
      "[Fold 2][Epoch 10/60] Training: 100%|██████████| 340/340 [00:51<00:00,  6.60it/s, loss=0.0736]  \n",
      "[Fold 2][Epoch 10/60] Validation: 100%|██████████| 85/85 [00:03<00:00, 26.96it/s]\n"
     ]
    },
    {
     "name": "stdout",
     "output_type": "stream",
     "text": [
      "[F2] Ep10 - Train: 0.0388 | VaL: 0.3439, Acc: 0.9382, F1: 0.9316\n"
     ]
    },
    {
     "name": "stderr",
     "output_type": "stream",
     "text": [
      "[Fold 2][Epoch 11/60] Training: 100%|██████████| 340/340 [00:51<00:00,  6.59it/s, loss=0.000562]\n",
      "[Fold 2][Epoch 11/60] Validation: 100%|██████████| 85/85 [00:03<00:00, 27.32it/s]\n"
     ]
    },
    {
     "name": "stdout",
     "output_type": "stream",
     "text": [
      "[F2] Ep11 - Train: 0.0961 | VaL: 0.3034, Acc: 0.9324, F1: 0.9260\n"
     ]
    },
    {
     "name": "stderr",
     "output_type": "stream",
     "text": [
      "[Fold 2][Epoch 12/60] Training: 100%|██████████| 340/340 [00:51<00:00,  6.59it/s, loss=0.000735]\n",
      "[Fold 2][Epoch 12/60] Validation: 100%|██████████| 85/85 [00:03<00:00, 27.09it/s]\n"
     ]
    },
    {
     "name": "stdout",
     "output_type": "stream",
     "text": [
      "[F2] Ep12 - Train: 0.0414 | VaL: 0.2328, Acc: 0.9441, F1: 0.9452\n"
     ]
    },
    {
     "name": "stderr",
     "output_type": "stream",
     "text": [
      "[Fold 2][Epoch 13/60] Training: 100%|██████████| 340/340 [00:51<00:00,  6.60it/s, loss=0.000969]\n",
      "[Fold 2][Epoch 13/60] Validation: 100%|██████████| 85/85 [00:03<00:00, 27.10it/s]\n"
     ]
    },
    {
     "name": "stdout",
     "output_type": "stream",
     "text": [
      "[F2] Ep13 - Train: 0.0141 | VaL: 0.2358, Acc: 0.9529, F1: 0.9523\n"
     ]
    },
    {
     "name": "stderr",
     "output_type": "stream",
     "text": [
      "[Fold 2][Epoch 14/60] Training: 100%|██████████| 340/340 [00:51<00:00,  6.57it/s, loss=0.000256]\n",
      "[Fold 2][Epoch 14/60] Validation: 100%|██████████| 85/85 [00:03<00:00, 27.24it/s]\n"
     ]
    },
    {
     "name": "stdout",
     "output_type": "stream",
     "text": [
      "[F2] Ep14 - Train: 0.0033 | VaL: 0.2493, Acc: 0.9588, F1: 0.9584\n"
     ]
    },
    {
     "name": "stderr",
     "output_type": "stream",
     "text": [
      "[Fold 2][Epoch 15/60] Training: 100%|██████████| 340/340 [00:51<00:00,  6.60it/s, loss=0.00012] \n",
      "[Fold 2][Epoch 15/60] Validation: 100%|██████████| 85/85 [00:03<00:00, 27.43it/s]\n"
     ]
    },
    {
     "name": "stdout",
     "output_type": "stream",
     "text": [
      "[F2] Ep15 - Train: 0.0085 | VaL: 0.2385, Acc: 0.9618, F1: 0.9617\n"
     ]
    },
    {
     "name": "stderr",
     "output_type": "stream",
     "text": [
      "[Fold 2][Epoch 16/60] Training: 100%|██████████| 340/340 [00:51<00:00,  6.60it/s, loss=4.98e-5] \n",
      "[Fold 2][Epoch 16/60] Validation: 100%|██████████| 85/85 [00:03<00:00, 27.86it/s]\n"
     ]
    },
    {
     "name": "stdout",
     "output_type": "stream",
     "text": [
      "[F2] Ep16 - Train: 0.0006 | VaL: 0.2410, Acc: 0.9588, F1: 0.9581\n"
     ]
    },
    {
     "name": "stderr",
     "output_type": "stream",
     "text": [
      "[Fold 2][Epoch 17/60] Training: 100%|██████████| 340/340 [00:51<00:00,  6.59it/s, loss=5.07e-5] \n",
      "[Fold 2][Epoch 17/60] Validation: 100%|██████████| 85/85 [00:03<00:00, 26.96it/s]\n"
     ]
    },
    {
     "name": "stdout",
     "output_type": "stream",
     "text": [
      "[F2] Ep17 - Train: 0.0004 | VaL: 0.2507, Acc: 0.9559, F1: 0.9552\n"
     ]
    },
    {
     "name": "stderr",
     "output_type": "stream",
     "text": [
      "[Fold 2][Epoch 18/60] Training: 100%|██████████| 340/340 [00:51<00:00,  6.60it/s, loss=0.000143]\n",
      "[Fold 2][Epoch 18/60] Validation: 100%|██████████| 85/85 [00:03<00:00, 27.68it/s]\n"
     ]
    },
    {
     "name": "stdout",
     "output_type": "stream",
     "text": [
      "[F2] Ep18 - Train: 0.0044 | VaL: 0.2875, Acc: 0.9618, F1: 0.9614\n"
     ]
    },
    {
     "name": "stderr",
     "output_type": "stream",
     "text": [
      "[Fold 2][Epoch 19/60] Training: 100%|██████████| 340/340 [00:51<00:00,  6.60it/s, loss=0.000107]\n",
      "[Fold 2][Epoch 19/60] Validation: 100%|██████████| 85/85 [00:03<00:00, 27.27it/s]\n"
     ]
    },
    {
     "name": "stdout",
     "output_type": "stream",
     "text": [
      "[F2] Ep19 - Train: 0.0004 | VaL: 0.2931, Acc: 0.9618, F1: 0.9614\n"
     ]
    },
    {
     "name": "stderr",
     "output_type": "stream",
     "text": [
      "[Fold 2][Epoch 20/60] Training: 100%|██████████| 340/340 [00:51<00:00,  6.58it/s, loss=0.00034] \n",
      "[Fold 2][Epoch 20/60] Validation: 100%|██████████| 85/85 [00:03<00:00, 27.11it/s]"
     ]
    },
    {
     "name": "stdout",
     "output_type": "stream",
     "text": [
      "[F2] Ep20 - Train: 0.0052 | VaL: 0.2937, Acc: 0.9559, F1: 0.9552\n",
      "[Fold 2] Early stopping triggered. Best F1: 0.9617\n"
     ]
    },
    {
     "name": "stderr",
     "output_type": "stream",
     "text": [
      "\n"
     ]
    },
    {
     "data": {
      "text/html": [],
      "text/plain": [
       "<IPython.core.display.HTML object>"
      ]
     },
     "metadata": {},
     "output_type": "display_data"
    },
    {
     "data": {
      "text/html": [
       "<br>    <style><br>        .wandb-row {<br>            display: flex;<br>            flex-direction: row;<br>            flex-wrap: wrap;<br>            justify-content: flex-start;<br>            width: 100%;<br>        }<br>        .wandb-col {<br>            display: flex;<br>            flex-direction: column;<br>            flex-basis: 100%;<br>            flex: 1;<br>            padding: 10px;<br>        }<br>    </style><br><div class=\"wandb-row\"><div class=\"wandb-col\"><h3>Run history:</h3><br/><table class=\"wandb\"><tr><td>epoch</td><td>▁▁▂▂▂▃▃▄▄▄▅▅▅▆▆▇▇▇██</td></tr><tr><td>fold</td><td>▁▁▁▁▁▁▁▁▁▁▁▁▁▁▁▁▁▁▁▁</td></tr><tr><td>train_loss</td><td>█▃▂▂▂▂▁▁▂▁▂▁▁▁▁▁▁▁▁▁</td></tr><tr><td>val_acc</td><td>▁▅▆▆▆▇▆▇▅▆▆▇▇███████</td></tr><tr><td>val_f1</td><td>▁▅▅▆▆▇▇▇▅▆▆▇▇███████</td></tr><tr><td>val_loss</td><td>█▃▃▁▄▃▃▃▅▆▅▃▃▃▃▃▃▄▄▅</td></tr></table><br/></div><div class=\"wandb-col\"><h3>Run summary:</h3><br/><table class=\"wandb\"><tr><td>epoch</td><td>20</td></tr><tr><td>fold</td><td>2</td></tr><tr><td>train_loss</td><td>0.00516</td></tr><tr><td>val_acc</td><td>0.95588</td></tr><tr><td>val_f1</td><td>0.95517</td></tr><tr><td>val_loss</td><td>0.29374</td></tr></table><br/></div></div>"
      ],
      "text/plain": [
       "<IPython.core.display.HTML object>"
      ]
     },
     "metadata": {},
     "output_type": "display_data"
    },
    {
     "data": {
      "text/html": [
       " View run <strong style=\"color:#cdcd00\">fold_2</strong> at: <a href='https://wandb.ai/moonstalker9010-none/Document%20Classification/runs/arf2cm1h' target=\"_blank\">https://wandb.ai/moonstalker9010-none/Document%20Classification/runs/arf2cm1h</a><br> View project at: <a href='https://wandb.ai/moonstalker9010-none/Document%20Classification' target=\"_blank\">https://wandb.ai/moonstalker9010-none/Document%20Classification</a><br>Synced 5 W&B file(s), 0 media file(s), 0 artifact file(s) and 0 other file(s)"
      ],
      "text/plain": [
       "<IPython.core.display.HTML object>"
      ]
     },
     "metadata": {},
     "output_type": "display_data"
    },
    {
     "data": {
      "text/html": [
       "Find logs at: <code>../../wandb/run-20250702_143230-arf2cm1h/logs</code>"
      ],
      "text/plain": [
       "<IPython.core.display.HTML object>"
      ]
     },
     "metadata": {},
     "output_type": "display_data"
    },
    {
     "name": "stdout",
     "output_type": "stream",
     "text": [
      "\n",
      "=== Fold 3 ===\n",
      "Fold 3: Train samples=1360, Val samples=340\n"
     ]
    },
    {
     "data": {
      "text/html": [
       "Tracking run with wandb version 0.21.0"
      ],
      "text/plain": [
       "<IPython.core.display.HTML object>"
      ]
     },
     "metadata": {},
     "output_type": "display_data"
    },
    {
     "data": {
      "text/html": [
       "Run data is saved locally in <code>../../wandb/run-20250702_145058-xfvrjmmm</code>"
      ],
      "text/plain": [
       "<IPython.core.display.HTML object>"
      ]
     },
     "metadata": {},
     "output_type": "display_data"
    },
    {
     "data": {
      "text/html": [
       "Syncing run <strong><a href='https://wandb.ai/moonstalker9010-none/Document%20Classification/runs/xfvrjmmm' target=\"_blank\">fold_3</a></strong> to <a href='https://wandb.ai/moonstalker9010-none/Document%20Classification' target=\"_blank\">Weights & Biases</a> (<a href='https://wandb.me/developer-guide' target=\"_blank\">docs</a>)<br>"
      ],
      "text/plain": [
       "<IPython.core.display.HTML object>"
      ]
     },
     "metadata": {},
     "output_type": "display_data"
    },
    {
     "data": {
      "text/html": [
       " View project at <a href='https://wandb.ai/moonstalker9010-none/Document%20Classification' target=\"_blank\">https://wandb.ai/moonstalker9010-none/Document%20Classification</a>"
      ],
      "text/plain": [
       "<IPython.core.display.HTML object>"
      ]
     },
     "metadata": {},
     "output_type": "display_data"
    },
    {
     "data": {
      "text/html": [
       " View run at <a href='https://wandb.ai/moonstalker9010-none/Document%20Classification/runs/xfvrjmmm' target=\"_blank\">https://wandb.ai/moonstalker9010-none/Document%20Classification/runs/xfvrjmmm</a>"
      ],
      "text/plain": [
       "<IPython.core.display.HTML object>"
      ]
     },
     "metadata": {},
     "output_type": "display_data"
    },
    {
     "name": "stderr",
     "output_type": "stream",
     "text": [
      "[Fold 3][Epoch 1/60] Training: 100%|██████████| 340/340 [00:51<00:00,  6.60it/s, loss=0.133]  \n",
      "[Fold 3][Epoch 1/60] Validation: 100%|██████████| 85/85 [00:03<00:00, 27.16it/s]\n"
     ]
    },
    {
     "name": "stdout",
     "output_type": "stream",
     "text": [
      "[F3] Ep1 - Train: 0.8671 | VaL: 0.2345, Acc: 0.9176, F1: 0.9117\n"
     ]
    },
    {
     "name": "stderr",
     "output_type": "stream",
     "text": [
      "[Fold 3][Epoch 2/60] Training: 100%|██████████| 340/340 [00:51<00:00,  6.59it/s, loss=0.0449] \n",
      "[Fold 3][Epoch 2/60] Validation: 100%|██████████| 85/85 [00:03<00:00, 27.84it/s]\n"
     ]
    },
    {
     "name": "stdout",
     "output_type": "stream",
     "text": [
      "[F3] Ep2 - Train: 0.2658 | VaL: 0.1600, Acc: 0.9382, F1: 0.9326\n"
     ]
    },
    {
     "name": "stderr",
     "output_type": "stream",
     "text": [
      "[Fold 3][Epoch 3/60] Training: 100%|██████████| 340/340 [00:51<00:00,  6.59it/s, loss=0.0146]  \n",
      "[Fold 3][Epoch 3/60] Validation: 100%|██████████| 85/85 [00:03<00:00, 27.00it/s]\n"
     ]
    },
    {
     "name": "stdout",
     "output_type": "stream",
     "text": [
      "[F3] Ep3 - Train: 0.1456 | VaL: 0.1352, Acc: 0.9441, F1: 0.9367\n"
     ]
    },
    {
     "name": "stderr",
     "output_type": "stream",
     "text": [
      "[Fold 3][Epoch 4/60] Training: 100%|██████████| 340/340 [00:51<00:00,  6.59it/s, loss=0.0436]  \n",
      "[Fold 3][Epoch 4/60] Validation: 100%|██████████| 85/85 [00:03<00:00, 27.61it/s]\n"
     ]
    },
    {
     "name": "stdout",
     "output_type": "stream",
     "text": [
      "[F3] Ep4 - Train: 0.1180 | VaL: 0.1544, Acc: 0.9412, F1: 0.9360\n"
     ]
    },
    {
     "name": "stderr",
     "output_type": "stream",
     "text": [
      "[Fold 3][Epoch 5/60] Training: 100%|██████████| 340/340 [00:51<00:00,  6.60it/s, loss=0.0322]  \n",
      "[Fold 3][Epoch 5/60] Validation: 100%|██████████| 85/85 [00:03<00:00, 27.40it/s]\n"
     ]
    },
    {
     "name": "stdout",
     "output_type": "stream",
     "text": [
      "[F3] Ep5 - Train: 0.0977 | VaL: 0.1553, Acc: 0.9441, F1: 0.9414\n"
     ]
    },
    {
     "name": "stderr",
     "output_type": "stream",
     "text": [
      "[Fold 3][Epoch 6/60] Training: 100%|██████████| 340/340 [00:51<00:00,  6.58it/s, loss=0.0188]  \n",
      "[Fold 3][Epoch 6/60] Validation: 100%|██████████| 85/85 [00:03<00:00, 27.07it/s]\n"
     ]
    },
    {
     "name": "stdout",
     "output_type": "stream",
     "text": [
      "[F3] Ep6 - Train: 0.0427 | VaL: 0.2202, Acc: 0.9441, F1: 0.9378\n"
     ]
    },
    {
     "name": "stderr",
     "output_type": "stream",
     "text": [
      "[Fold 3][Epoch 7/60] Training: 100%|██████████| 340/340 [00:51<00:00,  6.60it/s, loss=0.0132]  \n",
      "[Fold 3][Epoch 7/60] Validation: 100%|██████████| 85/85 [00:03<00:00, 27.54it/s]\n"
     ]
    },
    {
     "name": "stdout",
     "output_type": "stream",
     "text": [
      "[F3] Ep7 - Train: 0.0473 | VaL: 0.2279, Acc: 0.9471, F1: 0.9430\n"
     ]
    },
    {
     "name": "stderr",
     "output_type": "stream",
     "text": [
      "[Fold 3][Epoch 8/60] Training: 100%|██████████| 340/340 [00:51<00:00,  6.60it/s, loss=0.0114]  \n",
      "[Fold 3][Epoch 8/60] Validation: 100%|██████████| 85/85 [00:03<00:00, 27.86it/s]\n"
     ]
    },
    {
     "name": "stdout",
     "output_type": "stream",
     "text": [
      "[F3] Ep8 - Train: 0.0381 | VaL: 0.1515, Acc: 0.9529, F1: 0.9502\n"
     ]
    },
    {
     "name": "stderr",
     "output_type": "stream",
     "text": [
      "[Fold 3][Epoch 9/60] Training: 100%|██████████| 340/340 [00:51<00:00,  6.59it/s, loss=0.00116] \n",
      "[Fold 3][Epoch 9/60] Validation: 100%|██████████| 85/85 [00:03<00:00, 27.86it/s]\n"
     ]
    },
    {
     "name": "stdout",
     "output_type": "stream",
     "text": [
      "[F3] Ep9 - Train: 0.0191 | VaL: 0.1803, Acc: 0.9471, F1: 0.9445\n"
     ]
    },
    {
     "name": "stderr",
     "output_type": "stream",
     "text": [
      "[Fold 3][Epoch 10/60] Training: 100%|██████████| 340/340 [00:51<00:00,  6.60it/s, loss=0.00855] \n",
      "[Fold 3][Epoch 10/60] Validation: 100%|██████████| 85/85 [00:03<00:00, 27.49it/s]\n"
     ]
    },
    {
     "name": "stdout",
     "output_type": "stream",
     "text": [
      "[F3] Ep10 - Train: 0.0578 | VaL: 0.1859, Acc: 0.9588, F1: 0.9581\n"
     ]
    },
    {
     "name": "stderr",
     "output_type": "stream",
     "text": [
      "[Fold 3][Epoch 11/60] Training: 100%|██████████| 340/340 [00:51<00:00,  6.60it/s, loss=0.00283] \n",
      "[Fold 3][Epoch 11/60] Validation: 100%|██████████| 85/85 [00:03<00:00, 27.00it/s]\n"
     ]
    },
    {
     "name": "stdout",
     "output_type": "stream",
     "text": [
      "[F3] Ep11 - Train: 0.0648 | VaL: 0.2525, Acc: 0.9324, F1: 0.9262\n"
     ]
    },
    {
     "name": "stderr",
     "output_type": "stream",
     "text": [
      "[Fold 3][Epoch 12/60] Training: 100%|██████████| 340/340 [00:51<00:00,  6.59it/s, loss=0.000811]\n",
      "[Fold 3][Epoch 12/60] Validation: 100%|██████████| 85/85 [00:03<00:00, 27.52it/s]\n"
     ]
    },
    {
     "name": "stdout",
     "output_type": "stream",
     "text": [
      "[F3] Ep12 - Train: 0.0246 | VaL: 0.3006, Acc: 0.9500, F1: 0.9448\n"
     ]
    },
    {
     "name": "stderr",
     "output_type": "stream",
     "text": [
      "[Fold 3][Epoch 13/60] Training: 100%|██████████| 340/340 [00:51<00:00,  6.60it/s, loss=3.1e-5]  \n",
      "[Fold 3][Epoch 13/60] Validation: 100%|██████████| 85/85 [00:03<00:00, 27.72it/s]\n"
     ]
    },
    {
     "name": "stdout",
     "output_type": "stream",
     "text": [
      "[F3] Ep13 - Train: 0.0061 | VaL: 0.3515, Acc: 0.9206, F1: 0.9201\n"
     ]
    },
    {
     "name": "stderr",
     "output_type": "stream",
     "text": [
      "[Fold 3][Epoch 14/60] Training: 100%|██████████| 340/340 [00:51<00:00,  6.59it/s, loss=0.00012] \n",
      "[Fold 3][Epoch 14/60] Validation: 100%|██████████| 85/85 [00:03<00:00, 27.24it/s]\n"
     ]
    },
    {
     "name": "stdout",
     "output_type": "stream",
     "text": [
      "[F3] Ep14 - Train: 0.0470 | VaL: 0.2395, Acc: 0.9471, F1: 0.9464\n"
     ]
    },
    {
     "name": "stderr",
     "output_type": "stream",
     "text": [
      "[Fold 3][Epoch 15/60] Training: 100%|██████████| 340/340 [00:51<00:00,  6.60it/s, loss=0.00698] \n",
      "[Fold 3][Epoch 15/60] Validation: 100%|██████████| 85/85 [00:03<00:00, 27.71it/s]"
     ]
    },
    {
     "name": "stdout",
     "output_type": "stream",
     "text": [
      "[F3] Ep15 - Train: 0.0262 | VaL: 0.3590, Acc: 0.9500, F1: 0.9441\n",
      "[Fold 3] Early stopping triggered. Best F1: 0.9581\n"
     ]
    },
    {
     "name": "stderr",
     "output_type": "stream",
     "text": [
      "\n"
     ]
    },
    {
     "data": {
      "text/html": [],
      "text/plain": [
       "<IPython.core.display.HTML object>"
      ]
     },
     "metadata": {},
     "output_type": "display_data"
    },
    {
     "data": {
      "text/html": [
       "<br>    <style><br>        .wandb-row {<br>            display: flex;<br>            flex-direction: row;<br>            flex-wrap: wrap;<br>            justify-content: flex-start;<br>            width: 100%;<br>        }<br>        .wandb-col {<br>            display: flex;<br>            flex-direction: column;<br>            flex-basis: 100%;<br>            flex: 1;<br>            padding: 10px;<br>        }<br>    </style><br><div class=\"wandb-row\"><div class=\"wandb-col\"><h3>Run history:</h3><br/><table class=\"wandb\"><tr><td>epoch</td><td>▁▁▂▃▃▃▄▅▅▅▆▇▇▇█</td></tr><tr><td>fold</td><td>▁▁▁▁▁▁▁▁▁▁▁▁▁▁▁</td></tr><tr><td>train_loss</td><td>█▃▂▂▂▁▁▁▁▁▁▁▁▁▁</td></tr><tr><td>val_acc</td><td>▁▅▆▅▆▆▆▇▆█▄▇▂▆▇</td></tr><tr><td>val_f1</td><td>▁▄▅▅▅▅▆▇▆█▃▆▂▆▆</td></tr><tr><td>val_loss</td><td>▄▂▁▂▂▄▄▂▂▃▅▆█▄█</td></tr></table><br/></div><div class=\"wandb-col\"><h3>Run summary:</h3><br/><table class=\"wandb\"><tr><td>epoch</td><td>15</td></tr><tr><td>fold</td><td>3</td></tr><tr><td>train_loss</td><td>0.02624</td></tr><tr><td>val_acc</td><td>0.95</td></tr><tr><td>val_f1</td><td>0.94411</td></tr><tr><td>val_loss</td><td>0.35902</td></tr></table><br/></div></div>"
      ],
      "text/plain": [
       "<IPython.core.display.HTML object>"
      ]
     },
     "metadata": {},
     "output_type": "display_data"
    },
    {
     "data": {
      "text/html": [
       " View run <strong style=\"color:#cdcd00\">fold_3</strong> at: <a href='https://wandb.ai/moonstalker9010-none/Document%20Classification/runs/xfvrjmmm' target=\"_blank\">https://wandb.ai/moonstalker9010-none/Document%20Classification/runs/xfvrjmmm</a><br> View project at: <a href='https://wandb.ai/moonstalker9010-none/Document%20Classification' target=\"_blank\">https://wandb.ai/moonstalker9010-none/Document%20Classification</a><br>Synced 5 W&B file(s), 0 media file(s), 0 artifact file(s) and 0 other file(s)"
      ],
      "text/plain": [
       "<IPython.core.display.HTML object>"
      ]
     },
     "metadata": {},
     "output_type": "display_data"
    },
    {
     "data": {
      "text/html": [
       "Find logs at: <code>../../wandb/run-20250702_145058-xfvrjmmm/logs</code>"
      ],
      "text/plain": [
       "<IPython.core.display.HTML object>"
      ]
     },
     "metadata": {},
     "output_type": "display_data"
    },
    {
     "name": "stdout",
     "output_type": "stream",
     "text": [
      "\n",
      "=== Fold 4 ===\n",
      "Fold 4: Train samples=1360, Val samples=340\n"
     ]
    },
    {
     "data": {
      "text/html": [
       "Tracking run with wandb version 0.21.0"
      ],
      "text/plain": [
       "<IPython.core.display.HTML object>"
      ]
     },
     "metadata": {},
     "output_type": "display_data"
    },
    {
     "data": {
      "text/html": [
       "Run data is saved locally in <code>../../wandb/run-20250702_150448-ak0nwhi9</code>"
      ],
      "text/plain": [
       "<IPython.core.display.HTML object>"
      ]
     },
     "metadata": {},
     "output_type": "display_data"
    },
    {
     "data": {
      "text/html": [
       "Syncing run <strong><a href='https://wandb.ai/moonstalker9010-none/Document%20Classification/runs/ak0nwhi9' target=\"_blank\">fold_4</a></strong> to <a href='https://wandb.ai/moonstalker9010-none/Document%20Classification' target=\"_blank\">Weights & Biases</a> (<a href='https://wandb.me/developer-guide' target=\"_blank\">docs</a>)<br>"
      ],
      "text/plain": [
       "<IPython.core.display.HTML object>"
      ]
     },
     "metadata": {},
     "output_type": "display_data"
    },
    {
     "data": {
      "text/html": [
       " View project at <a href='https://wandb.ai/moonstalker9010-none/Document%20Classification' target=\"_blank\">https://wandb.ai/moonstalker9010-none/Document%20Classification</a>"
      ],
      "text/plain": [
       "<IPython.core.display.HTML object>"
      ]
     },
     "metadata": {},
     "output_type": "display_data"
    },
    {
     "data": {
      "text/html": [
       " View run at <a href='https://wandb.ai/moonstalker9010-none/Document%20Classification/runs/ak0nwhi9' target=\"_blank\">https://wandb.ai/moonstalker9010-none/Document%20Classification/runs/ak0nwhi9</a>"
      ],
      "text/plain": [
       "<IPython.core.display.HTML object>"
      ]
     },
     "metadata": {},
     "output_type": "display_data"
    },
    {
     "name": "stderr",
     "output_type": "stream",
     "text": [
      "[Fold 4][Epoch 1/60] Training: 100%|██████████| 340/340 [00:51<00:00,  6.60it/s, loss=0.509]  \n",
      "[Fold 4][Epoch 1/60] Validation: 100%|██████████| 85/85 [00:03<00:00, 27.55it/s]\n"
     ]
    },
    {
     "name": "stdout",
     "output_type": "stream",
     "text": [
      "[F4] Ep1 - Train: 0.8493 | VaL: 0.2760, Acc: 0.8824, F1: 0.8855\n"
     ]
    },
    {
     "name": "stderr",
     "output_type": "stream",
     "text": [
      "[Fold 4][Epoch 2/60] Training: 100%|██████████| 340/340 [00:51<00:00,  6.60it/s, loss=0.194]  \n",
      "[Fold 4][Epoch 2/60] Validation: 100%|██████████| 85/85 [00:03<00:00, 26.94it/s]\n"
     ]
    },
    {
     "name": "stdout",
     "output_type": "stream",
     "text": [
      "[F4] Ep2 - Train: 0.2543 | VaL: 0.1807, Acc: 0.9324, F1: 0.9136\n"
     ]
    },
    {
     "name": "stderr",
     "output_type": "stream",
     "text": [
      "[Fold 4][Epoch 3/60] Training: 100%|██████████| 340/340 [00:51<00:00,  6.57it/s, loss=0.139]   \n",
      "[Fold 4][Epoch 3/60] Validation: 100%|██████████| 85/85 [00:03<00:00, 27.14it/s]\n"
     ]
    },
    {
     "name": "stdout",
     "output_type": "stream",
     "text": [
      "[F4] Ep3 - Train: 0.1444 | VaL: 0.1529, Acc: 0.9471, F1: 0.9406\n"
     ]
    },
    {
     "name": "stderr",
     "output_type": "stream",
     "text": [
      "[Fold 4][Epoch 4/60] Training: 100%|██████████| 340/340 [00:51<00:00,  6.59it/s, loss=0.0124]  \n",
      "[Fold 4][Epoch 4/60] Validation: 100%|██████████| 85/85 [00:03<00:00, 27.27it/s]\n"
     ]
    },
    {
     "name": "stdout",
     "output_type": "stream",
     "text": [
      "[F4] Ep4 - Train: 0.0801 | VaL: 0.2341, Acc: 0.9088, F1: 0.9131\n"
     ]
    },
    {
     "name": "stderr",
     "output_type": "stream",
     "text": [
      "[Fold 4][Epoch 5/60] Training: 100%|██████████| 340/340 [00:51<00:00,  6.59it/s, loss=0.0867]  \n",
      "[Fold 4][Epoch 5/60] Validation: 100%|██████████| 85/85 [00:03<00:00, 27.45it/s]\n"
     ]
    },
    {
     "name": "stdout",
     "output_type": "stream",
     "text": [
      "[F4] Ep5 - Train: 0.0869 | VaL: 0.2382, Acc: 0.9353, F1: 0.9172\n"
     ]
    },
    {
     "name": "stderr",
     "output_type": "stream",
     "text": [
      "[Fold 4][Epoch 6/60] Training: 100%|██████████| 340/340 [00:51<00:00,  6.59it/s, loss=0.778]   \n",
      "[Fold 4][Epoch 6/60] Validation: 100%|██████████| 85/85 [00:03<00:00, 27.41it/s]\n"
     ]
    },
    {
     "name": "stdout",
     "output_type": "stream",
     "text": [
      "[F4] Ep6 - Train: 0.0626 | VaL: 0.1326, Acc: 0.9500, F1: 0.9486\n"
     ]
    },
    {
     "name": "stderr",
     "output_type": "stream",
     "text": [
      "[Fold 4][Epoch 7/60] Training: 100%|██████████| 340/340 [00:51<00:00,  6.59it/s, loss=0.0197]  \n",
      "[Fold 4][Epoch 7/60] Validation: 100%|██████████| 85/85 [00:03<00:00, 27.73it/s]\n"
     ]
    },
    {
     "name": "stdout",
     "output_type": "stream",
     "text": [
      "[F4] Ep7 - Train: 0.0404 | VaL: 0.1580, Acc: 0.9529, F1: 0.9518\n"
     ]
    },
    {
     "name": "stderr",
     "output_type": "stream",
     "text": [
      "[Fold 4][Epoch 8/60] Training: 100%|██████████| 340/340 [00:51<00:00,  6.60it/s, loss=0.000712]\n",
      "[Fold 4][Epoch 8/60] Validation: 100%|██████████| 85/85 [00:03<00:00, 27.69it/s]\n"
     ]
    },
    {
     "name": "stdout",
     "output_type": "stream",
     "text": [
      "[F4] Ep8 - Train: 0.0065 | VaL: 0.1232, Acc: 0.9676, F1: 0.9670\n"
     ]
    },
    {
     "name": "stderr",
     "output_type": "stream",
     "text": [
      "[Fold 4][Epoch 9/60] Training: 100%|██████████| 340/340 [00:51<00:00,  6.59it/s, loss=6.7e-5]  \n",
      "[Fold 4][Epoch 9/60] Validation: 100%|██████████| 85/85 [00:03<00:00, 27.68it/s]\n"
     ]
    },
    {
     "name": "stdout",
     "output_type": "stream",
     "text": [
      "[F4] Ep9 - Train: 0.1247 | VaL: 0.2682, Acc: 0.9176, F1: 0.9097\n"
     ]
    },
    {
     "name": "stderr",
     "output_type": "stream",
     "text": [
      "[Fold 4][Epoch 10/60] Training: 100%|██████████| 340/340 [00:51<00:00,  6.59it/s, loss=0.0827]  \n",
      "[Fold 4][Epoch 10/60] Validation: 100%|██████████| 85/85 [00:03<00:00, 27.25it/s]\n"
     ]
    },
    {
     "name": "stdout",
     "output_type": "stream",
     "text": [
      "[F4] Ep10 - Train: 0.0506 | VaL: 0.2743, Acc: 0.9441, F1: 0.9360\n"
     ]
    },
    {
     "name": "stderr",
     "output_type": "stream",
     "text": [
      "[Fold 4][Epoch 11/60] Training: 100%|██████████| 340/340 [00:51<00:00,  6.59it/s, loss=0.000665]\n",
      "[Fold 4][Epoch 11/60] Validation: 100%|██████████| 85/85 [00:03<00:00, 27.47it/s]\n"
     ]
    },
    {
     "name": "stdout",
     "output_type": "stream",
     "text": [
      "[F4] Ep11 - Train: 0.0175 | VaL: 0.2905, Acc: 0.9471, F1: 0.9397\n"
     ]
    },
    {
     "name": "stderr",
     "output_type": "stream",
     "text": [
      "[Fold 4][Epoch 12/60] Training: 100%|██████████| 340/340 [00:51<00:00,  6.59it/s, loss=0.0545]  \n",
      "[Fold 4][Epoch 12/60] Validation: 100%|██████████| 85/85 [00:03<00:00, 27.55it/s]\n"
     ]
    },
    {
     "name": "stdout",
     "output_type": "stream",
     "text": [
      "[F4] Ep12 - Train: 0.0351 | VaL: 0.1714, Acc: 0.9382, F1: 0.9378\n"
     ]
    },
    {
     "name": "stderr",
     "output_type": "stream",
     "text": [
      "[Fold 4][Epoch 13/60] Training: 100%|██████████| 340/340 [00:51<00:00,  6.59it/s, loss=0.00376] \n",
      "[Fold 4][Epoch 13/60] Validation: 100%|██████████| 85/85 [00:03<00:00, 27.21it/s]"
     ]
    },
    {
     "name": "stdout",
     "output_type": "stream",
     "text": [
      "[F4] Ep13 - Train: 0.0398 | VaL: 0.2541, Acc: 0.9441, F1: 0.9412\n",
      "[Fold 4] Early stopping triggered. Best F1: 0.9670\n"
     ]
    },
    {
     "name": "stderr",
     "output_type": "stream",
     "text": [
      "\n"
     ]
    },
    {
     "data": {
      "text/html": [],
      "text/plain": [
       "<IPython.core.display.HTML object>"
      ]
     },
     "metadata": {},
     "output_type": "display_data"
    },
    {
     "data": {
      "text/html": [
       "<br>    <style><br>        .wandb-row {<br>            display: flex;<br>            flex-direction: row;<br>            flex-wrap: wrap;<br>            justify-content: flex-start;<br>            width: 100%;<br>        }<br>        .wandb-col {<br>            display: flex;<br>            flex-direction: column;<br>            flex-basis: 100%;<br>            flex: 1;<br>            padding: 10px;<br>        }<br>    </style><br><div class=\"wandb-row\"><div class=\"wandb-col\"><h3>Run history:</h3><br/><table class=\"wandb\"><tr><td>epoch</td><td>▁▂▂▃▃▄▅▅▆▆▇▇█</td></tr><tr><td>fold</td><td>▁▁▁▁▁▁▁▁▁▁▁▁▁</td></tr><tr><td>train_loss</td><td>█▃▂▂▂▁▁▁▂▁▁▁▁</td></tr><tr><td>val_acc</td><td>▁▅▆▃▅▇▇█▄▆▆▆▆</td></tr><tr><td>val_f1</td><td>▁▃▆▃▄▆▇█▃▅▆▅▆</td></tr><tr><td>val_loss</td><td>▇▃▂▆▆▁▂▁▇▇█▃▆</td></tr></table><br/></div><div class=\"wandb-col\"><h3>Run summary:</h3><br/><table class=\"wandb\"><tr><td>epoch</td><td>13</td></tr><tr><td>fold</td><td>4</td></tr><tr><td>train_loss</td><td>0.03982</td></tr><tr><td>val_acc</td><td>0.94412</td></tr><tr><td>val_f1</td><td>0.94121</td></tr><tr><td>val_loss</td><td>0.25408</td></tr></table><br/></div></div>"
      ],
      "text/plain": [
       "<IPython.core.display.HTML object>"
      ]
     },
     "metadata": {},
     "output_type": "display_data"
    },
    {
     "data": {
      "text/html": [
       " View run <strong style=\"color:#cdcd00\">fold_4</strong> at: <a href='https://wandb.ai/moonstalker9010-none/Document%20Classification/runs/ak0nwhi9' target=\"_blank\">https://wandb.ai/moonstalker9010-none/Document%20Classification/runs/ak0nwhi9</a><br> View project at: <a href='https://wandb.ai/moonstalker9010-none/Document%20Classification' target=\"_blank\">https://wandb.ai/moonstalker9010-none/Document%20Classification</a><br>Synced 5 W&B file(s), 0 media file(s), 0 artifact file(s) and 0 other file(s)"
      ],
      "text/plain": [
       "<IPython.core.display.HTML object>"
      ]
     },
     "metadata": {},
     "output_type": "display_data"
    },
    {
     "data": {
      "text/html": [
       "Find logs at: <code>../../wandb/run-20250702_150448-ak0nwhi9/logs</code>"
      ],
      "text/plain": [
       "<IPython.core.display.HTML object>"
      ]
     },
     "metadata": {},
     "output_type": "display_data"
    },
    {
     "name": "stdout",
     "output_type": "stream",
     "text": [
      "\n",
      "=== Fold 5 ===\n",
      "Fold 5: Train samples=1360, Val samples=340\n"
     ]
    },
    {
     "data": {
      "text/html": [
       "Tracking run with wandb version 0.21.0"
      ],
      "text/plain": [
       "<IPython.core.display.HTML object>"
      ]
     },
     "metadata": {},
     "output_type": "display_data"
    },
    {
     "data": {
      "text/html": [
       "Run data is saved locally in <code>../../wandb/run-20250702_151648-soq68bjh</code>"
      ],
      "text/plain": [
       "<IPython.core.display.HTML object>"
      ]
     },
     "metadata": {},
     "output_type": "display_data"
    },
    {
     "data": {
      "text/html": [
       "Syncing run <strong><a href='https://wandb.ai/moonstalker9010-none/Document%20Classification/runs/soq68bjh' target=\"_blank\">fold_5</a></strong> to <a href='https://wandb.ai/moonstalker9010-none/Document%20Classification' target=\"_blank\">Weights & Biases</a> (<a href='https://wandb.me/developer-guide' target=\"_blank\">docs</a>)<br>"
      ],
      "text/plain": [
       "<IPython.core.display.HTML object>"
      ]
     },
     "metadata": {},
     "output_type": "display_data"
    },
    {
     "data": {
      "text/html": [
       " View project at <a href='https://wandb.ai/moonstalker9010-none/Document%20Classification' target=\"_blank\">https://wandb.ai/moonstalker9010-none/Document%20Classification</a>"
      ],
      "text/plain": [
       "<IPython.core.display.HTML object>"
      ]
     },
     "metadata": {},
     "output_type": "display_data"
    },
    {
     "data": {
      "text/html": [
       " View run at <a href='https://wandb.ai/moonstalker9010-none/Document%20Classification/runs/soq68bjh' target=\"_blank\">https://wandb.ai/moonstalker9010-none/Document%20Classification/runs/soq68bjh</a>"
      ],
      "text/plain": [
       "<IPython.core.display.HTML object>"
      ]
     },
     "metadata": {},
     "output_type": "display_data"
    },
    {
     "name": "stderr",
     "output_type": "stream",
     "text": [
      "[Fold 5][Epoch 1/60] Training: 100%|██████████| 340/340 [00:51<00:00,  6.59it/s, loss=0.297]  \n",
      "[Fold 5][Epoch 1/60] Validation: 100%|██████████| 85/85 [00:03<00:00, 26.94it/s]\n"
     ]
    },
    {
     "name": "stdout",
     "output_type": "stream",
     "text": [
      "[F5] Ep1 - Train: 1.2155 | VaL: 0.3419, Acc: 0.8559, F1: 0.8520\n"
     ]
    },
    {
     "name": "stderr",
     "output_type": "stream",
     "text": [
      "[Fold 5][Epoch 2/60] Training: 100%|██████████| 340/340 [00:51<00:00,  6.56it/s, loss=0.0357] \n",
      "[Fold 5][Epoch 2/60] Validation: 100%|██████████| 85/85 [00:03<00:00, 27.31it/s]\n"
     ]
    },
    {
     "name": "stdout",
     "output_type": "stream",
     "text": [
      "[F5] Ep2 - Train: 0.2538 | VaL: 0.2669, Acc: 0.9000, F1: 0.8924\n"
     ]
    },
    {
     "name": "stderr",
     "output_type": "stream",
     "text": [
      "[Fold 5][Epoch 3/60] Training: 100%|██████████| 340/340 [00:51<00:00,  6.58it/s, loss=0.00524] \n",
      "[Fold 5][Epoch 3/60] Validation: 100%|██████████| 85/85 [00:03<00:00, 26.88it/s]\n"
     ]
    },
    {
     "name": "stdout",
     "output_type": "stream",
     "text": [
      "[F5] Ep3 - Train: 0.1674 | VaL: 0.2792, Acc: 0.9000, F1: 0.8939\n"
     ]
    },
    {
     "name": "stderr",
     "output_type": "stream",
     "text": [
      "[Fold 5][Epoch 4/60] Training: 100%|██████████| 340/340 [00:51<00:00,  6.58it/s, loss=0.00974] \n",
      "[Fold 5][Epoch 4/60] Validation: 100%|██████████| 85/85 [00:03<00:00, 26.78it/s]\n"
     ]
    },
    {
     "name": "stdout",
     "output_type": "stream",
     "text": [
      "[F5] Ep4 - Train: 0.1299 | VaL: 0.2579, Acc: 0.8882, F1: 0.8877\n"
     ]
    },
    {
     "name": "stderr",
     "output_type": "stream",
     "text": [
      "[Fold 5][Epoch 5/60] Training: 100%|██████████| 340/340 [00:51<00:00,  6.59it/s, loss=0.00216] \n",
      "[Fold 5][Epoch 5/60] Validation: 100%|██████████| 85/85 [00:03<00:00, 26.97it/s]\n"
     ]
    },
    {
     "name": "stdout",
     "output_type": "stream",
     "text": [
      "[F5] Ep5 - Train: 0.0879 | VaL: 0.2133, Acc: 0.9412, F1: 0.9359\n"
     ]
    },
    {
     "name": "stderr",
     "output_type": "stream",
     "text": [
      "[Fold 5][Epoch 6/60] Training: 100%|██████████| 340/340 [00:51<00:00,  6.59it/s, loss=0.00199] \n",
      "[Fold 5][Epoch 6/60] Validation: 100%|██████████| 85/85 [00:03<00:00, 27.59it/s]\n"
     ]
    },
    {
     "name": "stdout",
     "output_type": "stream",
     "text": [
      "[F5] Ep6 - Train: 0.0471 | VaL: 0.2488, Acc: 0.9441, F1: 0.9411\n"
     ]
    },
    {
     "name": "stderr",
     "output_type": "stream",
     "text": [
      "[Fold 5][Epoch 7/60] Training: 100%|██████████| 340/340 [00:51<00:00,  6.58it/s, loss=0.00084] \n",
      "[Fold 5][Epoch 7/60] Validation: 100%|██████████| 85/85 [00:03<00:00, 27.64it/s]\n"
     ]
    },
    {
     "name": "stdout",
     "output_type": "stream",
     "text": [
      "[F5] Ep7 - Train: 0.0744 | VaL: 0.2710, Acc: 0.9294, F1: 0.9299\n"
     ]
    },
    {
     "name": "stderr",
     "output_type": "stream",
     "text": [
      "[Fold 5][Epoch 8/60] Training: 100%|██████████| 340/340 [00:51<00:00,  6.57it/s, loss=0.0828]  \n",
      "[Fold 5][Epoch 8/60] Validation: 100%|██████████| 85/85 [00:03<00:00, 27.35it/s]\n"
     ]
    },
    {
     "name": "stdout",
     "output_type": "stream",
     "text": [
      "[F5] Ep8 - Train: 0.0609 | VaL: 0.2976, Acc: 0.9294, F1: 0.9293\n"
     ]
    },
    {
     "name": "stderr",
     "output_type": "stream",
     "text": [
      "[Fold 5][Epoch 9/60] Training: 100%|██████████| 340/340 [00:51<00:00,  6.58it/s, loss=0.000914]\n",
      "[Fold 5][Epoch 9/60] Validation: 100%|██████████| 85/85 [00:03<00:00, 27.23it/s]\n"
     ]
    },
    {
     "name": "stdout",
     "output_type": "stream",
     "text": [
      "[F5] Ep9 - Train: 0.0136 | VaL: 0.2837, Acc: 0.9500, F1: 0.9484\n"
     ]
    },
    {
     "name": "stderr",
     "output_type": "stream",
     "text": [
      "[Fold 5][Epoch 10/60] Training: 100%|██████████| 340/340 [00:51<00:00,  6.58it/s, loss=7.2e-5]  \n",
      "[Fold 5][Epoch 10/60] Validation: 100%|██████████| 85/85 [00:03<00:00, 27.50it/s]\n"
     ]
    },
    {
     "name": "stdout",
     "output_type": "stream",
     "text": [
      "[F5] Ep10 - Train: 0.0015 | VaL: 0.2341, Acc: 0.9529, F1: 0.9531\n"
     ]
    },
    {
     "name": "stderr",
     "output_type": "stream",
     "text": [
      "[Fold 5][Epoch 11/60] Training: 100%|██████████| 340/340 [00:51<00:00,  6.58it/s, loss=0.000159]\n",
      "[Fold 5][Epoch 11/60] Validation: 100%|██████████| 85/85 [00:03<00:00, 26.85it/s]\n"
     ]
    },
    {
     "name": "stdout",
     "output_type": "stream",
     "text": [
      "[F5] Ep11 - Train: 0.0009 | VaL: 0.2294, Acc: 0.9529, F1: 0.9532\n"
     ]
    },
    {
     "name": "stderr",
     "output_type": "stream",
     "text": [
      "[Fold 5][Epoch 12/60] Training: 100%|██████████| 340/340 [00:51<00:00,  6.59it/s, loss=2.53e-5] \n",
      "[Fold 5][Epoch 12/60] Validation: 100%|██████████| 85/85 [00:03<00:00, 27.31it/s]\n"
     ]
    },
    {
     "name": "stdout",
     "output_type": "stream",
     "text": [
      "[F5] Ep12 - Train: 0.0007 | VaL: 0.3269, Acc: 0.9471, F1: 0.9462\n"
     ]
    },
    {
     "name": "stderr",
     "output_type": "stream",
     "text": [
      "[Fold 5][Epoch 13/60] Training: 100%|██████████| 340/340 [00:51<00:00,  6.59it/s, loss=0.0486]  \n",
      "[Fold 5][Epoch 13/60] Validation: 100%|██████████| 85/85 [00:03<00:00, 27.56it/s]\n"
     ]
    },
    {
     "name": "stdout",
     "output_type": "stream",
     "text": [
      "[F5] Ep13 - Train: 0.0416 | VaL: 0.6529, Acc: 0.8676, F1: 0.8481\n"
     ]
    },
    {
     "name": "stderr",
     "output_type": "stream",
     "text": [
      "[Fold 5][Epoch 14/60] Training: 100%|██████████| 340/340 [00:51<00:00,  6.57it/s, loss=0.000354]\n",
      "[Fold 5][Epoch 14/60] Validation: 100%|██████████| 85/85 [00:03<00:00, 27.05it/s]\n"
     ]
    },
    {
     "name": "stdout",
     "output_type": "stream",
     "text": [
      "[F5] Ep14 - Train: 0.1022 | VaL: 0.4038, Acc: 0.9206, F1: 0.9175\n"
     ]
    },
    {
     "name": "stderr",
     "output_type": "stream",
     "text": [
      "[Fold 5][Epoch 15/60] Training: 100%|██████████| 340/340 [00:51<00:00,  6.58it/s, loss=0.000153]\n",
      "[Fold 5][Epoch 15/60] Validation: 100%|██████████| 85/85 [00:03<00:00, 27.29it/s]\n"
     ]
    },
    {
     "name": "stdout",
     "output_type": "stream",
     "text": [
      "[F5] Ep15 - Train: 0.0470 | VaL: 0.2045, Acc: 0.9471, F1: 0.9471\n"
     ]
    },
    {
     "name": "stderr",
     "output_type": "stream",
     "text": [
      "[Fold 5][Epoch 16/60] Training: 100%|██████████| 340/340 [00:51<00:00,  6.59it/s, loss=0.00122] \n",
      "[Fold 5][Epoch 16/60] Validation: 100%|██████████| 85/85 [00:03<00:00, 26.89it/s]"
     ]
    },
    {
     "name": "stdout",
     "output_type": "stream",
     "text": [
      "[F5] Ep16 - Train: 0.0314 | VaL: 0.2617, Acc: 0.9471, F1: 0.9467\n",
      "[Fold 5] Early stopping triggered. Best F1: 0.9532\n"
     ]
    },
    {
     "name": "stderr",
     "output_type": "stream",
     "text": [
      "\n"
     ]
    },
    {
     "data": {
      "text/html": [],
      "text/plain": [
       "<IPython.core.display.HTML object>"
      ]
     },
     "metadata": {},
     "output_type": "display_data"
    },
    {
     "data": {
      "text/html": [
       "<br>    <style><br>        .wandb-row {<br>            display: flex;<br>            flex-direction: row;<br>            flex-wrap: wrap;<br>            justify-content: flex-start;<br>            width: 100%;<br>        }<br>        .wandb-col {<br>            display: flex;<br>            flex-direction: column;<br>            flex-basis: 100%;<br>            flex: 1;<br>            padding: 10px;<br>        }<br>    </style><br><div class=\"wandb-row\"><div class=\"wandb-col\"><h3>Run history:</h3><br/><table class=\"wandb\"><tr><td>epoch</td><td>▁▁▂▂▃▃▄▄▅▅▆▆▇▇██</td></tr><tr><td>fold</td><td>▁▁▁▁▁▁▁▁▁▁▁▁▁▁▁▁</td></tr><tr><td>train_loss</td><td>█▂▂▂▂▁▁▁▁▁▁▁▁▂▁▁</td></tr><tr><td>val_acc</td><td>▁▄▄▃▇▇▆▆████▂▆██</td></tr><tr><td>val_f1</td><td>▁▄▄▄▇▇▆▆████▁▆██</td></tr><tr><td>val_loss</td><td>▃▂▂▂▁▂▂▂▂▁▁▃█▄▁▂</td></tr></table><br/></div><div class=\"wandb-col\"><h3>Run summary:</h3><br/><table class=\"wandb\"><tr><td>epoch</td><td>16</td></tr><tr><td>fold</td><td>5</td></tr><tr><td>train_loss</td><td>0.03137</td></tr><tr><td>val_acc</td><td>0.94706</td></tr><tr><td>val_f1</td><td>0.9467</td></tr><tr><td>val_loss</td><td>0.26175</td></tr></table><br/></div></div>"
      ],
      "text/plain": [
       "<IPython.core.display.HTML object>"
      ]
     },
     "metadata": {},
     "output_type": "display_data"
    },
    {
     "data": {
      "text/html": [
       " View run <strong style=\"color:#cdcd00\">fold_5</strong> at: <a href='https://wandb.ai/moonstalker9010-none/Document%20Classification/runs/soq68bjh' target=\"_blank\">https://wandb.ai/moonstalker9010-none/Document%20Classification/runs/soq68bjh</a><br> View project at: <a href='https://wandb.ai/moonstalker9010-none/Document%20Classification' target=\"_blank\">https://wandb.ai/moonstalker9010-none/Document%20Classification</a><br>Synced 5 W&B file(s), 0 media file(s), 0 artifact file(s) and 0 other file(s)"
      ],
      "text/plain": [
       "<IPython.core.display.HTML object>"
      ]
     },
     "metadata": {},
     "output_type": "display_data"
    },
    {
     "data": {
      "text/html": [
       "Find logs at: <code>../../wandb/run-20250702_151648-soq68bjh/logs</code>"
      ],
      "text/plain": [
       "<IPython.core.display.HTML object>"
      ]
     },
     "metadata": {},
     "output_type": "display_data"
    }
   ],
   "source": [
    "kf = StratifiedKFold(n_splits=5, shuffle=True, random_state=42)\n",
    "\n",
    "for fold, (train_idx, val_idx) in enumerate(kf.split(train_dfs, train_dfs['target'])):\n",
    "    print(f\"\\n=== Fold {fold+1} ===\")\n",
    "    train_fold_df = train_dfs.iloc[train_idx].reset_index(drop=True)\n",
    "    val_fold_df = train_dfs.iloc[val_idx].reset_index(drop=True)\n",
    "\n",
    "    train_dataset = ImageDataset(train_fold_df, transform=train_transform)\n",
    "    val_dataset = ImageDataset(val_fold_df, transform=test_transform)\n",
    "\n",
    "    train_loader = DataLoader(train_dataset, batch_size=BATCH_SIZE, shuffle=True, num_workers=num_workers)\n",
    "    val_loader = DataLoader(val_dataset, batch_size=BATCH_SIZE, shuffle=False, num_workers=num_workers)\n",
    "    print(f\"Fold {fold+1}: Train samples={len(train_fold_df)}, Val samples={len(val_fold_df)}\")\n",
    "\n",
    "    # 모델 정의\n",
    "    model = timm.create_model(model_name, pretrained=True, num_classes=17, drop_path_rate=0.3).to(device) # drop_path_rate=0.2\n",
    "    loss_fn = nn.CrossEntropyLoss()\n",
    "    optimizer = torch.optim.Adam(model.parameters(), lr=LR)\n",
    "\n",
    "    best_f1 = -1.0\n",
    "    patience = 5\n",
    "    trigger = 0\n",
    "\n",
    "    os.environ[\"WANDB_DIR\"] = \"../../\"\n",
    "\n",
    "    # WandB 초기화\n",
    "    wandb.init(\n",
    "        project=\"Document Classification\",\n",
    "        entity=\"moonstalker9010-none\",\n",
    "        name=f\"fold_{fold+1}\",\n",
    "        config={\n",
    "            \"epochs\": EPOCHS,\n",
    "            \"img_size\": img_size,\n",
    "            \"batch_size\": BATCH_SIZE,\n",
    "            \"learning_rate\": LR,\n",
    "            \"model_name\": model_name,\n",
    "        }\n",
    "    )\n",
    "\n",
    "    for epoch in range(1, EPOCHS + 1):\n",
    "        # 학습\n",
    "        model.train()\n",
    "        train_loss = 0.0\n",
    "        train_bar = tqdm(train_loader, desc=f\"[Fold {fold+1}][Epoch {epoch}/{EPOCHS}] Training\")\n",
    "        for images, targets in train_bar:\n",
    "            images, targets = images.to(device), targets.to(device)\n",
    "            optimizer.zero_grad()\n",
    "            outputs = model(images)\n",
    "            loss = loss_fn(outputs, targets)\n",
    "            loss.backward()\n",
    "            optimizer.step()\n",
    "            train_loss += loss.item()\n",
    "            train_bar.set_postfix(loss=loss.item())\n",
    "\n",
    "        avg_train_loss = train_loss / len(train_loader)\n",
    "\n",
    "        # 검증\n",
    "        model.eval()\n",
    "        val_loss = 0.0\n",
    "        correct = 0\n",
    "        total = 0\n",
    "        all_preds = []\n",
    "        all_targets = []\n",
    "\n",
    "        with torch.no_grad():\n",
    "            val_bar = tqdm(val_loader, desc=f\"[Fold {fold+1}][Epoch {epoch}/{EPOCHS}] Validation\")\n",
    "            for images, targets in val_bar:\n",
    "                images, targets = images.to(device), targets.to(device)\n",
    "                outputs = model(images)\n",
    "                loss = loss_fn(outputs, targets)\n",
    "                val_loss += loss.item()\n",
    "\n",
    "                _, preds = torch.max(outputs, 1)\n",
    "                all_preds.extend(preds.cpu().numpy())\n",
    "                all_targets.extend(targets.cpu().numpy())\n",
    "\n",
    "                correct += (preds == targets).sum().item()\n",
    "                total += targets.size(0)\n",
    "\n",
    "        avg_val_loss = val_loss / len(val_loader)\n",
    "        val_acc = correct / total\n",
    "        val_f1 = f1_score(all_targets, all_preds, average='macro')\n",
    "\n",
    "        print(f\"[F{fold+1}] Ep{epoch} - \"\n",
    "              f\"Train: {avg_train_loss:.4f} | VaL: {avg_val_loss:.4f}, \"\n",
    "              f\"Acc: {val_acc:.4f}, F1: {val_f1:.4f}\")\n",
    "\n",
    "        # WandB 로깅\n",
    "        wandb.log({\n",
    "            \"fold\": fold + 1,\n",
    "            \"epoch\": epoch,\n",
    "            \"train_loss\": avg_train_loss,\n",
    "            \"val_loss\": avg_val_loss,\n",
    "            \"val_acc\": val_acc,\n",
    "            \"val_f1\": val_f1,\n",
    "        })\n",
    "\n",
    "        # EarlyStopping\n",
    "        if val_f1 > best_f1:\n",
    "            best_f1 = val_f1\n",
    "            trigger = 0\n",
    "            save_dir = \"../../model\"\n",
    "            os.makedirs(save_dir, exist_ok=True)\n",
    "            torch.save(model.state_dict(), os.path.join(save_dir, f\"model_fold{fold+1}.pth\"))\n",
    "        else:\n",
    "            trigger += 1\n",
    "            if trigger >= patience:\n",
    "                print(f\"[Fold {fold+1}] Early stopping triggered. Best F1: {best_f1:.4f}\")\n",
    "                break\n",
    "\n",
    "    wandb.finish()"
   ]
  },
  {
   "cell_type": "code",
   "execution_count": 13,
   "id": "fec72016",
   "metadata": {},
   "outputs": [
    {
     "data": {
      "text/html": [
       "<div>\n",
       "<style scoped>\n",
       "    .dataframe tbody tr th:only-of-type {\n",
       "        vertical-align: middle;\n",
       "    }\n",
       "\n",
       "    .dataframe tbody tr th {\n",
       "        vertical-align: top;\n",
       "    }\n",
       "\n",
       "    .dataframe thead th {\n",
       "        text-align: right;\n",
       "    }\n",
       "</style>\n",
       "<table border=\"1\" class=\"dataframe\">\n",
       "  <thead>\n",
       "    <tr style=\"text-align: right;\">\n",
       "      <th></th>\n",
       "      <th>target</th>\n",
       "      <th>class_name</th>\n",
       "    </tr>\n",
       "  </thead>\n",
       "  <tbody>\n",
       "    <tr>\n",
       "      <th>0</th>\n",
       "      <td>0</td>\n",
       "      <td>account_number</td>\n",
       "    </tr>\n",
       "    <tr>\n",
       "      <th>1</th>\n",
       "      <td>1</td>\n",
       "      <td>application_for_payment_of_pregnancy_medical_e...</td>\n",
       "    </tr>\n",
       "    <tr>\n",
       "      <th>2</th>\n",
       "      <td>2</td>\n",
       "      <td>car_dashboard</td>\n",
       "    </tr>\n",
       "    <tr>\n",
       "      <th>3</th>\n",
       "      <td>3</td>\n",
       "      <td>confirmation_of_admission_and_discharge</td>\n",
       "    </tr>\n",
       "    <tr>\n",
       "      <th>4</th>\n",
       "      <td>4</td>\n",
       "      <td>diagnosis</td>\n",
       "    </tr>\n",
       "    <tr>\n",
       "      <th>5</th>\n",
       "      <td>5</td>\n",
       "      <td>driver_lisence</td>\n",
       "    </tr>\n",
       "    <tr>\n",
       "      <th>6</th>\n",
       "      <td>6</td>\n",
       "      <td>medical_bill_receipts</td>\n",
       "    </tr>\n",
       "    <tr>\n",
       "      <th>7</th>\n",
       "      <td>7</td>\n",
       "      <td>medical_outpatient_certificate</td>\n",
       "    </tr>\n",
       "    <tr>\n",
       "      <th>8</th>\n",
       "      <td>8</td>\n",
       "      <td>national_id_card</td>\n",
       "    </tr>\n",
       "    <tr>\n",
       "      <th>9</th>\n",
       "      <td>9</td>\n",
       "      <td>passport</td>\n",
       "    </tr>\n",
       "    <tr>\n",
       "      <th>10</th>\n",
       "      <td>10</td>\n",
       "      <td>payment_confirmation</td>\n",
       "    </tr>\n",
       "    <tr>\n",
       "      <th>11</th>\n",
       "      <td>11</td>\n",
       "      <td>pharmaceutical_receipt</td>\n",
       "    </tr>\n",
       "    <tr>\n",
       "      <th>12</th>\n",
       "      <td>12</td>\n",
       "      <td>prescription</td>\n",
       "    </tr>\n",
       "    <tr>\n",
       "      <th>13</th>\n",
       "      <td>13</td>\n",
       "      <td>resume</td>\n",
       "    </tr>\n",
       "    <tr>\n",
       "      <th>14</th>\n",
       "      <td>14</td>\n",
       "      <td>statement_of_opinion</td>\n",
       "    </tr>\n",
       "    <tr>\n",
       "      <th>15</th>\n",
       "      <td>15</td>\n",
       "      <td>vehicle_registration_certificate</td>\n",
       "    </tr>\n",
       "    <tr>\n",
       "      <th>16</th>\n",
       "      <td>16</td>\n",
       "      <td>vehicle_registration_plate</td>\n",
       "    </tr>\n",
       "  </tbody>\n",
       "</table>\n",
       "</div>"
      ],
      "text/plain": [
       "    target                                         class_name\n",
       "0        0                                     account_number\n",
       "1        1  application_for_payment_of_pregnancy_medical_e...\n",
       "2        2                                      car_dashboard\n",
       "3        3            confirmation_of_admission_and_discharge\n",
       "4        4                                          diagnosis\n",
       "5        5                                     driver_lisence\n",
       "6        6                              medical_bill_receipts\n",
       "7        7                     medical_outpatient_certificate\n",
       "8        8                                   national_id_card\n",
       "9        9                                           passport\n",
       "10      10                               payment_confirmation\n",
       "11      11                             pharmaceutical_receipt\n",
       "12      12                                       prescription\n",
       "13      13                                             resume\n",
       "14      14                               statement_of_opinion\n",
       "15      15                   vehicle_registration_certificate\n",
       "16      16                         vehicle_registration_plate"
      ]
     },
     "execution_count": 13,
     "metadata": {},
     "output_type": "execute_result"
    }
   ],
   "source": [
    "meta_data"
   ]
  },
  {
   "cell_type": "markdown",
   "id": "a129a87a",
   "metadata": {},
   "source": [
    "### Ensemble"
   ]
  },
  {
   "cell_type": "code",
   "execution_count": 15,
   "id": "f7e3fd5d",
   "metadata": {},
   "outputs": [],
   "source": [
    "class Image_Dataset(Dataset):\n",
    "    def __init__(self, csv, path, transform=None):\n",
    "        self.df = pd.read_csv(csv).values\n",
    "        self.path = path\n",
    "        self.transform = transform\n",
    "\n",
    "    def __len__(self):\n",
    "        return len(self.df)\n",
    "\n",
    "    def __getitem__(self, idx):\n",
    "        # 테스트셋: target 없으면 예외처리\n",
    "        if self.df.shape[1] == 2:\n",
    "            name, target = self.df[idx]\n",
    "        else:\n",
    "            name = self.df[idx][0]\n",
    "            target = -1  # placeholder\n",
    "\n",
    "        img = np.array(Image.open(os.path.join(self.path, name)))\n",
    "        if self.transform:\n",
    "            img = self.transform(image=img)['image']\n",
    "        return img, target"
   ]
  },
  {
   "cell_type": "code",
   "execution_count": 20,
   "id": "7c03907d",
   "metadata": {},
   "outputs": [],
   "source": [
    "inference_path = \"../../data/sample_submission.csv\"\n",
    "test_dataset = Image_Dataset(inference_path, test_path, transform=test_transform)\n",
    "test_loader = DataLoader(test_dataset, batch_size=BATCH_SIZE, shuffle=False, num_workers=num_workers)\n",
    "\n",
    "models = []\n",
    "for fold in range(1, 6):\n",
    "    model = timm.create_model(model_name, pretrained=False, num_classes=17, drop_path_rate=0.3).to(device)\n",
    "    model.load_state_dict(torch.load(f\"../../model/model_fold{fold}.pth\"))\n",
    "    model.eval()  # 추론 모드\n",
    "    models.append(model)"
   ]
  },
  {
   "cell_type": "code",
   "execution_count": 21,
   "id": "b81265e0",
   "metadata": {},
   "outputs": [
    {
     "data": {
      "text/plain": [
       "[ConvNeXt(\n",
       "   (stem): Sequential(\n",
       "     (0): Conv2d(3, 192, kernel_size=(4, 4), stride=(4, 4))\n",
       "     (1): LayerNorm2d((192,), eps=1e-06, elementwise_affine=True)\n",
       "   )\n",
       "   (stages): Sequential(\n",
       "     (0): ConvNeXtStage(\n",
       "       (downsample): Identity()\n",
       "       (blocks): Sequential(\n",
       "         (0): ConvNeXtBlock(\n",
       "           (conv_dw): Conv2d(192, 192, kernel_size=(7, 7), stride=(1, 1), padding=(3, 3), groups=192)\n",
       "           (norm): LayerNorm((192,), eps=1e-06, elementwise_affine=True)\n",
       "           (mlp): GlobalResponseNormMlp(\n",
       "             (fc1): Linear(in_features=192, out_features=768, bias=True)\n",
       "             (act): GELU()\n",
       "             (drop1): Dropout(p=0.0, inplace=False)\n",
       "             (grn): GlobalResponseNorm()\n",
       "             (fc2): Linear(in_features=768, out_features=192, bias=True)\n",
       "             (drop2): Dropout(p=0.0, inplace=False)\n",
       "           )\n",
       "           (shortcut): Identity()\n",
       "           (drop_path): Identity()\n",
       "         )\n",
       "         (1): ConvNeXtBlock(\n",
       "           (conv_dw): Conv2d(192, 192, kernel_size=(7, 7), stride=(1, 1), padding=(3, 3), groups=192)\n",
       "           (norm): LayerNorm((192,), eps=1e-06, elementwise_affine=True)\n",
       "           (mlp): GlobalResponseNormMlp(\n",
       "             (fc1): Linear(in_features=192, out_features=768, bias=True)\n",
       "             (act): GELU()\n",
       "             (drop1): Dropout(p=0.0, inplace=False)\n",
       "             (grn): GlobalResponseNorm()\n",
       "             (fc2): Linear(in_features=768, out_features=192, bias=True)\n",
       "             (drop2): Dropout(p=0.0, inplace=False)\n",
       "           )\n",
       "           (shortcut): Identity()\n",
       "           (drop_path): DropPath(drop_prob=0.009)\n",
       "         )\n",
       "         (2): ConvNeXtBlock(\n",
       "           (conv_dw): Conv2d(192, 192, kernel_size=(7, 7), stride=(1, 1), padding=(3, 3), groups=192)\n",
       "           (norm): LayerNorm((192,), eps=1e-06, elementwise_affine=True)\n",
       "           (mlp): GlobalResponseNormMlp(\n",
       "             (fc1): Linear(in_features=192, out_features=768, bias=True)\n",
       "             (act): GELU()\n",
       "             (drop1): Dropout(p=0.0, inplace=False)\n",
       "             (grn): GlobalResponseNorm()\n",
       "             (fc2): Linear(in_features=768, out_features=192, bias=True)\n",
       "             (drop2): Dropout(p=0.0, inplace=False)\n",
       "           )\n",
       "           (shortcut): Identity()\n",
       "           (drop_path): DropPath(drop_prob=0.017)\n",
       "         )\n",
       "       )\n",
       "     )\n",
       "     (1): ConvNeXtStage(\n",
       "       (downsample): Sequential(\n",
       "         (0): LayerNorm2d((192,), eps=1e-06, elementwise_affine=True)\n",
       "         (1): Conv2d(192, 384, kernel_size=(2, 2), stride=(2, 2))\n",
       "       )\n",
       "       (blocks): Sequential(\n",
       "         (0): ConvNeXtBlock(\n",
       "           (conv_dw): Conv2d(384, 384, kernel_size=(7, 7), stride=(1, 1), padding=(3, 3), groups=384)\n",
       "           (norm): LayerNorm((384,), eps=1e-06, elementwise_affine=True)\n",
       "           (mlp): GlobalResponseNormMlp(\n",
       "             (fc1): Linear(in_features=384, out_features=1536, bias=True)\n",
       "             (act): GELU()\n",
       "             (drop1): Dropout(p=0.0, inplace=False)\n",
       "             (grn): GlobalResponseNorm()\n",
       "             (fc2): Linear(in_features=1536, out_features=384, bias=True)\n",
       "             (drop2): Dropout(p=0.0, inplace=False)\n",
       "           )\n",
       "           (shortcut): Identity()\n",
       "           (drop_path): DropPath(drop_prob=0.026)\n",
       "         )\n",
       "         (1): ConvNeXtBlock(\n",
       "           (conv_dw): Conv2d(384, 384, kernel_size=(7, 7), stride=(1, 1), padding=(3, 3), groups=384)\n",
       "           (norm): LayerNorm((384,), eps=1e-06, elementwise_affine=True)\n",
       "           (mlp): GlobalResponseNormMlp(\n",
       "             (fc1): Linear(in_features=384, out_features=1536, bias=True)\n",
       "             (act): GELU()\n",
       "             (drop1): Dropout(p=0.0, inplace=False)\n",
       "             (grn): GlobalResponseNorm()\n",
       "             (fc2): Linear(in_features=1536, out_features=384, bias=True)\n",
       "             (drop2): Dropout(p=0.0, inplace=False)\n",
       "           )\n",
       "           (shortcut): Identity()\n",
       "           (drop_path): DropPath(drop_prob=0.034)\n",
       "         )\n",
       "         (2): ConvNeXtBlock(\n",
       "           (conv_dw): Conv2d(384, 384, kernel_size=(7, 7), stride=(1, 1), padding=(3, 3), groups=384)\n",
       "           (norm): LayerNorm((384,), eps=1e-06, elementwise_affine=True)\n",
       "           (mlp): GlobalResponseNormMlp(\n",
       "             (fc1): Linear(in_features=384, out_features=1536, bias=True)\n",
       "             (act): GELU()\n",
       "             (drop1): Dropout(p=0.0, inplace=False)\n",
       "             (grn): GlobalResponseNorm()\n",
       "             (fc2): Linear(in_features=1536, out_features=384, bias=True)\n",
       "             (drop2): Dropout(p=0.0, inplace=False)\n",
       "           )\n",
       "           (shortcut): Identity()\n",
       "           (drop_path): DropPath(drop_prob=0.043)\n",
       "         )\n",
       "       )\n",
       "     )\n",
       "     (2): ConvNeXtStage(\n",
       "       (downsample): Sequential(\n",
       "         (0): LayerNorm2d((384,), eps=1e-06, elementwise_affine=True)\n",
       "         (1): Conv2d(384, 768, kernel_size=(2, 2), stride=(2, 2))\n",
       "       )\n",
       "       (blocks): Sequential(\n",
       "         (0): ConvNeXtBlock(\n",
       "           (conv_dw): Conv2d(768, 768, kernel_size=(7, 7), stride=(1, 1), padding=(3, 3), groups=768)\n",
       "           (norm): LayerNorm((768,), eps=1e-06, elementwise_affine=True)\n",
       "           (mlp): GlobalResponseNormMlp(\n",
       "             (fc1): Linear(in_features=768, out_features=3072, bias=True)\n",
       "             (act): GELU()\n",
       "             (drop1): Dropout(p=0.0, inplace=False)\n",
       "             (grn): GlobalResponseNorm()\n",
       "             (fc2): Linear(in_features=3072, out_features=768, bias=True)\n",
       "             (drop2): Dropout(p=0.0, inplace=False)\n",
       "           )\n",
       "           (shortcut): Identity()\n",
       "           (drop_path): DropPath(drop_prob=0.051)\n",
       "         )\n",
       "         (1): ConvNeXtBlock(\n",
       "           (conv_dw): Conv2d(768, 768, kernel_size=(7, 7), stride=(1, 1), padding=(3, 3), groups=768)\n",
       "           (norm): LayerNorm((768,), eps=1e-06, elementwise_affine=True)\n",
       "           (mlp): GlobalResponseNormMlp(\n",
       "             (fc1): Linear(in_features=768, out_features=3072, bias=True)\n",
       "             (act): GELU()\n",
       "             (drop1): Dropout(p=0.0, inplace=False)\n",
       "             (grn): GlobalResponseNorm()\n",
       "             (fc2): Linear(in_features=3072, out_features=768, bias=True)\n",
       "             (drop2): Dropout(p=0.0, inplace=False)\n",
       "           )\n",
       "           (shortcut): Identity()\n",
       "           (drop_path): DropPath(drop_prob=0.060)\n",
       "         )\n",
       "         (2): ConvNeXtBlock(\n",
       "           (conv_dw): Conv2d(768, 768, kernel_size=(7, 7), stride=(1, 1), padding=(3, 3), groups=768)\n",
       "           (norm): LayerNorm((768,), eps=1e-06, elementwise_affine=True)\n",
       "           (mlp): GlobalResponseNormMlp(\n",
       "             (fc1): Linear(in_features=768, out_features=3072, bias=True)\n",
       "             (act): GELU()\n",
       "             (drop1): Dropout(p=0.0, inplace=False)\n",
       "             (grn): GlobalResponseNorm()\n",
       "             (fc2): Linear(in_features=3072, out_features=768, bias=True)\n",
       "             (drop2): Dropout(p=0.0, inplace=False)\n",
       "           )\n",
       "           (shortcut): Identity()\n",
       "           (drop_path): DropPath(drop_prob=0.069)\n",
       "         )\n",
       "         (3): ConvNeXtBlock(\n",
       "           (conv_dw): Conv2d(768, 768, kernel_size=(7, 7), stride=(1, 1), padding=(3, 3), groups=768)\n",
       "           (norm): LayerNorm((768,), eps=1e-06, elementwise_affine=True)\n",
       "           (mlp): GlobalResponseNormMlp(\n",
       "             (fc1): Linear(in_features=768, out_features=3072, bias=True)\n",
       "             (act): GELU()\n",
       "             (drop1): Dropout(p=0.0, inplace=False)\n",
       "             (grn): GlobalResponseNorm()\n",
       "             (fc2): Linear(in_features=3072, out_features=768, bias=True)\n",
       "             (drop2): Dropout(p=0.0, inplace=False)\n",
       "           )\n",
       "           (shortcut): Identity()\n",
       "           (drop_path): DropPath(drop_prob=0.077)\n",
       "         )\n",
       "         (4): ConvNeXtBlock(\n",
       "           (conv_dw): Conv2d(768, 768, kernel_size=(7, 7), stride=(1, 1), padding=(3, 3), groups=768)\n",
       "           (norm): LayerNorm((768,), eps=1e-06, elementwise_affine=True)\n",
       "           (mlp): GlobalResponseNormMlp(\n",
       "             (fc1): Linear(in_features=768, out_features=3072, bias=True)\n",
       "             (act): GELU()\n",
       "             (drop1): Dropout(p=0.0, inplace=False)\n",
       "             (grn): GlobalResponseNorm()\n",
       "             (fc2): Linear(in_features=3072, out_features=768, bias=True)\n",
       "             (drop2): Dropout(p=0.0, inplace=False)\n",
       "           )\n",
       "           (shortcut): Identity()\n",
       "           (drop_path): DropPath(drop_prob=0.086)\n",
       "         )\n",
       "         (5): ConvNeXtBlock(\n",
       "           (conv_dw): Conv2d(768, 768, kernel_size=(7, 7), stride=(1, 1), padding=(3, 3), groups=768)\n",
       "           (norm): LayerNorm((768,), eps=1e-06, elementwise_affine=True)\n",
       "           (mlp): GlobalResponseNormMlp(\n",
       "             (fc1): Linear(in_features=768, out_features=3072, bias=True)\n",
       "             (act): GELU()\n",
       "             (drop1): Dropout(p=0.0, inplace=False)\n",
       "             (grn): GlobalResponseNorm()\n",
       "             (fc2): Linear(in_features=3072, out_features=768, bias=True)\n",
       "             (drop2): Dropout(p=0.0, inplace=False)\n",
       "           )\n",
       "           (shortcut): Identity()\n",
       "           (drop_path): DropPath(drop_prob=0.094)\n",
       "         )\n",
       "         (6): ConvNeXtBlock(\n",
       "           (conv_dw): Conv2d(768, 768, kernel_size=(7, 7), stride=(1, 1), padding=(3, 3), groups=768)\n",
       "           (norm): LayerNorm((768,), eps=1e-06, elementwise_affine=True)\n",
       "           (mlp): GlobalResponseNormMlp(\n",
       "             (fc1): Linear(in_features=768, out_features=3072, bias=True)\n",
       "             (act): GELU()\n",
       "             (drop1): Dropout(p=0.0, inplace=False)\n",
       "             (grn): GlobalResponseNorm()\n",
       "             (fc2): Linear(in_features=3072, out_features=768, bias=True)\n",
       "             (drop2): Dropout(p=0.0, inplace=False)\n",
       "           )\n",
       "           (shortcut): Identity()\n",
       "           (drop_path): DropPath(drop_prob=0.103)\n",
       "         )\n",
       "         (7): ConvNeXtBlock(\n",
       "           (conv_dw): Conv2d(768, 768, kernel_size=(7, 7), stride=(1, 1), padding=(3, 3), groups=768)\n",
       "           (norm): LayerNorm((768,), eps=1e-06, elementwise_affine=True)\n",
       "           (mlp): GlobalResponseNormMlp(\n",
       "             (fc1): Linear(in_features=768, out_features=3072, bias=True)\n",
       "             (act): GELU()\n",
       "             (drop1): Dropout(p=0.0, inplace=False)\n",
       "             (grn): GlobalResponseNorm()\n",
       "             (fc2): Linear(in_features=3072, out_features=768, bias=True)\n",
       "             (drop2): Dropout(p=0.0, inplace=False)\n",
       "           )\n",
       "           (shortcut): Identity()\n",
       "           (drop_path): DropPath(drop_prob=0.111)\n",
       "         )\n",
       "         (8): ConvNeXtBlock(\n",
       "           (conv_dw): Conv2d(768, 768, kernel_size=(7, 7), stride=(1, 1), padding=(3, 3), groups=768)\n",
       "           (norm): LayerNorm((768,), eps=1e-06, elementwise_affine=True)\n",
       "           (mlp): GlobalResponseNormMlp(\n",
       "             (fc1): Linear(in_features=768, out_features=3072, bias=True)\n",
       "             (act): GELU()\n",
       "             (drop1): Dropout(p=0.0, inplace=False)\n",
       "             (grn): GlobalResponseNorm()\n",
       "             (fc2): Linear(in_features=3072, out_features=768, bias=True)\n",
       "             (drop2): Dropout(p=0.0, inplace=False)\n",
       "           )\n",
       "           (shortcut): Identity()\n",
       "           (drop_path): DropPath(drop_prob=0.120)\n",
       "         )\n",
       "         (9): ConvNeXtBlock(\n",
       "           (conv_dw): Conv2d(768, 768, kernel_size=(7, 7), stride=(1, 1), padding=(3, 3), groups=768)\n",
       "           (norm): LayerNorm((768,), eps=1e-06, elementwise_affine=True)\n",
       "           (mlp): GlobalResponseNormMlp(\n",
       "             (fc1): Linear(in_features=768, out_features=3072, bias=True)\n",
       "             (act): GELU()\n",
       "             (drop1): Dropout(p=0.0, inplace=False)\n",
       "             (grn): GlobalResponseNorm()\n",
       "             (fc2): Linear(in_features=3072, out_features=768, bias=True)\n",
       "             (drop2): Dropout(p=0.0, inplace=False)\n",
       "           )\n",
       "           (shortcut): Identity()\n",
       "           (drop_path): DropPath(drop_prob=0.129)\n",
       "         )\n",
       "         (10): ConvNeXtBlock(\n",
       "           (conv_dw): Conv2d(768, 768, kernel_size=(7, 7), stride=(1, 1), padding=(3, 3), groups=768)\n",
       "           (norm): LayerNorm((768,), eps=1e-06, elementwise_affine=True)\n",
       "           (mlp): GlobalResponseNormMlp(\n",
       "             (fc1): Linear(in_features=768, out_features=3072, bias=True)\n",
       "             (act): GELU()\n",
       "             (drop1): Dropout(p=0.0, inplace=False)\n",
       "             (grn): GlobalResponseNorm()\n",
       "             (fc2): Linear(in_features=3072, out_features=768, bias=True)\n",
       "             (drop2): Dropout(p=0.0, inplace=False)\n",
       "           )\n",
       "           (shortcut): Identity()\n",
       "           (drop_path): DropPath(drop_prob=0.137)\n",
       "         )\n",
       "         (11): ConvNeXtBlock(\n",
       "           (conv_dw): Conv2d(768, 768, kernel_size=(7, 7), stride=(1, 1), padding=(3, 3), groups=768)\n",
       "           (norm): LayerNorm((768,), eps=1e-06, elementwise_affine=True)\n",
       "           (mlp): GlobalResponseNormMlp(\n",
       "             (fc1): Linear(in_features=768, out_features=3072, bias=True)\n",
       "             (act): GELU()\n",
       "             (drop1): Dropout(p=0.0, inplace=False)\n",
       "             (grn): GlobalResponseNorm()\n",
       "             (fc2): Linear(in_features=3072, out_features=768, bias=True)\n",
       "             (drop2): Dropout(p=0.0, inplace=False)\n",
       "           )\n",
       "           (shortcut): Identity()\n",
       "           (drop_path): DropPath(drop_prob=0.146)\n",
       "         )\n",
       "         (12): ConvNeXtBlock(\n",
       "           (conv_dw): Conv2d(768, 768, kernel_size=(7, 7), stride=(1, 1), padding=(3, 3), groups=768)\n",
       "           (norm): LayerNorm((768,), eps=1e-06, elementwise_affine=True)\n",
       "           (mlp): GlobalResponseNormMlp(\n",
       "             (fc1): Linear(in_features=768, out_features=3072, bias=True)\n",
       "             (act): GELU()\n",
       "             (drop1): Dropout(p=0.0, inplace=False)\n",
       "             (grn): GlobalResponseNorm()\n",
       "             (fc2): Linear(in_features=3072, out_features=768, bias=True)\n",
       "             (drop2): Dropout(p=0.0, inplace=False)\n",
       "           )\n",
       "           (shortcut): Identity()\n",
       "           (drop_path): DropPath(drop_prob=0.154)\n",
       "         )\n",
       "         (13): ConvNeXtBlock(\n",
       "           (conv_dw): Conv2d(768, 768, kernel_size=(7, 7), stride=(1, 1), padding=(3, 3), groups=768)\n",
       "           (norm): LayerNorm((768,), eps=1e-06, elementwise_affine=True)\n",
       "           (mlp): GlobalResponseNormMlp(\n",
       "             (fc1): Linear(in_features=768, out_features=3072, bias=True)\n",
       "             (act): GELU()\n",
       "             (drop1): Dropout(p=0.0, inplace=False)\n",
       "             (grn): GlobalResponseNorm()\n",
       "             (fc2): Linear(in_features=3072, out_features=768, bias=True)\n",
       "             (drop2): Dropout(p=0.0, inplace=False)\n",
       "           )\n",
       "           (shortcut): Identity()\n",
       "           (drop_path): DropPath(drop_prob=0.163)\n",
       "         )\n",
       "         (14): ConvNeXtBlock(\n",
       "           (conv_dw): Conv2d(768, 768, kernel_size=(7, 7), stride=(1, 1), padding=(3, 3), groups=768)\n",
       "           (norm): LayerNorm((768,), eps=1e-06, elementwise_affine=True)\n",
       "           (mlp): GlobalResponseNormMlp(\n",
       "             (fc1): Linear(in_features=768, out_features=3072, bias=True)\n",
       "             (act): GELU()\n",
       "             (drop1): Dropout(p=0.0, inplace=False)\n",
       "             (grn): GlobalResponseNorm()\n",
       "             (fc2): Linear(in_features=3072, out_features=768, bias=True)\n",
       "             (drop2): Dropout(p=0.0, inplace=False)\n",
       "           )\n",
       "           (shortcut): Identity()\n",
       "           (drop_path): DropPath(drop_prob=0.171)\n",
       "         )\n",
       "         (15): ConvNeXtBlock(\n",
       "           (conv_dw): Conv2d(768, 768, kernel_size=(7, 7), stride=(1, 1), padding=(3, 3), groups=768)\n",
       "           (norm): LayerNorm((768,), eps=1e-06, elementwise_affine=True)\n",
       "           (mlp): GlobalResponseNormMlp(\n",
       "             (fc1): Linear(in_features=768, out_features=3072, bias=True)\n",
       "             (act): GELU()\n",
       "             (drop1): Dropout(p=0.0, inplace=False)\n",
       "             (grn): GlobalResponseNorm()\n",
       "             (fc2): Linear(in_features=3072, out_features=768, bias=True)\n",
       "             (drop2): Dropout(p=0.0, inplace=False)\n",
       "           )\n",
       "           (shortcut): Identity()\n",
       "           (drop_path): DropPath(drop_prob=0.180)\n",
       "         )\n",
       "         (16): ConvNeXtBlock(\n",
       "           (conv_dw): Conv2d(768, 768, kernel_size=(7, 7), stride=(1, 1), padding=(3, 3), groups=768)\n",
       "           (norm): LayerNorm((768,), eps=1e-06, elementwise_affine=True)\n",
       "           (mlp): GlobalResponseNormMlp(\n",
       "             (fc1): Linear(in_features=768, out_features=3072, bias=True)\n",
       "             (act): GELU()\n",
       "             (drop1): Dropout(p=0.0, inplace=False)\n",
       "             (grn): GlobalResponseNorm()\n",
       "             (fc2): Linear(in_features=3072, out_features=768, bias=True)\n",
       "             (drop2): Dropout(p=0.0, inplace=False)\n",
       "           )\n",
       "           (shortcut): Identity()\n",
       "           (drop_path): DropPath(drop_prob=0.189)\n",
       "         )\n",
       "         (17): ConvNeXtBlock(\n",
       "           (conv_dw): Conv2d(768, 768, kernel_size=(7, 7), stride=(1, 1), padding=(3, 3), groups=768)\n",
       "           (norm): LayerNorm((768,), eps=1e-06, elementwise_affine=True)\n",
       "           (mlp): GlobalResponseNormMlp(\n",
       "             (fc1): Linear(in_features=768, out_features=3072, bias=True)\n",
       "             (act): GELU()\n",
       "             (drop1): Dropout(p=0.0, inplace=False)\n",
       "             (grn): GlobalResponseNorm()\n",
       "             (fc2): Linear(in_features=3072, out_features=768, bias=True)\n",
       "             (drop2): Dropout(p=0.0, inplace=False)\n",
       "           )\n",
       "           (shortcut): Identity()\n",
       "           (drop_path): DropPath(drop_prob=0.197)\n",
       "         )\n",
       "         (18): ConvNeXtBlock(\n",
       "           (conv_dw): Conv2d(768, 768, kernel_size=(7, 7), stride=(1, 1), padding=(3, 3), groups=768)\n",
       "           (norm): LayerNorm((768,), eps=1e-06, elementwise_affine=True)\n",
       "           (mlp): GlobalResponseNormMlp(\n",
       "             (fc1): Linear(in_features=768, out_features=3072, bias=True)\n",
       "             (act): GELU()\n",
       "             (drop1): Dropout(p=0.0, inplace=False)\n",
       "             (grn): GlobalResponseNorm()\n",
       "             (fc2): Linear(in_features=3072, out_features=768, bias=True)\n",
       "             (drop2): Dropout(p=0.0, inplace=False)\n",
       "           )\n",
       "           (shortcut): Identity()\n",
       "           (drop_path): DropPath(drop_prob=0.206)\n",
       "         )\n",
       "         (19): ConvNeXtBlock(\n",
       "           (conv_dw): Conv2d(768, 768, kernel_size=(7, 7), stride=(1, 1), padding=(3, 3), groups=768)\n",
       "           (norm): LayerNorm((768,), eps=1e-06, elementwise_affine=True)\n",
       "           (mlp): GlobalResponseNormMlp(\n",
       "             (fc1): Linear(in_features=768, out_features=3072, bias=True)\n",
       "             (act): GELU()\n",
       "             (drop1): Dropout(p=0.0, inplace=False)\n",
       "             (grn): GlobalResponseNorm()\n",
       "             (fc2): Linear(in_features=3072, out_features=768, bias=True)\n",
       "             (drop2): Dropout(p=0.0, inplace=False)\n",
       "           )\n",
       "           (shortcut): Identity()\n",
       "           (drop_path): DropPath(drop_prob=0.214)\n",
       "         )\n",
       "         (20): ConvNeXtBlock(\n",
       "           (conv_dw): Conv2d(768, 768, kernel_size=(7, 7), stride=(1, 1), padding=(3, 3), groups=768)\n",
       "           (norm): LayerNorm((768,), eps=1e-06, elementwise_affine=True)\n",
       "           (mlp): GlobalResponseNormMlp(\n",
       "             (fc1): Linear(in_features=768, out_features=3072, bias=True)\n",
       "             (act): GELU()\n",
       "             (drop1): Dropout(p=0.0, inplace=False)\n",
       "             (grn): GlobalResponseNorm()\n",
       "             (fc2): Linear(in_features=3072, out_features=768, bias=True)\n",
       "             (drop2): Dropout(p=0.0, inplace=False)\n",
       "           )\n",
       "           (shortcut): Identity()\n",
       "           (drop_path): DropPath(drop_prob=0.223)\n",
       "         )\n",
       "         (21): ConvNeXtBlock(\n",
       "           (conv_dw): Conv2d(768, 768, kernel_size=(7, 7), stride=(1, 1), padding=(3, 3), groups=768)\n",
       "           (norm): LayerNorm((768,), eps=1e-06, elementwise_affine=True)\n",
       "           (mlp): GlobalResponseNormMlp(\n",
       "             (fc1): Linear(in_features=768, out_features=3072, bias=True)\n",
       "             (act): GELU()\n",
       "             (drop1): Dropout(p=0.0, inplace=False)\n",
       "             (grn): GlobalResponseNorm()\n",
       "             (fc2): Linear(in_features=3072, out_features=768, bias=True)\n",
       "             (drop2): Dropout(p=0.0, inplace=False)\n",
       "           )\n",
       "           (shortcut): Identity()\n",
       "           (drop_path): DropPath(drop_prob=0.231)\n",
       "         )\n",
       "         (22): ConvNeXtBlock(\n",
       "           (conv_dw): Conv2d(768, 768, kernel_size=(7, 7), stride=(1, 1), padding=(3, 3), groups=768)\n",
       "           (norm): LayerNorm((768,), eps=1e-06, elementwise_affine=True)\n",
       "           (mlp): GlobalResponseNormMlp(\n",
       "             (fc1): Linear(in_features=768, out_features=3072, bias=True)\n",
       "             (act): GELU()\n",
       "             (drop1): Dropout(p=0.0, inplace=False)\n",
       "             (grn): GlobalResponseNorm()\n",
       "             (fc2): Linear(in_features=3072, out_features=768, bias=True)\n",
       "             (drop2): Dropout(p=0.0, inplace=False)\n",
       "           )\n",
       "           (shortcut): Identity()\n",
       "           (drop_path): DropPath(drop_prob=0.240)\n",
       "         )\n",
       "         (23): ConvNeXtBlock(\n",
       "           (conv_dw): Conv2d(768, 768, kernel_size=(7, 7), stride=(1, 1), padding=(3, 3), groups=768)\n",
       "           (norm): LayerNorm((768,), eps=1e-06, elementwise_affine=True)\n",
       "           (mlp): GlobalResponseNormMlp(\n",
       "             (fc1): Linear(in_features=768, out_features=3072, bias=True)\n",
       "             (act): GELU()\n",
       "             (drop1): Dropout(p=0.0, inplace=False)\n",
       "             (grn): GlobalResponseNorm()\n",
       "             (fc2): Linear(in_features=3072, out_features=768, bias=True)\n",
       "             (drop2): Dropout(p=0.0, inplace=False)\n",
       "           )\n",
       "           (shortcut): Identity()\n",
       "           (drop_path): DropPath(drop_prob=0.249)\n",
       "         )\n",
       "         (24): ConvNeXtBlock(\n",
       "           (conv_dw): Conv2d(768, 768, kernel_size=(7, 7), stride=(1, 1), padding=(3, 3), groups=768)\n",
       "           (norm): LayerNorm((768,), eps=1e-06, elementwise_affine=True)\n",
       "           (mlp): GlobalResponseNormMlp(\n",
       "             (fc1): Linear(in_features=768, out_features=3072, bias=True)\n",
       "             (act): GELU()\n",
       "             (drop1): Dropout(p=0.0, inplace=False)\n",
       "             (grn): GlobalResponseNorm()\n",
       "             (fc2): Linear(in_features=3072, out_features=768, bias=True)\n",
       "             (drop2): Dropout(p=0.0, inplace=False)\n",
       "           )\n",
       "           (shortcut): Identity()\n",
       "           (drop_path): DropPath(drop_prob=0.257)\n",
       "         )\n",
       "         (25): ConvNeXtBlock(\n",
       "           (conv_dw): Conv2d(768, 768, kernel_size=(7, 7), stride=(1, 1), padding=(3, 3), groups=768)\n",
       "           (norm): LayerNorm((768,), eps=1e-06, elementwise_affine=True)\n",
       "           (mlp): GlobalResponseNormMlp(\n",
       "             (fc1): Linear(in_features=768, out_features=3072, bias=True)\n",
       "             (act): GELU()\n",
       "             (drop1): Dropout(p=0.0, inplace=False)\n",
       "             (grn): GlobalResponseNorm()\n",
       "             (fc2): Linear(in_features=3072, out_features=768, bias=True)\n",
       "             (drop2): Dropout(p=0.0, inplace=False)\n",
       "           )\n",
       "           (shortcut): Identity()\n",
       "           (drop_path): DropPath(drop_prob=0.266)\n",
       "         )\n",
       "         (26): ConvNeXtBlock(\n",
       "           (conv_dw): Conv2d(768, 768, kernel_size=(7, 7), stride=(1, 1), padding=(3, 3), groups=768)\n",
       "           (norm): LayerNorm((768,), eps=1e-06, elementwise_affine=True)\n",
       "           (mlp): GlobalResponseNormMlp(\n",
       "             (fc1): Linear(in_features=768, out_features=3072, bias=True)\n",
       "             (act): GELU()\n",
       "             (drop1): Dropout(p=0.0, inplace=False)\n",
       "             (grn): GlobalResponseNorm()\n",
       "             (fc2): Linear(in_features=3072, out_features=768, bias=True)\n",
       "             (drop2): Dropout(p=0.0, inplace=False)\n",
       "           )\n",
       "           (shortcut): Identity()\n",
       "           (drop_path): DropPath(drop_prob=0.274)\n",
       "         )\n",
       "       )\n",
       "     )\n",
       "     (3): ConvNeXtStage(\n",
       "       (downsample): Sequential(\n",
       "         (0): LayerNorm2d((768,), eps=1e-06, elementwise_affine=True)\n",
       "         (1): Conv2d(768, 1536, kernel_size=(2, 2), stride=(2, 2))\n",
       "       )\n",
       "       (blocks): Sequential(\n",
       "         (0): ConvNeXtBlock(\n",
       "           (conv_dw): Conv2d(1536, 1536, kernel_size=(7, 7), stride=(1, 1), padding=(3, 3), groups=1536)\n",
       "           (norm): LayerNorm((1536,), eps=1e-06, elementwise_affine=True)\n",
       "           (mlp): GlobalResponseNormMlp(\n",
       "             (fc1): Linear(in_features=1536, out_features=6144, bias=True)\n",
       "             (act): GELU()\n",
       "             (drop1): Dropout(p=0.0, inplace=False)\n",
       "             (grn): GlobalResponseNorm()\n",
       "             (fc2): Linear(in_features=6144, out_features=1536, bias=True)\n",
       "             (drop2): Dropout(p=0.0, inplace=False)\n",
       "           )\n",
       "           (shortcut): Identity()\n",
       "           (drop_path): DropPath(drop_prob=0.283)\n",
       "         )\n",
       "         (1): ConvNeXtBlock(\n",
       "           (conv_dw): Conv2d(1536, 1536, kernel_size=(7, 7), stride=(1, 1), padding=(3, 3), groups=1536)\n",
       "           (norm): LayerNorm((1536,), eps=1e-06, elementwise_affine=True)\n",
       "           (mlp): GlobalResponseNormMlp(\n",
       "             (fc1): Linear(in_features=1536, out_features=6144, bias=True)\n",
       "             (act): GELU()\n",
       "             (drop1): Dropout(p=0.0, inplace=False)\n",
       "             (grn): GlobalResponseNorm()\n",
       "             (fc2): Linear(in_features=6144, out_features=1536, bias=True)\n",
       "             (drop2): Dropout(p=0.0, inplace=False)\n",
       "           )\n",
       "           (shortcut): Identity()\n",
       "           (drop_path): DropPath(drop_prob=0.291)\n",
       "         )\n",
       "         (2): ConvNeXtBlock(\n",
       "           (conv_dw): Conv2d(1536, 1536, kernel_size=(7, 7), stride=(1, 1), padding=(3, 3), groups=1536)\n",
       "           (norm): LayerNorm((1536,), eps=1e-06, elementwise_affine=True)\n",
       "           (mlp): GlobalResponseNormMlp(\n",
       "             (fc1): Linear(in_features=1536, out_features=6144, bias=True)\n",
       "             (act): GELU()\n",
       "             (drop1): Dropout(p=0.0, inplace=False)\n",
       "             (grn): GlobalResponseNorm()\n",
       "             (fc2): Linear(in_features=6144, out_features=1536, bias=True)\n",
       "             (drop2): Dropout(p=0.0, inplace=False)\n",
       "           )\n",
       "           (shortcut): Identity()\n",
       "           (drop_path): DropPath(drop_prob=0.300)\n",
       "         )\n",
       "       )\n",
       "     )\n",
       "   )\n",
       "   (norm_pre): Identity()\n",
       "   (head): NormMlpClassifierHead(\n",
       "     (global_pool): SelectAdaptivePool2d(pool_type=avg, flatten=Identity())\n",
       "     (norm): LayerNorm2d((1536,), eps=1e-06, elementwise_affine=True)\n",
       "     (flatten): Flatten(start_dim=1, end_dim=-1)\n",
       "     (pre_logits): Identity()\n",
       "     (drop): Dropout(p=0.0, inplace=False)\n",
       "     (fc): Linear(in_features=1536, out_features=17, bias=True)\n",
       "   )\n",
       " ),\n",
       " ConvNeXt(\n",
       "   (stem): Sequential(\n",
       "     (0): Conv2d(3, 192, kernel_size=(4, 4), stride=(4, 4))\n",
       "     (1): LayerNorm2d((192,), eps=1e-06, elementwise_affine=True)\n",
       "   )\n",
       "   (stages): Sequential(\n",
       "     (0): ConvNeXtStage(\n",
       "       (downsample): Identity()\n",
       "       (blocks): Sequential(\n",
       "         (0): ConvNeXtBlock(\n",
       "           (conv_dw): Conv2d(192, 192, kernel_size=(7, 7), stride=(1, 1), padding=(3, 3), groups=192)\n",
       "           (norm): LayerNorm((192,), eps=1e-06, elementwise_affine=True)\n",
       "           (mlp): GlobalResponseNormMlp(\n",
       "             (fc1): Linear(in_features=192, out_features=768, bias=True)\n",
       "             (act): GELU()\n",
       "             (drop1): Dropout(p=0.0, inplace=False)\n",
       "             (grn): GlobalResponseNorm()\n",
       "             (fc2): Linear(in_features=768, out_features=192, bias=True)\n",
       "             (drop2): Dropout(p=0.0, inplace=False)\n",
       "           )\n",
       "           (shortcut): Identity()\n",
       "           (drop_path): Identity()\n",
       "         )\n",
       "         (1): ConvNeXtBlock(\n",
       "           (conv_dw): Conv2d(192, 192, kernel_size=(7, 7), stride=(1, 1), padding=(3, 3), groups=192)\n",
       "           (norm): LayerNorm((192,), eps=1e-06, elementwise_affine=True)\n",
       "           (mlp): GlobalResponseNormMlp(\n",
       "             (fc1): Linear(in_features=192, out_features=768, bias=True)\n",
       "             (act): GELU()\n",
       "             (drop1): Dropout(p=0.0, inplace=False)\n",
       "             (grn): GlobalResponseNorm()\n",
       "             (fc2): Linear(in_features=768, out_features=192, bias=True)\n",
       "             (drop2): Dropout(p=0.0, inplace=False)\n",
       "           )\n",
       "           (shortcut): Identity()\n",
       "           (drop_path): DropPath(drop_prob=0.009)\n",
       "         )\n",
       "         (2): ConvNeXtBlock(\n",
       "           (conv_dw): Conv2d(192, 192, kernel_size=(7, 7), stride=(1, 1), padding=(3, 3), groups=192)\n",
       "           (norm): LayerNorm((192,), eps=1e-06, elementwise_affine=True)\n",
       "           (mlp): GlobalResponseNormMlp(\n",
       "             (fc1): Linear(in_features=192, out_features=768, bias=True)\n",
       "             (act): GELU()\n",
       "             (drop1): Dropout(p=0.0, inplace=False)\n",
       "             (grn): GlobalResponseNorm()\n",
       "             (fc2): Linear(in_features=768, out_features=192, bias=True)\n",
       "             (drop2): Dropout(p=0.0, inplace=False)\n",
       "           )\n",
       "           (shortcut): Identity()\n",
       "           (drop_path): DropPath(drop_prob=0.017)\n",
       "         )\n",
       "       )\n",
       "     )\n",
       "     (1): ConvNeXtStage(\n",
       "       (downsample): Sequential(\n",
       "         (0): LayerNorm2d((192,), eps=1e-06, elementwise_affine=True)\n",
       "         (1): Conv2d(192, 384, kernel_size=(2, 2), stride=(2, 2))\n",
       "       )\n",
       "       (blocks): Sequential(\n",
       "         (0): ConvNeXtBlock(\n",
       "           (conv_dw): Conv2d(384, 384, kernel_size=(7, 7), stride=(1, 1), padding=(3, 3), groups=384)\n",
       "           (norm): LayerNorm((384,), eps=1e-06, elementwise_affine=True)\n",
       "           (mlp): GlobalResponseNormMlp(\n",
       "             (fc1): Linear(in_features=384, out_features=1536, bias=True)\n",
       "             (act): GELU()\n",
       "             (drop1): Dropout(p=0.0, inplace=False)\n",
       "             (grn): GlobalResponseNorm()\n",
       "             (fc2): Linear(in_features=1536, out_features=384, bias=True)\n",
       "             (drop2): Dropout(p=0.0, inplace=False)\n",
       "           )\n",
       "           (shortcut): Identity()\n",
       "           (drop_path): DropPath(drop_prob=0.026)\n",
       "         )\n",
       "         (1): ConvNeXtBlock(\n",
       "           (conv_dw): Conv2d(384, 384, kernel_size=(7, 7), stride=(1, 1), padding=(3, 3), groups=384)\n",
       "           (norm): LayerNorm((384,), eps=1e-06, elementwise_affine=True)\n",
       "           (mlp): GlobalResponseNormMlp(\n",
       "             (fc1): Linear(in_features=384, out_features=1536, bias=True)\n",
       "             (act): GELU()\n",
       "             (drop1): Dropout(p=0.0, inplace=False)\n",
       "             (grn): GlobalResponseNorm()\n",
       "             (fc2): Linear(in_features=1536, out_features=384, bias=True)\n",
       "             (drop2): Dropout(p=0.0, inplace=False)\n",
       "           )\n",
       "           (shortcut): Identity()\n",
       "           (drop_path): DropPath(drop_prob=0.034)\n",
       "         )\n",
       "         (2): ConvNeXtBlock(\n",
       "           (conv_dw): Conv2d(384, 384, kernel_size=(7, 7), stride=(1, 1), padding=(3, 3), groups=384)\n",
       "           (norm): LayerNorm((384,), eps=1e-06, elementwise_affine=True)\n",
       "           (mlp): GlobalResponseNormMlp(\n",
       "             (fc1): Linear(in_features=384, out_features=1536, bias=True)\n",
       "             (act): GELU()\n",
       "             (drop1): Dropout(p=0.0, inplace=False)\n",
       "             (grn): GlobalResponseNorm()\n",
       "             (fc2): Linear(in_features=1536, out_features=384, bias=True)\n",
       "             (drop2): Dropout(p=0.0, inplace=False)\n",
       "           )\n",
       "           (shortcut): Identity()\n",
       "           (drop_path): DropPath(drop_prob=0.043)\n",
       "         )\n",
       "       )\n",
       "     )\n",
       "     (2): ConvNeXtStage(\n",
       "       (downsample): Sequential(\n",
       "         (0): LayerNorm2d((384,), eps=1e-06, elementwise_affine=True)\n",
       "         (1): Conv2d(384, 768, kernel_size=(2, 2), stride=(2, 2))\n",
       "       )\n",
       "       (blocks): Sequential(\n",
       "         (0): ConvNeXtBlock(\n",
       "           (conv_dw): Conv2d(768, 768, kernel_size=(7, 7), stride=(1, 1), padding=(3, 3), groups=768)\n",
       "           (norm): LayerNorm((768,), eps=1e-06, elementwise_affine=True)\n",
       "           (mlp): GlobalResponseNormMlp(\n",
       "             (fc1): Linear(in_features=768, out_features=3072, bias=True)\n",
       "             (act): GELU()\n",
       "             (drop1): Dropout(p=0.0, inplace=False)\n",
       "             (grn): GlobalResponseNorm()\n",
       "             (fc2): Linear(in_features=3072, out_features=768, bias=True)\n",
       "             (drop2): Dropout(p=0.0, inplace=False)\n",
       "           )\n",
       "           (shortcut): Identity()\n",
       "           (drop_path): DropPath(drop_prob=0.051)\n",
       "         )\n",
       "         (1): ConvNeXtBlock(\n",
       "           (conv_dw): Conv2d(768, 768, kernel_size=(7, 7), stride=(1, 1), padding=(3, 3), groups=768)\n",
       "           (norm): LayerNorm((768,), eps=1e-06, elementwise_affine=True)\n",
       "           (mlp): GlobalResponseNormMlp(\n",
       "             (fc1): Linear(in_features=768, out_features=3072, bias=True)\n",
       "             (act): GELU()\n",
       "             (drop1): Dropout(p=0.0, inplace=False)\n",
       "             (grn): GlobalResponseNorm()\n",
       "             (fc2): Linear(in_features=3072, out_features=768, bias=True)\n",
       "             (drop2): Dropout(p=0.0, inplace=False)\n",
       "           )\n",
       "           (shortcut): Identity()\n",
       "           (drop_path): DropPath(drop_prob=0.060)\n",
       "         )\n",
       "         (2): ConvNeXtBlock(\n",
       "           (conv_dw): Conv2d(768, 768, kernel_size=(7, 7), stride=(1, 1), padding=(3, 3), groups=768)\n",
       "           (norm): LayerNorm((768,), eps=1e-06, elementwise_affine=True)\n",
       "           (mlp): GlobalResponseNormMlp(\n",
       "             (fc1): Linear(in_features=768, out_features=3072, bias=True)\n",
       "             (act): GELU()\n",
       "             (drop1): Dropout(p=0.0, inplace=False)\n",
       "             (grn): GlobalResponseNorm()\n",
       "             (fc2): Linear(in_features=3072, out_features=768, bias=True)\n",
       "             (drop2): Dropout(p=0.0, inplace=False)\n",
       "           )\n",
       "           (shortcut): Identity()\n",
       "           (drop_path): DropPath(drop_prob=0.069)\n",
       "         )\n",
       "         (3): ConvNeXtBlock(\n",
       "           (conv_dw): Conv2d(768, 768, kernel_size=(7, 7), stride=(1, 1), padding=(3, 3), groups=768)\n",
       "           (norm): LayerNorm((768,), eps=1e-06, elementwise_affine=True)\n",
       "           (mlp): GlobalResponseNormMlp(\n",
       "             (fc1): Linear(in_features=768, out_features=3072, bias=True)\n",
       "             (act): GELU()\n",
       "             (drop1): Dropout(p=0.0, inplace=False)\n",
       "             (grn): GlobalResponseNorm()\n",
       "             (fc2): Linear(in_features=3072, out_features=768, bias=True)\n",
       "             (drop2): Dropout(p=0.0, inplace=False)\n",
       "           )\n",
       "           (shortcut): Identity()\n",
       "           (drop_path): DropPath(drop_prob=0.077)\n",
       "         )\n",
       "         (4): ConvNeXtBlock(\n",
       "           (conv_dw): Conv2d(768, 768, kernel_size=(7, 7), stride=(1, 1), padding=(3, 3), groups=768)\n",
       "           (norm): LayerNorm((768,), eps=1e-06, elementwise_affine=True)\n",
       "           (mlp): GlobalResponseNormMlp(\n",
       "             (fc1): Linear(in_features=768, out_features=3072, bias=True)\n",
       "             (act): GELU()\n",
       "             (drop1): Dropout(p=0.0, inplace=False)\n",
       "             (grn): GlobalResponseNorm()\n",
       "             (fc2): Linear(in_features=3072, out_features=768, bias=True)\n",
       "             (drop2): Dropout(p=0.0, inplace=False)\n",
       "           )\n",
       "           (shortcut): Identity()\n",
       "           (drop_path): DropPath(drop_prob=0.086)\n",
       "         )\n",
       "         (5): ConvNeXtBlock(\n",
       "           (conv_dw): Conv2d(768, 768, kernel_size=(7, 7), stride=(1, 1), padding=(3, 3), groups=768)\n",
       "           (norm): LayerNorm((768,), eps=1e-06, elementwise_affine=True)\n",
       "           (mlp): GlobalResponseNormMlp(\n",
       "             (fc1): Linear(in_features=768, out_features=3072, bias=True)\n",
       "             (act): GELU()\n",
       "             (drop1): Dropout(p=0.0, inplace=False)\n",
       "             (grn): GlobalResponseNorm()\n",
       "             (fc2): Linear(in_features=3072, out_features=768, bias=True)\n",
       "             (drop2): Dropout(p=0.0, inplace=False)\n",
       "           )\n",
       "           (shortcut): Identity()\n",
       "           (drop_path): DropPath(drop_prob=0.094)\n",
       "         )\n",
       "         (6): ConvNeXtBlock(\n",
       "           (conv_dw): Conv2d(768, 768, kernel_size=(7, 7), stride=(1, 1), padding=(3, 3), groups=768)\n",
       "           (norm): LayerNorm((768,), eps=1e-06, elementwise_affine=True)\n",
       "           (mlp): GlobalResponseNormMlp(\n",
       "             (fc1): Linear(in_features=768, out_features=3072, bias=True)\n",
       "             (act): GELU()\n",
       "             (drop1): Dropout(p=0.0, inplace=False)\n",
       "             (grn): GlobalResponseNorm()\n",
       "             (fc2): Linear(in_features=3072, out_features=768, bias=True)\n",
       "             (drop2): Dropout(p=0.0, inplace=False)\n",
       "           )\n",
       "           (shortcut): Identity()\n",
       "           (drop_path): DropPath(drop_prob=0.103)\n",
       "         )\n",
       "         (7): ConvNeXtBlock(\n",
       "           (conv_dw): Conv2d(768, 768, kernel_size=(7, 7), stride=(1, 1), padding=(3, 3), groups=768)\n",
       "           (norm): LayerNorm((768,), eps=1e-06, elementwise_affine=True)\n",
       "           (mlp): GlobalResponseNormMlp(\n",
       "             (fc1): Linear(in_features=768, out_features=3072, bias=True)\n",
       "             (act): GELU()\n",
       "             (drop1): Dropout(p=0.0, inplace=False)\n",
       "             (grn): GlobalResponseNorm()\n",
       "             (fc2): Linear(in_features=3072, out_features=768, bias=True)\n",
       "             (drop2): Dropout(p=0.0, inplace=False)\n",
       "           )\n",
       "           (shortcut): Identity()\n",
       "           (drop_path): DropPath(drop_prob=0.111)\n",
       "         )\n",
       "         (8): ConvNeXtBlock(\n",
       "           (conv_dw): Conv2d(768, 768, kernel_size=(7, 7), stride=(1, 1), padding=(3, 3), groups=768)\n",
       "           (norm): LayerNorm((768,), eps=1e-06, elementwise_affine=True)\n",
       "           (mlp): GlobalResponseNormMlp(\n",
       "             (fc1): Linear(in_features=768, out_features=3072, bias=True)\n",
       "             (act): GELU()\n",
       "             (drop1): Dropout(p=0.0, inplace=False)\n",
       "             (grn): GlobalResponseNorm()\n",
       "             (fc2): Linear(in_features=3072, out_features=768, bias=True)\n",
       "             (drop2): Dropout(p=0.0, inplace=False)\n",
       "           )\n",
       "           (shortcut): Identity()\n",
       "           (drop_path): DropPath(drop_prob=0.120)\n",
       "         )\n",
       "         (9): ConvNeXtBlock(\n",
       "           (conv_dw): Conv2d(768, 768, kernel_size=(7, 7), stride=(1, 1), padding=(3, 3), groups=768)\n",
       "           (norm): LayerNorm((768,), eps=1e-06, elementwise_affine=True)\n",
       "           (mlp): GlobalResponseNormMlp(\n",
       "             (fc1): Linear(in_features=768, out_features=3072, bias=True)\n",
       "             (act): GELU()\n",
       "             (drop1): Dropout(p=0.0, inplace=False)\n",
       "             (grn): GlobalResponseNorm()\n",
       "             (fc2): Linear(in_features=3072, out_features=768, bias=True)\n",
       "             (drop2): Dropout(p=0.0, inplace=False)\n",
       "           )\n",
       "           (shortcut): Identity()\n",
       "           (drop_path): DropPath(drop_prob=0.129)\n",
       "         )\n",
       "         (10): ConvNeXtBlock(\n",
       "           (conv_dw): Conv2d(768, 768, kernel_size=(7, 7), stride=(1, 1), padding=(3, 3), groups=768)\n",
       "           (norm): LayerNorm((768,), eps=1e-06, elementwise_affine=True)\n",
       "           (mlp): GlobalResponseNormMlp(\n",
       "             (fc1): Linear(in_features=768, out_features=3072, bias=True)\n",
       "             (act): GELU()\n",
       "             (drop1): Dropout(p=0.0, inplace=False)\n",
       "             (grn): GlobalResponseNorm()\n",
       "             (fc2): Linear(in_features=3072, out_features=768, bias=True)\n",
       "             (drop2): Dropout(p=0.0, inplace=False)\n",
       "           )\n",
       "           (shortcut): Identity()\n",
       "           (drop_path): DropPath(drop_prob=0.137)\n",
       "         )\n",
       "         (11): ConvNeXtBlock(\n",
       "           (conv_dw): Conv2d(768, 768, kernel_size=(7, 7), stride=(1, 1), padding=(3, 3), groups=768)\n",
       "           (norm): LayerNorm((768,), eps=1e-06, elementwise_affine=True)\n",
       "           (mlp): GlobalResponseNormMlp(\n",
       "             (fc1): Linear(in_features=768, out_features=3072, bias=True)\n",
       "             (act): GELU()\n",
       "             (drop1): Dropout(p=0.0, inplace=False)\n",
       "             (grn): GlobalResponseNorm()\n",
       "             (fc2): Linear(in_features=3072, out_features=768, bias=True)\n",
       "             (drop2): Dropout(p=0.0, inplace=False)\n",
       "           )\n",
       "           (shortcut): Identity()\n",
       "           (drop_path): DropPath(drop_prob=0.146)\n",
       "         )\n",
       "         (12): ConvNeXtBlock(\n",
       "           (conv_dw): Conv2d(768, 768, kernel_size=(7, 7), stride=(1, 1), padding=(3, 3), groups=768)\n",
       "           (norm): LayerNorm((768,), eps=1e-06, elementwise_affine=True)\n",
       "           (mlp): GlobalResponseNormMlp(\n",
       "             (fc1): Linear(in_features=768, out_features=3072, bias=True)\n",
       "             (act): GELU()\n",
       "             (drop1): Dropout(p=0.0, inplace=False)\n",
       "             (grn): GlobalResponseNorm()\n",
       "             (fc2): Linear(in_features=3072, out_features=768, bias=True)\n",
       "             (drop2): Dropout(p=0.0, inplace=False)\n",
       "           )\n",
       "           (shortcut): Identity()\n",
       "           (drop_path): DropPath(drop_prob=0.154)\n",
       "         )\n",
       "         (13): ConvNeXtBlock(\n",
       "           (conv_dw): Conv2d(768, 768, kernel_size=(7, 7), stride=(1, 1), padding=(3, 3), groups=768)\n",
       "           (norm): LayerNorm((768,), eps=1e-06, elementwise_affine=True)\n",
       "           (mlp): GlobalResponseNormMlp(\n",
       "             (fc1): Linear(in_features=768, out_features=3072, bias=True)\n",
       "             (act): GELU()\n",
       "             (drop1): Dropout(p=0.0, inplace=False)\n",
       "             (grn): GlobalResponseNorm()\n",
       "             (fc2): Linear(in_features=3072, out_features=768, bias=True)\n",
       "             (drop2): Dropout(p=0.0, inplace=False)\n",
       "           )\n",
       "           (shortcut): Identity()\n",
       "           (drop_path): DropPath(drop_prob=0.163)\n",
       "         )\n",
       "         (14): ConvNeXtBlock(\n",
       "           (conv_dw): Conv2d(768, 768, kernel_size=(7, 7), stride=(1, 1), padding=(3, 3), groups=768)\n",
       "           (norm): LayerNorm((768,), eps=1e-06, elementwise_affine=True)\n",
       "           (mlp): GlobalResponseNormMlp(\n",
       "             (fc1): Linear(in_features=768, out_features=3072, bias=True)\n",
       "             (act): GELU()\n",
       "             (drop1): Dropout(p=0.0, inplace=False)\n",
       "             (grn): GlobalResponseNorm()\n",
       "             (fc2): Linear(in_features=3072, out_features=768, bias=True)\n",
       "             (drop2): Dropout(p=0.0, inplace=False)\n",
       "           )\n",
       "           (shortcut): Identity()\n",
       "           (drop_path): DropPath(drop_prob=0.171)\n",
       "         )\n",
       "         (15): ConvNeXtBlock(\n",
       "           (conv_dw): Conv2d(768, 768, kernel_size=(7, 7), stride=(1, 1), padding=(3, 3), groups=768)\n",
       "           (norm): LayerNorm((768,), eps=1e-06, elementwise_affine=True)\n",
       "           (mlp): GlobalResponseNormMlp(\n",
       "             (fc1): Linear(in_features=768, out_features=3072, bias=True)\n",
       "             (act): GELU()\n",
       "             (drop1): Dropout(p=0.0, inplace=False)\n",
       "             (grn): GlobalResponseNorm()\n",
       "             (fc2): Linear(in_features=3072, out_features=768, bias=True)\n",
       "             (drop2): Dropout(p=0.0, inplace=False)\n",
       "           )\n",
       "           (shortcut): Identity()\n",
       "           (drop_path): DropPath(drop_prob=0.180)\n",
       "         )\n",
       "         (16): ConvNeXtBlock(\n",
       "           (conv_dw): Conv2d(768, 768, kernel_size=(7, 7), stride=(1, 1), padding=(3, 3), groups=768)\n",
       "           (norm): LayerNorm((768,), eps=1e-06, elementwise_affine=True)\n",
       "           (mlp): GlobalResponseNormMlp(\n",
       "             (fc1): Linear(in_features=768, out_features=3072, bias=True)\n",
       "             (act): GELU()\n",
       "             (drop1): Dropout(p=0.0, inplace=False)\n",
       "             (grn): GlobalResponseNorm()\n",
       "             (fc2): Linear(in_features=3072, out_features=768, bias=True)\n",
       "             (drop2): Dropout(p=0.0, inplace=False)\n",
       "           )\n",
       "           (shortcut): Identity()\n",
       "           (drop_path): DropPath(drop_prob=0.189)\n",
       "         )\n",
       "         (17): ConvNeXtBlock(\n",
       "           (conv_dw): Conv2d(768, 768, kernel_size=(7, 7), stride=(1, 1), padding=(3, 3), groups=768)\n",
       "           (norm): LayerNorm((768,), eps=1e-06, elementwise_affine=True)\n",
       "           (mlp): GlobalResponseNormMlp(\n",
       "             (fc1): Linear(in_features=768, out_features=3072, bias=True)\n",
       "             (act): GELU()\n",
       "             (drop1): Dropout(p=0.0, inplace=False)\n",
       "             (grn): GlobalResponseNorm()\n",
       "             (fc2): Linear(in_features=3072, out_features=768, bias=True)\n",
       "             (drop2): Dropout(p=0.0, inplace=False)\n",
       "           )\n",
       "           (shortcut): Identity()\n",
       "           (drop_path): DropPath(drop_prob=0.197)\n",
       "         )\n",
       "         (18): ConvNeXtBlock(\n",
       "           (conv_dw): Conv2d(768, 768, kernel_size=(7, 7), stride=(1, 1), padding=(3, 3), groups=768)\n",
       "           (norm): LayerNorm((768,), eps=1e-06, elementwise_affine=True)\n",
       "           (mlp): GlobalResponseNormMlp(\n",
       "             (fc1): Linear(in_features=768, out_features=3072, bias=True)\n",
       "             (act): GELU()\n",
       "             (drop1): Dropout(p=0.0, inplace=False)\n",
       "             (grn): GlobalResponseNorm()\n",
       "             (fc2): Linear(in_features=3072, out_features=768, bias=True)\n",
       "             (drop2): Dropout(p=0.0, inplace=False)\n",
       "           )\n",
       "           (shortcut): Identity()\n",
       "           (drop_path): DropPath(drop_prob=0.206)\n",
       "         )\n",
       "         (19): ConvNeXtBlock(\n",
       "           (conv_dw): Conv2d(768, 768, kernel_size=(7, 7), stride=(1, 1), padding=(3, 3), groups=768)\n",
       "           (norm): LayerNorm((768,), eps=1e-06, elementwise_affine=True)\n",
       "           (mlp): GlobalResponseNormMlp(\n",
       "             (fc1): Linear(in_features=768, out_features=3072, bias=True)\n",
       "             (act): GELU()\n",
       "             (drop1): Dropout(p=0.0, inplace=False)\n",
       "             (grn): GlobalResponseNorm()\n",
       "             (fc2): Linear(in_features=3072, out_features=768, bias=True)\n",
       "             (drop2): Dropout(p=0.0, inplace=False)\n",
       "           )\n",
       "           (shortcut): Identity()\n",
       "           (drop_path): DropPath(drop_prob=0.214)\n",
       "         )\n",
       "         (20): ConvNeXtBlock(\n",
       "           (conv_dw): Conv2d(768, 768, kernel_size=(7, 7), stride=(1, 1), padding=(3, 3), groups=768)\n",
       "           (norm): LayerNorm((768,), eps=1e-06, elementwise_affine=True)\n",
       "           (mlp): GlobalResponseNormMlp(\n",
       "             (fc1): Linear(in_features=768, out_features=3072, bias=True)\n",
       "             (act): GELU()\n",
       "             (drop1): Dropout(p=0.0, inplace=False)\n",
       "             (grn): GlobalResponseNorm()\n",
       "             (fc2): Linear(in_features=3072, out_features=768, bias=True)\n",
       "             (drop2): Dropout(p=0.0, inplace=False)\n",
       "           )\n",
       "           (shortcut): Identity()\n",
       "           (drop_path): DropPath(drop_prob=0.223)\n",
       "         )\n",
       "         (21): ConvNeXtBlock(\n",
       "           (conv_dw): Conv2d(768, 768, kernel_size=(7, 7), stride=(1, 1), padding=(3, 3), groups=768)\n",
       "           (norm): LayerNorm((768,), eps=1e-06, elementwise_affine=True)\n",
       "           (mlp): GlobalResponseNormMlp(\n",
       "             (fc1): Linear(in_features=768, out_features=3072, bias=True)\n",
       "             (act): GELU()\n",
       "             (drop1): Dropout(p=0.0, inplace=False)\n",
       "             (grn): GlobalResponseNorm()\n",
       "             (fc2): Linear(in_features=3072, out_features=768, bias=True)\n",
       "             (drop2): Dropout(p=0.0, inplace=False)\n",
       "           )\n",
       "           (shortcut): Identity()\n",
       "           (drop_path): DropPath(drop_prob=0.231)\n",
       "         )\n",
       "         (22): ConvNeXtBlock(\n",
       "           (conv_dw): Conv2d(768, 768, kernel_size=(7, 7), stride=(1, 1), padding=(3, 3), groups=768)\n",
       "           (norm): LayerNorm((768,), eps=1e-06, elementwise_affine=True)\n",
       "           (mlp): GlobalResponseNormMlp(\n",
       "             (fc1): Linear(in_features=768, out_features=3072, bias=True)\n",
       "             (act): GELU()\n",
       "             (drop1): Dropout(p=0.0, inplace=False)\n",
       "             (grn): GlobalResponseNorm()\n",
       "             (fc2): Linear(in_features=3072, out_features=768, bias=True)\n",
       "             (drop2): Dropout(p=0.0, inplace=False)\n",
       "           )\n",
       "           (shortcut): Identity()\n",
       "           (drop_path): DropPath(drop_prob=0.240)\n",
       "         )\n",
       "         (23): ConvNeXtBlock(\n",
       "           (conv_dw): Conv2d(768, 768, kernel_size=(7, 7), stride=(1, 1), padding=(3, 3), groups=768)\n",
       "           (norm): LayerNorm((768,), eps=1e-06, elementwise_affine=True)\n",
       "           (mlp): GlobalResponseNormMlp(\n",
       "             (fc1): Linear(in_features=768, out_features=3072, bias=True)\n",
       "             (act): GELU()\n",
       "             (drop1): Dropout(p=0.0, inplace=False)\n",
       "             (grn): GlobalResponseNorm()\n",
       "             (fc2): Linear(in_features=3072, out_features=768, bias=True)\n",
       "             (drop2): Dropout(p=0.0, inplace=False)\n",
       "           )\n",
       "           (shortcut): Identity()\n",
       "           (drop_path): DropPath(drop_prob=0.249)\n",
       "         )\n",
       "         (24): ConvNeXtBlock(\n",
       "           (conv_dw): Conv2d(768, 768, kernel_size=(7, 7), stride=(1, 1), padding=(3, 3), groups=768)\n",
       "           (norm): LayerNorm((768,), eps=1e-06, elementwise_affine=True)\n",
       "           (mlp): GlobalResponseNormMlp(\n",
       "             (fc1): Linear(in_features=768, out_features=3072, bias=True)\n",
       "             (act): GELU()\n",
       "             (drop1): Dropout(p=0.0, inplace=False)\n",
       "             (grn): GlobalResponseNorm()\n",
       "             (fc2): Linear(in_features=3072, out_features=768, bias=True)\n",
       "             (drop2): Dropout(p=0.0, inplace=False)\n",
       "           )\n",
       "           (shortcut): Identity()\n",
       "           (drop_path): DropPath(drop_prob=0.257)\n",
       "         )\n",
       "         (25): ConvNeXtBlock(\n",
       "           (conv_dw): Conv2d(768, 768, kernel_size=(7, 7), stride=(1, 1), padding=(3, 3), groups=768)\n",
       "           (norm): LayerNorm((768,), eps=1e-06, elementwise_affine=True)\n",
       "           (mlp): GlobalResponseNormMlp(\n",
       "             (fc1): Linear(in_features=768, out_features=3072, bias=True)\n",
       "             (act): GELU()\n",
       "             (drop1): Dropout(p=0.0, inplace=False)\n",
       "             (grn): GlobalResponseNorm()\n",
       "             (fc2): Linear(in_features=3072, out_features=768, bias=True)\n",
       "             (drop2): Dropout(p=0.0, inplace=False)\n",
       "           )\n",
       "           (shortcut): Identity()\n",
       "           (drop_path): DropPath(drop_prob=0.266)\n",
       "         )\n",
       "         (26): ConvNeXtBlock(\n",
       "           (conv_dw): Conv2d(768, 768, kernel_size=(7, 7), stride=(1, 1), padding=(3, 3), groups=768)\n",
       "           (norm): LayerNorm((768,), eps=1e-06, elementwise_affine=True)\n",
       "           (mlp): GlobalResponseNormMlp(\n",
       "             (fc1): Linear(in_features=768, out_features=3072, bias=True)\n",
       "             (act): GELU()\n",
       "             (drop1): Dropout(p=0.0, inplace=False)\n",
       "             (grn): GlobalResponseNorm()\n",
       "             (fc2): Linear(in_features=3072, out_features=768, bias=True)\n",
       "             (drop2): Dropout(p=0.0, inplace=False)\n",
       "           )\n",
       "           (shortcut): Identity()\n",
       "           (drop_path): DropPath(drop_prob=0.274)\n",
       "         )\n",
       "       )\n",
       "     )\n",
       "     (3): ConvNeXtStage(\n",
       "       (downsample): Sequential(\n",
       "         (0): LayerNorm2d((768,), eps=1e-06, elementwise_affine=True)\n",
       "         (1): Conv2d(768, 1536, kernel_size=(2, 2), stride=(2, 2))\n",
       "       )\n",
       "       (blocks): Sequential(\n",
       "         (0): ConvNeXtBlock(\n",
       "           (conv_dw): Conv2d(1536, 1536, kernel_size=(7, 7), stride=(1, 1), padding=(3, 3), groups=1536)\n",
       "           (norm): LayerNorm((1536,), eps=1e-06, elementwise_affine=True)\n",
       "           (mlp): GlobalResponseNormMlp(\n",
       "             (fc1): Linear(in_features=1536, out_features=6144, bias=True)\n",
       "             (act): GELU()\n",
       "             (drop1): Dropout(p=0.0, inplace=False)\n",
       "             (grn): GlobalResponseNorm()\n",
       "             (fc2): Linear(in_features=6144, out_features=1536, bias=True)\n",
       "             (drop2): Dropout(p=0.0, inplace=False)\n",
       "           )\n",
       "           (shortcut): Identity()\n",
       "           (drop_path): DropPath(drop_prob=0.283)\n",
       "         )\n",
       "         (1): ConvNeXtBlock(\n",
       "           (conv_dw): Conv2d(1536, 1536, kernel_size=(7, 7), stride=(1, 1), padding=(3, 3), groups=1536)\n",
       "           (norm): LayerNorm((1536,), eps=1e-06, elementwise_affine=True)\n",
       "           (mlp): GlobalResponseNormMlp(\n",
       "             (fc1): Linear(in_features=1536, out_features=6144, bias=True)\n",
       "             (act): GELU()\n",
       "             (drop1): Dropout(p=0.0, inplace=False)\n",
       "             (grn): GlobalResponseNorm()\n",
       "             (fc2): Linear(in_features=6144, out_features=1536, bias=True)\n",
       "             (drop2): Dropout(p=0.0, inplace=False)\n",
       "           )\n",
       "           (shortcut): Identity()\n",
       "           (drop_path): DropPath(drop_prob=0.291)\n",
       "         )\n",
       "         (2): ConvNeXtBlock(\n",
       "           (conv_dw): Conv2d(1536, 1536, kernel_size=(7, 7), stride=(1, 1), padding=(3, 3), groups=1536)\n",
       "           (norm): LayerNorm((1536,), eps=1e-06, elementwise_affine=True)\n",
       "           (mlp): GlobalResponseNormMlp(\n",
       "             (fc1): Linear(in_features=1536, out_features=6144, bias=True)\n",
       "             (act): GELU()\n",
       "             (drop1): Dropout(p=0.0, inplace=False)\n",
       "             (grn): GlobalResponseNorm()\n",
       "             (fc2): Linear(in_features=6144, out_features=1536, bias=True)\n",
       "             (drop2): Dropout(p=0.0, inplace=False)\n",
       "           )\n",
       "           (shortcut): Identity()\n",
       "           (drop_path): DropPath(drop_prob=0.300)\n",
       "         )\n",
       "       )\n",
       "     )\n",
       "   )\n",
       "   (norm_pre): Identity()\n",
       "   (head): NormMlpClassifierHead(\n",
       "     (global_pool): SelectAdaptivePool2d(pool_type=avg, flatten=Identity())\n",
       "     (norm): LayerNorm2d((1536,), eps=1e-06, elementwise_affine=True)\n",
       "     (flatten): Flatten(start_dim=1, end_dim=-1)\n",
       "     (pre_logits): Identity()\n",
       "     (drop): Dropout(p=0.0, inplace=False)\n",
       "     (fc): Linear(in_features=1536, out_features=17, bias=True)\n",
       "   )\n",
       " ),\n",
       " ConvNeXt(\n",
       "   (stem): Sequential(\n",
       "     (0): Conv2d(3, 192, kernel_size=(4, 4), stride=(4, 4))\n",
       "     (1): LayerNorm2d((192,), eps=1e-06, elementwise_affine=True)\n",
       "   )\n",
       "   (stages): Sequential(\n",
       "     (0): ConvNeXtStage(\n",
       "       (downsample): Identity()\n",
       "       (blocks): Sequential(\n",
       "         (0): ConvNeXtBlock(\n",
       "           (conv_dw): Conv2d(192, 192, kernel_size=(7, 7), stride=(1, 1), padding=(3, 3), groups=192)\n",
       "           (norm): LayerNorm((192,), eps=1e-06, elementwise_affine=True)\n",
       "           (mlp): GlobalResponseNormMlp(\n",
       "             (fc1): Linear(in_features=192, out_features=768, bias=True)\n",
       "             (act): GELU()\n",
       "             (drop1): Dropout(p=0.0, inplace=False)\n",
       "             (grn): GlobalResponseNorm()\n",
       "             (fc2): Linear(in_features=768, out_features=192, bias=True)\n",
       "             (drop2): Dropout(p=0.0, inplace=False)\n",
       "           )\n",
       "           (shortcut): Identity()\n",
       "           (drop_path): Identity()\n",
       "         )\n",
       "         (1): ConvNeXtBlock(\n",
       "           (conv_dw): Conv2d(192, 192, kernel_size=(7, 7), stride=(1, 1), padding=(3, 3), groups=192)\n",
       "           (norm): LayerNorm((192,), eps=1e-06, elementwise_affine=True)\n",
       "           (mlp): GlobalResponseNormMlp(\n",
       "             (fc1): Linear(in_features=192, out_features=768, bias=True)\n",
       "             (act): GELU()\n",
       "             (drop1): Dropout(p=0.0, inplace=False)\n",
       "             (grn): GlobalResponseNorm()\n",
       "             (fc2): Linear(in_features=768, out_features=192, bias=True)\n",
       "             (drop2): Dropout(p=0.0, inplace=False)\n",
       "           )\n",
       "           (shortcut): Identity()\n",
       "           (drop_path): DropPath(drop_prob=0.009)\n",
       "         )\n",
       "         (2): ConvNeXtBlock(\n",
       "           (conv_dw): Conv2d(192, 192, kernel_size=(7, 7), stride=(1, 1), padding=(3, 3), groups=192)\n",
       "           (norm): LayerNorm((192,), eps=1e-06, elementwise_affine=True)\n",
       "           (mlp): GlobalResponseNormMlp(\n",
       "             (fc1): Linear(in_features=192, out_features=768, bias=True)\n",
       "             (act): GELU()\n",
       "             (drop1): Dropout(p=0.0, inplace=False)\n",
       "             (grn): GlobalResponseNorm()\n",
       "             (fc2): Linear(in_features=768, out_features=192, bias=True)\n",
       "             (drop2): Dropout(p=0.0, inplace=False)\n",
       "           )\n",
       "           (shortcut): Identity()\n",
       "           (drop_path): DropPath(drop_prob=0.017)\n",
       "         )\n",
       "       )\n",
       "     )\n",
       "     (1): ConvNeXtStage(\n",
       "       (downsample): Sequential(\n",
       "         (0): LayerNorm2d((192,), eps=1e-06, elementwise_affine=True)\n",
       "         (1): Conv2d(192, 384, kernel_size=(2, 2), stride=(2, 2))\n",
       "       )\n",
       "       (blocks): Sequential(\n",
       "         (0): ConvNeXtBlock(\n",
       "           (conv_dw): Conv2d(384, 384, kernel_size=(7, 7), stride=(1, 1), padding=(3, 3), groups=384)\n",
       "           (norm): LayerNorm((384,), eps=1e-06, elementwise_affine=True)\n",
       "           (mlp): GlobalResponseNormMlp(\n",
       "             (fc1): Linear(in_features=384, out_features=1536, bias=True)\n",
       "             (act): GELU()\n",
       "             (drop1): Dropout(p=0.0, inplace=False)\n",
       "             (grn): GlobalResponseNorm()\n",
       "             (fc2): Linear(in_features=1536, out_features=384, bias=True)\n",
       "             (drop2): Dropout(p=0.0, inplace=False)\n",
       "           )\n",
       "           (shortcut): Identity()\n",
       "           (drop_path): DropPath(drop_prob=0.026)\n",
       "         )\n",
       "         (1): ConvNeXtBlock(\n",
       "           (conv_dw): Conv2d(384, 384, kernel_size=(7, 7), stride=(1, 1), padding=(3, 3), groups=384)\n",
       "           (norm): LayerNorm((384,), eps=1e-06, elementwise_affine=True)\n",
       "           (mlp): GlobalResponseNormMlp(\n",
       "             (fc1): Linear(in_features=384, out_features=1536, bias=True)\n",
       "             (act): GELU()\n",
       "             (drop1): Dropout(p=0.0, inplace=False)\n",
       "             (grn): GlobalResponseNorm()\n",
       "             (fc2): Linear(in_features=1536, out_features=384, bias=True)\n",
       "             (drop2): Dropout(p=0.0, inplace=False)\n",
       "           )\n",
       "           (shortcut): Identity()\n",
       "           (drop_path): DropPath(drop_prob=0.034)\n",
       "         )\n",
       "         (2): ConvNeXtBlock(\n",
       "           (conv_dw): Conv2d(384, 384, kernel_size=(7, 7), stride=(1, 1), padding=(3, 3), groups=384)\n",
       "           (norm): LayerNorm((384,), eps=1e-06, elementwise_affine=True)\n",
       "           (mlp): GlobalResponseNormMlp(\n",
       "             (fc1): Linear(in_features=384, out_features=1536, bias=True)\n",
       "             (act): GELU()\n",
       "             (drop1): Dropout(p=0.0, inplace=False)\n",
       "             (grn): GlobalResponseNorm()\n",
       "             (fc2): Linear(in_features=1536, out_features=384, bias=True)\n",
       "             (drop2): Dropout(p=0.0, inplace=False)\n",
       "           )\n",
       "           (shortcut): Identity()\n",
       "           (drop_path): DropPath(drop_prob=0.043)\n",
       "         )\n",
       "       )\n",
       "     )\n",
       "     (2): ConvNeXtStage(\n",
       "       (downsample): Sequential(\n",
       "         (0): LayerNorm2d((384,), eps=1e-06, elementwise_affine=True)\n",
       "         (1): Conv2d(384, 768, kernel_size=(2, 2), stride=(2, 2))\n",
       "       )\n",
       "       (blocks): Sequential(\n",
       "         (0): ConvNeXtBlock(\n",
       "           (conv_dw): Conv2d(768, 768, kernel_size=(7, 7), stride=(1, 1), padding=(3, 3), groups=768)\n",
       "           (norm): LayerNorm((768,), eps=1e-06, elementwise_affine=True)\n",
       "           (mlp): GlobalResponseNormMlp(\n",
       "             (fc1): Linear(in_features=768, out_features=3072, bias=True)\n",
       "             (act): GELU()\n",
       "             (drop1): Dropout(p=0.0, inplace=False)\n",
       "             (grn): GlobalResponseNorm()\n",
       "             (fc2): Linear(in_features=3072, out_features=768, bias=True)\n",
       "             (drop2): Dropout(p=0.0, inplace=False)\n",
       "           )\n",
       "           (shortcut): Identity()\n",
       "           (drop_path): DropPath(drop_prob=0.051)\n",
       "         )\n",
       "         (1): ConvNeXtBlock(\n",
       "           (conv_dw): Conv2d(768, 768, kernel_size=(7, 7), stride=(1, 1), padding=(3, 3), groups=768)\n",
       "           (norm): LayerNorm((768,), eps=1e-06, elementwise_affine=True)\n",
       "           (mlp): GlobalResponseNormMlp(\n",
       "             (fc1): Linear(in_features=768, out_features=3072, bias=True)\n",
       "             (act): GELU()\n",
       "             (drop1): Dropout(p=0.0, inplace=False)\n",
       "             (grn): GlobalResponseNorm()\n",
       "             (fc2): Linear(in_features=3072, out_features=768, bias=True)\n",
       "             (drop2): Dropout(p=0.0, inplace=False)\n",
       "           )\n",
       "           (shortcut): Identity()\n",
       "           (drop_path): DropPath(drop_prob=0.060)\n",
       "         )\n",
       "         (2): ConvNeXtBlock(\n",
       "           (conv_dw): Conv2d(768, 768, kernel_size=(7, 7), stride=(1, 1), padding=(3, 3), groups=768)\n",
       "           (norm): LayerNorm((768,), eps=1e-06, elementwise_affine=True)\n",
       "           (mlp): GlobalResponseNormMlp(\n",
       "             (fc1): Linear(in_features=768, out_features=3072, bias=True)\n",
       "             (act): GELU()\n",
       "             (drop1): Dropout(p=0.0, inplace=False)\n",
       "             (grn): GlobalResponseNorm()\n",
       "             (fc2): Linear(in_features=3072, out_features=768, bias=True)\n",
       "             (drop2): Dropout(p=0.0, inplace=False)\n",
       "           )\n",
       "           (shortcut): Identity()\n",
       "           (drop_path): DropPath(drop_prob=0.069)\n",
       "         )\n",
       "         (3): ConvNeXtBlock(\n",
       "           (conv_dw): Conv2d(768, 768, kernel_size=(7, 7), stride=(1, 1), padding=(3, 3), groups=768)\n",
       "           (norm): LayerNorm((768,), eps=1e-06, elementwise_affine=True)\n",
       "           (mlp): GlobalResponseNormMlp(\n",
       "             (fc1): Linear(in_features=768, out_features=3072, bias=True)\n",
       "             (act): GELU()\n",
       "             (drop1): Dropout(p=0.0, inplace=False)\n",
       "             (grn): GlobalResponseNorm()\n",
       "             (fc2): Linear(in_features=3072, out_features=768, bias=True)\n",
       "             (drop2): Dropout(p=0.0, inplace=False)\n",
       "           )\n",
       "           (shortcut): Identity()\n",
       "           (drop_path): DropPath(drop_prob=0.077)\n",
       "         )\n",
       "         (4): ConvNeXtBlock(\n",
       "           (conv_dw): Conv2d(768, 768, kernel_size=(7, 7), stride=(1, 1), padding=(3, 3), groups=768)\n",
       "           (norm): LayerNorm((768,), eps=1e-06, elementwise_affine=True)\n",
       "           (mlp): GlobalResponseNormMlp(\n",
       "             (fc1): Linear(in_features=768, out_features=3072, bias=True)\n",
       "             (act): GELU()\n",
       "             (drop1): Dropout(p=0.0, inplace=False)\n",
       "             (grn): GlobalResponseNorm()\n",
       "             (fc2): Linear(in_features=3072, out_features=768, bias=True)\n",
       "             (drop2): Dropout(p=0.0, inplace=False)\n",
       "           )\n",
       "           (shortcut): Identity()\n",
       "           (drop_path): DropPath(drop_prob=0.086)\n",
       "         )\n",
       "         (5): ConvNeXtBlock(\n",
       "           (conv_dw): Conv2d(768, 768, kernel_size=(7, 7), stride=(1, 1), padding=(3, 3), groups=768)\n",
       "           (norm): LayerNorm((768,), eps=1e-06, elementwise_affine=True)\n",
       "           (mlp): GlobalResponseNormMlp(\n",
       "             (fc1): Linear(in_features=768, out_features=3072, bias=True)\n",
       "             (act): GELU()\n",
       "             (drop1): Dropout(p=0.0, inplace=False)\n",
       "             (grn): GlobalResponseNorm()\n",
       "             (fc2): Linear(in_features=3072, out_features=768, bias=True)\n",
       "             (drop2): Dropout(p=0.0, inplace=False)\n",
       "           )\n",
       "           (shortcut): Identity()\n",
       "           (drop_path): DropPath(drop_prob=0.094)\n",
       "         )\n",
       "         (6): ConvNeXtBlock(\n",
       "           (conv_dw): Conv2d(768, 768, kernel_size=(7, 7), stride=(1, 1), padding=(3, 3), groups=768)\n",
       "           (norm): LayerNorm((768,), eps=1e-06, elementwise_affine=True)\n",
       "           (mlp): GlobalResponseNormMlp(\n",
       "             (fc1): Linear(in_features=768, out_features=3072, bias=True)\n",
       "             (act): GELU()\n",
       "             (drop1): Dropout(p=0.0, inplace=False)\n",
       "             (grn): GlobalResponseNorm()\n",
       "             (fc2): Linear(in_features=3072, out_features=768, bias=True)\n",
       "             (drop2): Dropout(p=0.0, inplace=False)\n",
       "           )\n",
       "           (shortcut): Identity()\n",
       "           (drop_path): DropPath(drop_prob=0.103)\n",
       "         )\n",
       "         (7): ConvNeXtBlock(\n",
       "           (conv_dw): Conv2d(768, 768, kernel_size=(7, 7), stride=(1, 1), padding=(3, 3), groups=768)\n",
       "           (norm): LayerNorm((768,), eps=1e-06, elementwise_affine=True)\n",
       "           (mlp): GlobalResponseNormMlp(\n",
       "             (fc1): Linear(in_features=768, out_features=3072, bias=True)\n",
       "             (act): GELU()\n",
       "             (drop1): Dropout(p=0.0, inplace=False)\n",
       "             (grn): GlobalResponseNorm()\n",
       "             (fc2): Linear(in_features=3072, out_features=768, bias=True)\n",
       "             (drop2): Dropout(p=0.0, inplace=False)\n",
       "           )\n",
       "           (shortcut): Identity()\n",
       "           (drop_path): DropPath(drop_prob=0.111)\n",
       "         )\n",
       "         (8): ConvNeXtBlock(\n",
       "           (conv_dw): Conv2d(768, 768, kernel_size=(7, 7), stride=(1, 1), padding=(3, 3), groups=768)\n",
       "           (norm): LayerNorm((768,), eps=1e-06, elementwise_affine=True)\n",
       "           (mlp): GlobalResponseNormMlp(\n",
       "             (fc1): Linear(in_features=768, out_features=3072, bias=True)\n",
       "             (act): GELU()\n",
       "             (drop1): Dropout(p=0.0, inplace=False)\n",
       "             (grn): GlobalResponseNorm()\n",
       "             (fc2): Linear(in_features=3072, out_features=768, bias=True)\n",
       "             (drop2): Dropout(p=0.0, inplace=False)\n",
       "           )\n",
       "           (shortcut): Identity()\n",
       "           (drop_path): DropPath(drop_prob=0.120)\n",
       "         )\n",
       "         (9): ConvNeXtBlock(\n",
       "           (conv_dw): Conv2d(768, 768, kernel_size=(7, 7), stride=(1, 1), padding=(3, 3), groups=768)\n",
       "           (norm): LayerNorm((768,), eps=1e-06, elementwise_affine=True)\n",
       "           (mlp): GlobalResponseNormMlp(\n",
       "             (fc1): Linear(in_features=768, out_features=3072, bias=True)\n",
       "             (act): GELU()\n",
       "             (drop1): Dropout(p=0.0, inplace=False)\n",
       "             (grn): GlobalResponseNorm()\n",
       "             (fc2): Linear(in_features=3072, out_features=768, bias=True)\n",
       "             (drop2): Dropout(p=0.0, inplace=False)\n",
       "           )\n",
       "           (shortcut): Identity()\n",
       "           (drop_path): DropPath(drop_prob=0.129)\n",
       "         )\n",
       "         (10): ConvNeXtBlock(\n",
       "           (conv_dw): Conv2d(768, 768, kernel_size=(7, 7), stride=(1, 1), padding=(3, 3), groups=768)\n",
       "           (norm): LayerNorm((768,), eps=1e-06, elementwise_affine=True)\n",
       "           (mlp): GlobalResponseNormMlp(\n",
       "             (fc1): Linear(in_features=768, out_features=3072, bias=True)\n",
       "             (act): GELU()\n",
       "             (drop1): Dropout(p=0.0, inplace=False)\n",
       "             (grn): GlobalResponseNorm()\n",
       "             (fc2): Linear(in_features=3072, out_features=768, bias=True)\n",
       "             (drop2): Dropout(p=0.0, inplace=False)\n",
       "           )\n",
       "           (shortcut): Identity()\n",
       "           (drop_path): DropPath(drop_prob=0.137)\n",
       "         )\n",
       "         (11): ConvNeXtBlock(\n",
       "           (conv_dw): Conv2d(768, 768, kernel_size=(7, 7), stride=(1, 1), padding=(3, 3), groups=768)\n",
       "           (norm): LayerNorm((768,), eps=1e-06, elementwise_affine=True)\n",
       "           (mlp): GlobalResponseNormMlp(\n",
       "             (fc1): Linear(in_features=768, out_features=3072, bias=True)\n",
       "             (act): GELU()\n",
       "             (drop1): Dropout(p=0.0, inplace=False)\n",
       "             (grn): GlobalResponseNorm()\n",
       "             (fc2): Linear(in_features=3072, out_features=768, bias=True)\n",
       "             (drop2): Dropout(p=0.0, inplace=False)\n",
       "           )\n",
       "           (shortcut): Identity()\n",
       "           (drop_path): DropPath(drop_prob=0.146)\n",
       "         )\n",
       "         (12): ConvNeXtBlock(\n",
       "           (conv_dw): Conv2d(768, 768, kernel_size=(7, 7), stride=(1, 1), padding=(3, 3), groups=768)\n",
       "           (norm): LayerNorm((768,), eps=1e-06, elementwise_affine=True)\n",
       "           (mlp): GlobalResponseNormMlp(\n",
       "             (fc1): Linear(in_features=768, out_features=3072, bias=True)\n",
       "             (act): GELU()\n",
       "             (drop1): Dropout(p=0.0, inplace=False)\n",
       "             (grn): GlobalResponseNorm()\n",
       "             (fc2): Linear(in_features=3072, out_features=768, bias=True)\n",
       "             (drop2): Dropout(p=0.0, inplace=False)\n",
       "           )\n",
       "           (shortcut): Identity()\n",
       "           (drop_path): DropPath(drop_prob=0.154)\n",
       "         )\n",
       "         (13): ConvNeXtBlock(\n",
       "           (conv_dw): Conv2d(768, 768, kernel_size=(7, 7), stride=(1, 1), padding=(3, 3), groups=768)\n",
       "           (norm): LayerNorm((768,), eps=1e-06, elementwise_affine=True)\n",
       "           (mlp): GlobalResponseNormMlp(\n",
       "             (fc1): Linear(in_features=768, out_features=3072, bias=True)\n",
       "             (act): GELU()\n",
       "             (drop1): Dropout(p=0.0, inplace=False)\n",
       "             (grn): GlobalResponseNorm()\n",
       "             (fc2): Linear(in_features=3072, out_features=768, bias=True)\n",
       "             (drop2): Dropout(p=0.0, inplace=False)\n",
       "           )\n",
       "           (shortcut): Identity()\n",
       "           (drop_path): DropPath(drop_prob=0.163)\n",
       "         )\n",
       "         (14): ConvNeXtBlock(\n",
       "           (conv_dw): Conv2d(768, 768, kernel_size=(7, 7), stride=(1, 1), padding=(3, 3), groups=768)\n",
       "           (norm): LayerNorm((768,), eps=1e-06, elementwise_affine=True)\n",
       "           (mlp): GlobalResponseNormMlp(\n",
       "             (fc1): Linear(in_features=768, out_features=3072, bias=True)\n",
       "             (act): GELU()\n",
       "             (drop1): Dropout(p=0.0, inplace=False)\n",
       "             (grn): GlobalResponseNorm()\n",
       "             (fc2): Linear(in_features=3072, out_features=768, bias=True)\n",
       "             (drop2): Dropout(p=0.0, inplace=False)\n",
       "           )\n",
       "           (shortcut): Identity()\n",
       "           (drop_path): DropPath(drop_prob=0.171)\n",
       "         )\n",
       "         (15): ConvNeXtBlock(\n",
       "           (conv_dw): Conv2d(768, 768, kernel_size=(7, 7), stride=(1, 1), padding=(3, 3), groups=768)\n",
       "           (norm): LayerNorm((768,), eps=1e-06, elementwise_affine=True)\n",
       "           (mlp): GlobalResponseNormMlp(\n",
       "             (fc1): Linear(in_features=768, out_features=3072, bias=True)\n",
       "             (act): GELU()\n",
       "             (drop1): Dropout(p=0.0, inplace=False)\n",
       "             (grn): GlobalResponseNorm()\n",
       "             (fc2): Linear(in_features=3072, out_features=768, bias=True)\n",
       "             (drop2): Dropout(p=0.0, inplace=False)\n",
       "           )\n",
       "           (shortcut): Identity()\n",
       "           (drop_path): DropPath(drop_prob=0.180)\n",
       "         )\n",
       "         (16): ConvNeXtBlock(\n",
       "           (conv_dw): Conv2d(768, 768, kernel_size=(7, 7), stride=(1, 1), padding=(3, 3), groups=768)\n",
       "           (norm): LayerNorm((768,), eps=1e-06, elementwise_affine=True)\n",
       "           (mlp): GlobalResponseNormMlp(\n",
       "             (fc1): Linear(in_features=768, out_features=3072, bias=True)\n",
       "             (act): GELU()\n",
       "             (drop1): Dropout(p=0.0, inplace=False)\n",
       "             (grn): GlobalResponseNorm()\n",
       "             (fc2): Linear(in_features=3072, out_features=768, bias=True)\n",
       "             (drop2): Dropout(p=0.0, inplace=False)\n",
       "           )\n",
       "           (shortcut): Identity()\n",
       "           (drop_path): DropPath(drop_prob=0.189)\n",
       "         )\n",
       "         (17): ConvNeXtBlock(\n",
       "           (conv_dw): Conv2d(768, 768, kernel_size=(7, 7), stride=(1, 1), padding=(3, 3), groups=768)\n",
       "           (norm): LayerNorm((768,), eps=1e-06, elementwise_affine=True)\n",
       "           (mlp): GlobalResponseNormMlp(\n",
       "             (fc1): Linear(in_features=768, out_features=3072, bias=True)\n",
       "             (act): GELU()\n",
       "             (drop1): Dropout(p=0.0, inplace=False)\n",
       "             (grn): GlobalResponseNorm()\n",
       "             (fc2): Linear(in_features=3072, out_features=768, bias=True)\n",
       "             (drop2): Dropout(p=0.0, inplace=False)\n",
       "           )\n",
       "           (shortcut): Identity()\n",
       "           (drop_path): DropPath(drop_prob=0.197)\n",
       "         )\n",
       "         (18): ConvNeXtBlock(\n",
       "           (conv_dw): Conv2d(768, 768, kernel_size=(7, 7), stride=(1, 1), padding=(3, 3), groups=768)\n",
       "           (norm): LayerNorm((768,), eps=1e-06, elementwise_affine=True)\n",
       "           (mlp): GlobalResponseNormMlp(\n",
       "             (fc1): Linear(in_features=768, out_features=3072, bias=True)\n",
       "             (act): GELU()\n",
       "             (drop1): Dropout(p=0.0, inplace=False)\n",
       "             (grn): GlobalResponseNorm()\n",
       "             (fc2): Linear(in_features=3072, out_features=768, bias=True)\n",
       "             (drop2): Dropout(p=0.0, inplace=False)\n",
       "           )\n",
       "           (shortcut): Identity()\n",
       "           (drop_path): DropPath(drop_prob=0.206)\n",
       "         )\n",
       "         (19): ConvNeXtBlock(\n",
       "           (conv_dw): Conv2d(768, 768, kernel_size=(7, 7), stride=(1, 1), padding=(3, 3), groups=768)\n",
       "           (norm): LayerNorm((768,), eps=1e-06, elementwise_affine=True)\n",
       "           (mlp): GlobalResponseNormMlp(\n",
       "             (fc1): Linear(in_features=768, out_features=3072, bias=True)\n",
       "             (act): GELU()\n",
       "             (drop1): Dropout(p=0.0, inplace=False)\n",
       "             (grn): GlobalResponseNorm()\n",
       "             (fc2): Linear(in_features=3072, out_features=768, bias=True)\n",
       "             (drop2): Dropout(p=0.0, inplace=False)\n",
       "           )\n",
       "           (shortcut): Identity()\n",
       "           (drop_path): DropPath(drop_prob=0.214)\n",
       "         )\n",
       "         (20): ConvNeXtBlock(\n",
       "           (conv_dw): Conv2d(768, 768, kernel_size=(7, 7), stride=(1, 1), padding=(3, 3), groups=768)\n",
       "           (norm): LayerNorm((768,), eps=1e-06, elementwise_affine=True)\n",
       "           (mlp): GlobalResponseNormMlp(\n",
       "             (fc1): Linear(in_features=768, out_features=3072, bias=True)\n",
       "             (act): GELU()\n",
       "             (drop1): Dropout(p=0.0, inplace=False)\n",
       "             (grn): GlobalResponseNorm()\n",
       "             (fc2): Linear(in_features=3072, out_features=768, bias=True)\n",
       "             (drop2): Dropout(p=0.0, inplace=False)\n",
       "           )\n",
       "           (shortcut): Identity()\n",
       "           (drop_path): DropPath(drop_prob=0.223)\n",
       "         )\n",
       "         (21): ConvNeXtBlock(\n",
       "           (conv_dw): Conv2d(768, 768, kernel_size=(7, 7), stride=(1, 1), padding=(3, 3), groups=768)\n",
       "           (norm): LayerNorm((768,), eps=1e-06, elementwise_affine=True)\n",
       "           (mlp): GlobalResponseNormMlp(\n",
       "             (fc1): Linear(in_features=768, out_features=3072, bias=True)\n",
       "             (act): GELU()\n",
       "             (drop1): Dropout(p=0.0, inplace=False)\n",
       "             (grn): GlobalResponseNorm()\n",
       "             (fc2): Linear(in_features=3072, out_features=768, bias=True)\n",
       "             (drop2): Dropout(p=0.0, inplace=False)\n",
       "           )\n",
       "           (shortcut): Identity()\n",
       "           (drop_path): DropPath(drop_prob=0.231)\n",
       "         )\n",
       "         (22): ConvNeXtBlock(\n",
       "           (conv_dw): Conv2d(768, 768, kernel_size=(7, 7), stride=(1, 1), padding=(3, 3), groups=768)\n",
       "           (norm): LayerNorm((768,), eps=1e-06, elementwise_affine=True)\n",
       "           (mlp): GlobalResponseNormMlp(\n",
       "             (fc1): Linear(in_features=768, out_features=3072, bias=True)\n",
       "             (act): GELU()\n",
       "             (drop1): Dropout(p=0.0, inplace=False)\n",
       "             (grn): GlobalResponseNorm()\n",
       "             (fc2): Linear(in_features=3072, out_features=768, bias=True)\n",
       "             (drop2): Dropout(p=0.0, inplace=False)\n",
       "           )\n",
       "           (shortcut): Identity()\n",
       "           (drop_path): DropPath(drop_prob=0.240)\n",
       "         )\n",
       "         (23): ConvNeXtBlock(\n",
       "           (conv_dw): Conv2d(768, 768, kernel_size=(7, 7), stride=(1, 1), padding=(3, 3), groups=768)\n",
       "           (norm): LayerNorm((768,), eps=1e-06, elementwise_affine=True)\n",
       "           (mlp): GlobalResponseNormMlp(\n",
       "             (fc1): Linear(in_features=768, out_features=3072, bias=True)\n",
       "             (act): GELU()\n",
       "             (drop1): Dropout(p=0.0, inplace=False)\n",
       "             (grn): GlobalResponseNorm()\n",
       "             (fc2): Linear(in_features=3072, out_features=768, bias=True)\n",
       "             (drop2): Dropout(p=0.0, inplace=False)\n",
       "           )\n",
       "           (shortcut): Identity()\n",
       "           (drop_path): DropPath(drop_prob=0.249)\n",
       "         )\n",
       "         (24): ConvNeXtBlock(\n",
       "           (conv_dw): Conv2d(768, 768, kernel_size=(7, 7), stride=(1, 1), padding=(3, 3), groups=768)\n",
       "           (norm): LayerNorm((768,), eps=1e-06, elementwise_affine=True)\n",
       "           (mlp): GlobalResponseNormMlp(\n",
       "             (fc1): Linear(in_features=768, out_features=3072, bias=True)\n",
       "             (act): GELU()\n",
       "             (drop1): Dropout(p=0.0, inplace=False)\n",
       "             (grn): GlobalResponseNorm()\n",
       "             (fc2): Linear(in_features=3072, out_features=768, bias=True)\n",
       "             (drop2): Dropout(p=0.0, inplace=False)\n",
       "           )\n",
       "           (shortcut): Identity()\n",
       "           (drop_path): DropPath(drop_prob=0.257)\n",
       "         )\n",
       "         (25): ConvNeXtBlock(\n",
       "           (conv_dw): Conv2d(768, 768, kernel_size=(7, 7), stride=(1, 1), padding=(3, 3), groups=768)\n",
       "           (norm): LayerNorm((768,), eps=1e-06, elementwise_affine=True)\n",
       "           (mlp): GlobalResponseNormMlp(\n",
       "             (fc1): Linear(in_features=768, out_features=3072, bias=True)\n",
       "             (act): GELU()\n",
       "             (drop1): Dropout(p=0.0, inplace=False)\n",
       "             (grn): GlobalResponseNorm()\n",
       "             (fc2): Linear(in_features=3072, out_features=768, bias=True)\n",
       "             (drop2): Dropout(p=0.0, inplace=False)\n",
       "           )\n",
       "           (shortcut): Identity()\n",
       "           (drop_path): DropPath(drop_prob=0.266)\n",
       "         )\n",
       "         (26): ConvNeXtBlock(\n",
       "           (conv_dw): Conv2d(768, 768, kernel_size=(7, 7), stride=(1, 1), padding=(3, 3), groups=768)\n",
       "           (norm): LayerNorm((768,), eps=1e-06, elementwise_affine=True)\n",
       "           (mlp): GlobalResponseNormMlp(\n",
       "             (fc1): Linear(in_features=768, out_features=3072, bias=True)\n",
       "             (act): GELU()\n",
       "             (drop1): Dropout(p=0.0, inplace=False)\n",
       "             (grn): GlobalResponseNorm()\n",
       "             (fc2): Linear(in_features=3072, out_features=768, bias=True)\n",
       "             (drop2): Dropout(p=0.0, inplace=False)\n",
       "           )\n",
       "           (shortcut): Identity()\n",
       "           (drop_path): DropPath(drop_prob=0.274)\n",
       "         )\n",
       "       )\n",
       "     )\n",
       "     (3): ConvNeXtStage(\n",
       "       (downsample): Sequential(\n",
       "         (0): LayerNorm2d((768,), eps=1e-06, elementwise_affine=True)\n",
       "         (1): Conv2d(768, 1536, kernel_size=(2, 2), stride=(2, 2))\n",
       "       )\n",
       "       (blocks): Sequential(\n",
       "         (0): ConvNeXtBlock(\n",
       "           (conv_dw): Conv2d(1536, 1536, kernel_size=(7, 7), stride=(1, 1), padding=(3, 3), groups=1536)\n",
       "           (norm): LayerNorm((1536,), eps=1e-06, elementwise_affine=True)\n",
       "           (mlp): GlobalResponseNormMlp(\n",
       "             (fc1): Linear(in_features=1536, out_features=6144, bias=True)\n",
       "             (act): GELU()\n",
       "             (drop1): Dropout(p=0.0, inplace=False)\n",
       "             (grn): GlobalResponseNorm()\n",
       "             (fc2): Linear(in_features=6144, out_features=1536, bias=True)\n",
       "             (drop2): Dropout(p=0.0, inplace=False)\n",
       "           )\n",
       "           (shortcut): Identity()\n",
       "           (drop_path): DropPath(drop_prob=0.283)\n",
       "         )\n",
       "         (1): ConvNeXtBlock(\n",
       "           (conv_dw): Conv2d(1536, 1536, kernel_size=(7, 7), stride=(1, 1), padding=(3, 3), groups=1536)\n",
       "           (norm): LayerNorm((1536,), eps=1e-06, elementwise_affine=True)\n",
       "           (mlp): GlobalResponseNormMlp(\n",
       "             (fc1): Linear(in_features=1536, out_features=6144, bias=True)\n",
       "             (act): GELU()\n",
       "             (drop1): Dropout(p=0.0, inplace=False)\n",
       "             (grn): GlobalResponseNorm()\n",
       "             (fc2): Linear(in_features=6144, out_features=1536, bias=True)\n",
       "             (drop2): Dropout(p=0.0, inplace=False)\n",
       "           )\n",
       "           (shortcut): Identity()\n",
       "           (drop_path): DropPath(drop_prob=0.291)\n",
       "         )\n",
       "         (2): ConvNeXtBlock(\n",
       "           (conv_dw): Conv2d(1536, 1536, kernel_size=(7, 7), stride=(1, 1), padding=(3, 3), groups=1536)\n",
       "           (norm): LayerNorm((1536,), eps=1e-06, elementwise_affine=True)\n",
       "           (mlp): GlobalResponseNormMlp(\n",
       "             (fc1): Linear(in_features=1536, out_features=6144, bias=True)\n",
       "             (act): GELU()\n",
       "             (drop1): Dropout(p=0.0, inplace=False)\n",
       "             (grn): GlobalResponseNorm()\n",
       "             (fc2): Linear(in_features=6144, out_features=1536, bias=True)\n",
       "             (drop2): Dropout(p=0.0, inplace=False)\n",
       "           )\n",
       "           (shortcut): Identity()\n",
       "           (drop_path): DropPath(drop_prob=0.300)\n",
       "         )\n",
       "       )\n",
       "     )\n",
       "   )\n",
       "   (norm_pre): Identity()\n",
       "   (head): NormMlpClassifierHead(\n",
       "     (global_pool): SelectAdaptivePool2d(pool_type=avg, flatten=Identity())\n",
       "     (norm): LayerNorm2d((1536,), eps=1e-06, elementwise_affine=True)\n",
       "     (flatten): Flatten(start_dim=1, end_dim=-1)\n",
       "     (pre_logits): Identity()\n",
       "     (drop): Dropout(p=0.0, inplace=False)\n",
       "     (fc): Linear(in_features=1536, out_features=17, bias=True)\n",
       "   )\n",
       " ),\n",
       " ConvNeXt(\n",
       "   (stem): Sequential(\n",
       "     (0): Conv2d(3, 192, kernel_size=(4, 4), stride=(4, 4))\n",
       "     (1): LayerNorm2d((192,), eps=1e-06, elementwise_affine=True)\n",
       "   )\n",
       "   (stages): Sequential(\n",
       "     (0): ConvNeXtStage(\n",
       "       (downsample): Identity()\n",
       "       (blocks): Sequential(\n",
       "         (0): ConvNeXtBlock(\n",
       "           (conv_dw): Conv2d(192, 192, kernel_size=(7, 7), stride=(1, 1), padding=(3, 3), groups=192)\n",
       "           (norm): LayerNorm((192,), eps=1e-06, elementwise_affine=True)\n",
       "           (mlp): GlobalResponseNormMlp(\n",
       "             (fc1): Linear(in_features=192, out_features=768, bias=True)\n",
       "             (act): GELU()\n",
       "             (drop1): Dropout(p=0.0, inplace=False)\n",
       "             (grn): GlobalResponseNorm()\n",
       "             (fc2): Linear(in_features=768, out_features=192, bias=True)\n",
       "             (drop2): Dropout(p=0.0, inplace=False)\n",
       "           )\n",
       "           (shortcut): Identity()\n",
       "           (drop_path): Identity()\n",
       "         )\n",
       "         (1): ConvNeXtBlock(\n",
       "           (conv_dw): Conv2d(192, 192, kernel_size=(7, 7), stride=(1, 1), padding=(3, 3), groups=192)\n",
       "           (norm): LayerNorm((192,), eps=1e-06, elementwise_affine=True)\n",
       "           (mlp): GlobalResponseNormMlp(\n",
       "             (fc1): Linear(in_features=192, out_features=768, bias=True)\n",
       "             (act): GELU()\n",
       "             (drop1): Dropout(p=0.0, inplace=False)\n",
       "             (grn): GlobalResponseNorm()\n",
       "             (fc2): Linear(in_features=768, out_features=192, bias=True)\n",
       "             (drop2): Dropout(p=0.0, inplace=False)\n",
       "           )\n",
       "           (shortcut): Identity()\n",
       "           (drop_path): DropPath(drop_prob=0.009)\n",
       "         )\n",
       "         (2): ConvNeXtBlock(\n",
       "           (conv_dw): Conv2d(192, 192, kernel_size=(7, 7), stride=(1, 1), padding=(3, 3), groups=192)\n",
       "           (norm): LayerNorm((192,), eps=1e-06, elementwise_affine=True)\n",
       "           (mlp): GlobalResponseNormMlp(\n",
       "             (fc1): Linear(in_features=192, out_features=768, bias=True)\n",
       "             (act): GELU()\n",
       "             (drop1): Dropout(p=0.0, inplace=False)\n",
       "             (grn): GlobalResponseNorm()\n",
       "             (fc2): Linear(in_features=768, out_features=192, bias=True)\n",
       "             (drop2): Dropout(p=0.0, inplace=False)\n",
       "           )\n",
       "           (shortcut): Identity()\n",
       "           (drop_path): DropPath(drop_prob=0.017)\n",
       "         )\n",
       "       )\n",
       "     )\n",
       "     (1): ConvNeXtStage(\n",
       "       (downsample): Sequential(\n",
       "         (0): LayerNorm2d((192,), eps=1e-06, elementwise_affine=True)\n",
       "         (1): Conv2d(192, 384, kernel_size=(2, 2), stride=(2, 2))\n",
       "       )\n",
       "       (blocks): Sequential(\n",
       "         (0): ConvNeXtBlock(\n",
       "           (conv_dw): Conv2d(384, 384, kernel_size=(7, 7), stride=(1, 1), padding=(3, 3), groups=384)\n",
       "           (norm): LayerNorm((384,), eps=1e-06, elementwise_affine=True)\n",
       "           (mlp): GlobalResponseNormMlp(\n",
       "             (fc1): Linear(in_features=384, out_features=1536, bias=True)\n",
       "             (act): GELU()\n",
       "             (drop1): Dropout(p=0.0, inplace=False)\n",
       "             (grn): GlobalResponseNorm()\n",
       "             (fc2): Linear(in_features=1536, out_features=384, bias=True)\n",
       "             (drop2): Dropout(p=0.0, inplace=False)\n",
       "           )\n",
       "           (shortcut): Identity()\n",
       "           (drop_path): DropPath(drop_prob=0.026)\n",
       "         )\n",
       "         (1): ConvNeXtBlock(\n",
       "           (conv_dw): Conv2d(384, 384, kernel_size=(7, 7), stride=(1, 1), padding=(3, 3), groups=384)\n",
       "           (norm): LayerNorm((384,), eps=1e-06, elementwise_affine=True)\n",
       "           (mlp): GlobalResponseNormMlp(\n",
       "             (fc1): Linear(in_features=384, out_features=1536, bias=True)\n",
       "             (act): GELU()\n",
       "             (drop1): Dropout(p=0.0, inplace=False)\n",
       "             (grn): GlobalResponseNorm()\n",
       "             (fc2): Linear(in_features=1536, out_features=384, bias=True)\n",
       "             (drop2): Dropout(p=0.0, inplace=False)\n",
       "           )\n",
       "           (shortcut): Identity()\n",
       "           (drop_path): DropPath(drop_prob=0.034)\n",
       "         )\n",
       "         (2): ConvNeXtBlock(\n",
       "           (conv_dw): Conv2d(384, 384, kernel_size=(7, 7), stride=(1, 1), padding=(3, 3), groups=384)\n",
       "           (norm): LayerNorm((384,), eps=1e-06, elementwise_affine=True)\n",
       "           (mlp): GlobalResponseNormMlp(\n",
       "             (fc1): Linear(in_features=384, out_features=1536, bias=True)\n",
       "             (act): GELU()\n",
       "             (drop1): Dropout(p=0.0, inplace=False)\n",
       "             (grn): GlobalResponseNorm()\n",
       "             (fc2): Linear(in_features=1536, out_features=384, bias=True)\n",
       "             (drop2): Dropout(p=0.0, inplace=False)\n",
       "           )\n",
       "           (shortcut): Identity()\n",
       "           (drop_path): DropPath(drop_prob=0.043)\n",
       "         )\n",
       "       )\n",
       "     )\n",
       "     (2): ConvNeXtStage(\n",
       "       (downsample): Sequential(\n",
       "         (0): LayerNorm2d((384,), eps=1e-06, elementwise_affine=True)\n",
       "         (1): Conv2d(384, 768, kernel_size=(2, 2), stride=(2, 2))\n",
       "       )\n",
       "       (blocks): Sequential(\n",
       "         (0): ConvNeXtBlock(\n",
       "           (conv_dw): Conv2d(768, 768, kernel_size=(7, 7), stride=(1, 1), padding=(3, 3), groups=768)\n",
       "           (norm): LayerNorm((768,), eps=1e-06, elementwise_affine=True)\n",
       "           (mlp): GlobalResponseNormMlp(\n",
       "             (fc1): Linear(in_features=768, out_features=3072, bias=True)\n",
       "             (act): GELU()\n",
       "             (drop1): Dropout(p=0.0, inplace=False)\n",
       "             (grn): GlobalResponseNorm()\n",
       "             (fc2): Linear(in_features=3072, out_features=768, bias=True)\n",
       "             (drop2): Dropout(p=0.0, inplace=False)\n",
       "           )\n",
       "           (shortcut): Identity()\n",
       "           (drop_path): DropPath(drop_prob=0.051)\n",
       "         )\n",
       "         (1): ConvNeXtBlock(\n",
       "           (conv_dw): Conv2d(768, 768, kernel_size=(7, 7), stride=(1, 1), padding=(3, 3), groups=768)\n",
       "           (norm): LayerNorm((768,), eps=1e-06, elementwise_affine=True)\n",
       "           (mlp): GlobalResponseNormMlp(\n",
       "             (fc1): Linear(in_features=768, out_features=3072, bias=True)\n",
       "             (act): GELU()\n",
       "             (drop1): Dropout(p=0.0, inplace=False)\n",
       "             (grn): GlobalResponseNorm()\n",
       "             (fc2): Linear(in_features=3072, out_features=768, bias=True)\n",
       "             (drop2): Dropout(p=0.0, inplace=False)\n",
       "           )\n",
       "           (shortcut): Identity()\n",
       "           (drop_path): DropPath(drop_prob=0.060)\n",
       "         )\n",
       "         (2): ConvNeXtBlock(\n",
       "           (conv_dw): Conv2d(768, 768, kernel_size=(7, 7), stride=(1, 1), padding=(3, 3), groups=768)\n",
       "           (norm): LayerNorm((768,), eps=1e-06, elementwise_affine=True)\n",
       "           (mlp): GlobalResponseNormMlp(\n",
       "             (fc1): Linear(in_features=768, out_features=3072, bias=True)\n",
       "             (act): GELU()\n",
       "             (drop1): Dropout(p=0.0, inplace=False)\n",
       "             (grn): GlobalResponseNorm()\n",
       "             (fc2): Linear(in_features=3072, out_features=768, bias=True)\n",
       "             (drop2): Dropout(p=0.0, inplace=False)\n",
       "           )\n",
       "           (shortcut): Identity()\n",
       "           (drop_path): DropPath(drop_prob=0.069)\n",
       "         )\n",
       "         (3): ConvNeXtBlock(\n",
       "           (conv_dw): Conv2d(768, 768, kernel_size=(7, 7), stride=(1, 1), padding=(3, 3), groups=768)\n",
       "           (norm): LayerNorm((768,), eps=1e-06, elementwise_affine=True)\n",
       "           (mlp): GlobalResponseNormMlp(\n",
       "             (fc1): Linear(in_features=768, out_features=3072, bias=True)\n",
       "             (act): GELU()\n",
       "             (drop1): Dropout(p=0.0, inplace=False)\n",
       "             (grn): GlobalResponseNorm()\n",
       "             (fc2): Linear(in_features=3072, out_features=768, bias=True)\n",
       "             (drop2): Dropout(p=0.0, inplace=False)\n",
       "           )\n",
       "           (shortcut): Identity()\n",
       "           (drop_path): DropPath(drop_prob=0.077)\n",
       "         )\n",
       "         (4): ConvNeXtBlock(\n",
       "           (conv_dw): Conv2d(768, 768, kernel_size=(7, 7), stride=(1, 1), padding=(3, 3), groups=768)\n",
       "           (norm): LayerNorm((768,), eps=1e-06, elementwise_affine=True)\n",
       "           (mlp): GlobalResponseNormMlp(\n",
       "             (fc1): Linear(in_features=768, out_features=3072, bias=True)\n",
       "             (act): GELU()\n",
       "             (drop1): Dropout(p=0.0, inplace=False)\n",
       "             (grn): GlobalResponseNorm()\n",
       "             (fc2): Linear(in_features=3072, out_features=768, bias=True)\n",
       "             (drop2): Dropout(p=0.0, inplace=False)\n",
       "           )\n",
       "           (shortcut): Identity()\n",
       "           (drop_path): DropPath(drop_prob=0.086)\n",
       "         )\n",
       "         (5): ConvNeXtBlock(\n",
       "           (conv_dw): Conv2d(768, 768, kernel_size=(7, 7), stride=(1, 1), padding=(3, 3), groups=768)\n",
       "           (norm): LayerNorm((768,), eps=1e-06, elementwise_affine=True)\n",
       "           (mlp): GlobalResponseNormMlp(\n",
       "             (fc1): Linear(in_features=768, out_features=3072, bias=True)\n",
       "             (act): GELU()\n",
       "             (drop1): Dropout(p=0.0, inplace=False)\n",
       "             (grn): GlobalResponseNorm()\n",
       "             (fc2): Linear(in_features=3072, out_features=768, bias=True)\n",
       "             (drop2): Dropout(p=0.0, inplace=False)\n",
       "           )\n",
       "           (shortcut): Identity()\n",
       "           (drop_path): DropPath(drop_prob=0.094)\n",
       "         )\n",
       "         (6): ConvNeXtBlock(\n",
       "           (conv_dw): Conv2d(768, 768, kernel_size=(7, 7), stride=(1, 1), padding=(3, 3), groups=768)\n",
       "           (norm): LayerNorm((768,), eps=1e-06, elementwise_affine=True)\n",
       "           (mlp): GlobalResponseNormMlp(\n",
       "             (fc1): Linear(in_features=768, out_features=3072, bias=True)\n",
       "             (act): GELU()\n",
       "             (drop1): Dropout(p=0.0, inplace=False)\n",
       "             (grn): GlobalResponseNorm()\n",
       "             (fc2): Linear(in_features=3072, out_features=768, bias=True)\n",
       "             (drop2): Dropout(p=0.0, inplace=False)\n",
       "           )\n",
       "           (shortcut): Identity()\n",
       "           (drop_path): DropPath(drop_prob=0.103)\n",
       "         )\n",
       "         (7): ConvNeXtBlock(\n",
       "           (conv_dw): Conv2d(768, 768, kernel_size=(7, 7), stride=(1, 1), padding=(3, 3), groups=768)\n",
       "           (norm): LayerNorm((768,), eps=1e-06, elementwise_affine=True)\n",
       "           (mlp): GlobalResponseNormMlp(\n",
       "             (fc1): Linear(in_features=768, out_features=3072, bias=True)\n",
       "             (act): GELU()\n",
       "             (drop1): Dropout(p=0.0, inplace=False)\n",
       "             (grn): GlobalResponseNorm()\n",
       "             (fc2): Linear(in_features=3072, out_features=768, bias=True)\n",
       "             (drop2): Dropout(p=0.0, inplace=False)\n",
       "           )\n",
       "           (shortcut): Identity()\n",
       "           (drop_path): DropPath(drop_prob=0.111)\n",
       "         )\n",
       "         (8): ConvNeXtBlock(\n",
       "           (conv_dw): Conv2d(768, 768, kernel_size=(7, 7), stride=(1, 1), padding=(3, 3), groups=768)\n",
       "           (norm): LayerNorm((768,), eps=1e-06, elementwise_affine=True)\n",
       "           (mlp): GlobalResponseNormMlp(\n",
       "             (fc1): Linear(in_features=768, out_features=3072, bias=True)\n",
       "             (act): GELU()\n",
       "             (drop1): Dropout(p=0.0, inplace=False)\n",
       "             (grn): GlobalResponseNorm()\n",
       "             (fc2): Linear(in_features=3072, out_features=768, bias=True)\n",
       "             (drop2): Dropout(p=0.0, inplace=False)\n",
       "           )\n",
       "           (shortcut): Identity()\n",
       "           (drop_path): DropPath(drop_prob=0.120)\n",
       "         )\n",
       "         (9): ConvNeXtBlock(\n",
       "           (conv_dw): Conv2d(768, 768, kernel_size=(7, 7), stride=(1, 1), padding=(3, 3), groups=768)\n",
       "           (norm): LayerNorm((768,), eps=1e-06, elementwise_affine=True)\n",
       "           (mlp): GlobalResponseNormMlp(\n",
       "             (fc1): Linear(in_features=768, out_features=3072, bias=True)\n",
       "             (act): GELU()\n",
       "             (drop1): Dropout(p=0.0, inplace=False)\n",
       "             (grn): GlobalResponseNorm()\n",
       "             (fc2): Linear(in_features=3072, out_features=768, bias=True)\n",
       "             (drop2): Dropout(p=0.0, inplace=False)\n",
       "           )\n",
       "           (shortcut): Identity()\n",
       "           (drop_path): DropPath(drop_prob=0.129)\n",
       "         )\n",
       "         (10): ConvNeXtBlock(\n",
       "           (conv_dw): Conv2d(768, 768, kernel_size=(7, 7), stride=(1, 1), padding=(3, 3), groups=768)\n",
       "           (norm): LayerNorm((768,), eps=1e-06, elementwise_affine=True)\n",
       "           (mlp): GlobalResponseNormMlp(\n",
       "             (fc1): Linear(in_features=768, out_features=3072, bias=True)\n",
       "             (act): GELU()\n",
       "             (drop1): Dropout(p=0.0, inplace=False)\n",
       "             (grn): GlobalResponseNorm()\n",
       "             (fc2): Linear(in_features=3072, out_features=768, bias=True)\n",
       "             (drop2): Dropout(p=0.0, inplace=False)\n",
       "           )\n",
       "           (shortcut): Identity()\n",
       "           (drop_path): DropPath(drop_prob=0.137)\n",
       "         )\n",
       "         (11): ConvNeXtBlock(\n",
       "           (conv_dw): Conv2d(768, 768, kernel_size=(7, 7), stride=(1, 1), padding=(3, 3), groups=768)\n",
       "           (norm): LayerNorm((768,), eps=1e-06, elementwise_affine=True)\n",
       "           (mlp): GlobalResponseNormMlp(\n",
       "             (fc1): Linear(in_features=768, out_features=3072, bias=True)\n",
       "             (act): GELU()\n",
       "             (drop1): Dropout(p=0.0, inplace=False)\n",
       "             (grn): GlobalResponseNorm()\n",
       "             (fc2): Linear(in_features=3072, out_features=768, bias=True)\n",
       "             (drop2): Dropout(p=0.0, inplace=False)\n",
       "           )\n",
       "           (shortcut): Identity()\n",
       "           (drop_path): DropPath(drop_prob=0.146)\n",
       "         )\n",
       "         (12): ConvNeXtBlock(\n",
       "           (conv_dw): Conv2d(768, 768, kernel_size=(7, 7), stride=(1, 1), padding=(3, 3), groups=768)\n",
       "           (norm): LayerNorm((768,), eps=1e-06, elementwise_affine=True)\n",
       "           (mlp): GlobalResponseNormMlp(\n",
       "             (fc1): Linear(in_features=768, out_features=3072, bias=True)\n",
       "             (act): GELU()\n",
       "             (drop1): Dropout(p=0.0, inplace=False)\n",
       "             (grn): GlobalResponseNorm()\n",
       "             (fc2): Linear(in_features=3072, out_features=768, bias=True)\n",
       "             (drop2): Dropout(p=0.0, inplace=False)\n",
       "           )\n",
       "           (shortcut): Identity()\n",
       "           (drop_path): DropPath(drop_prob=0.154)\n",
       "         )\n",
       "         (13): ConvNeXtBlock(\n",
       "           (conv_dw): Conv2d(768, 768, kernel_size=(7, 7), stride=(1, 1), padding=(3, 3), groups=768)\n",
       "           (norm): LayerNorm((768,), eps=1e-06, elementwise_affine=True)\n",
       "           (mlp): GlobalResponseNormMlp(\n",
       "             (fc1): Linear(in_features=768, out_features=3072, bias=True)\n",
       "             (act): GELU()\n",
       "             (drop1): Dropout(p=0.0, inplace=False)\n",
       "             (grn): GlobalResponseNorm()\n",
       "             (fc2): Linear(in_features=3072, out_features=768, bias=True)\n",
       "             (drop2): Dropout(p=0.0, inplace=False)\n",
       "           )\n",
       "           (shortcut): Identity()\n",
       "           (drop_path): DropPath(drop_prob=0.163)\n",
       "         )\n",
       "         (14): ConvNeXtBlock(\n",
       "           (conv_dw): Conv2d(768, 768, kernel_size=(7, 7), stride=(1, 1), padding=(3, 3), groups=768)\n",
       "           (norm): LayerNorm((768,), eps=1e-06, elementwise_affine=True)\n",
       "           (mlp): GlobalResponseNormMlp(\n",
       "             (fc1): Linear(in_features=768, out_features=3072, bias=True)\n",
       "             (act): GELU()\n",
       "             (drop1): Dropout(p=0.0, inplace=False)\n",
       "             (grn): GlobalResponseNorm()\n",
       "             (fc2): Linear(in_features=3072, out_features=768, bias=True)\n",
       "             (drop2): Dropout(p=0.0, inplace=False)\n",
       "           )\n",
       "           (shortcut): Identity()\n",
       "           (drop_path): DropPath(drop_prob=0.171)\n",
       "         )\n",
       "         (15): ConvNeXtBlock(\n",
       "           (conv_dw): Conv2d(768, 768, kernel_size=(7, 7), stride=(1, 1), padding=(3, 3), groups=768)\n",
       "           (norm): LayerNorm((768,), eps=1e-06, elementwise_affine=True)\n",
       "           (mlp): GlobalResponseNormMlp(\n",
       "             (fc1): Linear(in_features=768, out_features=3072, bias=True)\n",
       "             (act): GELU()\n",
       "             (drop1): Dropout(p=0.0, inplace=False)\n",
       "             (grn): GlobalResponseNorm()\n",
       "             (fc2): Linear(in_features=3072, out_features=768, bias=True)\n",
       "             (drop2): Dropout(p=0.0, inplace=False)\n",
       "           )\n",
       "           (shortcut): Identity()\n",
       "           (drop_path): DropPath(drop_prob=0.180)\n",
       "         )\n",
       "         (16): ConvNeXtBlock(\n",
       "           (conv_dw): Conv2d(768, 768, kernel_size=(7, 7), stride=(1, 1), padding=(3, 3), groups=768)\n",
       "           (norm): LayerNorm((768,), eps=1e-06, elementwise_affine=True)\n",
       "           (mlp): GlobalResponseNormMlp(\n",
       "             (fc1): Linear(in_features=768, out_features=3072, bias=True)\n",
       "             (act): GELU()\n",
       "             (drop1): Dropout(p=0.0, inplace=False)\n",
       "             (grn): GlobalResponseNorm()\n",
       "             (fc2): Linear(in_features=3072, out_features=768, bias=True)\n",
       "             (drop2): Dropout(p=0.0, inplace=False)\n",
       "           )\n",
       "           (shortcut): Identity()\n",
       "           (drop_path): DropPath(drop_prob=0.189)\n",
       "         )\n",
       "         (17): ConvNeXtBlock(\n",
       "           (conv_dw): Conv2d(768, 768, kernel_size=(7, 7), stride=(1, 1), padding=(3, 3), groups=768)\n",
       "           (norm): LayerNorm((768,), eps=1e-06, elementwise_affine=True)\n",
       "           (mlp): GlobalResponseNormMlp(\n",
       "             (fc1): Linear(in_features=768, out_features=3072, bias=True)\n",
       "             (act): GELU()\n",
       "             (drop1): Dropout(p=0.0, inplace=False)\n",
       "             (grn): GlobalResponseNorm()\n",
       "             (fc2): Linear(in_features=3072, out_features=768, bias=True)\n",
       "             (drop2): Dropout(p=0.0, inplace=False)\n",
       "           )\n",
       "           (shortcut): Identity()\n",
       "           (drop_path): DropPath(drop_prob=0.197)\n",
       "         )\n",
       "         (18): ConvNeXtBlock(\n",
       "           (conv_dw): Conv2d(768, 768, kernel_size=(7, 7), stride=(1, 1), padding=(3, 3), groups=768)\n",
       "           (norm): LayerNorm((768,), eps=1e-06, elementwise_affine=True)\n",
       "           (mlp): GlobalResponseNormMlp(\n",
       "             (fc1): Linear(in_features=768, out_features=3072, bias=True)\n",
       "             (act): GELU()\n",
       "             (drop1): Dropout(p=0.0, inplace=False)\n",
       "             (grn): GlobalResponseNorm()\n",
       "             (fc2): Linear(in_features=3072, out_features=768, bias=True)\n",
       "             (drop2): Dropout(p=0.0, inplace=False)\n",
       "           )\n",
       "           (shortcut): Identity()\n",
       "           (drop_path): DropPath(drop_prob=0.206)\n",
       "         )\n",
       "         (19): ConvNeXtBlock(\n",
       "           (conv_dw): Conv2d(768, 768, kernel_size=(7, 7), stride=(1, 1), padding=(3, 3), groups=768)\n",
       "           (norm): LayerNorm((768,), eps=1e-06, elementwise_affine=True)\n",
       "           (mlp): GlobalResponseNormMlp(\n",
       "             (fc1): Linear(in_features=768, out_features=3072, bias=True)\n",
       "             (act): GELU()\n",
       "             (drop1): Dropout(p=0.0, inplace=False)\n",
       "             (grn): GlobalResponseNorm()\n",
       "             (fc2): Linear(in_features=3072, out_features=768, bias=True)\n",
       "             (drop2): Dropout(p=0.0, inplace=False)\n",
       "           )\n",
       "           (shortcut): Identity()\n",
       "           (drop_path): DropPath(drop_prob=0.214)\n",
       "         )\n",
       "         (20): ConvNeXtBlock(\n",
       "           (conv_dw): Conv2d(768, 768, kernel_size=(7, 7), stride=(1, 1), padding=(3, 3), groups=768)\n",
       "           (norm): LayerNorm((768,), eps=1e-06, elementwise_affine=True)\n",
       "           (mlp): GlobalResponseNormMlp(\n",
       "             (fc1): Linear(in_features=768, out_features=3072, bias=True)\n",
       "             (act): GELU()\n",
       "             (drop1): Dropout(p=0.0, inplace=False)\n",
       "             (grn): GlobalResponseNorm()\n",
       "             (fc2): Linear(in_features=3072, out_features=768, bias=True)\n",
       "             (drop2): Dropout(p=0.0, inplace=False)\n",
       "           )\n",
       "           (shortcut): Identity()\n",
       "           (drop_path): DropPath(drop_prob=0.223)\n",
       "         )\n",
       "         (21): ConvNeXtBlock(\n",
       "           (conv_dw): Conv2d(768, 768, kernel_size=(7, 7), stride=(1, 1), padding=(3, 3), groups=768)\n",
       "           (norm): LayerNorm((768,), eps=1e-06, elementwise_affine=True)\n",
       "           (mlp): GlobalResponseNormMlp(\n",
       "             (fc1): Linear(in_features=768, out_features=3072, bias=True)\n",
       "             (act): GELU()\n",
       "             (drop1): Dropout(p=0.0, inplace=False)\n",
       "             (grn): GlobalResponseNorm()\n",
       "             (fc2): Linear(in_features=3072, out_features=768, bias=True)\n",
       "             (drop2): Dropout(p=0.0, inplace=False)\n",
       "           )\n",
       "           (shortcut): Identity()\n",
       "           (drop_path): DropPath(drop_prob=0.231)\n",
       "         )\n",
       "         (22): ConvNeXtBlock(\n",
       "           (conv_dw): Conv2d(768, 768, kernel_size=(7, 7), stride=(1, 1), padding=(3, 3), groups=768)\n",
       "           (norm): LayerNorm((768,), eps=1e-06, elementwise_affine=True)\n",
       "           (mlp): GlobalResponseNormMlp(\n",
       "             (fc1): Linear(in_features=768, out_features=3072, bias=True)\n",
       "             (act): GELU()\n",
       "             (drop1): Dropout(p=0.0, inplace=False)\n",
       "             (grn): GlobalResponseNorm()\n",
       "             (fc2): Linear(in_features=3072, out_features=768, bias=True)\n",
       "             (drop2): Dropout(p=0.0, inplace=False)\n",
       "           )\n",
       "           (shortcut): Identity()\n",
       "           (drop_path): DropPath(drop_prob=0.240)\n",
       "         )\n",
       "         (23): ConvNeXtBlock(\n",
       "           (conv_dw): Conv2d(768, 768, kernel_size=(7, 7), stride=(1, 1), padding=(3, 3), groups=768)\n",
       "           (norm): LayerNorm((768,), eps=1e-06, elementwise_affine=True)\n",
       "           (mlp): GlobalResponseNormMlp(\n",
       "             (fc1): Linear(in_features=768, out_features=3072, bias=True)\n",
       "             (act): GELU()\n",
       "             (drop1): Dropout(p=0.0, inplace=False)\n",
       "             (grn): GlobalResponseNorm()\n",
       "             (fc2): Linear(in_features=3072, out_features=768, bias=True)\n",
       "             (drop2): Dropout(p=0.0, inplace=False)\n",
       "           )\n",
       "           (shortcut): Identity()\n",
       "           (drop_path): DropPath(drop_prob=0.249)\n",
       "         )\n",
       "         (24): ConvNeXtBlock(\n",
       "           (conv_dw): Conv2d(768, 768, kernel_size=(7, 7), stride=(1, 1), padding=(3, 3), groups=768)\n",
       "           (norm): LayerNorm((768,), eps=1e-06, elementwise_affine=True)\n",
       "           (mlp): GlobalResponseNormMlp(\n",
       "             (fc1): Linear(in_features=768, out_features=3072, bias=True)\n",
       "             (act): GELU()\n",
       "             (drop1): Dropout(p=0.0, inplace=False)\n",
       "             (grn): GlobalResponseNorm()\n",
       "             (fc2): Linear(in_features=3072, out_features=768, bias=True)\n",
       "             (drop2): Dropout(p=0.0, inplace=False)\n",
       "           )\n",
       "           (shortcut): Identity()\n",
       "           (drop_path): DropPath(drop_prob=0.257)\n",
       "         )\n",
       "         (25): ConvNeXtBlock(\n",
       "           (conv_dw): Conv2d(768, 768, kernel_size=(7, 7), stride=(1, 1), padding=(3, 3), groups=768)\n",
       "           (norm): LayerNorm((768,), eps=1e-06, elementwise_affine=True)\n",
       "           (mlp): GlobalResponseNormMlp(\n",
       "             (fc1): Linear(in_features=768, out_features=3072, bias=True)\n",
       "             (act): GELU()\n",
       "             (drop1): Dropout(p=0.0, inplace=False)\n",
       "             (grn): GlobalResponseNorm()\n",
       "             (fc2): Linear(in_features=3072, out_features=768, bias=True)\n",
       "             (drop2): Dropout(p=0.0, inplace=False)\n",
       "           )\n",
       "           (shortcut): Identity()\n",
       "           (drop_path): DropPath(drop_prob=0.266)\n",
       "         )\n",
       "         (26): ConvNeXtBlock(\n",
       "           (conv_dw): Conv2d(768, 768, kernel_size=(7, 7), stride=(1, 1), padding=(3, 3), groups=768)\n",
       "           (norm): LayerNorm((768,), eps=1e-06, elementwise_affine=True)\n",
       "           (mlp): GlobalResponseNormMlp(\n",
       "             (fc1): Linear(in_features=768, out_features=3072, bias=True)\n",
       "             (act): GELU()\n",
       "             (drop1): Dropout(p=0.0, inplace=False)\n",
       "             (grn): GlobalResponseNorm()\n",
       "             (fc2): Linear(in_features=3072, out_features=768, bias=True)\n",
       "             (drop2): Dropout(p=0.0, inplace=False)\n",
       "           )\n",
       "           (shortcut): Identity()\n",
       "           (drop_path): DropPath(drop_prob=0.274)\n",
       "         )\n",
       "       )\n",
       "     )\n",
       "     (3): ConvNeXtStage(\n",
       "       (downsample): Sequential(\n",
       "         (0): LayerNorm2d((768,), eps=1e-06, elementwise_affine=True)\n",
       "         (1): Conv2d(768, 1536, kernel_size=(2, 2), stride=(2, 2))\n",
       "       )\n",
       "       (blocks): Sequential(\n",
       "         (0): ConvNeXtBlock(\n",
       "           (conv_dw): Conv2d(1536, 1536, kernel_size=(7, 7), stride=(1, 1), padding=(3, 3), groups=1536)\n",
       "           (norm): LayerNorm((1536,), eps=1e-06, elementwise_affine=True)\n",
       "           (mlp): GlobalResponseNormMlp(\n",
       "             (fc1): Linear(in_features=1536, out_features=6144, bias=True)\n",
       "             (act): GELU()\n",
       "             (drop1): Dropout(p=0.0, inplace=False)\n",
       "             (grn): GlobalResponseNorm()\n",
       "             (fc2): Linear(in_features=6144, out_features=1536, bias=True)\n",
       "             (drop2): Dropout(p=0.0, inplace=False)\n",
       "           )\n",
       "           (shortcut): Identity()\n",
       "           (drop_path): DropPath(drop_prob=0.283)\n",
       "         )\n",
       "         (1): ConvNeXtBlock(\n",
       "           (conv_dw): Conv2d(1536, 1536, kernel_size=(7, 7), stride=(1, 1), padding=(3, 3), groups=1536)\n",
       "           (norm): LayerNorm((1536,), eps=1e-06, elementwise_affine=True)\n",
       "           (mlp): GlobalResponseNormMlp(\n",
       "             (fc1): Linear(in_features=1536, out_features=6144, bias=True)\n",
       "             (act): GELU()\n",
       "             (drop1): Dropout(p=0.0, inplace=False)\n",
       "             (grn): GlobalResponseNorm()\n",
       "             (fc2): Linear(in_features=6144, out_features=1536, bias=True)\n",
       "             (drop2): Dropout(p=0.0, inplace=False)\n",
       "           )\n",
       "           (shortcut): Identity()\n",
       "           (drop_path): DropPath(drop_prob=0.291)\n",
       "         )\n",
       "         (2): ConvNeXtBlock(\n",
       "           (conv_dw): Conv2d(1536, 1536, kernel_size=(7, 7), stride=(1, 1), padding=(3, 3), groups=1536)\n",
       "           (norm): LayerNorm((1536,), eps=1e-06, elementwise_affine=True)\n",
       "           (mlp): GlobalResponseNormMlp(\n",
       "             (fc1): Linear(in_features=1536, out_features=6144, bias=True)\n",
       "             (act): GELU()\n",
       "             (drop1): Dropout(p=0.0, inplace=False)\n",
       "             (grn): GlobalResponseNorm()\n",
       "             (fc2): Linear(in_features=6144, out_features=1536, bias=True)\n",
       "             (drop2): Dropout(p=0.0, inplace=False)\n",
       "           )\n",
       "           (shortcut): Identity()\n",
       "           (drop_path): DropPath(drop_prob=0.300)\n",
       "         )\n",
       "       )\n",
       "     )\n",
       "   )\n",
       "   (norm_pre): Identity()\n",
       "   (head): NormMlpClassifierHead(\n",
       "     (global_pool): SelectAdaptivePool2d(pool_type=avg, flatten=Identity())\n",
       "     (norm): LayerNorm2d((1536,), eps=1e-06, elementwise_affine=True)\n",
       "     (flatten): Flatten(start_dim=1, end_dim=-1)\n",
       "     (pre_logits): Identity()\n",
       "     (drop): Dropout(p=0.0, inplace=False)\n",
       "     (fc): Linear(in_features=1536, out_features=17, bias=True)\n",
       "   )\n",
       " ),\n",
       " ConvNeXt(\n",
       "   (stem): Sequential(\n",
       "     (0): Conv2d(3, 192, kernel_size=(4, 4), stride=(4, 4))\n",
       "     (1): LayerNorm2d((192,), eps=1e-06, elementwise_affine=True)\n",
       "   )\n",
       "   (stages): Sequential(\n",
       "     (0): ConvNeXtStage(\n",
       "       (downsample): Identity()\n",
       "       (blocks): Sequential(\n",
       "         (0): ConvNeXtBlock(\n",
       "           (conv_dw): Conv2d(192, 192, kernel_size=(7, 7), stride=(1, 1), padding=(3, 3), groups=192)\n",
       "           (norm): LayerNorm((192,), eps=1e-06, elementwise_affine=True)\n",
       "           (mlp): GlobalResponseNormMlp(\n",
       "             (fc1): Linear(in_features=192, out_features=768, bias=True)\n",
       "             (act): GELU()\n",
       "             (drop1): Dropout(p=0.0, inplace=False)\n",
       "             (grn): GlobalResponseNorm()\n",
       "             (fc2): Linear(in_features=768, out_features=192, bias=True)\n",
       "             (drop2): Dropout(p=0.0, inplace=False)\n",
       "           )\n",
       "           (shortcut): Identity()\n",
       "           (drop_path): Identity()\n",
       "         )\n",
       "         (1): ConvNeXtBlock(\n",
       "           (conv_dw): Conv2d(192, 192, kernel_size=(7, 7), stride=(1, 1), padding=(3, 3), groups=192)\n",
       "           (norm): LayerNorm((192,), eps=1e-06, elementwise_affine=True)\n",
       "           (mlp): GlobalResponseNormMlp(\n",
       "             (fc1): Linear(in_features=192, out_features=768, bias=True)\n",
       "             (act): GELU()\n",
       "             (drop1): Dropout(p=0.0, inplace=False)\n",
       "             (grn): GlobalResponseNorm()\n",
       "             (fc2): Linear(in_features=768, out_features=192, bias=True)\n",
       "             (drop2): Dropout(p=0.0, inplace=False)\n",
       "           )\n",
       "           (shortcut): Identity()\n",
       "           (drop_path): DropPath(drop_prob=0.009)\n",
       "         )\n",
       "         (2): ConvNeXtBlock(\n",
       "           (conv_dw): Conv2d(192, 192, kernel_size=(7, 7), stride=(1, 1), padding=(3, 3), groups=192)\n",
       "           (norm): LayerNorm((192,), eps=1e-06, elementwise_affine=True)\n",
       "           (mlp): GlobalResponseNormMlp(\n",
       "             (fc1): Linear(in_features=192, out_features=768, bias=True)\n",
       "             (act): GELU()\n",
       "             (drop1): Dropout(p=0.0, inplace=False)\n",
       "             (grn): GlobalResponseNorm()\n",
       "             (fc2): Linear(in_features=768, out_features=192, bias=True)\n",
       "             (drop2): Dropout(p=0.0, inplace=False)\n",
       "           )\n",
       "           (shortcut): Identity()\n",
       "           (drop_path): DropPath(drop_prob=0.017)\n",
       "         )\n",
       "       )\n",
       "     )\n",
       "     (1): ConvNeXtStage(\n",
       "       (downsample): Sequential(\n",
       "         (0): LayerNorm2d((192,), eps=1e-06, elementwise_affine=True)\n",
       "         (1): Conv2d(192, 384, kernel_size=(2, 2), stride=(2, 2))\n",
       "       )\n",
       "       (blocks): Sequential(\n",
       "         (0): ConvNeXtBlock(\n",
       "           (conv_dw): Conv2d(384, 384, kernel_size=(7, 7), stride=(1, 1), padding=(3, 3), groups=384)\n",
       "           (norm): LayerNorm((384,), eps=1e-06, elementwise_affine=True)\n",
       "           (mlp): GlobalResponseNormMlp(\n",
       "             (fc1): Linear(in_features=384, out_features=1536, bias=True)\n",
       "             (act): GELU()\n",
       "             (drop1): Dropout(p=0.0, inplace=False)\n",
       "             (grn): GlobalResponseNorm()\n",
       "             (fc2): Linear(in_features=1536, out_features=384, bias=True)\n",
       "             (drop2): Dropout(p=0.0, inplace=False)\n",
       "           )\n",
       "           (shortcut): Identity()\n",
       "           (drop_path): DropPath(drop_prob=0.026)\n",
       "         )\n",
       "         (1): ConvNeXtBlock(\n",
       "           (conv_dw): Conv2d(384, 384, kernel_size=(7, 7), stride=(1, 1), padding=(3, 3), groups=384)\n",
       "           (norm): LayerNorm((384,), eps=1e-06, elementwise_affine=True)\n",
       "           (mlp): GlobalResponseNormMlp(\n",
       "             (fc1): Linear(in_features=384, out_features=1536, bias=True)\n",
       "             (act): GELU()\n",
       "             (drop1): Dropout(p=0.0, inplace=False)\n",
       "             (grn): GlobalResponseNorm()\n",
       "             (fc2): Linear(in_features=1536, out_features=384, bias=True)\n",
       "             (drop2): Dropout(p=0.0, inplace=False)\n",
       "           )\n",
       "           (shortcut): Identity()\n",
       "           (drop_path): DropPath(drop_prob=0.034)\n",
       "         )\n",
       "         (2): ConvNeXtBlock(\n",
       "           (conv_dw): Conv2d(384, 384, kernel_size=(7, 7), stride=(1, 1), padding=(3, 3), groups=384)\n",
       "           (norm): LayerNorm((384,), eps=1e-06, elementwise_affine=True)\n",
       "           (mlp): GlobalResponseNormMlp(\n",
       "             (fc1): Linear(in_features=384, out_features=1536, bias=True)\n",
       "             (act): GELU()\n",
       "             (drop1): Dropout(p=0.0, inplace=False)\n",
       "             (grn): GlobalResponseNorm()\n",
       "             (fc2): Linear(in_features=1536, out_features=384, bias=True)\n",
       "             (drop2): Dropout(p=0.0, inplace=False)\n",
       "           )\n",
       "           (shortcut): Identity()\n",
       "           (drop_path): DropPath(drop_prob=0.043)\n",
       "         )\n",
       "       )\n",
       "     )\n",
       "     (2): ConvNeXtStage(\n",
       "       (downsample): Sequential(\n",
       "         (0): LayerNorm2d((384,), eps=1e-06, elementwise_affine=True)\n",
       "         (1): Conv2d(384, 768, kernel_size=(2, 2), stride=(2, 2))\n",
       "       )\n",
       "       (blocks): Sequential(\n",
       "         (0): ConvNeXtBlock(\n",
       "           (conv_dw): Conv2d(768, 768, kernel_size=(7, 7), stride=(1, 1), padding=(3, 3), groups=768)\n",
       "           (norm): LayerNorm((768,), eps=1e-06, elementwise_affine=True)\n",
       "           (mlp): GlobalResponseNormMlp(\n",
       "             (fc1): Linear(in_features=768, out_features=3072, bias=True)\n",
       "             (act): GELU()\n",
       "             (drop1): Dropout(p=0.0, inplace=False)\n",
       "             (grn): GlobalResponseNorm()\n",
       "             (fc2): Linear(in_features=3072, out_features=768, bias=True)\n",
       "             (drop2): Dropout(p=0.0, inplace=False)\n",
       "           )\n",
       "           (shortcut): Identity()\n",
       "           (drop_path): DropPath(drop_prob=0.051)\n",
       "         )\n",
       "         (1): ConvNeXtBlock(\n",
       "           (conv_dw): Conv2d(768, 768, kernel_size=(7, 7), stride=(1, 1), padding=(3, 3), groups=768)\n",
       "           (norm): LayerNorm((768,), eps=1e-06, elementwise_affine=True)\n",
       "           (mlp): GlobalResponseNormMlp(\n",
       "             (fc1): Linear(in_features=768, out_features=3072, bias=True)\n",
       "             (act): GELU()\n",
       "             (drop1): Dropout(p=0.0, inplace=False)\n",
       "             (grn): GlobalResponseNorm()\n",
       "             (fc2): Linear(in_features=3072, out_features=768, bias=True)\n",
       "             (drop2): Dropout(p=0.0, inplace=False)\n",
       "           )\n",
       "           (shortcut): Identity()\n",
       "           (drop_path): DropPath(drop_prob=0.060)\n",
       "         )\n",
       "         (2): ConvNeXtBlock(\n",
       "           (conv_dw): Conv2d(768, 768, kernel_size=(7, 7), stride=(1, 1), padding=(3, 3), groups=768)\n",
       "           (norm): LayerNorm((768,), eps=1e-06, elementwise_affine=True)\n",
       "           (mlp): GlobalResponseNormMlp(\n",
       "             (fc1): Linear(in_features=768, out_features=3072, bias=True)\n",
       "             (act): GELU()\n",
       "             (drop1): Dropout(p=0.0, inplace=False)\n",
       "             (grn): GlobalResponseNorm()\n",
       "             (fc2): Linear(in_features=3072, out_features=768, bias=True)\n",
       "             (drop2): Dropout(p=0.0, inplace=False)\n",
       "           )\n",
       "           (shortcut): Identity()\n",
       "           (drop_path): DropPath(drop_prob=0.069)\n",
       "         )\n",
       "         (3): ConvNeXtBlock(\n",
       "           (conv_dw): Conv2d(768, 768, kernel_size=(7, 7), stride=(1, 1), padding=(3, 3), groups=768)\n",
       "           (norm): LayerNorm((768,), eps=1e-06, elementwise_affine=True)\n",
       "           (mlp): GlobalResponseNormMlp(\n",
       "             (fc1): Linear(in_features=768, out_features=3072, bias=True)\n",
       "             (act): GELU()\n",
       "             (drop1): Dropout(p=0.0, inplace=False)\n",
       "             (grn): GlobalResponseNorm()\n",
       "             (fc2): Linear(in_features=3072, out_features=768, bias=True)\n",
       "             (drop2): Dropout(p=0.0, inplace=False)\n",
       "           )\n",
       "           (shortcut): Identity()\n",
       "           (drop_path): DropPath(drop_prob=0.077)\n",
       "         )\n",
       "         (4): ConvNeXtBlock(\n",
       "           (conv_dw): Conv2d(768, 768, kernel_size=(7, 7), stride=(1, 1), padding=(3, 3), groups=768)\n",
       "           (norm): LayerNorm((768,), eps=1e-06, elementwise_affine=True)\n",
       "           (mlp): GlobalResponseNormMlp(\n",
       "             (fc1): Linear(in_features=768, out_features=3072, bias=True)\n",
       "             (act): GELU()\n",
       "             (drop1): Dropout(p=0.0, inplace=False)\n",
       "             (grn): GlobalResponseNorm()\n",
       "             (fc2): Linear(in_features=3072, out_features=768, bias=True)\n",
       "             (drop2): Dropout(p=0.0, inplace=False)\n",
       "           )\n",
       "           (shortcut): Identity()\n",
       "           (drop_path): DropPath(drop_prob=0.086)\n",
       "         )\n",
       "         (5): ConvNeXtBlock(\n",
       "           (conv_dw): Conv2d(768, 768, kernel_size=(7, 7), stride=(1, 1), padding=(3, 3), groups=768)\n",
       "           (norm): LayerNorm((768,), eps=1e-06, elementwise_affine=True)\n",
       "           (mlp): GlobalResponseNormMlp(\n",
       "             (fc1): Linear(in_features=768, out_features=3072, bias=True)\n",
       "             (act): GELU()\n",
       "             (drop1): Dropout(p=0.0, inplace=False)\n",
       "             (grn): GlobalResponseNorm()\n",
       "             (fc2): Linear(in_features=3072, out_features=768, bias=True)\n",
       "             (drop2): Dropout(p=0.0, inplace=False)\n",
       "           )\n",
       "           (shortcut): Identity()\n",
       "           (drop_path): DropPath(drop_prob=0.094)\n",
       "         )\n",
       "         (6): ConvNeXtBlock(\n",
       "           (conv_dw): Conv2d(768, 768, kernel_size=(7, 7), stride=(1, 1), padding=(3, 3), groups=768)\n",
       "           (norm): LayerNorm((768,), eps=1e-06, elementwise_affine=True)\n",
       "           (mlp): GlobalResponseNormMlp(\n",
       "             (fc1): Linear(in_features=768, out_features=3072, bias=True)\n",
       "             (act): GELU()\n",
       "             (drop1): Dropout(p=0.0, inplace=False)\n",
       "             (grn): GlobalResponseNorm()\n",
       "             (fc2): Linear(in_features=3072, out_features=768, bias=True)\n",
       "             (drop2): Dropout(p=0.0, inplace=False)\n",
       "           )\n",
       "           (shortcut): Identity()\n",
       "           (drop_path): DropPath(drop_prob=0.103)\n",
       "         )\n",
       "         (7): ConvNeXtBlock(\n",
       "           (conv_dw): Conv2d(768, 768, kernel_size=(7, 7), stride=(1, 1), padding=(3, 3), groups=768)\n",
       "           (norm): LayerNorm((768,), eps=1e-06, elementwise_affine=True)\n",
       "           (mlp): GlobalResponseNormMlp(\n",
       "             (fc1): Linear(in_features=768, out_features=3072, bias=True)\n",
       "             (act): GELU()\n",
       "             (drop1): Dropout(p=0.0, inplace=False)\n",
       "             (grn): GlobalResponseNorm()\n",
       "             (fc2): Linear(in_features=3072, out_features=768, bias=True)\n",
       "             (drop2): Dropout(p=0.0, inplace=False)\n",
       "           )\n",
       "           (shortcut): Identity()\n",
       "           (drop_path): DropPath(drop_prob=0.111)\n",
       "         )\n",
       "         (8): ConvNeXtBlock(\n",
       "           (conv_dw): Conv2d(768, 768, kernel_size=(7, 7), stride=(1, 1), padding=(3, 3), groups=768)\n",
       "           (norm): LayerNorm((768,), eps=1e-06, elementwise_affine=True)\n",
       "           (mlp): GlobalResponseNormMlp(\n",
       "             (fc1): Linear(in_features=768, out_features=3072, bias=True)\n",
       "             (act): GELU()\n",
       "             (drop1): Dropout(p=0.0, inplace=False)\n",
       "             (grn): GlobalResponseNorm()\n",
       "             (fc2): Linear(in_features=3072, out_features=768, bias=True)\n",
       "             (drop2): Dropout(p=0.0, inplace=False)\n",
       "           )\n",
       "           (shortcut): Identity()\n",
       "           (drop_path): DropPath(drop_prob=0.120)\n",
       "         )\n",
       "         (9): ConvNeXtBlock(\n",
       "           (conv_dw): Conv2d(768, 768, kernel_size=(7, 7), stride=(1, 1), padding=(3, 3), groups=768)\n",
       "           (norm): LayerNorm((768,), eps=1e-06, elementwise_affine=True)\n",
       "           (mlp): GlobalResponseNormMlp(\n",
       "             (fc1): Linear(in_features=768, out_features=3072, bias=True)\n",
       "             (act): GELU()\n",
       "             (drop1): Dropout(p=0.0, inplace=False)\n",
       "             (grn): GlobalResponseNorm()\n",
       "             (fc2): Linear(in_features=3072, out_features=768, bias=True)\n",
       "             (drop2): Dropout(p=0.0, inplace=False)\n",
       "           )\n",
       "           (shortcut): Identity()\n",
       "           (drop_path): DropPath(drop_prob=0.129)\n",
       "         )\n",
       "         (10): ConvNeXtBlock(\n",
       "           (conv_dw): Conv2d(768, 768, kernel_size=(7, 7), stride=(1, 1), padding=(3, 3), groups=768)\n",
       "           (norm): LayerNorm((768,), eps=1e-06, elementwise_affine=True)\n",
       "           (mlp): GlobalResponseNormMlp(\n",
       "             (fc1): Linear(in_features=768, out_features=3072, bias=True)\n",
       "             (act): GELU()\n",
       "             (drop1): Dropout(p=0.0, inplace=False)\n",
       "             (grn): GlobalResponseNorm()\n",
       "             (fc2): Linear(in_features=3072, out_features=768, bias=True)\n",
       "             (drop2): Dropout(p=0.0, inplace=False)\n",
       "           )\n",
       "           (shortcut): Identity()\n",
       "           (drop_path): DropPath(drop_prob=0.137)\n",
       "         )\n",
       "         (11): ConvNeXtBlock(\n",
       "           (conv_dw): Conv2d(768, 768, kernel_size=(7, 7), stride=(1, 1), padding=(3, 3), groups=768)\n",
       "           (norm): LayerNorm((768,), eps=1e-06, elementwise_affine=True)\n",
       "           (mlp): GlobalResponseNormMlp(\n",
       "             (fc1): Linear(in_features=768, out_features=3072, bias=True)\n",
       "             (act): GELU()\n",
       "             (drop1): Dropout(p=0.0, inplace=False)\n",
       "             (grn): GlobalResponseNorm()\n",
       "             (fc2): Linear(in_features=3072, out_features=768, bias=True)\n",
       "             (drop2): Dropout(p=0.0, inplace=False)\n",
       "           )\n",
       "           (shortcut): Identity()\n",
       "           (drop_path): DropPath(drop_prob=0.146)\n",
       "         )\n",
       "         (12): ConvNeXtBlock(\n",
       "           (conv_dw): Conv2d(768, 768, kernel_size=(7, 7), stride=(1, 1), padding=(3, 3), groups=768)\n",
       "           (norm): LayerNorm((768,), eps=1e-06, elementwise_affine=True)\n",
       "           (mlp): GlobalResponseNormMlp(\n",
       "             (fc1): Linear(in_features=768, out_features=3072, bias=True)\n",
       "             (act): GELU()\n",
       "             (drop1): Dropout(p=0.0, inplace=False)\n",
       "             (grn): GlobalResponseNorm()\n",
       "             (fc2): Linear(in_features=3072, out_features=768, bias=True)\n",
       "             (drop2): Dropout(p=0.0, inplace=False)\n",
       "           )\n",
       "           (shortcut): Identity()\n",
       "           (drop_path): DropPath(drop_prob=0.154)\n",
       "         )\n",
       "         (13): ConvNeXtBlock(\n",
       "           (conv_dw): Conv2d(768, 768, kernel_size=(7, 7), stride=(1, 1), padding=(3, 3), groups=768)\n",
       "           (norm): LayerNorm((768,), eps=1e-06, elementwise_affine=True)\n",
       "           (mlp): GlobalResponseNormMlp(\n",
       "             (fc1): Linear(in_features=768, out_features=3072, bias=True)\n",
       "             (act): GELU()\n",
       "             (drop1): Dropout(p=0.0, inplace=False)\n",
       "             (grn): GlobalResponseNorm()\n",
       "             (fc2): Linear(in_features=3072, out_features=768, bias=True)\n",
       "             (drop2): Dropout(p=0.0, inplace=False)\n",
       "           )\n",
       "           (shortcut): Identity()\n",
       "           (drop_path): DropPath(drop_prob=0.163)\n",
       "         )\n",
       "         (14): ConvNeXtBlock(\n",
       "           (conv_dw): Conv2d(768, 768, kernel_size=(7, 7), stride=(1, 1), padding=(3, 3), groups=768)\n",
       "           (norm): LayerNorm((768,), eps=1e-06, elementwise_affine=True)\n",
       "           (mlp): GlobalResponseNormMlp(\n",
       "             (fc1): Linear(in_features=768, out_features=3072, bias=True)\n",
       "             (act): GELU()\n",
       "             (drop1): Dropout(p=0.0, inplace=False)\n",
       "             (grn): GlobalResponseNorm()\n",
       "             (fc2): Linear(in_features=3072, out_features=768, bias=True)\n",
       "             (drop2): Dropout(p=0.0, inplace=False)\n",
       "           )\n",
       "           (shortcut): Identity()\n",
       "           (drop_path): DropPath(drop_prob=0.171)\n",
       "         )\n",
       "         (15): ConvNeXtBlock(\n",
       "           (conv_dw): Conv2d(768, 768, kernel_size=(7, 7), stride=(1, 1), padding=(3, 3), groups=768)\n",
       "           (norm): LayerNorm((768,), eps=1e-06, elementwise_affine=True)\n",
       "           (mlp): GlobalResponseNormMlp(\n",
       "             (fc1): Linear(in_features=768, out_features=3072, bias=True)\n",
       "             (act): GELU()\n",
       "             (drop1): Dropout(p=0.0, inplace=False)\n",
       "             (grn): GlobalResponseNorm()\n",
       "             (fc2): Linear(in_features=3072, out_features=768, bias=True)\n",
       "             (drop2): Dropout(p=0.0, inplace=False)\n",
       "           )\n",
       "           (shortcut): Identity()\n",
       "           (drop_path): DropPath(drop_prob=0.180)\n",
       "         )\n",
       "         (16): ConvNeXtBlock(\n",
       "           (conv_dw): Conv2d(768, 768, kernel_size=(7, 7), stride=(1, 1), padding=(3, 3), groups=768)\n",
       "           (norm): LayerNorm((768,), eps=1e-06, elementwise_affine=True)\n",
       "           (mlp): GlobalResponseNormMlp(\n",
       "             (fc1): Linear(in_features=768, out_features=3072, bias=True)\n",
       "             (act): GELU()\n",
       "             (drop1): Dropout(p=0.0, inplace=False)\n",
       "             (grn): GlobalResponseNorm()\n",
       "             (fc2): Linear(in_features=3072, out_features=768, bias=True)\n",
       "             (drop2): Dropout(p=0.0, inplace=False)\n",
       "           )\n",
       "           (shortcut): Identity()\n",
       "           (drop_path): DropPath(drop_prob=0.189)\n",
       "         )\n",
       "         (17): ConvNeXtBlock(\n",
       "           (conv_dw): Conv2d(768, 768, kernel_size=(7, 7), stride=(1, 1), padding=(3, 3), groups=768)\n",
       "           (norm): LayerNorm((768,), eps=1e-06, elementwise_affine=True)\n",
       "           (mlp): GlobalResponseNormMlp(\n",
       "             (fc1): Linear(in_features=768, out_features=3072, bias=True)\n",
       "             (act): GELU()\n",
       "             (drop1): Dropout(p=0.0, inplace=False)\n",
       "             (grn): GlobalResponseNorm()\n",
       "             (fc2): Linear(in_features=3072, out_features=768, bias=True)\n",
       "             (drop2): Dropout(p=0.0, inplace=False)\n",
       "           )\n",
       "           (shortcut): Identity()\n",
       "           (drop_path): DropPath(drop_prob=0.197)\n",
       "         )\n",
       "         (18): ConvNeXtBlock(\n",
       "           (conv_dw): Conv2d(768, 768, kernel_size=(7, 7), stride=(1, 1), padding=(3, 3), groups=768)\n",
       "           (norm): LayerNorm((768,), eps=1e-06, elementwise_affine=True)\n",
       "           (mlp): GlobalResponseNormMlp(\n",
       "             (fc1): Linear(in_features=768, out_features=3072, bias=True)\n",
       "             (act): GELU()\n",
       "             (drop1): Dropout(p=0.0, inplace=False)\n",
       "             (grn): GlobalResponseNorm()\n",
       "             (fc2): Linear(in_features=3072, out_features=768, bias=True)\n",
       "             (drop2): Dropout(p=0.0, inplace=False)\n",
       "           )\n",
       "           (shortcut): Identity()\n",
       "           (drop_path): DropPath(drop_prob=0.206)\n",
       "         )\n",
       "         (19): ConvNeXtBlock(\n",
       "           (conv_dw): Conv2d(768, 768, kernel_size=(7, 7), stride=(1, 1), padding=(3, 3), groups=768)\n",
       "           (norm): LayerNorm((768,), eps=1e-06, elementwise_affine=True)\n",
       "           (mlp): GlobalResponseNormMlp(\n",
       "             (fc1): Linear(in_features=768, out_features=3072, bias=True)\n",
       "             (act): GELU()\n",
       "             (drop1): Dropout(p=0.0, inplace=False)\n",
       "             (grn): GlobalResponseNorm()\n",
       "             (fc2): Linear(in_features=3072, out_features=768, bias=True)\n",
       "             (drop2): Dropout(p=0.0, inplace=False)\n",
       "           )\n",
       "           (shortcut): Identity()\n",
       "           (drop_path): DropPath(drop_prob=0.214)\n",
       "         )\n",
       "         (20): ConvNeXtBlock(\n",
       "           (conv_dw): Conv2d(768, 768, kernel_size=(7, 7), stride=(1, 1), padding=(3, 3), groups=768)\n",
       "           (norm): LayerNorm((768,), eps=1e-06, elementwise_affine=True)\n",
       "           (mlp): GlobalResponseNormMlp(\n",
       "             (fc1): Linear(in_features=768, out_features=3072, bias=True)\n",
       "             (act): GELU()\n",
       "             (drop1): Dropout(p=0.0, inplace=False)\n",
       "             (grn): GlobalResponseNorm()\n",
       "             (fc2): Linear(in_features=3072, out_features=768, bias=True)\n",
       "             (drop2): Dropout(p=0.0, inplace=False)\n",
       "           )\n",
       "           (shortcut): Identity()\n",
       "           (drop_path): DropPath(drop_prob=0.223)\n",
       "         )\n",
       "         (21): ConvNeXtBlock(\n",
       "           (conv_dw): Conv2d(768, 768, kernel_size=(7, 7), stride=(1, 1), padding=(3, 3), groups=768)\n",
       "           (norm): LayerNorm((768,), eps=1e-06, elementwise_affine=True)\n",
       "           (mlp): GlobalResponseNormMlp(\n",
       "             (fc1): Linear(in_features=768, out_features=3072, bias=True)\n",
       "             (act): GELU()\n",
       "             (drop1): Dropout(p=0.0, inplace=False)\n",
       "             (grn): GlobalResponseNorm()\n",
       "             (fc2): Linear(in_features=3072, out_features=768, bias=True)\n",
       "             (drop2): Dropout(p=0.0, inplace=False)\n",
       "           )\n",
       "           (shortcut): Identity()\n",
       "           (drop_path): DropPath(drop_prob=0.231)\n",
       "         )\n",
       "         (22): ConvNeXtBlock(\n",
       "           (conv_dw): Conv2d(768, 768, kernel_size=(7, 7), stride=(1, 1), padding=(3, 3), groups=768)\n",
       "           (norm): LayerNorm((768,), eps=1e-06, elementwise_affine=True)\n",
       "           (mlp): GlobalResponseNormMlp(\n",
       "             (fc1): Linear(in_features=768, out_features=3072, bias=True)\n",
       "             (act): GELU()\n",
       "             (drop1): Dropout(p=0.0, inplace=False)\n",
       "             (grn): GlobalResponseNorm()\n",
       "             (fc2): Linear(in_features=3072, out_features=768, bias=True)\n",
       "             (drop2): Dropout(p=0.0, inplace=False)\n",
       "           )\n",
       "           (shortcut): Identity()\n",
       "           (drop_path): DropPath(drop_prob=0.240)\n",
       "         )\n",
       "         (23): ConvNeXtBlock(\n",
       "           (conv_dw): Conv2d(768, 768, kernel_size=(7, 7), stride=(1, 1), padding=(3, 3), groups=768)\n",
       "           (norm): LayerNorm((768,), eps=1e-06, elementwise_affine=True)\n",
       "           (mlp): GlobalResponseNormMlp(\n",
       "             (fc1): Linear(in_features=768, out_features=3072, bias=True)\n",
       "             (act): GELU()\n",
       "             (drop1): Dropout(p=0.0, inplace=False)\n",
       "             (grn): GlobalResponseNorm()\n",
       "             (fc2): Linear(in_features=3072, out_features=768, bias=True)\n",
       "             (drop2): Dropout(p=0.0, inplace=False)\n",
       "           )\n",
       "           (shortcut): Identity()\n",
       "           (drop_path): DropPath(drop_prob=0.249)\n",
       "         )\n",
       "         (24): ConvNeXtBlock(\n",
       "           (conv_dw): Conv2d(768, 768, kernel_size=(7, 7), stride=(1, 1), padding=(3, 3), groups=768)\n",
       "           (norm): LayerNorm((768,), eps=1e-06, elementwise_affine=True)\n",
       "           (mlp): GlobalResponseNormMlp(\n",
       "             (fc1): Linear(in_features=768, out_features=3072, bias=True)\n",
       "             (act): GELU()\n",
       "             (drop1): Dropout(p=0.0, inplace=False)\n",
       "             (grn): GlobalResponseNorm()\n",
       "             (fc2): Linear(in_features=3072, out_features=768, bias=True)\n",
       "             (drop2): Dropout(p=0.0, inplace=False)\n",
       "           )\n",
       "           (shortcut): Identity()\n",
       "           (drop_path): DropPath(drop_prob=0.257)\n",
       "         )\n",
       "         (25): ConvNeXtBlock(\n",
       "           (conv_dw): Conv2d(768, 768, kernel_size=(7, 7), stride=(1, 1), padding=(3, 3), groups=768)\n",
       "           (norm): LayerNorm((768,), eps=1e-06, elementwise_affine=True)\n",
       "           (mlp): GlobalResponseNormMlp(\n",
       "             (fc1): Linear(in_features=768, out_features=3072, bias=True)\n",
       "             (act): GELU()\n",
       "             (drop1): Dropout(p=0.0, inplace=False)\n",
       "             (grn): GlobalResponseNorm()\n",
       "             (fc2): Linear(in_features=3072, out_features=768, bias=True)\n",
       "             (drop2): Dropout(p=0.0, inplace=False)\n",
       "           )\n",
       "           (shortcut): Identity()\n",
       "           (drop_path): DropPath(drop_prob=0.266)\n",
       "         )\n",
       "         (26): ConvNeXtBlock(\n",
       "           (conv_dw): Conv2d(768, 768, kernel_size=(7, 7), stride=(1, 1), padding=(3, 3), groups=768)\n",
       "           (norm): LayerNorm((768,), eps=1e-06, elementwise_affine=True)\n",
       "           (mlp): GlobalResponseNormMlp(\n",
       "             (fc1): Linear(in_features=768, out_features=3072, bias=True)\n",
       "             (act): GELU()\n",
       "             (drop1): Dropout(p=0.0, inplace=False)\n",
       "             (grn): GlobalResponseNorm()\n",
       "             (fc2): Linear(in_features=3072, out_features=768, bias=True)\n",
       "             (drop2): Dropout(p=0.0, inplace=False)\n",
       "           )\n",
       "           (shortcut): Identity()\n",
       "           (drop_path): DropPath(drop_prob=0.274)\n",
       "         )\n",
       "       )\n",
       "     )\n",
       "     (3): ConvNeXtStage(\n",
       "       (downsample): Sequential(\n",
       "         (0): LayerNorm2d((768,), eps=1e-06, elementwise_affine=True)\n",
       "         (1): Conv2d(768, 1536, kernel_size=(2, 2), stride=(2, 2))\n",
       "       )\n",
       "       (blocks): Sequential(\n",
       "         (0): ConvNeXtBlock(\n",
       "           (conv_dw): Conv2d(1536, 1536, kernel_size=(7, 7), stride=(1, 1), padding=(3, 3), groups=1536)\n",
       "           (norm): LayerNorm((1536,), eps=1e-06, elementwise_affine=True)\n",
       "           (mlp): GlobalResponseNormMlp(\n",
       "             (fc1): Linear(in_features=1536, out_features=6144, bias=True)\n",
       "             (act): GELU()\n",
       "             (drop1): Dropout(p=0.0, inplace=False)\n",
       "             (grn): GlobalResponseNorm()\n",
       "             (fc2): Linear(in_features=6144, out_features=1536, bias=True)\n",
       "             (drop2): Dropout(p=0.0, inplace=False)\n",
       "           )\n",
       "           (shortcut): Identity()\n",
       "           (drop_path): DropPath(drop_prob=0.283)\n",
       "         )\n",
       "         (1): ConvNeXtBlock(\n",
       "           (conv_dw): Conv2d(1536, 1536, kernel_size=(7, 7), stride=(1, 1), padding=(3, 3), groups=1536)\n",
       "           (norm): LayerNorm((1536,), eps=1e-06, elementwise_affine=True)\n",
       "           (mlp): GlobalResponseNormMlp(\n",
       "             (fc1): Linear(in_features=1536, out_features=6144, bias=True)\n",
       "             (act): GELU()\n",
       "             (drop1): Dropout(p=0.0, inplace=False)\n",
       "             (grn): GlobalResponseNorm()\n",
       "             (fc2): Linear(in_features=6144, out_features=1536, bias=True)\n",
       "             (drop2): Dropout(p=0.0, inplace=False)\n",
       "           )\n",
       "           (shortcut): Identity()\n",
       "           (drop_path): DropPath(drop_prob=0.291)\n",
       "         )\n",
       "         (2): ConvNeXtBlock(\n",
       "           (conv_dw): Conv2d(1536, 1536, kernel_size=(7, 7), stride=(1, 1), padding=(3, 3), groups=1536)\n",
       "           (norm): LayerNorm((1536,), eps=1e-06, elementwise_affine=True)\n",
       "           (mlp): GlobalResponseNormMlp(\n",
       "             (fc1): Linear(in_features=1536, out_features=6144, bias=True)\n",
       "             (act): GELU()\n",
       "             (drop1): Dropout(p=0.0, inplace=False)\n",
       "             (grn): GlobalResponseNorm()\n",
       "             (fc2): Linear(in_features=6144, out_features=1536, bias=True)\n",
       "             (drop2): Dropout(p=0.0, inplace=False)\n",
       "           )\n",
       "           (shortcut): Identity()\n",
       "           (drop_path): DropPath(drop_prob=0.300)\n",
       "         )\n",
       "       )\n",
       "     )\n",
       "   )\n",
       "   (norm_pre): Identity()\n",
       "   (head): NormMlpClassifierHead(\n",
       "     (global_pool): SelectAdaptivePool2d(pool_type=avg, flatten=Identity())\n",
       "     (norm): LayerNorm2d((1536,), eps=1e-06, elementwise_affine=True)\n",
       "     (flatten): Flatten(start_dim=1, end_dim=-1)\n",
       "     (pre_logits): Identity()\n",
       "     (drop): Dropout(p=0.0, inplace=False)\n",
       "     (fc): Linear(in_features=1536, out_features=17, bias=True)\n",
       "   )\n",
       " )]"
      ]
     },
     "execution_count": 21,
     "metadata": {},
     "output_type": "execute_result"
    }
   ],
   "source": [
    "models"
   ]
  },
  {
   "cell_type": "code",
   "execution_count": 23,
   "id": "c352e007",
   "metadata": {},
   "outputs": [
    {
     "ename": "BrokenPipeError",
     "evalue": "[Errno 32] Broken pipe",
     "output_type": "error",
     "traceback": [
      "\u001b[0;31m---------------------------------------------------------------------------\u001b[0m",
      "\u001b[0;31mBrokenPipeError\u001b[0m                           Traceback (most recent call last)",
      "Cell \u001b[0;32mIn[23], line 5\u001b[0m\n\u001b[1;32m      2\u001b[0m \u001b[38;5;28;01mif\u001b[39;00m wandb\u001b[38;5;241m.\u001b[39mrun \u001b[38;5;129;01mis\u001b[39;00m \u001b[38;5;129;01mnot\u001b[39;00m \u001b[38;5;28;01mNone\u001b[39;00m:\n\u001b[1;32m      3\u001b[0m     wandb\u001b[38;5;241m.\u001b[39mfinish()\n\u001b[0;32m----> 5\u001b[0m \u001b[43mwandb\u001b[49m\u001b[38;5;241;43m.\u001b[39;49m\u001b[43minit\u001b[49m\u001b[43m(\u001b[49m\n\u001b[1;32m      6\u001b[0m \u001b[43m    \u001b[49m\u001b[43mproject\u001b[49m\u001b[38;5;241;43m=\u001b[39;49m\u001b[38;5;124;43m\"\u001b[39;49m\u001b[38;5;124;43mDocument Classification\u001b[39;49m\u001b[38;5;124;43m\"\u001b[39;49m\u001b[43m,\u001b[49m\n\u001b[1;32m      7\u001b[0m \u001b[43m    \u001b[49m\u001b[43mentity\u001b[49m\u001b[38;5;241;43m=\u001b[39;49m\u001b[38;5;124;43m\"\u001b[39;49m\u001b[38;5;124;43mmoonstalker9010-none\u001b[39;49m\u001b[38;5;124;43m\"\u001b[39;49m\u001b[43m,\u001b[49m\n\u001b[1;32m      8\u001b[0m \u001b[43m    \u001b[49m\u001b[43mname\u001b[49m\u001b[38;5;241;43m=\u001b[39;49m\u001b[38;5;124;43m\"\u001b[39;49m\u001b[38;5;124;43mensemble_evaluation\u001b[39;49m\u001b[38;5;124;43m\"\u001b[39;49m\u001b[43m,\u001b[49m\n\u001b[1;32m      9\u001b[0m \u001b[43m    \u001b[49m\u001b[43mconfig\u001b[49m\u001b[38;5;241;43m=\u001b[39;49m\u001b[43m{\u001b[49m\n\u001b[1;32m     10\u001b[0m \u001b[43m        \u001b[49m\u001b[38;5;124;43m\"\u001b[39;49m\u001b[38;5;124;43mepochs\u001b[39;49m\u001b[38;5;124;43m\"\u001b[39;49m\u001b[43m:\u001b[49m\u001b[43m \u001b[49m\u001b[43mEPOCHS\u001b[49m\u001b[43m,\u001b[49m\n\u001b[1;32m     11\u001b[0m \u001b[43m        \u001b[49m\u001b[38;5;124;43m\"\u001b[39;49m\u001b[38;5;124;43mimg_size\u001b[39;49m\u001b[38;5;124;43m\"\u001b[39;49m\u001b[43m:\u001b[49m\u001b[43m \u001b[49m\u001b[43mimg_size\u001b[49m\u001b[43m,\u001b[49m\n\u001b[1;32m     12\u001b[0m \u001b[43m        \u001b[49m\u001b[38;5;124;43m\"\u001b[39;49m\u001b[38;5;124;43mbatch_size\u001b[39;49m\u001b[38;5;124;43m\"\u001b[39;49m\u001b[43m:\u001b[49m\u001b[43m \u001b[49m\u001b[43mBATCH_SIZE\u001b[49m\u001b[43m,\u001b[49m\n\u001b[1;32m     13\u001b[0m \u001b[43m        \u001b[49m\u001b[38;5;124;43m\"\u001b[39;49m\u001b[38;5;124;43mlearning_rate\u001b[39;49m\u001b[38;5;124;43m\"\u001b[39;49m\u001b[43m:\u001b[49m\u001b[43m \u001b[49m\u001b[43mLR\u001b[49m\u001b[43m,\u001b[49m\n\u001b[1;32m     14\u001b[0m \u001b[43m        \u001b[49m\u001b[38;5;124;43m\"\u001b[39;49m\u001b[38;5;124;43mmodel_name\u001b[39;49m\u001b[38;5;124;43m\"\u001b[39;49m\u001b[43m:\u001b[49m\u001b[43m \u001b[49m\u001b[43mmodel_name\u001b[49m\u001b[43m,\u001b[49m\n\u001b[1;32m     15\u001b[0m \u001b[43m        \u001b[49m\u001b[38;5;124;43m\"\u001b[39;49m\u001b[38;5;124;43mensemble_models\u001b[39;49m\u001b[38;5;124;43m\"\u001b[39;49m\u001b[43m:\u001b[49m\u001b[43m \u001b[49m\u001b[38;5;28;43mlen\u001b[39;49m\u001b[43m(\u001b[49m\u001b[43mmodels\u001b[49m\u001b[43m)\u001b[49m\u001b[43m,\u001b[49m\n\u001b[1;32m     16\u001b[0m \u001b[43m    \u001b[49m\u001b[43m}\u001b[49m\n\u001b[1;32m     17\u001b[0m \u001b[43m)\u001b[49m\n\u001b[1;32m     19\u001b[0m oof_targets \u001b[38;5;241m=\u001b[39m []\n\u001b[1;32m     20\u001b[0m oof_preds \u001b[38;5;241m=\u001b[39m []\n",
      "File \u001b[0;32m/opt/conda/envs/CV_Project/lib/python3.9/site-packages/wandb/sdk/wandb_init.py:1620\u001b[0m, in \u001b[0;36minit\u001b[0;34m(entity, project, dir, id, name, notes, tags, config, config_exclude_keys, config_include_keys, allow_val_change, group, job_type, mode, force, anonymous, reinit, resume, resume_from, fork_from, save_code, tensorboard, sync_tensorboard, monitor_gym, settings)\u001b[0m\n\u001b[1;32m   1616\u001b[0m     wl\u001b[38;5;241m.\u001b[39m_get_logger()\u001b[38;5;241m.\u001b[39mexception(\u001b[38;5;124m\"\u001b[39m\u001b[38;5;124merror in wandb.init()\u001b[39m\u001b[38;5;124m\"\u001b[39m, exc_info\u001b[38;5;241m=\u001b[39me)\n\u001b[1;32m   1618\u001b[0m \u001b[38;5;66;03m# Need to build delay into this sentry capture because our exit hooks\u001b[39;00m\n\u001b[1;32m   1619\u001b[0m \u001b[38;5;66;03m# mess with sentry's ability to send out errors before the program ends.\u001b[39;00m\n\u001b[0;32m-> 1620\u001b[0m \u001b[43mwandb\u001b[49m\u001b[38;5;241;43m.\u001b[39;49m\u001b[43m_sentry\u001b[49m\u001b[38;5;241;43m.\u001b[39;49m\u001b[43mreraise\u001b[49m\u001b[43m(\u001b[49m\u001b[43me\u001b[49m\u001b[43m)\u001b[49m\n",
      "File \u001b[0;32m/opt/conda/envs/CV_Project/lib/python3.9/site-packages/wandb/analytics/sentry.py:157\u001b[0m, in \u001b[0;36mSentry.reraise\u001b[0;34m(self, exc)\u001b[0m\n\u001b[1;32m    154\u001b[0m \u001b[38;5;28mself\u001b[39m\u001b[38;5;241m.\u001b[39mexception(exc)\n\u001b[1;32m    155\u001b[0m \u001b[38;5;66;03m# this will messily add this \"reraise\" function to the stack trace,\u001b[39;00m\n\u001b[1;32m    156\u001b[0m \u001b[38;5;66;03m# but hopefully it's not too bad\u001b[39;00m\n\u001b[0;32m--> 157\u001b[0m \u001b[38;5;28;01mraise\u001b[39;00m exc\u001b[38;5;241m.\u001b[39mwith_traceback(sys\u001b[38;5;241m.\u001b[39mexc_info()[\u001b[38;5;241m2\u001b[39m])\n",
      "File \u001b[0;32m/opt/conda/envs/CV_Project/lib/python3.9/site-packages/wandb/sdk/wandb_init.py:1606\u001b[0m, in \u001b[0;36minit\u001b[0;34m(entity, project, dir, id, name, notes, tags, config, config_exclude_keys, config_include_keys, allow_val_change, group, job_type, mode, force, anonymous, reinit, resume, resume_from, fork_from, save_code, tensorboard, sync_tensorboard, monitor_gym, settings)\u001b[0m\n\u001b[1;32m   1603\u001b[0m         \u001b[38;5;28;01mif\u001b[39;00m run_settings\u001b[38;5;241m.\u001b[39mx_server_side_derived_summary:\n\u001b[1;32m   1604\u001b[0m             init_telemetry\u001b[38;5;241m.\u001b[39mfeature\u001b[38;5;241m.\u001b[39mserver_side_derived_summary \u001b[38;5;241m=\u001b[39m \u001b[38;5;28;01mTrue\u001b[39;00m\n\u001b[0;32m-> 1606\u001b[0m         \u001b[38;5;28;01mreturn\u001b[39;00m \u001b[43mwi\u001b[49m\u001b[38;5;241;43m.\u001b[39;49m\u001b[43minit\u001b[49m\u001b[43m(\u001b[49m\u001b[43mrun_settings\u001b[49m\u001b[43m,\u001b[49m\u001b[43m \u001b[49m\u001b[43mrun_config\u001b[49m\u001b[43m,\u001b[49m\u001b[43m \u001b[49m\u001b[43mrun_printer\u001b[49m\u001b[43m)\u001b[49m\n\u001b[1;32m   1608\u001b[0m \u001b[38;5;28;01mexcept\u001b[39;00m \u001b[38;5;167;01mKeyboardInterrupt\u001b[39;00m \u001b[38;5;28;01mas\u001b[39;00m e:\n\u001b[1;32m   1609\u001b[0m     \u001b[38;5;28;01mif\u001b[39;00m wl:\n",
      "File \u001b[0;32m/opt/conda/envs/CV_Project/lib/python3.9/site-packages/wandb/sdk/wandb_init.py:875\u001b[0m, in \u001b[0;36m_WandbInit.init\u001b[0;34m(self, settings, config, run_printer)\u001b[0m\n\u001b[1;32m    873\u001b[0m service \u001b[38;5;241m=\u001b[39m \u001b[38;5;28mself\u001b[39m\u001b[38;5;241m.\u001b[39m_wl\u001b[38;5;241m.\u001b[39mensure_service()\n\u001b[1;32m    874\u001b[0m \u001b[38;5;28mself\u001b[39m\u001b[38;5;241m.\u001b[39m_logger\u001b[38;5;241m.\u001b[39minfo(\u001b[38;5;124m\"\u001b[39m\u001b[38;5;124msending inform_init request\u001b[39m\u001b[38;5;124m\"\u001b[39m)\n\u001b[0;32m--> 875\u001b[0m \u001b[43mservice\u001b[49m\u001b[38;5;241;43m.\u001b[39;49m\u001b[43minform_init\u001b[49m\u001b[43m(\u001b[49m\n\u001b[1;32m    876\u001b[0m \u001b[43m    \u001b[49m\u001b[43msettings\u001b[49m\u001b[38;5;241;43m=\u001b[39;49m\u001b[43msettings\u001b[49m\u001b[38;5;241;43m.\u001b[39;49m\u001b[43mto_proto\u001b[49m\u001b[43m(\u001b[49m\u001b[43m)\u001b[49m\u001b[43m,\u001b[49m\n\u001b[1;32m    877\u001b[0m \u001b[43m    \u001b[49m\u001b[43mrun_id\u001b[49m\u001b[38;5;241;43m=\u001b[39;49m\u001b[43msettings\u001b[49m\u001b[38;5;241;43m.\u001b[39;49m\u001b[43mrun_id\u001b[49m\u001b[43m,\u001b[49m\u001b[43m  \u001b[49m\u001b[38;5;66;43;03m# type: ignore\u001b[39;49;00m\n\u001b[1;32m    878\u001b[0m \u001b[43m\u001b[49m\u001b[43m)\u001b[49m\n\u001b[1;32m    880\u001b[0m backend \u001b[38;5;241m=\u001b[39m Backend(settings\u001b[38;5;241m=\u001b[39msettings, service\u001b[38;5;241m=\u001b[39mservice)\n\u001b[1;32m    881\u001b[0m backend\u001b[38;5;241m.\u001b[39mensure_launched()\n",
      "File \u001b[0;32m/opt/conda/envs/CV_Project/lib/python3.9/site-packages/wandb/sdk/lib/service/service_connection.py:111\u001b[0m, in \u001b[0;36mServiceConnection.inform_init\u001b[0;34m(self, settings, run_id)\u001b[0m\n\u001b[1;32m    109\u001b[0m request\u001b[38;5;241m.\u001b[39msettings\u001b[38;5;241m.\u001b[39mCopyFrom(settings)\n\u001b[1;32m    110\u001b[0m request\u001b[38;5;241m.\u001b[39m_info\u001b[38;5;241m.\u001b[39mstream_id \u001b[38;5;241m=\u001b[39m run_id\n\u001b[0;32m--> 111\u001b[0m \u001b[38;5;28;43mself\u001b[39;49m\u001b[38;5;241;43m.\u001b[39;49m\u001b[43m_client\u001b[49m\u001b[38;5;241;43m.\u001b[39;49m\u001b[43msend_server_request\u001b[49m\u001b[43m(\u001b[49m\u001b[43mspb\u001b[49m\u001b[38;5;241;43m.\u001b[39;49m\u001b[43mServerRequest\u001b[49m\u001b[43m(\u001b[49m\u001b[43minform_init\u001b[49m\u001b[38;5;241;43m=\u001b[39;49m\u001b[43mrequest\u001b[49m\u001b[43m)\u001b[49m\u001b[43m)\u001b[49m\n",
      "File \u001b[0;32m/opt/conda/envs/CV_Project/lib/python3.9/site-packages/wandb/sdk/lib/sock_client.py:150\u001b[0m, in \u001b[0;36mSockClient.send_server_request\u001b[0;34m(self, msg)\u001b[0m\n\u001b[1;32m    149\u001b[0m \u001b[38;5;28;01mdef\u001b[39;00m\u001b[38;5;250m \u001b[39m\u001b[38;5;21msend_server_request\u001b[39m(\u001b[38;5;28mself\u001b[39m, msg: spb\u001b[38;5;241m.\u001b[39mServerRequest) \u001b[38;5;241m-\u001b[39m\u001b[38;5;241m>\u001b[39m \u001b[38;5;28;01mNone\u001b[39;00m:\n\u001b[0;32m--> 150\u001b[0m     \u001b[38;5;28;43mself\u001b[39;49m\u001b[38;5;241;43m.\u001b[39;49m\u001b[43m_send_message\u001b[49m\u001b[43m(\u001b[49m\u001b[43mmsg\u001b[49m\u001b[43m)\u001b[49m\n",
      "File \u001b[0;32m/opt/conda/envs/CV_Project/lib/python3.9/site-packages/wandb/sdk/lib/sock_client.py:147\u001b[0m, in \u001b[0;36mSockClient._send_message\u001b[0;34m(self, msg)\u001b[0m\n\u001b[1;32m    145\u001b[0m header \u001b[38;5;241m=\u001b[39m struct\u001b[38;5;241m.\u001b[39mpack(\u001b[38;5;124m\"\u001b[39m\u001b[38;5;124m<BI\u001b[39m\u001b[38;5;124m\"\u001b[39m, \u001b[38;5;28mord\u001b[39m(\u001b[38;5;124m\"\u001b[39m\u001b[38;5;124mW\u001b[39m\u001b[38;5;124m\"\u001b[39m), raw_size)\n\u001b[1;32m    146\u001b[0m \u001b[38;5;28;01mwith\u001b[39;00m \u001b[38;5;28mself\u001b[39m\u001b[38;5;241m.\u001b[39m_lock:\n\u001b[0;32m--> 147\u001b[0m     \u001b[38;5;28;43mself\u001b[39;49m\u001b[38;5;241;43m.\u001b[39;49m\u001b[43m_sendall_with_error_handle\u001b[49m\u001b[43m(\u001b[49m\u001b[43mheader\u001b[49m\u001b[43m \u001b[49m\u001b[38;5;241;43m+\u001b[39;49m\u001b[43m \u001b[49m\u001b[43mdata\u001b[49m\u001b[43m)\u001b[49m\n",
      "File \u001b[0;32m/opt/conda/envs/CV_Project/lib/python3.9/site-packages/wandb/sdk/lib/sock_client.py:126\u001b[0m, in \u001b[0;36mSockClient._sendall_with_error_handle\u001b[0;34m(self, data)\u001b[0m\n\u001b[1;32m    124\u001b[0m start_time \u001b[38;5;241m=\u001b[39m time\u001b[38;5;241m.\u001b[39mmonotonic()\n\u001b[1;32m    125\u001b[0m \u001b[38;5;28;01mtry\u001b[39;00m:\n\u001b[0;32m--> 126\u001b[0m     sent \u001b[38;5;241m=\u001b[39m \u001b[38;5;28;43mself\u001b[39;49m\u001b[38;5;241;43m.\u001b[39;49m\u001b[43m_sock\u001b[49m\u001b[38;5;241;43m.\u001b[39;49m\u001b[43msend\u001b[49m\u001b[43m(\u001b[49m\u001b[43mdata\u001b[49m\u001b[43m)\u001b[49m\n\u001b[1;32m    127\u001b[0m     \u001b[38;5;66;03m# sent equal to 0 indicates a closed socket\u001b[39;00m\n\u001b[1;32m    128\u001b[0m     \u001b[38;5;28;01mif\u001b[39;00m sent \u001b[38;5;241m==\u001b[39m \u001b[38;5;241m0\u001b[39m:\n",
      "\u001b[0;31mBrokenPipeError\u001b[0m: [Errno 32] Broken pipe"
     ]
    }
   ],
   "source": [
    "# 앙상블 WandB run\n",
    "if wandb.run is not None:\n",
    "    wandb.finish()\n",
    "\n",
    "wandb.init(\n",
    "    project=\"Document Classification\",\n",
    "    entity=\"moonstalker9010-none\",\n",
    "    name=\"ensemble_evaluation\",\n",
    "    config={\n",
    "        \"epochs\": EPOCHS,\n",
    "        \"img_size\": img_size,\n",
    "        \"batch_size\": BATCH_SIZE,\n",
    "        \"learning_rate\": LR,\n",
    "        \"model_name\": model_name,\n",
    "        \"ensemble_models\": len(models),\n",
    "    }\n",
    ")\n",
    "\n",
    "oof_targets = []\n",
    "oof_preds = []\n",
    "\n",
    "for fold, (train_idx, val_idx) in enumerate(kf.split(train_dfs, train_dfs['target'])):\n",
    "    print(f\"\\n=== Fold {fold+1} Validation Inference ===\")\n",
    "    val_fold_df = train_dfs.iloc[val_idx].reset_index(drop=True)\n",
    "    val_dataset = ImageDataset(val_fold_df, transform=test_transform)\n",
    "    val_loader = DataLoader(val_dataset, batch_size=BATCH_SIZE, shuffle=False, num_workers=num_workers)\n",
    "\n",
    "    fold_preds = []\n",
    "\n",
    "    # 각 fold 검증셋을 앙상블 모델로 추론\n",
    "    for model in models:\n",
    "        model.eval()\n",
    "        preds = []\n",
    "        with torch.no_grad():\n",
    "            for images, targets in val_loader:\n",
    "                images = images.to(device)\n",
    "                outputs = model(images)\n",
    "                probs = outputs.softmax(1).cpu().numpy()\n",
    "                preds.append(probs)\n",
    "        preds = np.concatenate(preds, axis=0)\n",
    "        fold_preds.append(preds)\n",
    "\n",
    "    # 앙상블 평균\n",
    "    ensemble_probs = np.mean(fold_preds, axis=0)\n",
    "    ensemble_preds = np.argmax(ensemble_probs, axis=1)\n",
    "\n",
    "    # fold별 성능 기록\n",
    "    fold_targets = val_fold_df[\"target\"].values\n",
    "    fold_f1 = f1_score(fold_targets, ensemble_preds, average=\"macro\")\n",
    "    fold_acc = accuracy_score(fold_targets, ensemble_preds)\n",
    "    print(f\"[Fold {fold+1}], F1: {fold_f1:.4f}, Acc: {fold_acc:.4f}\")\n",
    "\n",
    "    wandb.log({\n",
    "        f\"fold{fold+1}_f1\": fold_f1,\n",
    "        f\"fold{fold+1}_acc\": fold_acc,\n",
    "    })\n",
    "\n",
    "    oof_targets.extend(fold_targets)\n",
    "    oof_preds.extend(ensemble_preds)\n",
    "\n",
    "# 전체 OOF 성능 계산\n",
    "oof_f1 = f1_score(oof_targets, oof_preds, average=\"macro\")\n",
    "oof_acc = accuracy_score(oof_targets, oof_preds)\n",
    "print(f\"\\n=== OOF 앙상블 전체 성능: F1={oof_f1:.4f}, Acc={oof_acc:.4f} ===\")\n",
    "\n",
    "wandb.log({\n",
    "    \"ensemble_OOF_f1\": oof_f1,\n",
    "    \"ensemble_OOF_acc\": oof_acc,\n",
    "})\n",
    "\n",
    "wandb.finish()"
   ]
  },
  {
   "cell_type": "markdown",
   "id": "fc2eab9f",
   "metadata": {},
   "source": [
    "### Inference"
   ]
  },
  {
   "cell_type": "code",
   "execution_count": 19,
   "id": "b7f2d4f1",
   "metadata": {},
   "outputs": [
    {
     "name": "stderr",
     "output_type": "stream",
     "text": [
      "Inference: 100%|██████████| 785/785 [00:27<00:00, 28.61it/s]\n",
      "Inference: 100%|██████████| 785/785 [00:27<00:00, 28.81it/s]\n",
      "Inference: 100%|██████████| 785/785 [00:27<00:00, 28.74it/s]\n",
      "Inference: 100%|██████████| 785/785 [00:27<00:00, 28.58it/s]\n",
      "Inference: 100%|██████████| 785/785 [00:27<00:00, 28.40it/s]\n"
     ]
    }
   ],
   "source": [
    "all_preds = []\n",
    "\n",
    "# 추론 시작\n",
    "for model in models:\n",
    "    model_preds = []\n",
    "    with torch.no_grad(): \n",
    "        for images, _ in tqdm(test_loader, desc=\"Inference\"):\n",
    "            images = images.to(device)\n",
    "            outputs = model(images)                # 로짓\n",
    "            probs = torch.softmax(outputs, dim=1)  # 확률\n",
    "            model_preds.append(probs.cpu().numpy())\n",
    "    # 모델별 예측 shape: (num_samples, num_classes)\n",
    "    all_preds.append(np.concatenate(model_preds, axis=0))\n",
    "\n",
    "# 앙상블: 모델별 예측 평균\n",
    "ensemble_preds = np.mean(all_preds, axis=0)   # shape: (num_samples, num_classes)\n",
    "final_preds = np.argmax(ensemble_preds, axis=1)\n",
    "\n",
    "# 저장\n",
    "submission = pd.read_csv(\"../../data/sample_submission.csv\")\n",
    "submission[\"target\"] = final_preds\n",
    "submission.to_csv(\"../../data/submission.csv\", index=False)"
   ]
  },
  {
   "cell_type": "code",
   "execution_count": null,
   "id": "3bad2429",
   "metadata": {},
   "outputs": [],
   "source": []
  }
 ],
 "metadata": {
  "kernelspec": {
   "display_name": "CV_Project",
   "language": "python",
   "name": "python3"
  },
  "language_info": {
   "codemirror_mode": {
    "name": "ipython",
    "version": 3
   },
   "file_extension": ".py",
   "mimetype": "text/x-python",
   "name": "python",
   "nbconvert_exporter": "python",
   "pygments_lexer": "ipython3",
   "version": "3.9.23"
  }
 },
 "nbformat": 4,
 "nbformat_minor": 5
}
