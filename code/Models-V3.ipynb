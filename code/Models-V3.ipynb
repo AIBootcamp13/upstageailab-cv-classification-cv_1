{
 "cells": [
  {
   "cell_type": "markdown",
   "id": "073b1c71",
   "metadata": {},
   "source": [
    "### Library"
   ]
  },
  {
   "cell_type": "code",
   "execution_count": 1,
   "id": "afce244c",
   "metadata": {},
   "outputs": [],
   "source": [
    "import os\n",
    "import time\n",
    "import random\n",
    "import timm\n",
    "import torch\n",
    "import cv2\n",
    "import albumentations as A\n",
    "import pandas as pd\n",
    "import numpy as np\n",
    "import torch.nn as nn\n",
    "import matplotlib.pyplot as plt\n",
    "import seaborn as sns\n",
    "import warnings\n",
    "import shutil\n",
    "import wandb\n",
    "warnings.filterwarnings('ignore')\n",
    "\n",
    "from albumentations import Compose, RandomBrightnessContrast, Blur, ShiftScaleRotate, GaussNoise, RandomGamma, CLAHE\n",
    "from albumentations.pytorch import ToTensorV2\n",
    "from torch.optim import Adam\n",
    "from torchvision import transforms\n",
    "from torch.utils.data import Dataset, DataLoader\n",
    "from PIL import Image\n",
    "from tqdm import tqdm\n",
    "from sklearn.metrics import accuracy_score, f1_score, classification_report, confusion_matrix\n",
    "from sklearn.model_selection import StratifiedKFold\n",
    "from sklearn.model_selection import train_test_split\n",
    "from augraphy import (\n",
    "    InkBleed, BleedThrough, Markup, ColorPaper,\n",
    "    AugraphyPipeline, PaperFactory)"
   ]
  },
  {
   "cell_type": "code",
   "execution_count": 2,
   "id": "25c69525",
   "metadata": {},
   "outputs": [],
   "source": [
    "def random_seed(SEED=42):\n",
    "    # SEED = 42 # default\n",
    "    os.environ['PYTHONHASHSEED'] = str(SEED)\n",
    "    random.seed(SEED)\n",
    "    np.random.seed(SEED)\n",
    "    torch.manual_seed(SEED)\n",
    "    torch.cuda.manual_seed(SEED)\n",
    "    torch.cuda.manual_seed_all(SEED)\n",
    "    torch.backends.cudnn.benchmark = True\n",
    "\n",
    "random_seed()"
   ]
  },
  {
   "cell_type": "markdown",
   "id": "cfb06b4c",
   "metadata": {},
   "source": [
    "### Load Data"
   ]
  },
  {
   "cell_type": "code",
   "execution_count": 3,
   "id": "492d947f",
   "metadata": {},
   "outputs": [
    {
     "name": "stdout",
     "output_type": "stream",
     "text": [
      "Train Data: (1570, 2)\n",
      "Test Data: (3140, 2)\n"
     ]
    }
   ],
   "source": [
    "train_csv = \"../data/train.csv\"\n",
    "inference_csv = \"../data/sample_submission.csv\"\n",
    "\n",
    "train_df = pd.read_csv(train_csv)\n",
    "test_df = pd.read_csv(inference_csv)\n",
    "\n",
    "print(f\"Train Data: {train_df.shape}\")\n",
    "print(f\"Test Data: {test_df.shape}\")"
   ]
  },
  {
   "cell_type": "code",
   "execution_count": 4,
   "id": "8d50b9d7",
   "metadata": {},
   "outputs": [],
   "source": [
    "device = torch.device('cuda' if torch.cuda.is_available() else 'cpu')\n",
    "model_name = \"convnextv2_large.fcmae_ft_in22k_in1k\"  \n",
    "img_size = 224 \n",
    "LR = 1e-4\n",
    "EPOCHS = 50\n",
    "BATCH_SIZE = 16\n",
    "Drop_out = 0.3\n",
    "num_workers = 2 # GPU 사용"
   ]
  },
  {
   "cell_type": "code",
   "execution_count": 5,
   "id": "1a530731",
   "metadata": {},
   "outputs": [],
   "source": [
    "class ImageDataset(Dataset):\n",
    "    def __init__(self, df, path, transform=None):\n",
    "        self.df = df.values \n",
    "        self.path = path\n",
    "        self.transform = transform\n",
    "\n",
    "    def __len__(self):\n",
    "        return len(self.df)\n",
    "\n",
    "    def __getitem__(self, idx):\n",
    "        name, target = self.df[idx]\n",
    "        img = np.array(Image.open(os.path.join(self.path, name)))\n",
    "        if self.transform:\n",
    "            img = self.transform(image=img)['image']\n",
    "        return img, target"
   ]
  },
  {
   "cell_type": "code",
   "execution_count": 6,
   "id": "b24d5629",
   "metadata": {},
   "outputs": [],
   "source": [
    "train_transform = A.Compose([\n",
    "    A.Resize(height=img_size, width=img_size),   # 1) 이미지 크기 통일\n",
    "    A.Normalize(                                 # 2) 픽셀 정규화\n",
    "        mean=(0.485, 0.456, 0.406), std=(0.229, 0.224, 0.225)),\n",
    "    ToTensorV2(),                                # 3) 텐서 변환\n",
    "])\n",
    "\n",
    "test_transform = A.Compose([\n",
    "    A.Resize(height=img_size, width=img_size),   # 1) 이미지 크기 통일\n",
    "    A.Normalize(                                 # 2) 픽셀 정규화\n",
    "        mean=(0.485, 0.456, 0.406), std=(0.229, 0.224, 0.225)),\n",
    "    ToTensorV2(),                                # 3) 텐서 변환\n",
    "])\n",
    "\n",
    "train_path = '../data/train/'\n",
    "test_path = '../data/test/'\n",
    "\n",
    "train_dataset = ImageDataset(train_df, train_path, transform=train_transform)\n",
    "test_dataset = ImageDataset(test_df, test_path, transform=test_transform)"
   ]
  },
  {
   "cell_type": "code",
   "execution_count": 7,
   "id": "7551aa4d",
   "metadata": {},
   "outputs": [],
   "source": [
    "# Count_plot\n",
    "def count_plot(df, col, figsize=(10, 6), palette=\"Blues_r\", rotation=None, title=None, xlabel=None, ylabel='Count'):\n",
    "    plt.figure(figsize=figsize)\n",
    "    sns.countplot(data=df, x=col, palette=palette)\n",
    "    plt.title(title if title else f'{col} Count')\n",
    "    plt.xticks(rotation=rotation)\n",
    "    plt.xlabel(xlabel if xlabel is not None else col)\n",
    "    plt.ylabel(ylabel)\n",
    "    plt.show()\n",
    "\n",
    "# hist plot\n",
    "def hist_plot(df1, col, df2=None, figsize=(8, 6), bins=30, alpha=0.6, \n",
    "              color1='skyblue', color2='salmon', label1=None, label2=None, \n",
    "              title=None, density=False):\n",
    "    plt.figure(figsize=figsize)\n",
    "    \n",
    "    stat_mode = 'density' if density else 'count'\n",
    "\n",
    "    sns.histplot(df1[col], kde=True, bins=bins, alpha=alpha, color=color1, \n",
    "                 stat=stat_mode, label=label1 if label1 else ('Group 1' if df2 is not None else None))\n",
    "    \n",
    "    if df2 is not None:\n",
    "        sns.histplot(df2[col], kde=True, bins=bins, alpha=alpha, color=color2, \n",
    "                     stat=stat_mode, label=label2 if label2 else 'Group 2')\n",
    "        plt.legend()\n",
    "\n",
    "    plt.title(title if title else f'{col} Distribution ({\"Density\" if density else \"Count\"} Histogram + KDE)')\n",
    "    plt.xlabel(col)\n",
    "    plt.ylabel(\"Density\" if density else \"Count\")\n",
    "    plt.show()\n",
    "\n",
    "# bar plot    \n",
    "def bar_plot(df, x_col, y_col, figsize=(10, 6), hue=None, palette=\"Blues_r\", rotation=None, title=None, xlabel=None, ylabel=None):\n",
    "     plt.figure(figsize=figsize)\n",
    "     \n",
    "     if hue: # hue 지정\n",
    "        sns.barplot(x=x_col, y=y_col, hue=hue, data=df, palette=palette)\n",
    "     else: # hue 지정 X\n",
    "        sns.barplot(x=x_col, y=y_col, data=df, palette=palette)\n",
    "\n",
    "     plt.xticks(rotation=rotation)\n",
    "     plt.title(title)\n",
    "     plt.xlabel(xlabel)\n",
    "     plt.ylabel(ylabel)\n",
    "     plt.show()\n",
    "\n",
    "# heatmap\n",
    "def heat_map(df, target_col=None, figsize=(8, 10), threshold=0, cmap='Reds', method='pearson', annot_kws=None, return_data=False):\n",
    "        df = df.select_dtypes(include=['number'])\n",
    "        \n",
    "        if annot_kws is None:\n",
    "            annot_kws = {\"size\": 10}\n",
    "\n",
    "        if target_col is not None:\n",
    "            corr_series = df.corr(method=method)[target_col].drop(target_col)\n",
    "            corr_filtered = corr_series[abs(corr_series) >= threshold].sort_values(ascending=False)\n",
    "\n",
    "            plt.figure(figsize=figsize)\n",
    "            sns.heatmap(corr_filtered.to_frame(name='Correlation'), annot=True, fmt='.2f', cmap=cmap, annot_kws=annot_kws, cbar=True)\n",
    "            plt.title(f'{method.capitalize()} Correlation with {target_col}', fontsize=14)\n",
    "            plt.show()\n",
    "\n",
    "            corr_df = corr_filtered.reset_index()\n",
    "            corr_df.columns = ['Variable', 'Correlation']\n",
    "\n",
    "            if return_data:\n",
    "                return corr_df\n",
    "\n",
    "        else:\n",
    "            corr_matrix = df.corr(method=method) # 전체 변수 간 상관계수\n",
    "\n",
    "            plt.figure(figsize=figsize)\n",
    "            sns.heatmap(corr_matrix, annot=True, fmt='.2f', cmap=cmap, annot_kws=annot_kws, cbar=True)\n",
    "            plt.title(f'{method.capitalize()} Correlation Matrix (All Variables)', fontsize=14)\n",
    "            plt.show()\n",
    "\n",
    "            if return_data:\n",
    "                return corr_matrix"
   ]
  },
  {
   "cell_type": "markdown",
   "id": "69213ccb",
   "metadata": {},
   "source": [
    "### Preprocessing"
   ]
  },
  {
   "cell_type": "code",
   "execution_count": null,
   "id": "4cf223e9",
   "metadata": {},
   "outputs": [
    {
     "name": "stdout",
     "output_type": "stream",
     "text": [
      "[INFO] Class 0: 현재 100개 → 목표 250개로 증강 중...\n"
     ]
    },
    {
     "name": "stderr",
     "output_type": "stream",
     "text": [
      "[Class 0] 원본 복사: 100%|██████████| 100/100 [00:00<00:00, 5387.19it/s]\n"
     ]
    },
    {
     "name": "stdout",
     "output_type": "stream",
     "text": [
      "[INFO] Class 0: 추가 증강 150개 생성 중...\n"
     ]
    },
    {
     "name": "stderr",
     "output_type": "stream",
     "text": [
      "[Class 0] 추가증강: 100%|██████████| 150/150 [00:03<00:00, 46.83it/s]\n"
     ]
    },
    {
     "name": "stdout",
     "output_type": "stream",
     "text": [
      "[INFO] Class 1: 현재 46개 → 목표 250개로 증강 중...\n"
     ]
    },
    {
     "name": "stderr",
     "output_type": "stream",
     "text": [
      "[Class 1] 원본 복사: 100%|██████████| 46/46 [00:00<00:00, 5691.55it/s]\n"
     ]
    },
    {
     "name": "stdout",
     "output_type": "stream",
     "text": [
      "[INFO] Class 1: 추가 증강 204개 생성 중...\n"
     ]
    },
    {
     "name": "stderr",
     "output_type": "stream",
     "text": [
      "[Class 1] 추가증강: 100%|██████████| 204/204 [00:05<00:00, 39.25it/s]\n"
     ]
    },
    {
     "name": "stdout",
     "output_type": "stream",
     "text": [
      "[INFO] Class 2: 현재 100개 → 목표 250개로 증강 중...\n"
     ]
    },
    {
     "name": "stderr",
     "output_type": "stream",
     "text": [
      "[Class 2] 원본 복사: 100%|██████████| 100/100 [00:00<00:00, 5983.66it/s]\n"
     ]
    },
    {
     "name": "stdout",
     "output_type": "stream",
     "text": [
      "[INFO] Class 2: 추가 증강 150개 생성 중...\n"
     ]
    },
    {
     "name": "stderr",
     "output_type": "stream",
     "text": [
      "[Class 2] 추가증강: 100%|██████████| 150/150 [00:01<00:00, 101.46it/s]\n"
     ]
    },
    {
     "name": "stdout",
     "output_type": "stream",
     "text": [
      "[INFO] Class 3: 현재 100개 → 목표 250개로 증강 중...\n"
     ]
    },
    {
     "name": "stderr",
     "output_type": "stream",
     "text": [
      "[Class 3] 원본 복사: 100%|██████████| 100/100 [00:00<00:00, 6330.83it/s]\n"
     ]
    },
    {
     "name": "stdout",
     "output_type": "stream",
     "text": [
      "[INFO] Class 3: 추가 증강 150개 생성 중...\n"
     ]
    },
    {
     "name": "stderr",
     "output_type": "stream",
     "text": [
      "[Class 3] 추가증강: 100%|██████████| 150/150 [00:03<00:00, 39.51it/s]\n"
     ]
    },
    {
     "name": "stdout",
     "output_type": "stream",
     "text": [
      "[INFO] Class 4: 현재 100개 → 목표 250개로 증강 중...\n"
     ]
    },
    {
     "name": "stderr",
     "output_type": "stream",
     "text": [
      "[Class 4] 원본 복사: 100%|██████████| 100/100 [00:00<00:00, 5983.23it/s]\n"
     ]
    },
    {
     "name": "stdout",
     "output_type": "stream",
     "text": [
      "[INFO] Class 4: 추가 증강 150개 생성 중...\n"
     ]
    },
    {
     "name": "stderr",
     "output_type": "stream",
     "text": [
      "[Class 4] 추가증강: 100%|██████████| 150/150 [00:03<00:00, 39.40it/s]\n"
     ]
    },
    {
     "name": "stdout",
     "output_type": "stream",
     "text": [
      "[INFO] Class 5: 현재 100개 → 목표 250개로 증강 중...\n"
     ]
    },
    {
     "name": "stderr",
     "output_type": "stream",
     "text": [
      "[Class 5] 원본 복사: 100%|██████████| 100/100 [00:00<00:00, 6168.09it/s]\n"
     ]
    },
    {
     "name": "stdout",
     "output_type": "stream",
     "text": [
      "[INFO] Class 5: 추가 증강 150개 생성 중...\n"
     ]
    },
    {
     "name": "stderr",
     "output_type": "stream",
     "text": [
      "[Class 5] 추가증강: 100%|██████████| 150/150 [00:03<00:00, 37.97it/s]\n"
     ]
    },
    {
     "name": "stdout",
     "output_type": "stream",
     "text": [
      "[INFO] Class 6: 현재 100개 → 목표 250개로 증강 중...\n"
     ]
    },
    {
     "name": "stderr",
     "output_type": "stream",
     "text": [
      "[Class 6] 원본 복사: 100%|██████████| 100/100 [00:00<00:00, 5530.83it/s]\n"
     ]
    },
    {
     "name": "stdout",
     "output_type": "stream",
     "text": [
      "[INFO] Class 6: 추가 증강 150개 생성 중...\n"
     ]
    },
    {
     "name": "stderr",
     "output_type": "stream",
     "text": [
      "[Class 6] 추가증강: 100%|██████████| 150/150 [00:04<00:00, 36.48it/s]\n"
     ]
    },
    {
     "name": "stdout",
     "output_type": "stream",
     "text": [
      "[INFO] Class 7: 현재 100개 → 목표 250개로 증강 중...\n"
     ]
    },
    {
     "name": "stderr",
     "output_type": "stream",
     "text": [
      "[Class 7] 원본 복사: 100%|██████████| 100/100 [00:00<00:00, 6062.80it/s]\n"
     ]
    },
    {
     "name": "stdout",
     "output_type": "stream",
     "text": [
      "[INFO] Class 7: 추가 증강 150개 생성 중...\n"
     ]
    },
    {
     "name": "stderr",
     "output_type": "stream",
     "text": [
      "[Class 7] 추가증강: 100%|██████████| 150/150 [00:03<00:00, 43.53it/s]\n"
     ]
    },
    {
     "name": "stdout",
     "output_type": "stream",
     "text": [
      "[INFO] Class 8: 현재 100개 → 목표 250개로 증강 중...\n"
     ]
    },
    {
     "name": "stderr",
     "output_type": "stream",
     "text": [
      "[Class 8] 원본 복사: 100%|██████████| 100/100 [00:00<00:00, 5943.13it/s]\n"
     ]
    },
    {
     "name": "stdout",
     "output_type": "stream",
     "text": [
      "[INFO] Class 8: 추가 증강 150개 생성 중...\n"
     ]
    },
    {
     "name": "stderr",
     "output_type": "stream",
     "text": [
      "[Class 8] 추가증강: 100%|██████████| 150/150 [00:03<00:00, 41.69it/s]\n"
     ]
    },
    {
     "name": "stdout",
     "output_type": "stream",
     "text": [
      "[INFO] Class 9: 현재 100개 → 목표 250개로 증강 중...\n"
     ]
    },
    {
     "name": "stderr",
     "output_type": "stream",
     "text": [
      "[Class 9] 원본 복사: 100%|██████████| 100/100 [00:00<00:00, 5737.13it/s]\n"
     ]
    },
    {
     "name": "stdout",
     "output_type": "stream",
     "text": [
      "[INFO] Class 9: 추가 증강 150개 생성 중...\n"
     ]
    },
    {
     "name": "stderr",
     "output_type": "stream",
     "text": [
      "[Class 9] 추가증강: 100%|██████████| 150/150 [00:03<00:00, 38.22it/s]\n"
     ]
    },
    {
     "name": "stdout",
     "output_type": "stream",
     "text": [
      "[INFO] Class 10: 현재 100개 → 목표 250개로 증강 중...\n"
     ]
    },
    {
     "name": "stderr",
     "output_type": "stream",
     "text": [
      "[Class 10] 원본 복사: 100%|██████████| 100/100 [00:00<00:00, 6118.16it/s]\n"
     ]
    },
    {
     "name": "stdout",
     "output_type": "stream",
     "text": [
      "[INFO] Class 10: 추가 증강 150개 생성 중...\n"
     ]
    },
    {
     "name": "stderr",
     "output_type": "stream",
     "text": [
      "[Class 10] 추가증강: 100%|██████████| 150/150 [00:03<00:00, 40.17it/s]\n"
     ]
    },
    {
     "name": "stdout",
     "output_type": "stream",
     "text": [
      "[INFO] Class 11: 현재 100개 → 목표 250개로 증강 중...\n"
     ]
    },
    {
     "name": "stderr",
     "output_type": "stream",
     "text": [
      "[Class 11] 원본 복사: 100%|██████████| 100/100 [00:00<00:00, 5661.63it/s]\n"
     ]
    },
    {
     "name": "stdout",
     "output_type": "stream",
     "text": [
      "[INFO] Class 11: 추가 증강 150개 생성 중...\n"
     ]
    },
    {
     "name": "stderr",
     "output_type": "stream",
     "text": [
      "[Class 11] 추가증강: 100%|██████████| 150/150 [00:03<00:00, 41.88it/s]\n"
     ]
    },
    {
     "name": "stdout",
     "output_type": "stream",
     "text": [
      "[INFO] Class 12: 현재 100개 → 목표 250개로 증강 중...\n"
     ]
    },
    {
     "name": "stderr",
     "output_type": "stream",
     "text": [
      "[Class 12] 원본 복사: 100%|██████████| 100/100 [00:00<00:00, 6041.32it/s]\n"
     ]
    },
    {
     "name": "stdout",
     "output_type": "stream",
     "text": [
      "[INFO] Class 12: 추가 증강 150개 생성 중...\n"
     ]
    },
    {
     "name": "stderr",
     "output_type": "stream",
     "text": [
      "[Class 12] 추가증강: 100%|██████████| 150/150 [00:03<00:00, 38.87it/s]\n"
     ]
    },
    {
     "name": "stdout",
     "output_type": "stream",
     "text": [
      "[INFO] Class 13: 현재 74개 → 목표 250개로 증강 중...\n"
     ]
    },
    {
     "name": "stderr",
     "output_type": "stream",
     "text": [
      "[Class 13] 원본 복사: 100%|██████████| 74/74 [00:00<00:00, 6196.42it/s]\n"
     ]
    },
    {
     "name": "stdout",
     "output_type": "stream",
     "text": [
      "[INFO] Class 13: 추가 증강 176개 생성 중...\n"
     ]
    },
    {
     "name": "stderr",
     "output_type": "stream",
     "text": [
      "[Class 13] 추가증강: 100%|██████████| 176/176 [00:03<00:00, 44.13it/s]\n"
     ]
    },
    {
     "name": "stdout",
     "output_type": "stream",
     "text": [
      "[INFO] Class 14: 현재 50개 → 목표 250개로 증강 중...\n"
     ]
    },
    {
     "name": "stderr",
     "output_type": "stream",
     "text": [
      "[Class 14] 원본 복사: 100%|██████████| 50/50 [00:00<00:00, 5835.15it/s]\n"
     ]
    },
    {
     "name": "stdout",
     "output_type": "stream",
     "text": [
      "[INFO] Class 14: 추가 증강 200개 생성 중...\n"
     ]
    },
    {
     "name": "stderr",
     "output_type": "stream",
     "text": [
      "[Class 14] 추가증강: 100%|██████████| 200/200 [00:04<00:00, 40.46it/s]\n"
     ]
    },
    {
     "name": "stdout",
     "output_type": "stream",
     "text": [
      "[INFO] Class 15: 현재 100개 → 목표 250개로 증강 중...\n"
     ]
    },
    {
     "name": "stderr",
     "output_type": "stream",
     "text": [
      "[Class 15] 원본 복사: 100%|██████████| 100/100 [00:00<00:00, 4070.76it/s]\n"
     ]
    },
    {
     "name": "stdout",
     "output_type": "stream",
     "text": [
      "[INFO] Class 15: 추가 증강 150개 생성 중...\n"
     ]
    },
    {
     "name": "stderr",
     "output_type": "stream",
     "text": [
      "[Class 15] 추가증강: 100%|██████████| 150/150 [00:03<00:00, 38.15it/s]\n"
     ]
    },
    {
     "name": "stdout",
     "output_type": "stream",
     "text": [
      "[INFO] Class 16: 현재 100개 → 목표 250개로 증강 중...\n"
     ]
    },
    {
     "name": "stderr",
     "output_type": "stream",
     "text": [
      "[Class 16] 원본 복사: 100%|██████████| 100/100 [00:00<00:00, 5610.66it/s]\n"
     ]
    },
    {
     "name": "stdout",
     "output_type": "stream",
     "text": [
      "[INFO] Class 16: 추가 증강 150개 생성 중...\n"
     ]
    },
    {
     "name": "stderr",
     "output_type": "stream",
     "text": [
      "[Class 16] 추가증강: 100%|██████████| 150/150 [00:01<00:00, 94.07it/s]"
     ]
    },
    {
     "name": "stdout",
     "output_type": "stream",
     "text": [
      "[완료] 클래스별 250장 증강 완료\n",
      "[완료] 원본 + 증강 데이터 및 CSV 저장 완료\n"
     ]
    },
    {
     "name": "stderr",
     "output_type": "stream",
     "text": [
      "\n"
     ]
    }
   ],
   "source": [
    "# 증강 설정\n",
    "augmentation = A.Compose([\n",
    "    A.RandomResizedCrop(size=(img_size, img_size), scale=(0.95, 1.0), p=0.2),\n",
    "    A.RandomBrightnessContrast(limit=0.1, p=0.2),\n",
    "    A.ColorJitter(brightness=0.2, contrast=0.2, saturation=0.2, hue=0.1, p=0.2),\n",
    "    \n",
    "    # 흐림 효과를 OneOf로 묶음\n",
    "    A.OneOf([\n",
    "        A.Blur(blur_limit=2),\n",
    "        A.MotionBlur(blur_limit=5),\n",
    "        A.Defocus(radius=(1, 3)),\n",
    "    ], p=0.2),\n",
    "\n",
    "    A.Perspective(scale=(0.05, 0.1), keep_size=True, p=0.2),\n",
    "    A.Affine(shear={\"x\": (-10, 10), \"y\": (-10, 10)}, p=0.2),\n",
    "    A.ShiftScaleRotate(shift_limit=0.02, scale_limit=0.05, rotate_limit=5, p=0.2),\n",
    "\n",
    "    A.OneOf([\n",
    "        A.Rotate(limit=[-90, 90], p=1.0),\n",
    "        A.HorizontalFlip(p=1.0),\n",
    "        A.VerticalFlip(p=1.0),\n",
    "    ], p=0.2),\n",
    "\n",
    "    # 깨짐·노이즈성 증강도 OneOf로 묶어 한 번에 하나만 적용되도록 제한\n",
    "    A.OneOf([\n",
    "        A.GaussNoise(var_limit=(0.00004, 0.0001), mean=0),\n",
    "        A.ImageCompression(quality_lower=60, quality_upper=90),\n",
    "        A.CoarseDropout(max_holes=8, max_height=img_size//10, max_width=img_size//10),\n",
    "    ], p=0.2),\n",
    "\n",
    "    A.CLAHE(clip_limit=1.5, p=0.2),\n",
    "])\n",
    "\n",
    "# 문서 기반 증강\n",
    "augraphy_aug = AugraphyPipeline(\n",
    "    ink_phase=[\n",
    "        InkBleed(p=0.2),\n",
    "        BleedThrough(p=0.2),\n",
    "        Markup(p=0.2),\n",
    "    ],\n",
    "    paper_phase=[\n",
    "        ColorPaper(p=0.2),\n",
    "    ],\n",
    "    post_phase=[],\n",
    ")\n",
    "\n",
    "# Class 2, 16 제외: 문서 기반 증강\n",
    "document_classes = set(range(0, 2)) | set(range(3, 16))\n",
    "save_dir = \"../data/V3-augmented\"\n",
    "os.makedirs(save_dir, exist_ok=True)\n",
    "\n",
    "augmented_records = []\n",
    "\n",
    "for target_class in sorted(train_df[\"target\"].unique()):\n",
    "    class_df = train_df[train_df[\"target\"] == target_class]\n",
    "    current_count = len(class_df)\n",
    "    print(f\"[INFO] Class {target_class}: 현재 {current_count}개 → 목표 250개로 증강 중...\")\n",
    "\n",
    "    # 원본 이미지 복사 후 저장\n",
    "    for _, row in tqdm(class_df.iterrows(), total=current_count, desc=f\"[Class {target_class}] 원본 복사\"):\n",
    "        img_name = row[\"ID\"]\n",
    "        src = os.path.join(train_path, img_name)\n",
    "        dst = os.path.join(save_dir, img_name)\n",
    "        shutil.copy2(src, dst)\n",
    "        augmented_records.append({\"ID\": img_name, \"target\": target_class})\n",
    "\n",
    "    # 추가로 필요한 증강 개수 계산\n",
    "    n_to_augment = max(0, 250 - current_count)\n",
    "    print(f\"[INFO] Class {target_class}: 추가 증강 {n_to_augment}개 생성 중...\")\n",
    "\n",
    "    for i in tqdm(range(n_to_augment), desc=f\"[Class {target_class}] 추가증강\"):\n",
    "        sample_row = class_df.sample(1).iloc[0]\n",
    "        img_name = sample_row[\"ID\"]\n",
    "        img_path = os.path.join(train_path, img_name)\n",
    "        img = np.array(Image.open(img_path).convert(\"RGB\"))\n",
    "\n",
    "        # 확률적으로 Augraphy or Albumentations 증강 선택\n",
    "        if target_class in document_classes and np.random.rand() < 0.5:\n",
    "            aug_img = augraphy_aug(image=img)\n",
    "            aug_name = f\"augraphy_{target_class}_{i}_{img_name}\"\n",
    "        else:\n",
    "            aug_img = augmentation(image=img)['image']\n",
    "            aug_name = f\"alb_{target_class}_{i}_{img_name}\"\n",
    "\n",
    "        aug_path = os.path.join(save_dir, aug_name)\n",
    "        Image.fromarray(aug_img).save(aug_path)\n",
    "        augmented_records.append({\"ID\": aug_name, \"target\": target_class})\n",
    "\n",
    "print(\"[완료] 클래스별 250장 증강 완료\")\n",
    "\n",
    "# CSV 저장\n",
    "aug_df = pd.DataFrame(augmented_records)\n",
    "aug_df.to_csv(\"../data/V3-augmented.csv\", index=False)\n",
    "print(\"[완료] 원본 + 증강 데이터 및 CSV 저장 완료\")"
   ]
  },
  {
   "cell_type": "code",
   "execution_count": 8,
   "id": "7b9378cc",
   "metadata": {},
   "outputs": [
    {
     "data": {
      "image/png": "[encoded data removed]",
      "text/plain": [
       "<Figure size 1000x600 with 1 Axes>"
      ]
     },
     "metadata": {},
     "output_type": "display_data"
    },
    {
     "data": {
      "text/html": [
       "<div>\n",
       "<style scoped>\n",
       "    .dataframe tbody tr th:only-of-type {\n",
       "        vertical-align: middle;\n",
       "    }\n",
       "\n",
       "    .dataframe tbody tr th {\n",
       "        vertical-align: top;\n",
       "    }\n",
       "\n",
       "    .dataframe thead th {\n",
       "        text-align: right;\n",
       "    }\n",
       "</style>\n",
       "<table border=\"1\" class=\"dataframe\">\n",
       "  <thead>\n",
       "    <tr style=\"text-align: right;\">\n",
       "      <th></th>\n",
       "      <th>ID</th>\n",
       "      <th>target</th>\n",
       "    </tr>\n",
       "  </thead>\n",
       "  <tbody>\n",
       "    <tr>\n",
       "      <th>0</th>\n",
       "      <td>06c04208033a0ebf.jpg</td>\n",
       "      <td>0</td>\n",
       "    </tr>\n",
       "    <tr>\n",
       "      <th>1</th>\n",
       "      <td>07a0a849cab135e0.jpg</td>\n",
       "      <td>0</td>\n",
       "    </tr>\n",
       "    <tr>\n",
       "      <th>2</th>\n",
       "      <td>096c4b74a832db46.jpg</td>\n",
       "      <td>0</td>\n",
       "    </tr>\n",
       "    <tr>\n",
       "      <th>3</th>\n",
       "      <td>097bf6816bf11df3.jpg</td>\n",
       "      <td>0</td>\n",
       "    </tr>\n",
       "    <tr>\n",
       "      <th>4</th>\n",
       "      <td>0cdf7f30dbeacb1c.jpg</td>\n",
       "      <td>0</td>\n",
       "    </tr>\n",
       "    <tr>\n",
       "      <th>...</th>\n",
       "      <td>...</td>\n",
       "      <td>...</td>\n",
       "    </tr>\n",
       "    <tr>\n",
       "      <th>4245</th>\n",
       "      <td>alb_16_145_7f264f1599b1a740.jpg</td>\n",
       "      <td>16</td>\n",
       "    </tr>\n",
       "    <tr>\n",
       "      <th>4246</th>\n",
       "      <td>alb_16_146_b27747c52c58fc0b.jpg</td>\n",
       "      <td>16</td>\n",
       "    </tr>\n",
       "    <tr>\n",
       "      <th>4247</th>\n",
       "      <td>alb_16_147_3058a1d26cf2d4cc.jpg</td>\n",
       "      <td>16</td>\n",
       "    </tr>\n",
       "    <tr>\n",
       "      <th>4248</th>\n",
       "      <td>alb_16_148_8b7a49a085e6e092.jpg</td>\n",
       "      <td>16</td>\n",
       "    </tr>\n",
       "    <tr>\n",
       "      <th>4249</th>\n",
       "      <td>alb_16_149_e45d30315e6f3991.jpg</td>\n",
       "      <td>16</td>\n",
       "    </tr>\n",
       "  </tbody>\n",
       "</table>\n",
       "<p>4250 rows × 2 columns</p>\n",
       "</div>"
      ],
      "text/plain": [
       "                                   ID  target\n",
       "0                06c04208033a0ebf.jpg       0\n",
       "1                07a0a849cab135e0.jpg       0\n",
       "2                096c4b74a832db46.jpg       0\n",
       "3                097bf6816bf11df3.jpg       0\n",
       "4                0cdf7f30dbeacb1c.jpg       0\n",
       "...                               ...     ...\n",
       "4245  alb_16_145_7f264f1599b1a740.jpg      16\n",
       "4246  alb_16_146_b27747c52c58fc0b.jpg      16\n",
       "4247  alb_16_147_3058a1d26cf2d4cc.jpg      16\n",
       "4248  alb_16_148_8b7a49a085e6e092.jpg      16\n",
       "4249  alb_16_149_e45d30315e6f3991.jpg      16\n",
       "\n",
       "[4250 rows x 2 columns]"
      ]
     },
     "execution_count": 8,
     "metadata": {},
     "output_type": "execute_result"
    }
   ],
   "source": [
    "# Class check\n",
    "aug_df = pd.read_csv(\"../data/V3-augmented.csv\")\n",
    "count_plot(df=aug_df, col='target')\n",
    "aug_df"
   ]
  },
  {
   "cell_type": "code",
   "execution_count": 9,
   "id": "f3fdc45d",
   "metadata": {},
   "outputs": [
    {
     "name": "stdout",
     "output_type": "stream",
     "text": [
      "Train: 3400, Test(Val): 850\n"
     ]
    }
   ],
   "source": [
    "# 추후 검증을 위해 분리\n",
    "train_df, test_df = train_test_split(aug_df, test_size=0.2, stratify=aug_df[\"target\"], random_state=42,)\n",
    "print(f\"Train: {len(train_df)}, Test(Val): {len(test_df)}\")"
   ]
  },
  {
   "cell_type": "code",
   "execution_count": 28,
   "id": "fc4e203e",
   "metadata": {},
   "outputs": [
    {
     "name": "stdout",
     "output_type": "stream",
     "text": [
      "\n",
      "=== Fold 1 ===\n",
      "Fold 1: Train samples=2266, Val samples=1134\n"
     ]
    },
    {
     "name": "stderr",
     "output_type": "stream",
     "text": [
      "\u001b[34m\u001b[1mwandb\u001b[0m: Currently logged in as: \u001b[33mmoonstalker9010\u001b[0m (\u001b[33mmoonstalker9010-none\u001b[0m) to \u001b[32mhttps://api.wandb.ai\u001b[0m. Use \u001b[1m`wandb login --relogin`\u001b[0m to force relogin\n"
     ]
    },
    {
     "data": {
      "text/html": [
       "Tracking run with wandb version 0.21.0"
      ],
      "text/plain": [
       "<IPython.core.display.HTML object>"
      ]
     },
     "metadata": {},
     "output_type": "display_data"
    },
    {
     "data": {
      "text/html": [
       "Run data is saved locally in <code>../../wandb/run-20250703_100106-cnqckb2s</code>"
      ],
      "text/plain": [
       "<IPython.core.display.HTML object>"
      ]
     },
     "metadata": {},
     "output_type": "display_data"
    },
    {
     "data": {
      "text/html": [
       "Syncing run <strong><a href='https://wandb.ai/moonstalker9010-none/Document%20Classification/runs/cnqckb2s' target=\"_blank\">V3-fold_1</a></strong> to <a href='https://wandb.ai/moonstalker9010-none/Document%20Classification' target=\"_blank\">Weights & Biases</a> (<a href='https://wandb.me/developer-guide' target=\"_blank\">docs</a>)<br>"
      ],
      "text/plain": [
       "<IPython.core.display.HTML object>"
      ]
     },
     "metadata": {},
     "output_type": "display_data"
    },
    {
     "data": {
      "text/html": [
       " View project at <a href='https://wandb.ai/moonstalker9010-none/Document%20Classification' target=\"_blank\">https://wandb.ai/moonstalker9010-none/Document%20Classification</a>"
      ],
      "text/plain": [
       "<IPython.core.display.HTML object>"
      ]
     },
     "metadata": {},
     "output_type": "display_data"
    },
    {
     "data": {
      "text/html": [
       " View run at <a href='https://wandb.ai/moonstalker9010-none/Document%20Classification/runs/cnqckb2s' target=\"_blank\">https://wandb.ai/moonstalker9010-none/Document%20Classification/runs/cnqckb2s</a>"
      ],
      "text/plain": [
       "<IPython.core.display.HTML object>"
      ]
     },
     "metadata": {},
     "output_type": "display_data"
    },
    {
     "name": "stderr",
     "output_type": "stream",
     "text": [
      "[Fold 1][Epoch 1/50] Training: 100%|██████████| 142/142 [01:03<00:00,  2.22it/s, loss=0.297] \n",
      "[Fold 1][Epoch 1/50] Validation: 100%|██████████| 71/71 [00:07<00:00,  9.37it/s]\n"
     ]
    },
    {
     "name": "stdout",
     "output_type": "stream",
     "text": [
      "[F1] Ep1 - Train: 0.8313 | VaL: 0.2523, Acc: 0.8880, F1: 0.8720\n"
     ]
    },
    {
     "name": "stderr",
     "output_type": "stream",
     "text": [
      "[Fold 1][Epoch 2/50] Training: 100%|██████████| 142/142 [00:55<00:00,  2.54it/s, loss=0.215]  \n",
      "[Fold 1][Epoch 2/50] Validation: 100%|██████████| 71/71 [00:07<00:00,  9.74it/s]\n"
     ]
    },
    {
     "name": "stdout",
     "output_type": "stream",
     "text": [
      "[F1] Ep2 - Train: 0.1884 | VaL: 0.1350, Acc: 0.9533, F1: 0.9521\n"
     ]
    },
    {
     "name": "stderr",
     "output_type": "stream",
     "text": [
      "[Fold 1][Epoch 3/50] Training: 100%|██████████| 142/142 [00:56<00:00,  2.53it/s, loss=0.00918]\n",
      "[Fold 1][Epoch 3/50] Validation: 100%|██████████| 71/71 [00:07<00:00,  9.73it/s]\n"
     ]
    },
    {
     "name": "stdout",
     "output_type": "stream",
     "text": [
      "[F1] Ep3 - Train: 0.1046 | VaL: 0.1299, Acc: 0.9515, F1: 0.9505\n"
     ]
    },
    {
     "name": "stderr",
     "output_type": "stream",
     "text": [
      "[Fold 1][Epoch 4/50] Training: 100%|██████████| 142/142 [00:56<00:00,  2.52it/s, loss=0.0886] \n",
      "[Fold 1][Epoch 4/50] Validation: 100%|██████████| 71/71 [00:07<00:00,  9.74it/s]\n"
     ]
    },
    {
     "name": "stdout",
     "output_type": "stream",
     "text": [
      "[F1] Ep4 - Train: 0.0601 | VaL: 0.1311, Acc: 0.9630, F1: 0.9623\n"
     ]
    },
    {
     "name": "stderr",
     "output_type": "stream",
     "text": [
      "[Fold 1][Epoch 5/50] Training: 100%|██████████| 142/142 [00:56<00:00,  2.52it/s, loss=0.00752] \n",
      "[Fold 1][Epoch 5/50] Validation: 100%|██████████| 71/71 [00:07<00:00,  9.73it/s]\n"
     ]
    },
    {
     "name": "stdout",
     "output_type": "stream",
     "text": [
      "[F1] Ep5 - Train: 0.0393 | VaL: 0.1478, Acc: 0.9497, F1: 0.9508\n"
     ]
    },
    {
     "name": "stderr",
     "output_type": "stream",
     "text": [
      "[Fold 1][Epoch 6/50] Training: 100%|██████████| 142/142 [00:56<00:00,  2.52it/s, loss=0.179]  \n",
      "[Fold 1][Epoch 6/50] Validation: 100%|██████████| 71/71 [00:07<00:00,  9.71it/s]\n"
     ]
    },
    {
     "name": "stdout",
     "output_type": "stream",
     "text": [
      "[F1] Ep6 - Train: 0.6086 | VaL: 0.3768, Acc: 0.9198, F1: 0.9085\n"
     ]
    },
    {
     "name": "stderr",
     "output_type": "stream",
     "text": [
      "[Fold 1][Epoch 7/50] Training: 100%|██████████| 142/142 [00:56<00:00,  2.52it/s, loss=0.0243]  \n",
      "[Fold 1][Epoch 7/50] Validation: 100%|██████████| 71/71 [00:07<00:00,  9.69it/s]\n"
     ]
    },
    {
     "name": "stdout",
     "output_type": "stream",
     "text": [
      "[F1] Ep7 - Train: 0.0370 | VaL: 0.0836, Acc: 0.9718, F1: 0.9719\n"
     ]
    },
    {
     "name": "stderr",
     "output_type": "stream",
     "text": [
      "[Fold 1][Epoch 8/50] Training: 100%|██████████| 142/142 [00:56<00:00,  2.53it/s, loss=0.00931] \n",
      "[Fold 1][Epoch 8/50] Validation: 100%|██████████| 71/71 [00:07<00:00,  9.73it/s]\n"
     ]
    },
    {
     "name": "stdout",
     "output_type": "stream",
     "text": [
      "[F1] Ep8 - Train: 0.0125 | VaL: 0.0795, Acc: 0.9788, F1: 0.9789\n"
     ]
    },
    {
     "name": "stderr",
     "output_type": "stream",
     "text": [
      "[Fold 1][Epoch 9/50] Training: 100%|██████████| 142/142 [00:56<00:00,  2.53it/s, loss=0.0107]  \n",
      "[Fold 1][Epoch 9/50] Validation: 100%|██████████| 71/71 [00:07<00:00,  9.77it/s]\n"
     ]
    },
    {
     "name": "stdout",
     "output_type": "stream",
     "text": [
      "[F1] Ep9 - Train: 0.0129 | VaL: 0.0945, Acc: 0.9700, F1: 0.9697\n"
     ]
    },
    {
     "name": "stderr",
     "output_type": "stream",
     "text": [
      "[Fold 1][Epoch 10/50] Training: 100%|██████████| 142/142 [00:56<00:00,  2.53it/s, loss=0.000203]\n",
      "[Fold 1][Epoch 10/50] Validation: 100%|██████████| 71/71 [00:07<00:00,  9.76it/s]\n"
     ]
    },
    {
     "name": "stdout",
     "output_type": "stream",
     "text": [
      "[F1] Ep10 - Train: 0.0112 | VaL: 0.1291, Acc: 0.9727, F1: 0.9727\n"
     ]
    },
    {
     "name": "stderr",
     "output_type": "stream",
     "text": [
      "[Fold 1][Epoch 11/50] Training: 100%|██████████| 142/142 [00:56<00:00,  2.53it/s, loss=0.122]   \n",
      "[Fold 1][Epoch 11/50] Validation: 100%|██████████| 71/71 [00:07<00:00,  9.77it/s]\n"
     ]
    },
    {
     "name": "stdout",
     "output_type": "stream",
     "text": [
      "[F1] Ep11 - Train: 0.0108 | VaL: 0.1161, Acc: 0.9797, F1: 0.9798\n"
     ]
    },
    {
     "name": "stderr",
     "output_type": "stream",
     "text": [
      "[Fold 1][Epoch 12/50] Training: 100%|██████████| 142/142 [00:56<00:00,  2.53it/s, loss=0.00196] \n",
      "[Fold 1][Epoch 12/50] Validation: 100%|██████████| 71/71 [00:07<00:00,  9.76it/s]\n"
     ]
    },
    {
     "name": "stdout",
     "output_type": "stream",
     "text": [
      "[F1] Ep12 - Train: 0.0076 | VaL: 0.1594, Acc: 0.9683, F1: 0.9681\n"
     ]
    },
    {
     "name": "stderr",
     "output_type": "stream",
     "text": [
      "[Fold 1][Epoch 13/50] Training: 100%|██████████| 142/142 [00:56<00:00,  2.53it/s, loss=0.00067] \n",
      "[Fold 1][Epoch 13/50] Validation: 100%|██████████| 71/71 [00:07<00:00,  9.76it/s]\n"
     ]
    },
    {
     "name": "stdout",
     "output_type": "stream",
     "text": [
      "[F1] Ep13 - Train: 0.0306 | VaL: 0.1708, Acc: 0.9630, F1: 0.9619\n"
     ]
    },
    {
     "name": "stderr",
     "output_type": "stream",
     "text": [
      "[Fold 1][Epoch 14/50] Training: 100%|██████████| 142/142 [00:56<00:00,  2.52it/s, loss=0.000243]\n",
      "[Fold 1][Epoch 14/50] Validation: 100%|██████████| 71/71 [00:07<00:00,  9.76it/s]"
     ]
    },
    {
     "name": "stdout",
     "output_type": "stream",
     "text": [
      "[F1] Ep14 - Train: 0.0225 | VaL: 0.1231, Acc: 0.9709, F1: 0.9707\n",
      "[Fold 1] Early stopping triggered. Best F1: 0.9798\n"
     ]
    },
    {
     "name": "stderr",
     "output_type": "stream",
     "text": [
      "\n"
     ]
    },
    {
     "data": {
      "text/html": [],
      "text/plain": [
       "<IPython.core.display.HTML object>"
      ]
     },
     "metadata": {},
     "output_type": "display_data"
    },
    {
     "data": {
      "text/html": [
       "<br>    <style><br>        .wandb-row {<br>            display: flex;<br>            flex-direction: row;<br>            flex-wrap: wrap;<br>            justify-content: flex-start;<br>            width: 100%;<br>        }<br>        .wandb-col {<br>            display: flex;<br>            flex-direction: column;<br>            flex-basis: 100%;<br>            flex: 1;<br>            padding: 10px;<br>        }<br>    </style><br><div class=\"wandb-row\"><div class=\"wandb-col\"><h3>Run history:</h3><br/><table class=\"wandb\"><tr><td>Train_Data</td><td>▁</td></tr><tr><td>Val_Data</td><td>▁</td></tr><tr><td>epoch</td><td>▁▂▂▃▃▄▄▅▅▆▆▇▇█</td></tr><tr><td>fold</td><td>▁▁▁▁▁▁▁▁▁▁▁▁▁▁</td></tr><tr><td>train_loss</td><td>█▃▂▁▁▆▁▁▁▁▁▁▁▁</td></tr><tr><td>val_acc</td><td>▁▆▆▇▆▃▇█▇▇█▇▇▇</td></tr><tr><td>val_f1</td><td>▁▆▆▇▆▃▇█▇██▇▇▇</td></tr><tr><td>val_loss</td><td>▅▂▂▂▃█▁▁▁▂▂▃▃▂</td></tr></table><br/></div><div class=\"wandb-col\"><h3>Run summary:</h3><br/><table class=\"wandb\"><tr><td>Train_Data</td><td>2266</td></tr><tr><td>Val_Data</td><td>1134</td></tr><tr><td>epoch</td><td>14</td></tr><tr><td>fold</td><td>1</td></tr><tr><td>train_loss</td><td>0.02247</td></tr><tr><td>val_acc</td><td>0.9709</td></tr><tr><td>val_f1</td><td>0.97066</td></tr><tr><td>val_loss</td><td>0.12307</td></tr></table><br/></div></div>"
      ],
      "text/plain": [
       "<IPython.core.display.HTML object>"
      ]
     },
     "metadata": {},
     "output_type": "display_data"
    },
    {
     "data": {
      "text/html": [
       " View run <strong style=\"color:#cdcd00\">V3-fold_1</strong> at: <a href='https://wandb.ai/moonstalker9010-none/Document%20Classification/runs/cnqckb2s' target=\"_blank\">https://wandb.ai/moonstalker9010-none/Document%20Classification/runs/cnqckb2s</a><br> View project at: <a href='https://wandb.ai/moonstalker9010-none/Document%20Classification' target=\"_blank\">https://wandb.ai/moonstalker9010-none/Document%20Classification</a><br>Synced 5 W&B file(s), 0 media file(s), 0 artifact file(s) and 0 other file(s)"
      ],
      "text/plain": [
       "<IPython.core.display.HTML object>"
      ]
     },
     "metadata": {},
     "output_type": "display_data"
    },
    {
     "data": {
      "text/html": [
       "Find logs at: <code>../../wandb/run-20250703_100106-cnqckb2s/logs</code>"
      ],
      "text/plain": [
       "<IPython.core.display.HTML object>"
      ]
     },
     "metadata": {},
     "output_type": "display_data"
    },
    {
     "name": "stdout",
     "output_type": "stream",
     "text": [
      "\n",
      "=== Fold 2 ===\n",
      "Fold 2: Train samples=2267, Val samples=1133\n"
     ]
    },
    {
     "data": {
      "text/html": [
       "Tracking run with wandb version 0.21.0"
      ],
      "text/plain": [
       "<IPython.core.display.HTML object>"
      ]
     },
     "metadata": {},
     "output_type": "display_data"
    },
    {
     "data": {
      "text/html": [
       "Run data is saved locally in <code>../../wandb/run-20250703_101613-ypyfox4r</code>"
      ],
      "text/plain": [
       "<IPython.core.display.HTML object>"
      ]
     },
     "metadata": {},
     "output_type": "display_data"
    },
    {
     "data": {
      "text/html": [
       "Syncing run <strong><a href='https://wandb.ai/moonstalker9010-none/Document%20Classification/runs/ypyfox4r' target=\"_blank\">V3-fold_2</a></strong> to <a href='https://wandb.ai/moonstalker9010-none/Document%20Classification' target=\"_blank\">Weights & Biases</a> (<a href='https://wandb.me/developer-guide' target=\"_blank\">docs</a>)<br>"
      ],
      "text/plain": [
       "<IPython.core.display.HTML object>"
      ]
     },
     "metadata": {},
     "output_type": "display_data"
    },
    {
     "data": {
      "text/html": [
       " View project at <a href='https://wandb.ai/moonstalker9010-none/Document%20Classification' target=\"_blank\">https://wandb.ai/moonstalker9010-none/Document%20Classification</a>"
      ],
      "text/plain": [
       "<IPython.core.display.HTML object>"
      ]
     },
     "metadata": {},
     "output_type": "display_data"
    },
    {
     "data": {
      "text/html": [
       " View run at <a href='https://wandb.ai/moonstalker9010-none/Document%20Classification/runs/ypyfox4r' target=\"_blank\">https://wandb.ai/moonstalker9010-none/Document%20Classification/runs/ypyfox4r</a>"
      ],
      "text/plain": [
       "<IPython.core.display.HTML object>"
      ]
     },
     "metadata": {},
     "output_type": "display_data"
    },
    {
     "name": "stderr",
     "output_type": "stream",
     "text": [
      "[Fold 2][Epoch 1/50] Training: 100%|██████████| 142/142 [00:59<00:00,  2.38it/s, loss=0.0362]\n",
      "[Fold 2][Epoch 1/50] Validation: 100%|██████████| 71/71 [00:07<00:00,  9.28it/s]\n"
     ]
    },
    {
     "name": "stdout",
     "output_type": "stream",
     "text": [
      "[F2] Ep1 - Train: 0.7156 | VaL: 0.2454, Acc: 0.8994, F1: 0.8936\n"
     ]
    },
    {
     "name": "stderr",
     "output_type": "stream",
     "text": [
      "[Fold 2][Epoch 2/50] Training: 100%|██████████| 142/142 [00:56<00:00,  2.52it/s, loss=0.0421] \n",
      "[Fold 2][Epoch 2/50] Validation: 100%|██████████| 71/71 [00:07<00:00,  9.82it/s]\n"
     ]
    },
    {
     "name": "stdout",
     "output_type": "stream",
     "text": [
      "[F2] Ep2 - Train: 0.1698 | VaL: 0.1770, Acc: 0.9303, F1: 0.9274\n"
     ]
    },
    {
     "name": "stderr",
     "output_type": "stream",
     "text": [
      "[Fold 2][Epoch 3/50] Training: 100%|██████████| 142/142 [00:56<00:00,  2.52it/s, loss=0.047]  \n",
      "[Fold 2][Epoch 3/50] Validation: 100%|██████████| 71/71 [00:07<00:00,  9.80it/s]\n"
     ]
    },
    {
     "name": "stdout",
     "output_type": "stream",
     "text": [
      "[F2] Ep3 - Train: 0.0996 | VaL: 0.1779, Acc: 0.9382, F1: 0.9381\n"
     ]
    },
    {
     "name": "stderr",
     "output_type": "stream",
     "text": [
      "[Fold 2][Epoch 4/50] Training: 100%|██████████| 142/142 [00:56<00:00,  2.52it/s, loss=0.0021]  \n",
      "[Fold 2][Epoch 4/50] Validation: 100%|██████████| 71/71 [00:07<00:00,  9.78it/s]\n"
     ]
    },
    {
     "name": "stdout",
     "output_type": "stream",
     "text": [
      "[F2] Ep4 - Train: 0.0847 | VaL: 0.1818, Acc: 0.9267, F1: 0.9173\n"
     ]
    },
    {
     "name": "stderr",
     "output_type": "stream",
     "text": [
      "[Fold 2][Epoch 5/50] Training: 100%|██████████| 142/142 [00:56<00:00,  2.52it/s, loss=0.00255] \n",
      "[Fold 2][Epoch 5/50] Validation: 100%|██████████| 71/71 [00:07<00:00,  9.85it/s]\n"
     ]
    },
    {
     "name": "stdout",
     "output_type": "stream",
     "text": [
      "[F2] Ep5 - Train: 0.0464 | VaL: 0.1273, Acc: 0.9585, F1: 0.9583\n"
     ]
    },
    {
     "name": "stderr",
     "output_type": "stream",
     "text": [
      "[Fold 2][Epoch 6/50] Training: 100%|██████████| 142/142 [00:56<00:00,  2.52it/s, loss=0.00393] \n",
      "[Fold 2][Epoch 6/50] Validation: 100%|██████████| 71/71 [00:07<00:00,  9.83it/s]\n"
     ]
    },
    {
     "name": "stdout",
     "output_type": "stream",
     "text": [
      "[F2] Ep6 - Train: 0.0247 | VaL: 0.1338, Acc: 0.9515, F1: 0.9527\n"
     ]
    },
    {
     "name": "stderr",
     "output_type": "stream",
     "text": [
      "[Fold 2][Epoch 7/50] Training: 100%|██████████| 142/142 [00:56<00:00,  2.52it/s, loss=0.00162] \n",
      "[Fold 2][Epoch 7/50] Validation: 100%|██████████| 71/71 [00:07<00:00,  9.85it/s]\n"
     ]
    },
    {
     "name": "stdout",
     "output_type": "stream",
     "text": [
      "[F2] Ep7 - Train: 0.0498 | VaL: 0.1996, Acc: 0.9462, F1: 0.9461\n"
     ]
    },
    {
     "name": "stderr",
     "output_type": "stream",
     "text": [
      "[Fold 2][Epoch 8/50] Training: 100%|██████████| 142/142 [00:56<00:00,  2.52it/s, loss=0.0745]  \n",
      "[Fold 2][Epoch 8/50] Validation: 100%|██████████| 71/71 [00:07<00:00,  9.87it/s]"
     ]
    },
    {
     "name": "stdout",
     "output_type": "stream",
     "text": [
      "[F2] Ep8 - Train: 0.0083 | VaL: 0.1646, Acc: 0.9523, F1: 0.9526\n",
      "[Fold 2] Early stopping triggered. Best F1: 0.9583\n"
     ]
    },
    {
     "name": "stderr",
     "output_type": "stream",
     "text": [
      "\n"
     ]
    },
    {
     "data": {
      "text/html": [],
      "text/plain": [
       "<IPython.core.display.HTML object>"
      ]
     },
     "metadata": {},
     "output_type": "display_data"
    },
    {
     "data": {
      "text/html": [
       "<br>    <style><br>        .wandb-row {<br>            display: flex;<br>            flex-direction: row;<br>            flex-wrap: wrap;<br>            justify-content: flex-start;<br>            width: 100%;<br>        }<br>        .wandb-col {<br>            display: flex;<br>            flex-direction: column;<br>            flex-basis: 100%;<br>            flex: 1;<br>            padding: 10px;<br>        }<br>    </style><br><div class=\"wandb-row\"><div class=\"wandb-col\"><h3>Run history:</h3><br/><table class=\"wandb\"><tr><td>Train_Data</td><td>▁</td></tr><tr><td>Val_Data</td><td>▁</td></tr><tr><td>epoch</td><td>▁▂▃▄▅▆▇█</td></tr><tr><td>fold</td><td>▁▁▁▁▁▁▁▁</td></tr><tr><td>train_loss</td><td>█▃▂▂▁▁▁▁</td></tr><tr><td>val_acc</td><td>▁▅▆▄█▇▇▇</td></tr><tr><td>val_f1</td><td>▁▅▆▄█▇▇▇</td></tr><tr><td>val_loss</td><td>█▄▄▄▁▁▅▃</td></tr></table><br/></div><div class=\"wandb-col\"><h3>Run summary:</h3><br/><table class=\"wandb\"><tr><td>Train_Data</td><td>2267</td></tr><tr><td>Val_Data</td><td>1133</td></tr><tr><td>epoch</td><td>8</td></tr><tr><td>fold</td><td>2</td></tr><tr><td>train_loss</td><td>0.00835</td></tr><tr><td>val_acc</td><td>0.95234</td></tr><tr><td>val_f1</td><td>0.9526</td></tr><tr><td>val_loss</td><td>0.16461</td></tr></table><br/></div></div>"
      ],
      "text/plain": [
       "<IPython.core.display.HTML object>"
      ]
     },
     "metadata": {},
     "output_type": "display_data"
    },
    {
     "data": {
      "text/html": [
       " View run <strong style=\"color:#cdcd00\">V3-fold_2</strong> at: <a href='https://wandb.ai/moonstalker9010-none/Document%20Classification/runs/ypyfox4r' target=\"_blank\">https://wandb.ai/moonstalker9010-none/Document%20Classification/runs/ypyfox4r</a><br> View project at: <a href='https://wandb.ai/moonstalker9010-none/Document%20Classification' target=\"_blank\">https://wandb.ai/moonstalker9010-none/Document%20Classification</a><br>Synced 5 W&B file(s), 0 media file(s), 0 artifact file(s) and 0 other file(s)"
      ],
      "text/plain": [
       "<IPython.core.display.HTML object>"
      ]
     },
     "metadata": {},
     "output_type": "display_data"
    },
    {
     "data": {
      "text/html": [
       "Find logs at: <code>../../wandb/run-20250703_101613-ypyfox4r/logs</code>"
      ],
      "text/plain": [
       "<IPython.core.display.HTML object>"
      ]
     },
     "metadata": {},
     "output_type": "display_data"
    },
    {
     "name": "stdout",
     "output_type": "stream",
     "text": [
      "\n",
      "=== Fold 3 ===\n",
      "Fold 3: Train samples=2267, Val samples=1133\n"
     ]
    },
    {
     "data": {
      "text/html": [
       "Tracking run with wandb version 0.21.0"
      ],
      "text/plain": [
       "<IPython.core.display.HTML object>"
      ]
     },
     "metadata": {},
     "output_type": "display_data"
    },
    {
     "data": {
      "text/html": [
       "Run data is saved locally in <code>../../wandb/run-20250703_102453-99ox9dqy</code>"
      ],
      "text/plain": [
       "<IPython.core.display.HTML object>"
      ]
     },
     "metadata": {},
     "output_type": "display_data"
    },
    {
     "data": {
      "text/html": [
       "Syncing run <strong><a href='https://wandb.ai/moonstalker9010-none/Document%20Classification/runs/99ox9dqy' target=\"_blank\">V3-fold_3</a></strong> to <a href='https://wandb.ai/moonstalker9010-none/Document%20Classification' target=\"_blank\">Weights & Biases</a> (<a href='https://wandb.me/developer-guide' target=\"_blank\">docs</a>)<br>"
      ],
      "text/plain": [
       "<IPython.core.display.HTML object>"
      ]
     },
     "metadata": {},
     "output_type": "display_data"
    },
    {
     "data": {
      "text/html": [
       " View project at <a href='https://wandb.ai/moonstalker9010-none/Document%20Classification' target=\"_blank\">https://wandb.ai/moonstalker9010-none/Document%20Classification</a>"
      ],
      "text/plain": [
       "<IPython.core.display.HTML object>"
      ]
     },
     "metadata": {},
     "output_type": "display_data"
    },
    {
     "data": {
      "text/html": [
       " View run at <a href='https://wandb.ai/moonstalker9010-none/Document%20Classification/runs/99ox9dqy' target=\"_blank\">https://wandb.ai/moonstalker9010-none/Document%20Classification/runs/99ox9dqy</a>"
      ],
      "text/plain": [
       "<IPython.core.display.HTML object>"
      ]
     },
     "metadata": {},
     "output_type": "display_data"
    },
    {
     "name": "stderr",
     "output_type": "stream",
     "text": [
      "[Fold 3][Epoch 1/50] Training: 100%|██████████| 142/142 [00:56<00:00,  2.52it/s, loss=0.302] \n",
      "[Fold 3][Epoch 1/50] Validation: 100%|██████████| 71/71 [00:07<00:00,  9.73it/s]\n"
     ]
    },
    {
     "name": "stdout",
     "output_type": "stream",
     "text": [
      "[F3] Ep1 - Train: 0.7161 | VaL: 0.2149, Acc: 0.9214, F1: 0.9167\n"
     ]
    },
    {
     "name": "stderr",
     "output_type": "stream",
     "text": [
      "[Fold 3][Epoch 2/50] Training: 100%|██████████| 142/142 [00:56<00:00,  2.52it/s, loss=0.109]  \n",
      "[Fold 3][Epoch 2/50] Validation: 100%|██████████| 71/71 [00:07<00:00,  9.65it/s]\n"
     ]
    },
    {
     "name": "stdout",
     "output_type": "stream",
     "text": [
      "[F3] Ep2 - Train: 0.2203 | VaL: 0.1875, Acc: 0.9197, F1: 0.9133\n"
     ]
    },
    {
     "name": "stderr",
     "output_type": "stream",
     "text": [
      "[Fold 3][Epoch 3/50] Training: 100%|██████████| 142/142 [00:56<00:00,  2.52it/s, loss=0.00756]\n",
      "[Fold 3][Epoch 3/50] Validation: 100%|██████████| 71/71 [00:07<00:00,  9.69it/s]\n"
     ]
    },
    {
     "name": "stdout",
     "output_type": "stream",
     "text": [
      "[F3] Ep3 - Train: 0.1333 | VaL: 0.2514, Acc: 0.9241, F1: 0.9246\n"
     ]
    },
    {
     "name": "stderr",
     "output_type": "stream",
     "text": [
      "[Fold 3][Epoch 4/50] Training: 100%|██████████| 142/142 [00:56<00:00,  2.52it/s, loss=0.00391]\n",
      "[Fold 3][Epoch 4/50] Validation: 100%|██████████| 71/71 [00:07<00:00,  9.75it/s]\n"
     ]
    },
    {
     "name": "stdout",
     "output_type": "stream",
     "text": [
      "[F3] Ep4 - Train: 0.0901 | VaL: 0.2007, Acc: 0.9453, F1: 0.9458\n"
     ]
    },
    {
     "name": "stderr",
     "output_type": "stream",
     "text": [
      "[Fold 3][Epoch 5/50] Training: 100%|██████████| 142/142 [00:56<00:00,  2.52it/s, loss=0.00239] \n",
      "[Fold 3][Epoch 5/50] Validation: 100%|██████████| 71/71 [00:07<00:00,  9.65it/s]\n"
     ]
    },
    {
     "name": "stdout",
     "output_type": "stream",
     "text": [
      "[F3] Ep5 - Train: 0.0803 | VaL: 0.1461, Acc: 0.9594, F1: 0.9601\n"
     ]
    },
    {
     "name": "stderr",
     "output_type": "stream",
     "text": [
      "[Fold 3][Epoch 6/50] Training: 100%|██████████| 142/142 [00:56<00:00,  2.52it/s, loss=0.0366]  \n",
      "[Fold 3][Epoch 6/50] Validation: 100%|██████████| 71/71 [00:07<00:00,  9.65it/s]\n"
     ]
    },
    {
     "name": "stdout",
     "output_type": "stream",
     "text": [
      "[F3] Ep6 - Train: 0.0887 | VaL: 0.2053, Acc: 0.9409, F1: 0.9408\n"
     ]
    },
    {
     "name": "stderr",
     "output_type": "stream",
     "text": [
      "[Fold 3][Epoch 7/50] Training: 100%|██████████| 142/142 [00:56<00:00,  2.52it/s, loss=0.00243] \n",
      "[Fold 3][Epoch 7/50] Validation: 100%|██████████| 71/71 [00:07<00:00,  9.74it/s]\n"
     ]
    },
    {
     "name": "stdout",
     "output_type": "stream",
     "text": [
      "[F3] Ep7 - Train: 0.1007 | VaL: 0.1737, Acc: 0.9532, F1: 0.9545\n"
     ]
    },
    {
     "name": "stderr",
     "output_type": "stream",
     "text": [
      "[Fold 3][Epoch 8/50] Training: 100%|██████████| 142/142 [00:56<00:00,  2.52it/s, loss=0.00177] \n",
      "[Fold 3][Epoch 8/50] Validation: 100%|██████████| 71/71 [00:07<00:00,  9.74it/s]"
     ]
    },
    {
     "name": "stdout",
     "output_type": "stream",
     "text": [
      "[F3] Ep8 - Train: 0.0700 | VaL: 0.1566, Acc: 0.9488, F1: 0.9494\n",
      "[Fold 3] Early stopping triggered. Best F1: 0.9601\n"
     ]
    },
    {
     "name": "stderr",
     "output_type": "stream",
     "text": [
      "\n"
     ]
    },
    {
     "data": {
      "text/html": [],
      "text/plain": [
       "<IPython.core.display.HTML object>"
      ]
     },
     "metadata": {},
     "output_type": "display_data"
    },
    {
     "data": {
      "text/html": [
       "<br>    <style><br>        .wandb-row {<br>            display: flex;<br>            flex-direction: row;<br>            flex-wrap: wrap;<br>            justify-content: flex-start;<br>            width: 100%;<br>        }<br>        .wandb-col {<br>            display: flex;<br>            flex-direction: column;<br>            flex-basis: 100%;<br>            flex: 1;<br>            padding: 10px;<br>        }<br>    </style><br><div class=\"wandb-row\"><div class=\"wandb-col\"><h3>Run history:</h3><br/><table class=\"wandb\"><tr><td>Train_Data</td><td>▁</td></tr><tr><td>Val_Data</td><td>▁</td></tr><tr><td>epoch</td><td>▁▂▃▄▅▆▇█</td></tr><tr><td>fold</td><td>▁▁▁▁▁▁▁▁</td></tr><tr><td>train_loss</td><td>█▃▂▁▁▁▁▁</td></tr><tr><td>val_acc</td><td>▁▁▂▆█▅▇▆</td></tr><tr><td>val_f1</td><td>▂▁▃▆█▅▇▆</td></tr><tr><td>val_loss</td><td>▆▄█▅▁▅▃▂</td></tr></table><br/></div><div class=\"wandb-col\"><h3>Run summary:</h3><br/><table class=\"wandb\"><tr><td>Train_Data</td><td>2267</td></tr><tr><td>Val_Data</td><td>1133</td></tr><tr><td>epoch</td><td>8</td></tr><tr><td>fold</td><td>3</td></tr><tr><td>train_loss</td><td>0.06999</td></tr><tr><td>val_acc</td><td>0.94881</td></tr><tr><td>val_f1</td><td>0.94936</td></tr><tr><td>val_loss</td><td>0.15659</td></tr></table><br/></div></div>"
      ],
      "text/plain": [
       "<IPython.core.display.HTML object>"
      ]
     },
     "metadata": {},
     "output_type": "display_data"
    },
    {
     "data": {
      "text/html": [
       " View run <strong style=\"color:#cdcd00\">V3-fold_3</strong> at: <a href='https://wandb.ai/moonstalker9010-none/Document%20Classification/runs/99ox9dqy' target=\"_blank\">https://wandb.ai/moonstalker9010-none/Document%20Classification/runs/99ox9dqy</a><br> View project at: <a href='https://wandb.ai/moonstalker9010-none/Document%20Classification' target=\"_blank\">https://wandb.ai/moonstalker9010-none/Document%20Classification</a><br>Synced 5 W&B file(s), 0 media file(s), 0 artifact file(s) and 0 other file(s)"
      ],
      "text/plain": [
       "<IPython.core.display.HTML object>"
      ]
     },
     "metadata": {},
     "output_type": "display_data"
    },
    {
     "data": {
      "text/html": [
       "Find logs at: <code>../../wandb/run-20250703_102453-99ox9dqy/logs</code>"
      ],
      "text/plain": [
       "<IPython.core.display.HTML object>"
      ]
     },
     "metadata": {},
     "output_type": "display_data"
    }
   ],
   "source": [
    "# StratifiedKFold 설정\n",
    "kf = StratifiedKFold(n_splits=3, shuffle=True, random_state=42)\n",
    "\n",
    "for fold, (train_idx, val_idx) in enumerate(kf.split(train_df, train_df['target'])):\n",
    "    print(f\"\\n=== Fold {fold+1} ===\")\n",
    "    train_fold_df = train_df.iloc[train_idx].reset_index(drop=True)\n",
    "    val_fold_df = train_df.iloc[val_idx].reset_index(drop=True)\n",
    "\n",
    "    train_dataset = ImageDataset(train_fold_df, path=\"../data/V3-augmented\", transform=train_transform)\n",
    "    val_dataset = ImageDataset(val_fold_df, path=\"../data/V3-augmented\", transform=test_transform)\n",
    "\n",
    "    train_loader = DataLoader(train_dataset, batch_size=BATCH_SIZE, shuffle=True, num_workers=num_workers)\n",
    "    val_loader = DataLoader(val_dataset, batch_size=BATCH_SIZE, shuffle=False, num_workers=num_workers)\n",
    "    print(f\"Fold {fold+1}: Train samples={len(train_fold_df)}, Val samples={len(val_fold_df)}\")\n",
    "\n",
    "    # 모델 정의\n",
    "    model = timm.create_model(model_name, pretrained=True, num_classes=17, drop_path_rate=Drop_out).to(device)\n",
    "    loss_fn = nn.CrossEntropyLoss()\n",
    "    optimizer = torch.optim.Adam(model.parameters(), lr=LR)\n",
    "\n",
    "    best_f1 = -1.0\n",
    "    patience = 3\n",
    "    trigger = 0\n",
    "\n",
    "    os.environ[\"WANDB_DIR\"] = \"../../\"\n",
    "\n",
    "    wandb.init(\n",
    "    project=\"Document Classification\",\n",
    "    entity=\"moonstalker9010-none\",\n",
    "    name=f\"V3-fold_{fold+1}\",\n",
    "    config={\n",
    "        \"epochs\": EPOCHS,\n",
    "        \"img_size\": img_size,\n",
    "        \"batch_size\": BATCH_SIZE,\n",
    "        \"learning_rate\": LR,\n",
    "        \"Drop_out\": Drop_out,\n",
    "        \"model_name\": model_name,\n",
    "        \"train_samples\": len(train_fold_df),\n",
    "        \"val_samples\": len(val_fold_df),\n",
    "    }\n",
    ")\n",
    "    \n",
    "    wandb.log({\n",
    "    \"Train_Data\": len(train_fold_df),\n",
    "    \"Val_Data\": len(val_fold_df),\n",
    "})\n",
    "\n",
    "    for epoch in range(1, EPOCHS + 1):\n",
    "        # 학습\n",
    "        model.train()\n",
    "        train_loss = 0.0\n",
    "        train_bar = tqdm(train_loader, desc=f\"[Fold {fold+1}][Epoch {epoch}/{EPOCHS}] Training\")\n",
    "        for images, targets in train_bar:\n",
    "            images, targets = images.to(device), targets.to(device)\n",
    "            optimizer.zero_grad()\n",
    "            outputs = model(images)\n",
    "            loss = loss_fn(outputs, targets)\n",
    "            loss.backward()\n",
    "            optimizer.step()\n",
    "            train_loss += loss.item()\n",
    "            train_bar.set_postfix(loss=loss.item())\n",
    "\n",
    "        avg_train_loss = train_loss / len(train_loader)\n",
    "\n",
    "        # 검증\n",
    "        model.eval()\n",
    "        val_loss = 0.0\n",
    "        correct = 0\n",
    "        total = 0\n",
    "        all_preds = []\n",
    "        all_targets = []\n",
    "\n",
    "        with torch.no_grad():\n",
    "            val_bar = tqdm(val_loader, desc=f\"[Fold {fold+1}][Epoch {epoch}/{EPOCHS}] Validation\")\n",
    "            for images, targets in val_bar:\n",
    "                images, targets = images.to(device), targets.to(device)\n",
    "                outputs = model(images)\n",
    "                loss = loss_fn(outputs, targets)\n",
    "                val_loss += loss.item()\n",
    "\n",
    "                _, preds = torch.max(outputs, 1)\n",
    "                all_preds.extend(preds.cpu().numpy())\n",
    "                all_targets.extend(targets.cpu().numpy())\n",
    "\n",
    "                correct += (preds == targets).sum().item()\n",
    "                total += targets.size(0)\n",
    "\n",
    "        avg_val_loss = val_loss / len(val_loader)\n",
    "        val_acc = correct / total\n",
    "        val_f1 = f1_score(all_targets, all_preds, average='macro')\n",
    "\n",
    "        print(f\"[F{fold+1}] Ep{epoch} - \"\n",
    "              f\"Train: {avg_train_loss:.4f} | VaL: {avg_val_loss:.4f}, \"\n",
    "              f\"Acc: {val_acc:.4f}, F1: {val_f1:.4f}\")\n",
    "\n",
    "        wandb.log({\n",
    "            \"fold\": fold + 1,\n",
    "            \"epoch\": epoch,\n",
    "            \"train_loss\": avg_train_loss,\n",
    "            \"val_loss\": avg_val_loss,\n",
    "            \"val_acc\": val_acc,\n",
    "            \"val_f1\": val_f1,\n",
    "        })\n",
    "\n",
    "        # EarlyStopping\n",
    "        if val_f1 > best_f1:\n",
    "            best_f1 = val_f1\n",
    "            trigger = 0\n",
    "            save_dir = \"../model/V3\"\n",
    "            os.makedirs(save_dir, exist_ok=True)\n",
    "            torch.save(model.state_dict(), os.path.join(save_dir, f\"model_fold{fold+1}.pth\"))\n",
    "        else:\n",
    "            trigger += 1\n",
    "            if trigger >= patience:\n",
    "                print(f\"[Fold {fold+1}] Early stopping triggered. Best F1: {best_f1:.4f}\")\n",
    "                break\n",
    "\n",
    "    wandb.finish()"
   ]
  },
  {
   "cell_type": "markdown",
   "id": "a129a87a",
   "metadata": {},
   "source": [
    "### Ensemble & Inference"
   ]
  },
  {
   "cell_type": "code",
   "execution_count": 10,
   "id": "5da7eb05",
   "metadata": {},
   "outputs": [
    {
     "name": "stderr",
     "output_type": "stream",
     "text": [
      "Weighted Ensemble Testing: 100%|██████████| 54/54 [00:16<00:00,  3.23it/s]"
     ]
    },
    {
     "name": "stdout",
     "output_type": "stream",
     "text": [
      "[Weighted Ensemble Results] Accuracy: 0.9718, Macro F1: 0.9715\n",
      "Classification Report:\n",
      "               precision    recall  f1-score   support\n",
      "\n",
      "           0       0.98      1.00      0.99        50\n",
      "           1       0.96      1.00      0.98        50\n",
      "           2       1.00      1.00      1.00        50\n",
      "           3       0.90      0.94      0.92        50\n",
      "           4       0.86      0.98      0.92        50\n",
      "           5       1.00      1.00      1.00        50\n",
      "           6       1.00      1.00      1.00        50\n",
      "           7       0.95      0.84      0.89        50\n",
      "           8       1.00      1.00      1.00        50\n",
      "           9       1.00      1.00      1.00        50\n",
      "          10       0.94      0.98      0.96        50\n",
      "          11       1.00      0.88      0.94        50\n",
      "          12       0.98      1.00      0.99        50\n",
      "          13       0.98      1.00      0.99        50\n",
      "          14       0.98      0.90      0.94        50\n",
      "          15       1.00      1.00      1.00        50\n",
      "          16       1.00      1.00      1.00        50\n",
      "\n",
      "    accuracy                           0.97       850\n",
      "   macro avg       0.97      0.97      0.97       850\n",
      "weighted avg       0.97      0.97      0.97       850\n",
      "\n"
     ]
    },
    {
     "name": "stderr",
     "output_type": "stream",
     "text": [
      "\n"
     ]
    }
   ],
   "source": [
    "data_path = \"../data/V3-augmented\"\n",
    "test_dataset = ImageDataset(test_df, data_path, transform=test_transform)\n",
    "test_loader = DataLoader(test_dataset, batch_size=BATCH_SIZE, shuffle=False, num_workers=num_workers)\n",
    "\n",
    "# fold별 모델 로드\n",
    "models = []\n",
    "for fold in range(3):  # fold 수에 맞게 수정\n",
    "    model = timm.create_model(model_name, pretrained=False, num_classes=17, drop_path_rate=Drop_out)\n",
    "    model.load_state_dict(torch.load(f\"../model/V3/model_fold{fold+1}.pth\", map_location=device))\n",
    "    model.to(device)\n",
    "    model.eval()\n",
    "    models.append(model)\n",
    "\n",
    "# 가중치 설정 \n",
    "fold_f1s = np.array([0.97066, 0.9526, 0.94936])\n",
    "fold_weights = fold_f1s / fold_f1s.sum()  # 합이 1이 되도록 정규화\n",
    "\n",
    "all_preds = []\n",
    "all_targets = []\n",
    "\n",
    "with torch.no_grad():\n",
    "    for images, targets in tqdm(test_loader, desc=\"Weighted Ensemble Testing\"):\n",
    "        images = images.to(device)\n",
    "\n",
    "        # 가중치 기반 soft voting\n",
    "        weighted_probs = None\n",
    "        for weight, model in zip(fold_weights, models):\n",
    "            outputs = model(images)\n",
    "            probs = torch.softmax(outputs, dim=1)\n",
    "            if weighted_probs is None:\n",
    "                weighted_probs = weight * probs\n",
    "            else:\n",
    "                weighted_probs += weight * probs\n",
    "\n",
    "        preds = torch.argmax(weighted_probs, dim=1)\n",
    "\n",
    "        all_preds.extend(preds.cpu().numpy())\n",
    "        all_targets.extend(targets.cpu().numpy())  # 안전하게 CPU로 변환 후 numpy로 저장\n",
    "\n",
    "# 성능 지표\n",
    "f1 = f1_score(all_targets, all_preds, average=\"macro\")\n",
    "acc = accuracy_score(all_targets, all_preds)\n",
    "\n",
    "print(f\"[Weighted Ensemble Results] Accuracy: {acc:.4f}, Macro F1: {f1:.4f}\")\n",
    "print(\"Classification Report:\\n\", classification_report(all_targets, all_preds))"
   ]
  },
  {
   "cell_type": "code",
   "execution_count": 13,
   "id": "34034d54",
   "metadata": {},
   "outputs": [
    {
     "name": "stderr",
     "output_type": "stream",
     "text": [
      "Inference (Submission): 100%|██████████| 197/197 [00:57<00:00,  3.43it/s]\n"
     ]
    }
   ],
   "source": [
    "submission_df = pd.read_csv(inference_csv) \n",
    "submission_dataset = ImageDataset(submission_df, test_path, transform=test_transform)\n",
    "submission_loader = DataLoader(submission_dataset, batch_size=BATCH_SIZE, shuffle=False, num_workers=num_workers)\n",
    "\n",
    "# 추론\n",
    "submission_preds = []\n",
    "with torch.no_grad():\n",
    "    for images, _ in tqdm(submission_loader, desc=\"Inference (Submission)\"):\n",
    "        images = images.to(device)\n",
    "        weighted_probs = None\n",
    "        for weight, model in zip(fold_weights, models):\n",
    "            outputs = model(images)\n",
    "            probs = torch.softmax(outputs, dim=1)\n",
    "            if weighted_probs is None:\n",
    "                weighted_probs = weight * probs\n",
    "            else:\n",
    "                weighted_probs += weight * probs\n",
    "        preds = torch.argmax(weighted_probs, dim=1)\n",
    "        submission_preds.extend(preds.cpu().numpy())\n",
    "\n",
    "# 저장\n",
    "submission_df[\"target\"] = submission_preds\n",
    "submission_df.to_csv(\"../data/V3-submission.csv\", index=False)"
   ]
  },
  {
   "cell_type": "markdown",
   "id": "59969927",
   "metadata": {},
   "source": [
    "#### 재학습"
   ]
  },
  {
   "cell_type": "code",
   "execution_count": 14,
   "id": "d9e974c9",
   "metadata": {},
   "outputs": [
    {
     "name": "stderr",
     "output_type": "stream",
     "text": [
      "\u001b[34m\u001b[1mwandb\u001b[0m: Currently logged in as: \u001b[33mmoonstalker9010\u001b[0m (\u001b[33mmoonstalker9010-none\u001b[0m) to \u001b[32mhttps://api.wandb.ai\u001b[0m. Use \u001b[1m`wandb login --relogin`\u001b[0m to force relogin\n"
     ]
    },
    {
     "data": {
      "text/html": [
       "Tracking run with wandb version 0.21.0"
      ],
      "text/plain": [
       "<IPython.core.display.HTML object>"
      ]
     },
     "metadata": {},
     "output_type": "display_data"
    },
    {
     "data": {
      "text/html": [
       "Run data is saved locally in <code>/root/dev/upstageailab-cv-classification-cv_1/code/wandb/run-20250703_115827-kry1fjh8</code>"
      ],
      "text/plain": [
       "<IPython.core.display.HTML object>"
      ]
     },
     "metadata": {},
     "output_type": "display_data"
    },
    {
     "data": {
      "text/html": [
       "Syncing run <strong><a href='https://wandb.ai/moonstalker9010-none/Document%20Classification/runs/kry1fjh8' target=\"_blank\">V3-Full-Retrain</a></strong> to <a href='https://wandb.ai/moonstalker9010-none/Document%20Classification' target=\"_blank\">Weights & Biases</a> (<a href='https://wandb.me/developer-guide' target=\"_blank\">docs</a>)<br>"
      ],
      "text/plain": [
       "<IPython.core.display.HTML object>"
      ]
     },
     "metadata": {},
     "output_type": "display_data"
    },
    {
     "data": {
      "text/html": [
       " View project at <a href='https://wandb.ai/moonstalker9010-none/Document%20Classification' target=\"_blank\">https://wandb.ai/moonstalker9010-none/Document%20Classification</a>"
      ],
      "text/plain": [
       "<IPython.core.display.HTML object>"
      ]
     },
     "metadata": {},
     "output_type": "display_data"
    },
    {
     "data": {
      "text/html": [
       " View run at <a href='https://wandb.ai/moonstalker9010-none/Document%20Classification/runs/kry1fjh8' target=\"_blank\">https://wandb.ai/moonstalker9010-none/Document%20Classification/runs/kry1fjh8</a>"
      ],
      "text/plain": [
       "<IPython.core.display.HTML object>"
      ]
     },
     "metadata": {},
     "output_type": "display_data"
    },
    {
     "name": "stderr",
     "output_type": "stream",
     "text": [
      "[Final][Epoch 1/50] Training: 100%|██████████| 266/266 [01:52<00:00,  2.37it/s, loss=0.131]  \n"
     ]
    },
    {
     "name": "stdout",
     "output_type": "stream",
     "text": [
      "[Final] Epoch 1 - Train Loss: 0.5744\n"
     ]
    },
    {
     "name": "stderr",
     "output_type": "stream",
     "text": [
      "[Final][Epoch 2/50] Training: 100%|██████████| 266/266 [01:45<00:00,  2.53it/s, loss=0.0919]  \n"
     ]
    },
    {
     "name": "stdout",
     "output_type": "stream",
     "text": [
      "[Final] Epoch 2 - Train Loss: 0.1299\n"
     ]
    },
    {
     "name": "stderr",
     "output_type": "stream",
     "text": [
      "[Final][Epoch 3/50] Training: 100%|██████████| 266/266 [01:45<00:00,  2.53it/s, loss=0.0203]  \n"
     ]
    },
    {
     "name": "stdout",
     "output_type": "stream",
     "text": [
      "[Final] Epoch 3 - Train Loss: 0.0581\n"
     ]
    },
    {
     "name": "stderr",
     "output_type": "stream",
     "text": [
      "[Final][Epoch 4/50] Training: 100%|██████████| 266/266 [01:45<00:00,  2.53it/s, loss=0.0722]  \n"
     ]
    },
    {
     "name": "stdout",
     "output_type": "stream",
     "text": [
      "[Final] Epoch 4 - Train Loss: 0.0401\n"
     ]
    },
    {
     "name": "stderr",
     "output_type": "stream",
     "text": [
      "[Final][Epoch 5/50] Training: 100%|██████████| 266/266 [01:45<00:00,  2.53it/s, loss=0.000276]\n"
     ]
    },
    {
     "name": "stdout",
     "output_type": "stream",
     "text": [
      "[Final] Epoch 5 - Train Loss: 0.0405\n"
     ]
    },
    {
     "name": "stderr",
     "output_type": "stream",
     "text": [
      "[Final][Epoch 6/50] Training: 100%|██████████| 266/266 [01:45<00:00,  2.53it/s, loss=0.0199]  \n"
     ]
    },
    {
     "name": "stdout",
     "output_type": "stream",
     "text": [
      "[Final] Epoch 6 - Train Loss: 0.0332\n"
     ]
    },
    {
     "name": "stderr",
     "output_type": "stream",
     "text": [
      "[Final][Epoch 7/50] Training: 100%|██████████| 266/266 [01:45<00:00,  2.53it/s, loss=0.00037] \n"
     ]
    },
    {
     "name": "stdout",
     "output_type": "stream",
     "text": [
      "[Final] Epoch 7 - Train Loss: 0.0234\n"
     ]
    },
    {
     "name": "stderr",
     "output_type": "stream",
     "text": [
      "[Final][Epoch 8/50] Training: 100%|██████████| 266/266 [01:45<00:00,  2.53it/s, loss=0.00126] \n"
     ]
    },
    {
     "name": "stdout",
     "output_type": "stream",
     "text": [
      "[Final] Epoch 8 - Train Loss: 0.0455\n"
     ]
    },
    {
     "name": "stderr",
     "output_type": "stream",
     "text": [
      "[Final][Epoch 9/50] Training: 100%|██████████| 266/266 [01:45<00:00,  2.53it/s, loss=0.00246] \n"
     ]
    },
    {
     "name": "stdout",
     "output_type": "stream",
     "text": [
      "[Final] Epoch 9 - Train Loss: 0.0251\n"
     ]
    },
    {
     "name": "stderr",
     "output_type": "stream",
     "text": [
      "[Final][Epoch 10/50] Training: 100%|██████████| 266/266 [01:45<00:00,  2.53it/s, loss=0.000211]\n"
     ]
    },
    {
     "name": "stdout",
     "output_type": "stream",
     "text": [
      "[Final] Epoch 10 - Train Loss: 0.0050\n"
     ]
    },
    {
     "name": "stderr",
     "output_type": "stream",
     "text": [
      "[Final][Epoch 11/50] Training: 100%|██████████| 266/266 [01:44<00:00,  2.53it/s, loss=0.00322] \n"
     ]
    },
    {
     "name": "stdout",
     "output_type": "stream",
     "text": [
      "[Final] Epoch 11 - Train Loss: 0.0295\n"
     ]
    },
    {
     "name": "stderr",
     "output_type": "stream",
     "text": [
      "[Final][Epoch 12/50] Training: 100%|██████████| 266/266 [01:44<00:00,  2.53it/s, loss=0.00111] \n"
     ]
    },
    {
     "name": "stdout",
     "output_type": "stream",
     "text": [
      "[Final] Epoch 12 - Train Loss: 0.0489\n"
     ]
    },
    {
     "name": "stderr",
     "output_type": "stream",
     "text": [
      "[Final][Epoch 13/50] Training: 100%|██████████| 266/266 [01:45<00:00,  2.53it/s, loss=0.0757]  "
     ]
    },
    {
     "name": "stdout",
     "output_type": "stream",
     "text": [
      "[Final] Epoch 13 - Train Loss: 0.0226\n",
      "[Final] Early stopping triggered at epoch 13. Best train loss: 0.0050\n"
     ]
    },
    {
     "name": "stderr",
     "output_type": "stream",
     "text": [
      "\n"
     ]
    },
    {
     "data": {
      "text/html": [],
      "text/plain": [
       "<IPython.core.display.HTML object>"
      ]
     },
     "metadata": {},
     "output_type": "display_data"
    },
    {
     "data": {
      "text/html": [
       "<br>    <style><br>        .wandb-row {<br>            display: flex;<br>            flex-direction: row;<br>            flex-wrap: wrap;<br>            justify-content: flex-start;<br>            width: 100%;<br>        }<br>        .wandb-col {<br>            display: flex;<br>            flex-direction: column;<br>            flex-basis: 100%;<br>            flex: 1;<br>            padding: 10px;<br>        }<br>    </style><br><div class=\"wandb-row\"><div class=\"wandb-col\"><h3>Run history:</h3><br/><table class=\"wandb\"><tr><td>Final_train_loss</td><td>█▃▂▁▁▁▁▁▁▁▁▂▁</td></tr><tr><td>epoch</td><td>▁▂▂▃▃▄▅▅▆▆▇▇█</td></tr></table><br/></div><div class=\"wandb-col\"><h3>Run summary:</h3><br/><table class=\"wandb\"><tr><td>Final_train_loss</td><td>0.02264</td></tr><tr><td>epoch</td><td>13</td></tr></table><br/></div></div>"
      ],
      "text/plain": [
       "<IPython.core.display.HTML object>"
      ]
     },
     "metadata": {},
     "output_type": "display_data"
    },
    {
     "data": {
      "text/html": [
       " View run <strong style=\"color:#cdcd00\">V3-Full-Retrain</strong> at: <a href='https://wandb.ai/moonstalker9010-none/Document%20Classification/runs/kry1fjh8' target=\"_blank\">https://wandb.ai/moonstalker9010-none/Document%20Classification/runs/kry1fjh8</a><br> View project at: <a href='https://wandb.ai/moonstalker9010-none/Document%20Classification' target=\"_blank\">https://wandb.ai/moonstalker9010-none/Document%20Classification</a><br>Synced 5 W&B file(s), 0 media file(s), 0 artifact file(s) and 0 other file(s)"
      ],
      "text/plain": [
       "<IPython.core.display.HTML object>"
      ]
     },
     "metadata": {},
     "output_type": "display_data"
    },
    {
     "data": {
      "text/html": [
       "Find logs at: <code>./wandb/run-20250703_115827-kry1fjh8/logs</code>"
      ],
      "text/plain": [
       "<IPython.core.display.HTML object>"
      ]
     },
     "metadata": {},
     "output_type": "display_data"
    }
   ],
   "source": [
    "# 전체 데이터로 재학습\n",
    "final_dataset = ImageDataset(aug_df, path=data_path, transform=train_transform)\n",
    "final_loader = DataLoader(final_dataset, batch_size=BATCH_SIZE, shuffle=True, num_workers=num_workers)\n",
    "\n",
    "# 모델 초기화\n",
    "model = timm.create_model(model_name, pretrained=True, num_classes=17, drop_path_rate=Drop_out).to(device)\n",
    "loss_fn = nn.CrossEntropyLoss()\n",
    "optimizer = torch.optim.Adam(model.parameters(), lr=LR)\n",
    "\n",
    "best_loss = float('inf')\n",
    "trigger = 0\n",
    "patience = 3\n",
    "\n",
    "wandb.init(\n",
    "    project=\"Document Classification\",\n",
    "    entity=\"moonstalker9010-none\",\n",
    "    name=\"V3-Full-Retrain\",\n",
    "    config={\n",
    "        \"epochs\": EPOCHS,\n",
    "        \"img_size\": img_size,\n",
    "        \"batch_size\": BATCH_SIZE,\n",
    "        \"learning_rate\": LR,\n",
    "        \"Drop_out\": Drop_out,\n",
    "        \"model_name\": model_name,\n",
    "        \"train_samples\": len(aug_df),\n",
    "    }\n",
    ")\n",
    "\n",
    "for epoch in range(1, EPOCHS + 1):\n",
    "    model.train()\n",
    "    train_loss = 0.0\n",
    "    train_bar = tqdm(final_loader, desc=f\"[Final][Epoch {epoch}/{EPOCHS}] Training\")\n",
    "    for images, targets in train_bar:\n",
    "        images, targets = images.to(device), targets.to(device)\n",
    "        optimizer.zero_grad()\n",
    "        outputs = model(images)\n",
    "        loss = loss_fn(outputs, targets)\n",
    "        loss.backward()\n",
    "        optimizer.step()\n",
    "        train_loss += loss.item()\n",
    "        train_bar.set_postfix(loss=loss.item())\n",
    "    \n",
    "    avg_train_loss = train_loss / len(final_loader)\n",
    "    wandb.log({\"Final_train_loss\": avg_train_loss, \"epoch\": epoch})\n",
    "    print(f\"[Final] Epoch {epoch} - Train Loss: {avg_train_loss:.4f}\")\n",
    "\n",
    "    if avg_train_loss < best_loss:\n",
    "        best_loss = avg_train_loss\n",
    "        trigger = 0\n",
    "        os.makedirs(\"../model/V3\", exist_ok=True)\n",
    "        torch.save(model.state_dict(), \"../model/V3/model_Ensemble.pth\")\n",
    "    else:\n",
    "        trigger += 1\n",
    "        if trigger >= patience:\n",
    "            print(f\"[Final] Early stopping triggered at epoch {epoch}. Best train loss: {best_loss:.4f}\")\n",
    "            break\n",
    "\n",
    "wandb.finish()"
   ]
  },
  {
   "cell_type": "code",
   "execution_count": 15,
   "id": "0e2490ce",
   "metadata": {},
   "outputs": [
    {
     "name": "stderr",
     "output_type": "stream",
     "text": [
      "Final Model Inference: 100%|██████████| 197/197 [00:19<00:00, 10.20it/s]\n"
     ]
    }
   ],
   "source": [
    "submission_df = pd.read_csv(inference_csv)  \n",
    "submission_dataset = ImageDataset(submission_df, test_path, transform=test_transform)\n",
    "submission_loader = DataLoader(submission_dataset, batch_size=BATCH_SIZE, shuffle=False, num_workers=num_workers)\n",
    "\n",
    "# 최종 모델 로드\n",
    "model = timm.create_model(model_name, pretrained=False, num_classes=17, drop_path_rate=Drop_out)\n",
    "model.load_state_dict(torch.load(\"../model/V3/model_Ensemble.pth\", map_location=device))\n",
    "model.to(device)\n",
    "model.eval()\n",
    "\n",
    "# 추론\n",
    "submission_preds = []\n",
    "with torch.no_grad():\n",
    "    for images, _ in tqdm(submission_loader, desc=\"Final Model Inference\"):\n",
    "        images = images.to(device)\n",
    "        outputs = model(images)\n",
    "        preds = torch.argmax(outputs, dim=1)\n",
    "        submission_preds.extend(preds.cpu().numpy())\n",
    "\n",
    "# submission_df에 예측 결과 저장 후 제출 파일로 저장\n",
    "submission_df[\"target\"] = submission_preds\n",
    "submission_df.to_csv(\"../data/V3-Final-submission.csv\", index=False)"
   ]
  },
  {
   "cell_type": "code",
   "execution_count": 11,
   "id": "bac3913e",
   "metadata": {},
   "outputs": [
    {
     "data": {
      "image/png": "[encoded data removed]",
      "text/plain": [
       "<Figure size 800x600 with 2 Axes>"
      ]
     },
     "metadata": {},
     "output_type": "display_data"
    }
   ],
   "source": [
    "cm = confusion_matrix(all_targets, all_preds, labels=range(17))  # 클래스 0~16\n",
    "\n",
    "plt.figure(figsize=(8, 6))\n",
    "sns.heatmap(cm, annot=True, fmt=\"d\", cmap=\"Blues\", cbar=True, \n",
    "            xticklabels=range(17), yticklabels=range(17))\n",
    "plt.xlabel(\"Predicted Label\")\n",
    "plt.ylabel(\"True Label\")\n",
    "plt.title(\"Confusion Matrix (Weighted Ensemble on Test Set)\")\n",
    "plt.tight_layout()\n",
    "plt.show()"
   ]
  },
  {
   "cell_type": "code",
   "execution_count": 12,
   "id": "b3d264e0",
   "metadata": {},
   "outputs": [
    {
     "data": {
      "image/png": "[encoded data removed]",
      "text/plain": [
       "<Figure size 1200x600 with 2 Axes>"
      ]
     },
     "metadata": {},
     "output_type": "display_data"
    }
   ],
   "source": [
    "cm = confusion_matrix(all_targets, all_preds, labels=np.arange(17))\n",
    "correct_per_class = np.diag(cm)\n",
    "total_per_class = cm.sum(axis=1)\n",
    "accuracy_per_class = correct_per_class / total_per_class\n",
    "\n",
    "df = pd.DataFrame({\n",
    "    \"class\": np.arange(17),\n",
    "    \"accuracy\": accuracy_per_class,\n",
    "    \"errors\": 1 - accuracy_per_class\n",
    "})\n",
    "\n",
    "fig, axes = plt.subplots(1, 2, figsize=(12, 6))  # 1행 2열로 서브플롯 생성\n",
    "\n",
    "# 정답률 bar plot\n",
    "sns.barplot(ax=axes[0], x=\"class\", y=\"accuracy\", data=df, palette='Blues')\n",
    "axes[0].set_title(\"Class-wise Accuracy\")\n",
    "axes[0].set_ylim(0, 1.0)\n",
    "axes[0].set_ylabel(\"Accuracy\")\n",
    "axes[0].set_xlabel(\"Class\")\n",
    "\n",
    "# 오답률 bar plot\n",
    "sns.barplot(ax=axes[1], x=\"class\", y=\"errors\", data=df, palette='Reds')\n",
    "axes[1].set_title(\"Class-wise Error Rate\")\n",
    "axes[1].set_ylim(0, 1.0)\n",
    "axes[1].set_ylabel(\"Error Rate\")\n",
    "axes[1].set_xlabel(\"Class\")\n",
    "\n",
    "plt.tight_layout()\n",
    "plt.show()"
   ]
  },
  {
   "cell_type": "code",
   "execution_count": 13,
   "id": "4fc450ef",
   "metadata": {},
   "outputs": [
    {
     "name": "stdout",
     "output_type": "stream",
     "text": [
      "Class weights for re-training:\n",
      "tensor([0.0020, 0.0020, 0.0020, 0.1227, 0.0423, 0.0020, 0.0020, 0.3239, 0.0020,\n",
      "        0.0020, 0.0423, 0.2435, 0.0020, 0.0020, 0.2032, 0.0020, 0.0020],\n",
      "       device='cuda:0')\n"
     ]
    }
   ],
   "source": [
    "from collections import Counter\n",
    "\n",
    "true_counter = Counter(all_targets)\n",
    "correct_counter = Counter([t for t, p in zip(all_targets, all_preds) if t == p])\n",
    "\n",
    "class_accuracies = []\n",
    "for cls in range(17):\n",
    "    total = true_counter[cls]\n",
    "    correct = correct_counter[cls]\n",
    "    acc = correct / total if total > 0 else 0.0\n",
    "    class_accuracies.append(acc)\n",
    "\n",
    "error_rates = 1.0 - np.array(class_accuracies)\n",
    "error_rates += 1e-3  # 안정성 확보\n",
    "class_weights = error_rates / error_rates.sum()\n",
    "class_weights = torch.tensor(class_weights, dtype=torch.float32).to(device)\n",
    "print(f\"Class weights for re-training:\\n{class_weights}\")"
   ]
  },
  {
   "cell_type": "code",
   "execution_count": null,
   "id": "e7bd4441",
   "metadata": {},
   "outputs": [],
   "source": [
    "class EnsembleModel:\n",
    "    def __init__(self, models, weights):\n",
    "        self.models = models\n",
    "        self.weights = weights\n",
    "\n",
    "    def predict(self, images):\n",
    "        self.models[0].eval() \n",
    "        weighted_probs = None\n",
    "        with torch.no_grad():\n",
    "            for weight, model in zip(self.weights, self.models):\n",
    "                outputs = model(images)\n",
    "                probs = torch.softmax(outputs, dim=1)\n",
    "                if weighted_probs is None:\n",
    "                    weighted_probs = weight * probs\n",
    "                else:\n",
    "                    weighted_probs += weight * probs\n",
    "        preds = torch.argmax(weighted_probs, dim=1)\n",
    "        return preds"
   ]
  },
  {
   "cell_type": "code",
   "execution_count": null,
   "id": "70df60d8",
   "metadata": {},
   "outputs": [],
   "source": [
    "ensemble = EnsembleModel(models, fold_weights)\n",
    "all_preds, all_targets = [], []\n",
    "\n",
    "with torch.no_grad():\n",
    "    for images, targets in tqdm(test_loader, desc=\"Weighted Ensemble Testing\"):\n",
    "        images = images.to(device)\n",
    "        preds = ensemble.predict(images)\n",
    "        all_preds.extend(preds.cpu().numpy())\n",
    "        all_targets.extend(targets.cpu().numpy())\n",
    "\n",
    "f1 = f1_score(all_targets, all_preds, average=\"macro\")\n",
    "acc = accuracy_score(all_targets, all_preds)\n",
    "print(f\"[Weighted Ensemble Results] Accuracy: {acc:.4f}, Macro F1: {f1:.4f}\")"
   ]
  }
 ],
 "metadata": {
  "kernelspec": {
   "display_name": "CV_Project",
   "language": "python",
   "name": "python3"
  },
  "language_info": {
   "codemirror_mode": {
    "name": "ipython",
    "version": 3
   },
   "file_extension": ".py",
   "mimetype": "text/x-python",
   "name": "python",
   "nbconvert_exporter": "python",
   "pygments_lexer": "ipython3",
   "version": "3.9.23"
  }
 },
 "nbformat": 4,
 "nbformat_minor": 5
}
