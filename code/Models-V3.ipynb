{
 "cells": [
  {
   "cell_type": "markdown",
   "id": "073b1c71",
   "metadata": {},
   "source": [
    "### Library"
   ]
  },
  {
   "cell_type": "code",
   "execution_count": 1,
   "id": "afce244c",
   "metadata": {},
   "outputs": [
    {
     "ename": "ImportError",
     "evalue": "cannot import name 'Pipeline' from 'augraphy' (/opt/conda/envs/CV_Project/lib/python3.9/site-packages/augraphy/__init__.py)",
     "output_type": "error",
     "traceback": [
      "\u001b[0;31m---------------------------------------------------------------------------\u001b[0m",
      "\u001b[0;31mImportError\u001b[0m                               Traceback (most recent call last)",
      "Cell \u001b[0;32mIn[1], line 27\u001b[0m\n\u001b[1;32m     25\u001b[0m \u001b[38;5;28;01mfrom\u001b[39;00m\u001b[38;5;250m \u001b[39m\u001b[38;5;21;01msklearn\u001b[39;00m\u001b[38;5;21;01m.\u001b[39;00m\u001b[38;5;21;01mmetrics\u001b[39;00m\u001b[38;5;250m \u001b[39m\u001b[38;5;28;01mimport\u001b[39;00m accuracy_score, f1_score\n\u001b[1;32m     26\u001b[0m \u001b[38;5;28;01mfrom\u001b[39;00m\u001b[38;5;250m \u001b[39m\u001b[38;5;21;01msklearn\u001b[39;00m\u001b[38;5;21;01m.\u001b[39;00m\u001b[38;5;21;01mmodel_selection\u001b[39;00m\u001b[38;5;250m \u001b[39m\u001b[38;5;28;01mimport\u001b[39;00m StratifiedKFold\n\u001b[0;32m---> 27\u001b[0m \u001b[38;5;28;01mfrom\u001b[39;00m\u001b[38;5;250m \u001b[39m\u001b[38;5;21;01maugraphy\u001b[39;00m\u001b[38;5;250m \u001b[39m\u001b[38;5;28;01mimport\u001b[39;00m Pipeline\n\u001b[1;32m     28\u001b[0m \u001b[38;5;28;01mfrom\u001b[39;00m\u001b[38;5;250m \u001b[39m\u001b[38;5;21;01maugraphy\u001b[39;00m\u001b[38;5;21;01m.\u001b[39;00m\u001b[38;5;21;01maugmentations\u001b[39;00m\u001b[38;5;250m \u001b[39m\u001b[38;5;28;01mimport\u001b[39;00m (\n\u001b[1;32m     29\u001b[0m     BrightnessTexturize,\n\u001b[1;32m     30\u001b[0m     DirtyDrum,\n\u001b[0;32m   (...)\u001b[0m\n\u001b[1;32m     38\u001b[0m     PerspectiveTransform,\n\u001b[1;32m     39\u001b[0m )\n",
      "\u001b[0;31mImportError\u001b[0m: cannot import name 'Pipeline' from 'augraphy' (/opt/conda/envs/CV_Project/lib/python3.9/site-packages/augraphy/__init__.py)"
     ]
    }
   ],
   "source": [
    "import os\n",
    "import time\n",
    "import random\n",
    "import timm\n",
    "import torch\n",
    "import cv2\n",
    "import albumentations as A\n",
    "import pandas as pd\n",
    "import numpy as np\n",
    "import torch.nn as nn\n",
    "import matplotlib.pyplot as plt\n",
    "import seaborn as sns\n",
    "import warnings\n",
    "import shutil\n",
    "import wandb\n",
    "warnings.filterwarnings('ignore')\n",
    "\n",
    "from albumentations import Compose, RandomBrightnessContrast, Blur, ShiftScaleRotate, GaussNoise, RandomGamma, CLAHE\n",
    "from albumentations.pytorch import ToTensorV2\n",
    "from torch.optim import Adam\n",
    "from torchvision import transforms\n",
    "from torch.utils.data import Dataset, DataLoader\n",
    "from PIL import Image\n",
    "from tqdm import tqdm\n",
    "from sklearn.metrics import accuracy_score, f1_score\n",
    "from sklearn.model_selection import StratifiedKFold\n",
    "from augraphy import Pipeline\n",
    "from augraphy.augmentations import (\n",
    "    BrightnessTexturize,\n",
    "    DirtyDrum,\n",
    "    DirtyRollers,\n",
    "    Fold,\n",
    "    JpegCompression,\n",
    "    LowInkRandomLines,\n",
    "    NoiseTexturize,\n",
    "    PrintSpeckles,\n",
    "    SubtleNoise,\n",
    "    PerspectiveTransform,\n",
    ")"
   ]
  },
  {
   "cell_type": "code",
   "execution_count": null,
   "id": "25c69525",
   "metadata": {},
   "outputs": [],
   "source": [
    "def random_seed(SEED=42):\n",
    "    # SEED = 42 # default\n",
    "    os.environ['PYTHONHASHSEED'] = str(SEED)\n",
    "    random.seed(SEED)\n",
    "    np.random.seed(SEED)\n",
    "    torch.manual_seed(SEED)\n",
    "    torch.cuda.manual_seed(SEED)\n",
    "    torch.cuda.manual_seed_all(SEED)\n",
    "    torch.backends.cudnn.benchmark = True\n",
    "\n",
    "random_seed()"
   ]
  },
  {
   "cell_type": "markdown",
   "id": "cfb06b4c",
   "metadata": {},
   "source": [
    "### Load Data"
   ]
  },
  {
   "cell_type": "code",
   "execution_count": 2,
   "id": "492d947f",
   "metadata": {},
   "outputs": [
    {
     "name": "stdout",
     "output_type": "stream",
     "text": [
      "Train Data: (1570, 2)\n",
      "Test Data: (3140, 2)\n"
     ]
    }
   ],
   "source": [
    "train_csv = \"../data/train.csv\"\n",
    "inference_csv = \"../data/sample_submission.csv\"\n",
    "\n",
    "train_df = pd.read_csv(train_csv)\n",
    "test_df = pd.read_csv(inference_csv)\n",
    "\n",
    "print(f\"Train Data: {train_df.shape}\")\n",
    "print(f\"Test Data: {test_df.shape}\")"
   ]
  },
  {
   "cell_type": "code",
   "execution_count": 3,
   "id": "8d50b9d7",
   "metadata": {},
   "outputs": [],
   "source": [
    "device = torch.device('cuda' if torch.cuda.is_available() else 'cpu')\n",
    "model_name = \"convnextv2_large.fcmae_ft_in22k_in1k\"  \n",
    "img_size = 224 \n",
    "LR = 1e-4\n",
    "EPOCHS = 50\n",
    "BATCH_SIZE = 16\n",
    "Drop_out = 0.3\n",
    "num_workers = 2 # GPU 사용"
   ]
  },
  {
   "cell_type": "code",
   "execution_count": 4,
   "id": "1a530731",
   "metadata": {},
   "outputs": [],
   "source": [
    "class ImageDataset(Dataset):\n",
    "    def __init__(self, df, path, transform=None):\n",
    "        self.df = df.values \n",
    "        self.path = path\n",
    "        self.transform = transform\n",
    "\n",
    "    def __len__(self):\n",
    "        return len(self.df)\n",
    "\n",
    "    def __getitem__(self, idx):\n",
    "        name, target = self.df[idx]\n",
    "        img = np.array(Image.open(os.path.join(self.path, name)))\n",
    "        if self.transform:\n",
    "            img = self.transform(image=img)['image']\n",
    "        return img, target"
   ]
  },
  {
   "cell_type": "code",
   "execution_count": 6,
   "id": "b24d5629",
   "metadata": {},
   "outputs": [],
   "source": [
    "train_transform = A.Compose([\n",
    "    A.Resize(height=img_size, width=img_size),   # 1) 이미지 크기 통일\n",
    "    A.Normalize(                                 # 2) 픽셀 정규화\n",
    "        mean=(0.485, 0.456, 0.406), std=(0.229, 0.224, 0.225)),\n",
    "    ToTensorV2(),                                # 3) 텐서 변환\n",
    "])\n",
    "\n",
    "test_transform = A.Compose([\n",
    "    A.Resize(height=img_size, width=img_size),   # 1) 이미지 크기 통일\n",
    "    A.Normalize(                                 # 2) 픽셀 정규화\n",
    "        mean=(0.485, 0.456, 0.406), std=(0.229, 0.224, 0.225)),\n",
    "    ToTensorV2(),                                # 3) 텐서 변환\n",
    "])\n",
    "\n",
    "train_path = '../../data/train/'\n",
    "test_path = '../../data/test/'\n",
    "\n",
    "train_dataset = ImageDataset(train_df, train_path, transform=train_transform)\n",
    "test_dataset = ImageDataset(test_df, test_path, transform=test_transform)"
   ]
  },
  {
   "cell_type": "code",
   "execution_count": 7,
   "id": "7551aa4d",
   "metadata": {},
   "outputs": [],
   "source": [
    "# Count_plot\n",
    "def count_plot(df, col, figsize=(10, 6), palette=\"Blues_r\", rotation=None, title=None, xlabel=None, ylabel='Count'):\n",
    "    plt.figure(figsize=figsize)\n",
    "    sns.countplot(data=df, x=col, palette=palette)\n",
    "    plt.title(title if title else f'{col} Count')\n",
    "    plt.xticks(rotation=rotation)\n",
    "    plt.xlabel(xlabel if xlabel is not None else col)\n",
    "    plt.ylabel(ylabel)\n",
    "    plt.show()\n",
    "\n",
    "# hist plot\n",
    "def hist_plot(df1, col, df2=None, figsize=(8, 6), bins=30, alpha=0.6, \n",
    "              color1='skyblue', color2='salmon', label1=None, label2=None, \n",
    "              title=None, density=False):\n",
    "    plt.figure(figsize=figsize)\n",
    "    \n",
    "    stat_mode = 'density' if density else 'count'\n",
    "\n",
    "    sns.histplot(df1[col], kde=True, bins=bins, alpha=alpha, color=color1, \n",
    "                 stat=stat_mode, label=label1 if label1 else ('Group 1' if df2 is not None else None))\n",
    "    \n",
    "    if df2 is not None:\n",
    "        sns.histplot(df2[col], kde=True, bins=bins, alpha=alpha, color=color2, \n",
    "                     stat=stat_mode, label=label2 if label2 else 'Group 2')\n",
    "        plt.legend()\n",
    "\n",
    "    plt.title(title if title else f'{col} Distribution ({\"Density\" if density else \"Count\"} Histogram + KDE)')\n",
    "    plt.xlabel(col)\n",
    "    plt.ylabel(\"Density\" if density else \"Count\")\n",
    "    plt.show()\n",
    "\n",
    "# bar plot    \n",
    "def bar_plot(df, x_col, y_col, figsize=(10, 6), hue=None, palette=\"Blues_r\", rotation=None, title=None, xlabel=None, ylabel=None):\n",
    "     plt.figure(figsize=figsize)\n",
    "     \n",
    "     if hue: # hue 지정\n",
    "        sns.barplot(x=x_col, y=y_col, hue=hue, data=df, palette=palette)\n",
    "     else: # hue 지정 X\n",
    "        sns.barplot(x=x_col, y=y_col, data=df, palette=palette)\n",
    "\n",
    "     plt.xticks(rotation=rotation)\n",
    "     plt.title(title)\n",
    "     plt.xlabel(xlabel)\n",
    "     plt.ylabel(ylabel)\n",
    "     plt.show()\n",
    "\n",
    "# heatmap\n",
    "def heat_map(df, target_col=None, figsize=(8, 10), threshold=0, cmap='Reds', method='pearson', annot_kws=None, return_data=False):\n",
    "        df = df.select_dtypes(include=['number'])\n",
    "        \n",
    "        if annot_kws is None:\n",
    "            annot_kws = {\"size\": 10}\n",
    "\n",
    "        if target_col is not None:\n",
    "            corr_series = df.corr(method=method)[target_col].drop(target_col)\n",
    "            corr_filtered = corr_series[abs(corr_series) >= threshold].sort_values(ascending=False)\n",
    "\n",
    "            plt.figure(figsize=figsize)\n",
    "            sns.heatmap(corr_filtered.to_frame(name='Correlation'), annot=True, fmt='.2f', cmap=cmap, annot_kws=annot_kws, cbar=True)\n",
    "            plt.title(f'{method.capitalize()} Correlation with {target_col}', fontsize=14)\n",
    "            plt.show()\n",
    "\n",
    "            corr_df = corr_filtered.reset_index()\n",
    "            corr_df.columns = ['Variable', 'Correlation']\n",
    "\n",
    "            if return_data:\n",
    "                return corr_df\n",
    "\n",
    "        else:\n",
    "            corr_matrix = df.corr(method=method) # 전체 변수 간 상관계수\n",
    "\n",
    "            plt.figure(figsize=figsize)\n",
    "            sns.heatmap(corr_matrix, annot=True, fmt='.2f', cmap=cmap, annot_kws=annot_kws, cbar=True)\n",
    "            plt.title(f'{method.capitalize()} Correlation Matrix (All Variables)', fontsize=14)\n",
    "            plt.show()\n",
    "\n",
    "            if return_data:\n",
    "                return corr_matrix"
   ]
  },
  {
   "cell_type": "markdown",
   "id": "69213ccb",
   "metadata": {},
   "source": [
    "### Preprocessing"
   ]
  },
  {
   "cell_type": "code",
   "execution_count": null,
   "id": "666edd9b",
   "metadata": {},
   "outputs": [],
   "source": [
    "def full_augmentation(train_df, train_path, save_dir, augmentation, per_class_target):\n",
    "    os.makedirs(save_dir, exist_ok=True)\n",
    "    augmented_records = []\n",
    "\n",
    "    # 원본 데이터 모두 복사\n",
    "    print(f\"[INFO] 원본 {len(train_df)}개 복사 중...\")\n",
    "    for _, row in tqdm(train_df.iterrows(), total=len(train_df)):\n",
    "        img_name, target = row['ID'], row['target']\n",
    "        src = os.path.join(train_path, img_name)\n",
    "        dst = os.path.join(save_dir, img_name)\n",
    "        shutil.copy2(src, dst)\n",
    "        augmented_records.append({\"ID\": img_name, \"target\": target})\n",
    "\n",
    "    # 클래스별 목표 개수까지 증강\n",
    "    for target_class in sorted(train_df['target'].unique()):\n",
    "        class_df = train_df[train_df[\"target\"] == target_class]\n",
    "        current_count = len(class_df)\n",
    "\n",
    "        if current_count >= per_class_target:\n",
    "            print(f\"[INFO] Class {target_class}: 이미 {current_count}개로 목표 달성\")\n",
    "            continue\n",
    "\n",
    "        n_to_augment = per_class_target - current_count\n",
    "        print(f\"[INFO] Class {target_class}: {current_count}개 → {per_class_target}개로 증강 중...\")\n",
    "\n",
    "        for i in tqdm(range(n_to_augment)):\n",
    "            sample_row = class_df.sample(1).iloc[0]\n",
    "            img_name = sample_row['ID']\n",
    "            img_path = os.path.join(train_path, img_name)\n",
    "\n",
    "            img = cv2.imread(img_path)\n",
    "            if img is None:\n",
    "                print(f\"[경고] 이미지 로드 실패: {img_path}\")\n",
    "                continue\n",
    "\n",
    "            img = cv2.cvtColor(img, cv2.COLOR_BGR2RGB)\n",
    "            augmented = augmentation(image=img)['image']\n",
    "\n",
    "            aug_name = f\"aug_class{target_class}_{i}_{img_name}\"\n",
    "            aug_path = os.path.join(save_dir, aug_name)\n",
    "            cv2.imwrite(aug_path, cv2.cvtColor(augmented, cv2.COLOR_RGB2BGR))\n",
    "            augmented_records.append({\"ID\": aug_name, \"target\": target_class})\n",
    "\n",
    "    # 증강 정보 CSV 저장\n",
    "    aug_df = pd.DataFrame(augmented_records)\n",
    "    aug_df.to_csv(\"../../data/V3-augmented.csv\", index=False)\n",
    "    print(\"[완료] 원본 + 증강 데이터 저장 완료\")"
   ]
  },
  {
   "cell_type": "code",
   "execution_count": null,
   "id": "4cf223e9",
   "metadata": {},
   "outputs": [
    {
     "name": "stdout",
     "output_type": "stream",
     "text": [
      "[INFO] 원본 1570개 복사 중...\n"
     ]
    },
    {
     "name": "stderr",
     "output_type": "stream",
     "text": [
      "100%|██████████| 1570/1570 [00:00<00:00, 5814.76it/s]\n"
     ]
    },
    {
     "name": "stdout",
     "output_type": "stream",
     "text": [
      "[INFO] Class 0: 100개 → 200개로 증강 중...\n"
     ]
    },
    {
     "name": "stderr",
     "output_type": "stream",
     "text": [
      "100%|██████████| 100/100 [00:00<00:00, 172.74it/s]\n"
     ]
    },
    {
     "name": "stdout",
     "output_type": "stream",
     "text": [
      "[INFO] Class 1: 46개 → 200개로 증강 중...\n"
     ]
    },
    {
     "name": "stderr",
     "output_type": "stream",
     "text": [
      "100%|██████████| 154/154 [00:00<00:00, 221.87it/s]\n"
     ]
    },
    {
     "name": "stdout",
     "output_type": "stream",
     "text": [
      "[INFO] Class 2: 100개 → 200개로 증강 중...\n"
     ]
    },
    {
     "name": "stderr",
     "output_type": "stream",
     "text": [
      "100%|██████████| 100/100 [00:00<00:00, 223.39it/s]\n"
     ]
    },
    {
     "name": "stdout",
     "output_type": "stream",
     "text": [
      "[INFO] Class 3: 100개 → 200개로 증강 중...\n"
     ]
    },
    {
     "name": "stderr",
     "output_type": "stream",
     "text": [
      "100%|██████████| 100/100 [00:00<00:00, 230.45it/s]\n"
     ]
    },
    {
     "name": "stdout",
     "output_type": "stream",
     "text": [
      "[INFO] Class 4: 100개 → 200개로 증강 중...\n"
     ]
    },
    {
     "name": "stderr",
     "output_type": "stream",
     "text": [
      "100%|██████████| 100/100 [00:00<00:00, 220.92it/s]\n"
     ]
    },
    {
     "name": "stdout",
     "output_type": "stream",
     "text": [
      "[INFO] Class 5: 100개 → 200개로 증강 중...\n"
     ]
    },
    {
     "name": "stderr",
     "output_type": "stream",
     "text": [
      "100%|██████████| 100/100 [00:00<00:00, 235.89it/s]\n"
     ]
    },
    {
     "name": "stdout",
     "output_type": "stream",
     "text": [
      "[INFO] Class 6: 100개 → 200개로 증강 중...\n"
     ]
    },
    {
     "name": "stderr",
     "output_type": "stream",
     "text": [
      "100%|██████████| 100/100 [00:00<00:00, 204.77it/s]\n"
     ]
    },
    {
     "name": "stdout",
     "output_type": "stream",
     "text": [
      "[INFO] Class 7: 100개 → 200개로 증강 중...\n"
     ]
    },
    {
     "name": "stderr",
     "output_type": "stream",
     "text": [
      "100%|██████████| 100/100 [00:00<00:00, 249.04it/s]\n"
     ]
    },
    {
     "name": "stdout",
     "output_type": "stream",
     "text": [
      "[INFO] Class 8: 100개 → 200개로 증강 중...\n"
     ]
    },
    {
     "name": "stderr",
     "output_type": "stream",
     "text": [
      "100%|██████████| 100/100 [00:00<00:00, 220.85it/s]\n"
     ]
    },
    {
     "name": "stdout",
     "output_type": "stream",
     "text": [
      "[INFO] Class 9: 100개 → 200개로 증강 중...\n"
     ]
    },
    {
     "name": "stderr",
     "output_type": "stream",
     "text": [
      "100%|██████████| 100/100 [00:00<00:00, 223.38it/s]\n"
     ]
    },
    {
     "name": "stdout",
     "output_type": "stream",
     "text": [
      "[INFO] Class 10: 100개 → 200개로 증강 중...\n"
     ]
    },
    {
     "name": "stderr",
     "output_type": "stream",
     "text": [
      "100%|██████████| 100/100 [00:00<00:00, 194.16it/s]\n"
     ]
    },
    {
     "name": "stdout",
     "output_type": "stream",
     "text": [
      "[INFO] Class 11: 100개 → 200개로 증강 중...\n"
     ]
    },
    {
     "name": "stderr",
     "output_type": "stream",
     "text": [
      "100%|██████████| 100/100 [00:00<00:00, 221.36it/s]\n"
     ]
    },
    {
     "name": "stdout",
     "output_type": "stream",
     "text": [
      "[INFO] Class 12: 100개 → 200개로 증강 중...\n"
     ]
    },
    {
     "name": "stderr",
     "output_type": "stream",
     "text": [
      "100%|██████████| 100/100 [00:00<00:00, 229.29it/s]\n"
     ]
    },
    {
     "name": "stdout",
     "output_type": "stream",
     "text": [
      "[INFO] Class 13: 74개 → 200개로 증강 중...\n"
     ]
    },
    {
     "name": "stderr",
     "output_type": "stream",
     "text": [
      "100%|██████████| 126/126 [00:00<00:00, 202.49it/s]\n"
     ]
    },
    {
     "name": "stdout",
     "output_type": "stream",
     "text": [
      "[INFO] Class 14: 50개 → 200개로 증강 중...\n"
     ]
    },
    {
     "name": "stderr",
     "output_type": "stream",
     "text": [
      "100%|██████████| 150/150 [00:00<00:00, 229.06it/s]\n"
     ]
    },
    {
     "name": "stdout",
     "output_type": "stream",
     "text": [
      "[INFO] Class 15: 100개 → 200개로 증강 중...\n"
     ]
    },
    {
     "name": "stderr",
     "output_type": "stream",
     "text": [
      "100%|██████████| 100/100 [00:00<00:00, 258.09it/s]\n"
     ]
    },
    {
     "name": "stdout",
     "output_type": "stream",
     "text": [
      "[INFO] Class 16: 100개 → 200개로 증강 중...\n"
     ]
    },
    {
     "name": "stderr",
     "output_type": "stream",
     "text": [
      "100%|██████████| 100/100 [00:00<00:00, 201.24it/s]"
     ]
    },
    {
     "name": "stdout",
     "output_type": "stream",
     "text": [
      "[완료] 원본 + 증강 데이터 저장 완료\n"
     ]
    },
    {
     "name": "stderr",
     "output_type": "stream",
     "text": [
      "\n"
     ]
    }
   ],
   "source": [
    "augmentation = A.Compose([\n",
    "    A.RandomResizedCrop(size=(img_size, img_size), scale=(0.9, 1.0), p=0.2),\n",
    "\n",
    "    A.RandomBrightnessContrast(limit=0.1, p=0.2),\n",
    "    A.ColorJitter(brightness=0.2, contrast=0.2, saturation=0.2, hue=0.1, p=0.2),\n",
    "\n",
    "    A.Blur(blur_limit=2, p=0.2),\n",
    "    A.MotionBlur(blur_limit=5, p=0.2),\n",
    "    A.Defocus(radius=(1, 3), p=0.2),\n",
    "\n",
    "    A.Perspective(scale=(0.05, 0.1), keep_size=True, p=0.2),\n",
    "    A.Affine(shear={\"x\": (-10, 10), \"y\": (-10, 10)}, p=0.2),\n",
    "\n",
    "    A.ShiftScaleRotate(shift_limit=0.02, scale_limit=0.05, rotate_limit=5, p=0.2),\n",
    "    A.OneOf([\n",
    "        A.Rotate(limit=[-90, 90], p=1.0),\n",
    "        A.HorizontalFlip(p=1.0),\n",
    "        A.VerticalFlip(p=1.0),\n",
    "    ], p=0.2),\n",
    "\n",
    "    A.GaussNoise(var_limit=(0.0001, 0.002), mean=0, p=0.2),\n",
    "    A.ImageCompression(quality_lower=30, quality_upper=70, p=0.2),\n",
    "    A.CLAHE(clip_limit=1.5, p=0.2),\n",
    "    A.CoarseDropout(max_holes=8, max_height=img_size//10, max_width=img_size//10, p=0.2),\n",
    "])\n",
    "\n",
    "save_dir = \"../../data/V3-augmented\"\n",
    "per_class_target = 200  # 각 클래스당 200개로 통일\n",
    "\n",
    "full_augmentation(train_df, train_path, save_dir, augmentation, per_class_target)"
   ]
  },
  {
   "cell_type": "code",
   "execution_count": null,
   "id": "7b9378cc",
   "metadata": {},
   "outputs": [
    {
     "data": {
      "image/png": "[encoded data removed]",
      "text/plain": [
       "<Figure size 1000x600 with 1 Axes>"
      ]
     },
     "metadata": {},
     "output_type": "display_data"
    },
    {
     "data": {
      "text/html": [
       "<div>\n",
       "<style scoped>\n",
       "    .dataframe tbody tr th:only-of-type {\n",
       "        vertical-align: middle;\n",
       "    }\n",
       "\n",
       "    .dataframe tbody tr th {\n",
       "        vertical-align: top;\n",
       "    }\n",
       "\n",
       "    .dataframe thead th {\n",
       "        text-align: right;\n",
       "    }\n",
       "</style>\n",
       "<table border=\"1\" class=\"dataframe\">\n",
       "  <thead>\n",
       "    <tr style=\"text-align: right;\">\n",
       "      <th></th>\n",
       "      <th>ID</th>\n",
       "      <th>target</th>\n",
       "    </tr>\n",
       "  </thead>\n",
       "  <tbody>\n",
       "    <tr>\n",
       "      <th>0</th>\n",
       "      <td>002f99746285dfdd.jpg</td>\n",
       "      <td>16</td>\n",
       "    </tr>\n",
       "    <tr>\n",
       "      <th>1</th>\n",
       "      <td>008ccd231e1fea5d.jpg</td>\n",
       "      <td>10</td>\n",
       "    </tr>\n",
       "    <tr>\n",
       "      <th>2</th>\n",
       "      <td>008f5911bfda7695.jpg</td>\n",
       "      <td>10</td>\n",
       "    </tr>\n",
       "    <tr>\n",
       "      <th>3</th>\n",
       "      <td>009235e4c9c07af5.jpg</td>\n",
       "      <td>4</td>\n",
       "    </tr>\n",
       "    <tr>\n",
       "      <th>4</th>\n",
       "      <td>00b2f44967580c74.jpg</td>\n",
       "      <td>16</td>\n",
       "    </tr>\n",
       "    <tr>\n",
       "      <th>...</th>\n",
       "      <td>...</td>\n",
       "      <td>...</td>\n",
       "    </tr>\n",
       "    <tr>\n",
       "      <th>3395</th>\n",
       "      <td>aug_class16_95_a9c98518ff83cd43.jpg</td>\n",
       "      <td>16</td>\n",
       "    </tr>\n",
       "    <tr>\n",
       "      <th>3396</th>\n",
       "      <td>aug_class16_96_00f59b12e9e08f29.jpg</td>\n",
       "      <td>16</td>\n",
       "    </tr>\n",
       "    <tr>\n",
       "      <th>3397</th>\n",
       "      <td>aug_class16_97_8b3b6ef2484a4535.jpg</td>\n",
       "      <td>16</td>\n",
       "    </tr>\n",
       "    <tr>\n",
       "      <th>3398</th>\n",
       "      <td>aug_class16_98_785860603a570231.jpg</td>\n",
       "      <td>16</td>\n",
       "    </tr>\n",
       "    <tr>\n",
       "      <th>3399</th>\n",
       "      <td>aug_class16_99_a8dc8ee8364834aa.jpg</td>\n",
       "      <td>16</td>\n",
       "    </tr>\n",
       "  </tbody>\n",
       "</table>\n",
       "<p>3400 rows × 2 columns</p>\n",
       "</div>"
      ],
      "text/plain": [
       "                                       ID  target\n",
       "0                    002f99746285dfdd.jpg      16\n",
       "1                    008ccd231e1fea5d.jpg      10\n",
       "2                    008f5911bfda7695.jpg      10\n",
       "3                    009235e4c9c07af5.jpg       4\n",
       "4                    00b2f44967580c74.jpg      16\n",
       "...                                   ...     ...\n",
       "3395  aug_class16_95_a9c98518ff83cd43.jpg      16\n",
       "3396  aug_class16_96_00f59b12e9e08f29.jpg      16\n",
       "3397  aug_class16_97_8b3b6ef2484a4535.jpg      16\n",
       "3398  aug_class16_98_785860603a570231.jpg      16\n",
       "3399  aug_class16_99_a8dc8ee8364834aa.jpg      16\n",
       "\n",
       "[3400 rows x 2 columns]"
      ]
     },
     "execution_count": 10,
     "metadata": {},
     "output_type": "execute_result"
    }
   ],
   "source": [
    "# Class check\n",
    "aug_df = pd.read_csv(\"../data/Full_augmented.csv\")\n",
    "count_plot(df=aug_df, col='target')\n",
    "aug_df"
   ]
  },
  {
   "cell_type": "code",
   "execution_count": null,
   "id": "fc4e203e",
   "metadata": {},
   "outputs": [
    {
     "name": "stdout",
     "output_type": "stream",
     "text": [
      "\n",
      "=== Fold 1 ===\n",
      "Fold 1: Train samples=2720, Val samples=680\n"
     ]
    },
    {
     "name": "stderr",
     "output_type": "stream",
     "text": [
      "\u001b[34m\u001b[1mwandb\u001b[0m: Currently logged in as: \u001b[33mmoonstalker9010\u001b[0m (\u001b[33mmoonstalker9010-none\u001b[0m) to \u001b[32mhttps://api.wandb.ai\u001b[0m. Use \u001b[1m`wandb login --relogin`\u001b[0m to force relogin\n"
     ]
    },
    {
     "data": {
      "text/html": [
       "Tracking run with wandb version 0.21.0"
      ],
      "text/plain": [
       "<IPython.core.display.HTML object>"
      ]
     },
     "metadata": {},
     "output_type": "display_data"
    },
    {
     "data": {
      "text/html": [
       "Run data is saved locally in <code>../../wandb/run-20250703_030735-hy0wgmff</code>"
      ],
      "text/plain": [
       "<IPython.core.display.HTML object>"
      ]
     },
     "metadata": {},
     "output_type": "display_data"
    },
    {
     "data": {
      "text/html": [
       "Syncing run <strong><a href='https://wandb.ai/moonstalker9010-none/Document%20Classification/runs/hy0wgmff' target=\"_blank\">V2-fold_1</a></strong> to <a href='https://wandb.ai/moonstalker9010-none/Document%20Classification' target=\"_blank\">Weights & Biases</a> (<a href='https://wandb.me/developer-guide' target=\"_blank\">docs</a>)<br>"
      ],
      "text/plain": [
       "<IPython.core.display.HTML object>"
      ]
     },
     "metadata": {},
     "output_type": "display_data"
    },
    {
     "data": {
      "text/html": [
       " View project at <a href='https://wandb.ai/moonstalker9010-none/Document%20Classification' target=\"_blank\">https://wandb.ai/moonstalker9010-none/Document%20Classification</a>"
      ],
      "text/plain": [
       "<IPython.core.display.HTML object>"
      ]
     },
     "metadata": {},
     "output_type": "display_data"
    },
    {
     "data": {
      "text/html": [
       " View run at <a href='https://wandb.ai/moonstalker9010-none/Document%20Classification/runs/hy0wgmff' target=\"_blank\">https://wandb.ai/moonstalker9010-none/Document%20Classification/runs/hy0wgmff</a>"
      ],
      "text/plain": [
       "<IPython.core.display.HTML object>"
      ]
     },
     "metadata": {},
     "output_type": "display_data"
    },
    {
     "name": "stderr",
     "output_type": "stream",
     "text": [
      "[Fold 1][Epoch 1/60] Training: 100%|██████████| 680/680 [01:46<00:00,  6.40it/s, loss=0.275]  \n",
      "[Fold 1][Epoch 1/60] Validation: 100%|██████████| 170/170 [00:06<00:00, 27.78it/s]\n"
     ]
    },
    {
     "name": "stdout",
     "output_type": "stream",
     "text": [
      "[F1] Ep1 - Train: 0.6268 | VaL: 0.2769, Acc: 0.8912, F1: 0.8831\n"
     ]
    },
    {
     "name": "stderr",
     "output_type": "stream",
     "text": [
      "[Fold 1][Epoch 2/60] Training: 100%|██████████| 680/680 [01:43<00:00,  6.58it/s, loss=0.159]   \n",
      "[Fold 1][Epoch 2/60] Validation: 100%|██████████| 170/170 [00:06<00:00, 27.65it/s]\n"
     ]
    },
    {
     "name": "stdout",
     "output_type": "stream",
     "text": [
      "[F1] Ep2 - Train: 0.1709 | VaL: 0.1499, Acc: 0.9500, F1: 0.9502\n"
     ]
    },
    {
     "name": "stderr",
     "output_type": "stream",
     "text": [
      "[Fold 1][Epoch 3/60] Training: 100%|██████████| 680/680 [01:43<00:00,  6.57it/s, loss=0.00163] \n",
      "[Fold 1][Epoch 3/60] Validation: 100%|██████████| 170/170 [00:06<00:00, 27.71it/s]\n"
     ]
    },
    {
     "name": "stdout",
     "output_type": "stream",
     "text": [
      "[F1] Ep3 - Train: 0.1267 | VaL: 0.1253, Acc: 0.9618, F1: 0.9614\n"
     ]
    },
    {
     "name": "stderr",
     "output_type": "stream",
     "text": [
      "[Fold 1][Epoch 4/60] Training: 100%|██████████| 680/680 [01:43<00:00,  6.57it/s, loss=0.287]   \n",
      "[Fold 1][Epoch 4/60] Validation: 100%|██████████| 170/170 [00:06<00:00, 27.68it/s]\n"
     ]
    },
    {
     "name": "stdout",
     "output_type": "stream",
     "text": [
      "[F1] Ep4 - Train: 0.0791 | VaL: 0.0909, Acc: 0.9647, F1: 0.9646\n"
     ]
    },
    {
     "name": "stderr",
     "output_type": "stream",
     "text": [
      "[Fold 1][Epoch 5/60] Training: 100%|██████████| 680/680 [01:43<00:00,  6.56it/s, loss=0.000321]\n",
      "[Fold 1][Epoch 5/60] Validation: 100%|██████████| 170/170 [00:06<00:00, 27.75it/s]\n"
     ]
    },
    {
     "name": "stdout",
     "output_type": "stream",
     "text": [
      "[F1] Ep5 - Train: 0.0400 | VaL: 0.1294, Acc: 0.9515, F1: 0.9534\n"
     ]
    },
    {
     "name": "stderr",
     "output_type": "stream",
     "text": [
      "[Fold 1][Epoch 6/60] Training: 100%|██████████| 680/680 [01:43<00:00,  6.57it/s, loss=0.019]   \n",
      "[Fold 1][Epoch 6/60] Validation: 100%|██████████| 170/170 [00:06<00:00, 27.49it/s]\n"
     ]
    },
    {
     "name": "stdout",
     "output_type": "stream",
     "text": [
      "[F1] Ep6 - Train: 0.0542 | VaL: 0.2660, Acc: 0.9265, F1: 0.9273\n"
     ]
    },
    {
     "name": "stderr",
     "output_type": "stream",
     "text": [
      "[Fold 1][Epoch 7/60] Training: 100%|██████████| 680/680 [01:43<00:00,  6.57it/s, loss=0.00019] \n",
      "[Fold 1][Epoch 7/60] Validation: 100%|██████████| 170/170 [00:06<00:00, 27.63it/s]\n"
     ]
    },
    {
     "name": "stdout",
     "output_type": "stream",
     "text": [
      "[F1] Ep7 - Train: 0.0572 | VaL: 0.1158, Acc: 0.9544, F1: 0.9549\n"
     ]
    },
    {
     "name": "stderr",
     "output_type": "stream",
     "text": [
      "[Fold 1][Epoch 8/60] Training: 100%|██████████| 680/680 [01:43<00:00,  6.56it/s, loss=0.000448]\n",
      "[Fold 1][Epoch 8/60] Validation: 100%|██████████| 170/170 [00:06<00:00, 27.77it/s]\n"
     ]
    },
    {
     "name": "stdout",
     "output_type": "stream",
     "text": [
      "[F1] Ep8 - Train: 0.0388 | VaL: 0.0996, Acc: 0.9809, F1: 0.9808\n"
     ]
    },
    {
     "name": "stderr",
     "output_type": "stream",
     "text": [
      "[Fold 1][Epoch 9/60] Training: 100%|██████████| 680/680 [01:43<00:00,  6.57it/s, loss=0.0059]  \n",
      "[Fold 1][Epoch 9/60] Validation: 100%|██████████| 170/170 [00:06<00:00, 27.83it/s]\n"
     ]
    },
    {
     "name": "stdout",
     "output_type": "stream",
     "text": [
      "[F1] Ep9 - Train: 0.0249 | VaL: 0.1575, Acc: 0.9603, F1: 0.9597\n"
     ]
    },
    {
     "name": "stderr",
     "output_type": "stream",
     "text": [
      "[Fold 1][Epoch 10/60] Training: 100%|██████████| 680/680 [01:43<00:00,  6.58it/s, loss=0.00126] \n",
      "[Fold 1][Epoch 10/60] Validation: 100%|██████████| 170/170 [00:06<00:00, 27.63it/s]\n"
     ]
    },
    {
     "name": "stdout",
     "output_type": "stream",
     "text": [
      "[F1] Ep10 - Train: 0.0426 | VaL: 0.1288, Acc: 0.9647, F1: 0.9654\n"
     ]
    },
    {
     "name": "stderr",
     "output_type": "stream",
     "text": [
      "[Fold 1][Epoch 11/60] Training: 100%|██████████| 680/680 [01:43<00:00,  6.56it/s, loss=0.000778]\n",
      "[Fold 1][Epoch 11/60] Validation: 100%|██████████| 170/170 [00:06<00:00, 27.72it/s]\n"
     ]
    },
    {
     "name": "stdout",
     "output_type": "stream",
     "text": [
      "[F1] Ep11 - Train: 0.0323 | VaL: 0.0969, Acc: 0.9765, F1: 0.9762\n"
     ]
    },
    {
     "name": "stderr",
     "output_type": "stream",
     "text": [
      "[Fold 1][Epoch 12/60] Training: 100%|██████████| 680/680 [01:43<00:00,  6.57it/s, loss=0.00179] \n",
      "[Fold 1][Epoch 12/60] Validation: 100%|██████████| 170/170 [00:06<00:00, 27.82it/s]\n"
     ]
    },
    {
     "name": "stdout",
     "output_type": "stream",
     "text": [
      "[F1] Ep12 - Train: 0.0358 | VaL: 0.1095, Acc: 0.9750, F1: 0.9751\n"
     ]
    },
    {
     "name": "stderr",
     "output_type": "stream",
     "text": [
      "[Fold 1][Epoch 13/60] Training: 100%|██████████| 680/680 [01:43<00:00,  6.57it/s, loss=9e-6]    \n",
      "[Fold 1][Epoch 13/60] Validation: 100%|██████████| 170/170 [00:06<00:00, 27.56it/s]"
     ]
    },
    {
     "name": "stdout",
     "output_type": "stream",
     "text": [
      "[F1] Ep13 - Train: 0.0127 | VaL: 0.1021, Acc: 0.9779, F1: 0.9776\n",
      "[Fold 1] Early stopping triggered. Best F1: 0.9808\n"
     ]
    },
    {
     "name": "stderr",
     "output_type": "stream",
     "text": [
      "\n"
     ]
    },
    {
     "data": {
      "text/html": [],
      "text/plain": [
       "<IPython.core.display.HTML object>"
      ]
     },
     "metadata": {},
     "output_type": "display_data"
    },
    {
     "data": {
      "text/html": [
       "<br>    <style><br>        .wandb-row {<br>            display: flex;<br>            flex-direction: row;<br>            flex-wrap: wrap;<br>            justify-content: flex-start;<br>            width: 100%;<br>        }<br>        .wandb-col {<br>            display: flex;<br>            flex-direction: column;<br>            flex-basis: 100%;<br>            flex: 1;<br>            padding: 10px;<br>        }<br>    </style><br><div class=\"wandb-row\"><div class=\"wandb-col\"><h3>Run history:</h3><br/><table class=\"wandb\"><tr><td>Train_Data</td><td>▁</td></tr><tr><td>Val_Data</td><td>▁</td></tr><tr><td>epoch</td><td>▁▂▂▃▃▄▅▅▆▆▇▇█</td></tr><tr><td>fold</td><td>▁▁▁▁▁▁▁▁▁▁▁▁▁</td></tr><tr><td>train_loss</td><td>█▃▂▂▁▁▂▁▁▁▁▁▁</td></tr><tr><td>val_acc</td><td>▁▆▇▇▆▄▆█▆▇███</td></tr><tr><td>val_f1</td><td>▁▆▇▇▆▄▆█▆▇███</td></tr><tr><td>val_loss</td><td>█▃▂▁▂█▂▁▄▂▁▂▁</td></tr></table><br/></div><div class=\"wandb-col\"><h3>Run summary:</h3><br/><table class=\"wandb\"><tr><td>Train_Data</td><td>2720</td></tr><tr><td>Val_Data</td><td>680</td></tr><tr><td>epoch</td><td>13</td></tr><tr><td>fold</td><td>1</td></tr><tr><td>train_loss</td><td>0.01274</td></tr><tr><td>val_acc</td><td>0.97794</td></tr><tr><td>val_f1</td><td>0.97759</td></tr><tr><td>val_loss</td><td>0.10215</td></tr></table><br/></div></div>"
      ],
      "text/plain": [
       "<IPython.core.display.HTML object>"
      ]
     },
     "metadata": {},
     "output_type": "display_data"
    },
    {
     "data": {
      "text/html": [
       " View run <strong style=\"color:#cdcd00\">V2-fold_1</strong> at: <a href='https://wandb.ai/moonstalker9010-none/Document%20Classification/runs/hy0wgmff' target=\"_blank\">https://wandb.ai/moonstalker9010-none/Document%20Classification/runs/hy0wgmff</a><br> View project at: <a href='https://wandb.ai/moonstalker9010-none/Document%20Classification' target=\"_blank\">https://wandb.ai/moonstalker9010-none/Document%20Classification</a><br>Synced 5 W&B file(s), 0 media file(s), 0 artifact file(s) and 0 other file(s)"
      ],
      "text/plain": [
       "<IPython.core.display.HTML object>"
      ]
     },
     "metadata": {},
     "output_type": "display_data"
    },
    {
     "data": {
      "text/html": [
       "Find logs at: <code>../../wandb/run-20250703_030735-hy0wgmff/logs</code>"
      ],
      "text/plain": [
       "<IPython.core.display.HTML object>"
      ]
     },
     "metadata": {},
     "output_type": "display_data"
    },
    {
     "name": "stdout",
     "output_type": "stream",
     "text": [
      "\n",
      "=== Fold 2 ===\n",
      "Fold 2: Train samples=2720, Val samples=680\n"
     ]
    },
    {
     "data": {
      "text/html": [
       "Tracking run with wandb version 0.21.0"
      ],
      "text/plain": [
       "<IPython.core.display.HTML object>"
      ]
     },
     "metadata": {},
     "output_type": "display_data"
    },
    {
     "data": {
      "text/html": [
       "Run data is saved locally in <code>../../wandb/run-20250703_033132-kkm3u8iq</code>"
      ],
      "text/plain": [
       "<IPython.core.display.HTML object>"
      ]
     },
     "metadata": {},
     "output_type": "display_data"
    },
    {
     "data": {
      "text/html": [
       "Syncing run <strong><a href='https://wandb.ai/moonstalker9010-none/Document%20Classification/runs/kkm3u8iq' target=\"_blank\">V2-fold_2</a></strong> to <a href='https://wandb.ai/moonstalker9010-none/Document%20Classification' target=\"_blank\">Weights & Biases</a> (<a href='https://wandb.me/developer-guide' target=\"_blank\">docs</a>)<br>"
      ],
      "text/plain": [
       "<IPython.core.display.HTML object>"
      ]
     },
     "metadata": {},
     "output_type": "display_data"
    },
    {
     "data": {
      "text/html": [
       " View project at <a href='https://wandb.ai/moonstalker9010-none/Document%20Classification' target=\"_blank\">https://wandb.ai/moonstalker9010-none/Document%20Classification</a>"
      ],
      "text/plain": [
       "<IPython.core.display.HTML object>"
      ]
     },
     "metadata": {},
     "output_type": "display_data"
    },
    {
     "data": {
      "text/html": [
       " View run at <a href='https://wandb.ai/moonstalker9010-none/Document%20Classification/runs/kkm3u8iq' target=\"_blank\">https://wandb.ai/moonstalker9010-none/Document%20Classification/runs/kkm3u8iq</a>"
      ],
      "text/plain": [
       "<IPython.core.display.HTML object>"
      ]
     },
     "metadata": {},
     "output_type": "display_data"
    },
    {
     "name": "stderr",
     "output_type": "stream",
     "text": [
      "[Fold 2][Epoch 1/60] Training: 100%|██████████| 680/680 [01:43<00:00,  6.57it/s, loss=0.0239]  \n",
      "[Fold 2][Epoch 1/60] Validation: 100%|██████████| 170/170 [00:06<00:00, 27.49it/s]\n"
     ]
    },
    {
     "name": "stdout",
     "output_type": "stream",
     "text": [
      "[F2] Ep1 - Train: 0.6658 | VaL: 0.1818, Acc: 0.9368, F1: 0.9364\n"
     ]
    },
    {
     "name": "stderr",
     "output_type": "stream",
     "text": [
      "[Fold 2][Epoch 2/60] Training: 100%|██████████| 680/680 [01:43<00:00,  6.57it/s, loss=0.00142] \n",
      "[Fold 2][Epoch 2/60] Validation: 100%|██████████| 170/170 [00:06<00:00, 27.74it/s]\n"
     ]
    },
    {
     "name": "stdout",
     "output_type": "stream",
     "text": [
      "[F2] Ep2 - Train: 0.1852 | VaL: 0.2527, Acc: 0.9147, F1: 0.9134\n"
     ]
    },
    {
     "name": "stderr",
     "output_type": "stream",
     "text": [
      "[Fold 2][Epoch 3/60] Training: 100%|██████████| 680/680 [01:43<00:00,  6.57it/s, loss=0.0429]  \n",
      "[Fold 2][Epoch 3/60] Validation: 100%|██████████| 170/170 [00:06<00:00, 27.85it/s]\n"
     ]
    },
    {
     "name": "stdout",
     "output_type": "stream",
     "text": [
      "[F2] Ep3 - Train: 0.0987 | VaL: 0.1366, Acc: 0.9544, F1: 0.9542\n"
     ]
    },
    {
     "name": "stderr",
     "output_type": "stream",
     "text": [
      "[Fold 2][Epoch 4/60] Training: 100%|██████████| 680/680 [01:43<00:00,  6.56it/s, loss=0.0321]  \n",
      "[Fold 2][Epoch 4/60] Validation: 100%|██████████| 170/170 [00:06<00:00, 27.75it/s]\n"
     ]
    },
    {
     "name": "stdout",
     "output_type": "stream",
     "text": [
      "[F2] Ep4 - Train: 0.1081 | VaL: 0.1642, Acc: 0.9574, F1: 0.9566\n"
     ]
    },
    {
     "name": "stderr",
     "output_type": "stream",
     "text": [
      "[Fold 2][Epoch 5/60] Training: 100%|██████████| 680/680 [01:43<00:00,  6.57it/s, loss=5.18e-5] \n",
      "[Fold 2][Epoch 5/60] Validation: 100%|██████████| 170/170 [00:06<00:00, 27.85it/s]\n"
     ]
    },
    {
     "name": "stdout",
     "output_type": "stream",
     "text": [
      "[F2] Ep5 - Train: 0.0694 | VaL: 0.1206, Acc: 0.9721, F1: 0.9721\n"
     ]
    },
    {
     "name": "stderr",
     "output_type": "stream",
     "text": [
      "[Fold 2][Epoch 6/60] Training: 100%|██████████| 680/680 [01:43<00:00,  6.56it/s, loss=0.00942] \n",
      "[Fold 2][Epoch 6/60] Validation: 100%|██████████| 170/170 [00:06<00:00, 27.84it/s]\n"
     ]
    },
    {
     "name": "stdout",
     "output_type": "stream",
     "text": [
      "[F2] Ep6 - Train: 0.0533 | VaL: 0.1177, Acc: 0.9676, F1: 0.9676\n"
     ]
    },
    {
     "name": "stderr",
     "output_type": "stream",
     "text": [
      "[Fold 2][Epoch 7/60] Training: 100%|██████████| 680/680 [01:43<00:00,  6.57it/s, loss=0.0495]  \n",
      "[Fold 2][Epoch 7/60] Validation: 100%|██████████| 170/170 [00:06<00:00, 27.60it/s]\n"
     ]
    },
    {
     "name": "stdout",
     "output_type": "stream",
     "text": [
      "[F2] Ep7 - Train: 0.0391 | VaL: 0.1318, Acc: 0.9647, F1: 0.9658\n"
     ]
    },
    {
     "name": "stderr",
     "output_type": "stream",
     "text": [
      "[Fold 2][Epoch 8/60] Training: 100%|██████████| 680/680 [01:43<00:00,  6.58it/s, loss=0.0405]  \n",
      "[Fold 2][Epoch 8/60] Validation: 100%|██████████| 170/170 [00:06<00:00, 27.86it/s]\n"
     ]
    },
    {
     "name": "stdout",
     "output_type": "stream",
     "text": [
      "[F2] Ep8 - Train: 0.0634 | VaL: 0.2479, Acc: 0.9456, F1: 0.9468\n"
     ]
    },
    {
     "name": "stderr",
     "output_type": "stream",
     "text": [
      "[Fold 2][Epoch 9/60] Training: 100%|██████████| 680/680 [01:43<00:00,  6.58it/s, loss=0.00236] \n",
      "[Fold 2][Epoch 9/60] Validation: 100%|██████████| 170/170 [00:06<00:00, 27.85it/s]\n"
     ]
    },
    {
     "name": "stdout",
     "output_type": "stream",
     "text": [
      "[F2] Ep9 - Train: 0.0478 | VaL: 0.1168, Acc: 0.9721, F1: 0.9719\n"
     ]
    },
    {
     "name": "stderr",
     "output_type": "stream",
     "text": [
      "[Fold 2][Epoch 10/60] Training: 100%|██████████| 680/680 [01:43<00:00,  6.57it/s, loss=5.88e-5] \n",
      "[Fold 2][Epoch 10/60] Validation: 100%|██████████| 170/170 [00:06<00:00, 27.68it/s]\n"
     ]
    },
    {
     "name": "stdout",
     "output_type": "stream",
     "text": [
      "[F2] Ep10 - Train: 0.0251 | VaL: 0.1033, Acc: 0.9779, F1: 0.9780\n"
     ]
    },
    {
     "name": "stderr",
     "output_type": "stream",
     "text": [
      "[Fold 2][Epoch 11/60] Training: 100%|██████████| 680/680 [01:43<00:00,  6.56it/s, loss=0.000353]\n",
      "[Fold 2][Epoch 11/60] Validation: 100%|██████████| 170/170 [00:06<00:00, 27.75it/s]\n"
     ]
    },
    {
     "name": "stdout",
     "output_type": "stream",
     "text": [
      "[F2] Ep11 - Train: 0.0121 | VaL: 0.1249, Acc: 0.9750, F1: 0.9748\n"
     ]
    },
    {
     "name": "stderr",
     "output_type": "stream",
     "text": [
      "[Fold 2][Epoch 12/60] Training: 100%|██████████| 680/680 [01:43<00:00,  6.58it/s, loss=0.000139]\n",
      "[Fold 2][Epoch 12/60] Validation: 100%|██████████| 170/170 [00:06<00:00, 27.80it/s]\n"
     ]
    },
    {
     "name": "stdout",
     "output_type": "stream",
     "text": [
      "[F2] Ep12 - Train: 0.0414 | VaL: 0.1399, Acc: 0.9647, F1: 0.9651\n"
     ]
    },
    {
     "name": "stderr",
     "output_type": "stream",
     "text": [
      "[Fold 2][Epoch 13/60] Training: 100%|██████████| 680/680 [01:43<00:00,  6.56it/s, loss=2.83e-5] \n",
      "[Fold 2][Epoch 13/60] Validation: 100%|██████████| 170/170 [00:06<00:00, 27.72it/s]\n"
     ]
    },
    {
     "name": "stdout",
     "output_type": "stream",
     "text": [
      "[F2] Ep13 - Train: 0.0130 | VaL: 0.1811, Acc: 0.9706, F1: 0.9700\n"
     ]
    },
    {
     "name": "stderr",
     "output_type": "stream",
     "text": [
      "[Fold 2][Epoch 14/60] Training: 100%|██████████| 680/680 [01:43<00:00,  6.57it/s, loss=2.12e-5] \n",
      "[Fold 2][Epoch 14/60] Validation: 100%|██████████| 170/170 [00:06<00:00, 27.57it/s]\n"
     ]
    },
    {
     "name": "stdout",
     "output_type": "stream",
     "text": [
      "[F2] Ep14 - Train: 0.0405 | VaL: 0.1377, Acc: 0.9662, F1: 0.9662\n"
     ]
    },
    {
     "name": "stderr",
     "output_type": "stream",
     "text": [
      "[Fold 2][Epoch 15/60] Training: 100%|██████████| 680/680 [01:43<00:00,  6.58it/s, loss=0.00128] \n",
      "[Fold 2][Epoch 15/60] Validation: 100%|██████████| 170/170 [00:06<00:00, 27.63it/s]"
     ]
    },
    {
     "name": "stdout",
     "output_type": "stream",
     "text": [
      "[F2] Ep15 - Train: 0.0132 | VaL: 0.1936, Acc: 0.9529, F1: 0.9525\n",
      "[Fold 2] Early stopping triggered. Best F1: 0.9780\n"
     ]
    },
    {
     "name": "stderr",
     "output_type": "stream",
     "text": [
      "\n"
     ]
    },
    {
     "data": {
      "text/html": [],
      "text/plain": [
       "<IPython.core.display.HTML object>"
      ]
     },
     "metadata": {},
     "output_type": "display_data"
    },
    {
     "data": {
      "text/html": [
       "<br>    <style><br>        .wandb-row {<br>            display: flex;<br>            flex-direction: row;<br>            flex-wrap: wrap;<br>            justify-content: flex-start;<br>            width: 100%;<br>        }<br>        .wandb-col {<br>            display: flex;<br>            flex-direction: column;<br>            flex-basis: 100%;<br>            flex: 1;<br>            padding: 10px;<br>        }<br>    </style><br><div class=\"wandb-row\"><div class=\"wandb-col\"><h3>Run history:</h3><br/><table class=\"wandb\"><tr><td>Train_Data</td><td>▁</td></tr><tr><td>Val_Data</td><td>▁</td></tr><tr><td>epoch</td><td>▁▁▂▃▃▃▄▅▅▅▆▇▇▇█</td></tr><tr><td>fold</td><td>▁▁▁▁▁▁▁▁▁▁▁▁▁▁▁</td></tr><tr><td>train_loss</td><td>█▃▂▂▂▁▁▂▁▁▁▁▁▁▁</td></tr><tr><td>val_acc</td><td>▃▁▅▆▇▇▇▄▇██▇▇▇▅</td></tr><tr><td>val_f1</td><td>▃▁▅▆▇▇▇▅▇██▇▇▇▅</td></tr><tr><td>val_loss</td><td>▅█▃▄▂▂▂█▂▁▂▃▅▃▅</td></tr></table><br/></div><div class=\"wandb-col\"><h3>Run summary:</h3><br/><table class=\"wandb\"><tr><td>Train_Data</td><td>2720</td></tr><tr><td>Val_Data</td><td>680</td></tr><tr><td>epoch</td><td>15</td></tr><tr><td>fold</td><td>2</td></tr><tr><td>train_loss</td><td>0.01321</td></tr><tr><td>val_acc</td><td>0.95294</td></tr><tr><td>val_f1</td><td>0.95254</td></tr><tr><td>val_loss</td><td>0.1936</td></tr></table><br/></div></div>"
      ],
      "text/plain": [
       "<IPython.core.display.HTML object>"
      ]
     },
     "metadata": {},
     "output_type": "display_data"
    },
    {
     "data": {
      "text/html": [
       " View run <strong style=\"color:#cdcd00\">V2-fold_2</strong> at: <a href='https://wandb.ai/moonstalker9010-none/Document%20Classification/runs/kkm3u8iq' target=\"_blank\">https://wandb.ai/moonstalker9010-none/Document%20Classification/runs/kkm3u8iq</a><br> View project at: <a href='https://wandb.ai/moonstalker9010-none/Document%20Classification' target=\"_blank\">https://wandb.ai/moonstalker9010-none/Document%20Classification</a><br>Synced 5 W&B file(s), 0 media file(s), 0 artifact file(s) and 0 other file(s)"
      ],
      "text/plain": [
       "<IPython.core.display.HTML object>"
      ]
     },
     "metadata": {},
     "output_type": "display_data"
    },
    {
     "data": {
      "text/html": [
       "Find logs at: <code>../../wandb/run-20250703_033132-kkm3u8iq/logs</code>"
      ],
      "text/plain": [
       "<IPython.core.display.HTML object>"
      ]
     },
     "metadata": {},
     "output_type": "display_data"
    },
    {
     "name": "stdout",
     "output_type": "stream",
     "text": [
      "\n",
      "=== Fold 3 ===\n",
      "Fold 3: Train samples=2720, Val samples=680\n"
     ]
    },
    {
     "data": {
      "text/html": [
       "Tracking run with wandb version 0.21.0"
      ],
      "text/plain": [
       "<IPython.core.display.HTML object>"
      ]
     },
     "metadata": {},
     "output_type": "display_data"
    },
    {
     "data": {
      "text/html": [
       "Run data is saved locally in <code>../../wandb/run-20250703_035907-inmj9nds</code>"
      ],
      "text/plain": [
       "<IPython.core.display.HTML object>"
      ]
     },
     "metadata": {},
     "output_type": "display_data"
    },
    {
     "data": {
      "text/html": [
       "Syncing run <strong><a href='https://wandb.ai/moonstalker9010-none/Document%20Classification/runs/inmj9nds' target=\"_blank\">V2-fold_3</a></strong> to <a href='https://wandb.ai/moonstalker9010-none/Document%20Classification' target=\"_blank\">Weights & Biases</a> (<a href='https://wandb.me/developer-guide' target=\"_blank\">docs</a>)<br>"
      ],
      "text/plain": [
       "<IPython.core.display.HTML object>"
      ]
     },
     "metadata": {},
     "output_type": "display_data"
    },
    {
     "data": {
      "text/html": [
       " View project at <a href='https://wandb.ai/moonstalker9010-none/Document%20Classification' target=\"_blank\">https://wandb.ai/moonstalker9010-none/Document%20Classification</a>"
      ],
      "text/plain": [
       "<IPython.core.display.HTML object>"
      ]
     },
     "metadata": {},
     "output_type": "display_data"
    },
    {
     "data": {
      "text/html": [
       " View run at <a href='https://wandb.ai/moonstalker9010-none/Document%20Classification/runs/inmj9nds' target=\"_blank\">https://wandb.ai/moonstalker9010-none/Document%20Classification/runs/inmj9nds</a>"
      ],
      "text/plain": [
       "<IPython.core.display.HTML object>"
      ]
     },
     "metadata": {},
     "output_type": "display_data"
    },
    {
     "name": "stderr",
     "output_type": "stream",
     "text": [
      "[Fold 3][Epoch 1/60] Training: 100%|██████████| 680/680 [01:43<00:00,  6.57it/s, loss=0.0466] \n",
      "[Fold 3][Epoch 1/60] Validation: 100%|██████████| 170/170 [00:06<00:00, 27.70it/s]\n"
     ]
    },
    {
     "name": "stdout",
     "output_type": "stream",
     "text": [
      "[F3] Ep1 - Train: 0.7307 | VaL: 0.2311, Acc: 0.9118, F1: 0.9064\n"
     ]
    },
    {
     "name": "stderr",
     "output_type": "stream",
     "text": [
      "[Fold 3][Epoch 2/60] Training: 100%|██████████| 680/680 [01:43<00:00,  6.57it/s, loss=0.0219]  \n",
      "[Fold 3][Epoch 2/60] Validation: 100%|██████████| 170/170 [00:06<00:00, 27.60it/s]\n"
     ]
    },
    {
     "name": "stdout",
     "output_type": "stream",
     "text": [
      "[F3] Ep2 - Train: 0.1822 | VaL: 0.1412, Acc: 0.9500, F1: 0.9483\n"
     ]
    },
    {
     "name": "stderr",
     "output_type": "stream",
     "text": [
      "[Fold 3][Epoch 3/60] Training: 100%|██████████| 680/680 [01:43<00:00,  6.57it/s, loss=0.687]   \n",
      "[Fold 3][Epoch 3/60] Validation: 100%|██████████| 170/170 [00:06<00:00, 27.80it/s]\n"
     ]
    },
    {
     "name": "stdout",
     "output_type": "stream",
     "text": [
      "[F3] Ep3 - Train: 0.1299 | VaL: 0.1895, Acc: 0.9368, F1: 0.9353\n"
     ]
    },
    {
     "name": "stderr",
     "output_type": "stream",
     "text": [
      "[Fold 3][Epoch 4/60] Training: 100%|██████████| 680/680 [01:43<00:00,  6.57it/s, loss=0.00183] \n",
      "[Fold 3][Epoch 4/60] Validation: 100%|██████████| 170/170 [00:06<00:00, 27.77it/s]\n"
     ]
    },
    {
     "name": "stdout",
     "output_type": "stream",
     "text": [
      "[F3] Ep4 - Train: 0.0799 | VaL: 0.1452, Acc: 0.9500, F1: 0.9495\n"
     ]
    },
    {
     "name": "stderr",
     "output_type": "stream",
     "text": [
      "[Fold 3][Epoch 5/60] Training: 100%|██████████| 680/680 [01:43<00:00,  6.56it/s, loss=0.00126] \n",
      "[Fold 3][Epoch 5/60] Validation: 100%|██████████| 170/170 [00:06<00:00, 27.68it/s]\n"
     ]
    },
    {
     "name": "stdout",
     "output_type": "stream",
     "text": [
      "[F3] Ep5 - Train: 0.0652 | VaL: 0.1313, Acc: 0.9647, F1: 0.9648\n"
     ]
    },
    {
     "name": "stderr",
     "output_type": "stream",
     "text": [
      "[Fold 3][Epoch 6/60] Training: 100%|██████████| 680/680 [01:43<00:00,  6.57it/s, loss=0.113]   \n",
      "[Fold 3][Epoch 6/60] Validation: 100%|██████████| 170/170 [00:06<00:00, 27.63it/s]\n"
     ]
    },
    {
     "name": "stdout",
     "output_type": "stream",
     "text": [
      "[F3] Ep6 - Train: 0.0522 | VaL: 0.1709, Acc: 0.9544, F1: 0.9538\n"
     ]
    },
    {
     "name": "stderr",
     "output_type": "stream",
     "text": [
      "[Fold 3][Epoch 7/60] Training: 100%|██████████| 680/680 [01:43<00:00,  6.56it/s, loss=0.432]   \n",
      "[Fold 3][Epoch 7/60] Validation: 100%|██████████| 170/170 [00:06<00:00, 27.82it/s]\n"
     ]
    },
    {
     "name": "stdout",
     "output_type": "stream",
     "text": [
      "[F3] Ep7 - Train: 0.0393 | VaL: 0.1449, Acc: 0.9662, F1: 0.9663\n"
     ]
    },
    {
     "name": "stderr",
     "output_type": "stream",
     "text": [
      "[Fold 3][Epoch 8/60] Training: 100%|██████████| 680/680 [01:43<00:00,  6.55it/s, loss=0.0302]  \n",
      "[Fold 3][Epoch 8/60] Validation: 100%|██████████| 170/170 [00:06<00:00, 27.73it/s]\n"
     ]
    },
    {
     "name": "stdout",
     "output_type": "stream",
     "text": [
      "[F3] Ep8 - Train: 0.0364 | VaL: 0.1596, Acc: 0.9588, F1: 0.9584\n"
     ]
    },
    {
     "name": "stderr",
     "output_type": "stream",
     "text": [
      "[Fold 3][Epoch 9/60] Training: 100%|██████████| 680/680 [01:43<00:00,  6.56it/s, loss=0.000245]\n",
      "[Fold 3][Epoch 9/60] Validation: 100%|██████████| 170/170 [00:06<00:00, 27.62it/s]\n"
     ]
    },
    {
     "name": "stdout",
     "output_type": "stream",
     "text": [
      "[F3] Ep9 - Train: 0.0577 | VaL: 0.1170, Acc: 0.9662, F1: 0.9671\n"
     ]
    },
    {
     "name": "stderr",
     "output_type": "stream",
     "text": [
      "[Fold 3][Epoch 10/60] Training: 100%|██████████| 680/680 [01:43<00:00,  6.56it/s, loss=0.000231]\n",
      "[Fold 3][Epoch 10/60] Validation: 100%|██████████| 170/170 [00:06<00:00, 27.82it/s]\n"
     ]
    },
    {
     "name": "stdout",
     "output_type": "stream",
     "text": [
      "[F3] Ep10 - Train: 0.0450 | VaL: 0.1324, Acc: 0.9706, F1: 0.9705\n"
     ]
    },
    {
     "name": "stderr",
     "output_type": "stream",
     "text": [
      "[Fold 3][Epoch 11/60] Training: 100%|██████████| 680/680 [01:43<00:00,  6.55it/s, loss=0.000509]\n",
      "[Fold 3][Epoch 11/60] Validation: 100%|██████████| 170/170 [00:06<00:00, 27.70it/s]\n"
     ]
    },
    {
     "name": "stdout",
     "output_type": "stream",
     "text": [
      "[F3] Ep11 - Train: 0.0248 | VaL: 0.1073, Acc: 0.9691, F1: 0.9690\n"
     ]
    },
    {
     "name": "stderr",
     "output_type": "stream",
     "text": [
      "[Fold 3][Epoch 12/60] Training: 100%|██████████| 680/680 [01:43<00:00,  6.57it/s, loss=5.89e-5] \n",
      "[Fold 3][Epoch 12/60] Validation: 100%|██████████| 170/170 [00:06<00:00, 27.65it/s]\n"
     ]
    },
    {
     "name": "stdout",
     "output_type": "stream",
     "text": [
      "[F3] Ep12 - Train: 0.0274 | VaL: 0.2255, Acc: 0.9618, F1: 0.9620\n"
     ]
    },
    {
     "name": "stderr",
     "output_type": "stream",
     "text": [
      "[Fold 3][Epoch 13/60] Training: 100%|██████████| 680/680 [01:43<00:00,  6.56it/s, loss=9.14e-5] \n",
      "[Fold 3][Epoch 13/60] Validation: 100%|██████████| 170/170 [00:06<00:00, 27.94it/s]\n"
     ]
    },
    {
     "name": "stdout",
     "output_type": "stream",
     "text": [
      "[F3] Ep13 - Train: 0.0124 | VaL: 0.1507, Acc: 0.9721, F1: 0.9722\n"
     ]
    },
    {
     "name": "stderr",
     "output_type": "stream",
     "text": [
      "[Fold 3][Epoch 14/60] Training: 100%|██████████| 680/680 [01:43<00:00,  6.57it/s, loss=0.000362]\n",
      "[Fold 3][Epoch 14/60] Validation: 100%|██████████| 170/170 [00:06<00:00, 27.81it/s]\n"
     ]
    },
    {
     "name": "stdout",
     "output_type": "stream",
     "text": [
      "[F3] Ep14 - Train: 0.0070 | VaL: 0.2653, Acc: 0.9574, F1: 0.9576\n"
     ]
    },
    {
     "name": "stderr",
     "output_type": "stream",
     "text": [
      "[Fold 3][Epoch 15/60] Training: 100%|██████████| 680/680 [01:43<00:00,  6.57it/s, loss=0.0614]  \n",
      "[Fold 3][Epoch 15/60] Validation: 100%|██████████| 170/170 [00:06<00:00, 27.91it/s]\n"
     ]
    },
    {
     "name": "stdout",
     "output_type": "stream",
     "text": [
      "[F3] Ep15 - Train: 0.0342 | VaL: 0.2091, Acc: 0.9662, F1: 0.9664\n"
     ]
    },
    {
     "name": "stderr",
     "output_type": "stream",
     "text": [
      "[Fold 3][Epoch 16/60] Training: 100%|██████████| 680/680 [01:43<00:00,  6.57it/s, loss=7.24e-6] \n",
      "[Fold 3][Epoch 16/60] Validation: 100%|██████████| 170/170 [00:06<00:00, 28.06it/s]\n"
     ]
    },
    {
     "name": "stdout",
     "output_type": "stream",
     "text": [
      "[F3] Ep16 - Train: 0.0335 | VaL: 0.1595, Acc: 0.9676, F1: 0.9679\n"
     ]
    },
    {
     "name": "stderr",
     "output_type": "stream",
     "text": [
      "[Fold 3][Epoch 17/60] Training: 100%|██████████| 680/680 [01:43<00:00,  6.57it/s, loss=9.67e-5] \n",
      "[Fold 3][Epoch 17/60] Validation: 100%|██████████| 170/170 [00:06<00:00, 27.62it/s]\n"
     ]
    },
    {
     "name": "stdout",
     "output_type": "stream",
     "text": [
      "[F3] Ep17 - Train: 0.0320 | VaL: 0.2849, Acc: 0.9485, F1: 0.9491\n"
     ]
    },
    {
     "name": "stderr",
     "output_type": "stream",
     "text": [
      "[Fold 3][Epoch 18/60] Training: 100%|██████████| 680/680 [01:43<00:00,  6.57it/s, loss=0.000189]\n",
      "[Fold 3][Epoch 18/60] Validation: 100%|██████████| 170/170 [00:06<00:00, 27.93it/s]\n"
     ]
    },
    {
     "name": "stdout",
     "output_type": "stream",
     "text": [
      "[F3] Ep18 - Train: 0.0078 | VaL: 0.1558, Acc: 0.9721, F1: 0.9726\n"
     ]
    },
    {
     "name": "stderr",
     "output_type": "stream",
     "text": [
      "[Fold 3][Epoch 19/60] Training: 100%|██████████| 680/680 [01:43<00:00,  6.58it/s, loss=0.00021] \n",
      "[Fold 3][Epoch 19/60] Validation: 100%|██████████| 170/170 [00:06<00:00, 27.95it/s]\n"
     ]
    },
    {
     "name": "stdout",
     "output_type": "stream",
     "text": [
      "[F3] Ep19 - Train: 0.0023 | VaL: 0.1687, Acc: 0.9750, F1: 0.9752\n"
     ]
    },
    {
     "name": "stderr",
     "output_type": "stream",
     "text": [
      "[Fold 3][Epoch 20/60] Training: 100%|██████████| 680/680 [01:43<00:00,  6.57it/s, loss=0.00472] \n",
      "[Fold 3][Epoch 20/60] Validation: 100%|██████████| 170/170 [00:06<00:00, 27.47it/s]\n"
     ]
    },
    {
     "name": "stdout",
     "output_type": "stream",
     "text": [
      "[F3] Ep20 - Train: 0.0036 | VaL: 0.3690, Acc: 0.9485, F1: 0.9515\n"
     ]
    },
    {
     "name": "stderr",
     "output_type": "stream",
     "text": [
      "[Fold 3][Epoch 21/60] Training: 100%|██████████| 680/680 [01:43<00:00,  6.58it/s, loss=4.14e-5] \n",
      "[Fold 3][Epoch 21/60] Validation: 100%|██████████| 170/170 [00:06<00:00, 27.50it/s]\n"
     ]
    },
    {
     "name": "stdout",
     "output_type": "stream",
     "text": [
      "[F3] Ep21 - Train: 0.1996 | VaL: 0.1451, Acc: 0.9706, F1: 0.9707\n"
     ]
    },
    {
     "name": "stderr",
     "output_type": "stream",
     "text": [
      "[Fold 3][Epoch 22/60] Training: 100%|██████████| 680/680 [01:43<00:00,  6.57it/s, loss=7.27e-6] \n",
      "[Fold 3][Epoch 22/60] Validation: 100%|██████████| 170/170 [00:06<00:00, 27.47it/s]\n"
     ]
    },
    {
     "name": "stdout",
     "output_type": "stream",
     "text": [
      "[F3] Ep22 - Train: 0.0054 | VaL: 0.2157, Acc: 0.9618, F1: 0.9619\n"
     ]
    },
    {
     "name": "stderr",
     "output_type": "stream",
     "text": [
      "[Fold 3][Epoch 23/60] Training: 100%|██████████| 680/680 [01:43<00:00,  6.57it/s, loss=0.000127]\n",
      "[Fold 3][Epoch 23/60] Validation: 100%|██████████| 170/170 [00:06<00:00, 27.84it/s]\n"
     ]
    },
    {
     "name": "stdout",
     "output_type": "stream",
     "text": [
      "[F3] Ep23 - Train: 0.0005 | VaL: 0.2199, Acc: 0.9632, F1: 0.9634\n"
     ]
    },
    {
     "name": "stderr",
     "output_type": "stream",
     "text": [
      "[Fold 3][Epoch 24/60] Training: 100%|██████████| 680/680 [01:43<00:00,  6.58it/s, loss=0.0124]  \n",
      "[Fold 3][Epoch 24/60] Validation: 100%|██████████| 170/170 [00:06<00:00, 27.83it/s]"
     ]
    },
    {
     "name": "stdout",
     "output_type": "stream",
     "text": [
      "[F3] Ep24 - Train: 0.0229 | VaL: 0.1966, Acc: 0.9559, F1: 0.9568\n",
      "[Fold 3] Early stopping triggered. Best F1: 0.9752\n"
     ]
    },
    {
     "name": "stderr",
     "output_type": "stream",
     "text": [
      "\n"
     ]
    },
    {
     "data": {
      "text/html": [],
      "text/plain": [
       "<IPython.core.display.HTML object>"
      ]
     },
     "metadata": {},
     "output_type": "display_data"
    },
    {
     "data": {
      "text/html": [
       "<br>    <style><br>        .wandb-row {<br>            display: flex;<br>            flex-direction: row;<br>            flex-wrap: wrap;<br>            justify-content: flex-start;<br>            width: 100%;<br>        }<br>        .wandb-col {<br>            display: flex;<br>            flex-direction: column;<br>            flex-basis: 100%;<br>            flex: 1;<br>            padding: 10px;<br>        }<br>    </style><br><div class=\"wandb-row\"><div class=\"wandb-col\"><h3>Run history:</h3><br/><table class=\"wandb\"><tr><td>Train_Data</td><td>▁</td></tr><tr><td>Val_Data</td><td>▁</td></tr><tr><td>epoch</td><td>▁▁▂▂▂▃▃▃▃▄▄▄▅▅▅▆▆▆▆▇▇▇██</td></tr><tr><td>fold</td><td>▁▁▁▁▁▁▁▁▁▁▁▁▁▁▁▁▁▁▁▁▁▁▁▁</td></tr><tr><td>train_loss</td><td>█▃▂▂▂▁▁▁▂▁▁▁▁▁▁▁▁▁▁▁▃▁▁▁</td></tr><tr><td>val_acc</td><td>▁▅▄▅▇▆▇▆▇█▇▇█▆▇▇▅██▅█▇▇▆</td></tr><tr><td>val_f1</td><td>▁▅▄▅▇▆▇▆▇█▇▇█▆▇▇▅██▆█▇▇▆</td></tr><tr><td>val_loss</td><td>▄▂▃▂▂▃▂▂▁▂▁▄▂▅▄▂▆▂▃█▂▄▄▃</td></tr></table><br/></div><div class=\"wandb-col\"><h3>Run summary:</h3><br/><table class=\"wandb\"><tr><td>Train_Data</td><td>2720</td></tr><tr><td>Val_Data</td><td>680</td></tr><tr><td>epoch</td><td>24</td></tr><tr><td>fold</td><td>3</td></tr><tr><td>train_loss</td><td>0.02288</td></tr><tr><td>val_acc</td><td>0.95588</td></tr><tr><td>val_f1</td><td>0.95681</td></tr><tr><td>val_loss</td><td>0.19657</td></tr></table><br/></div></div>"
      ],
      "text/plain": [
       "<IPython.core.display.HTML object>"
      ]
     },
     "metadata": {},
     "output_type": "display_data"
    },
    {
     "data": {
      "text/html": [
       " View run <strong style=\"color:#cdcd00\">V2-fold_3</strong> at: <a href='https://wandb.ai/moonstalker9010-none/Document%20Classification/runs/inmj9nds' target=\"_blank\">https://wandb.ai/moonstalker9010-none/Document%20Classification/runs/inmj9nds</a><br> View project at: <a href='https://wandb.ai/moonstalker9010-none/Document%20Classification' target=\"_blank\">https://wandb.ai/moonstalker9010-none/Document%20Classification</a><br>Synced 5 W&B file(s), 0 media file(s), 0 artifact file(s) and 0 other file(s)"
      ],
      "text/plain": [
       "<IPython.core.display.HTML object>"
      ]
     },
     "metadata": {},
     "output_type": "display_data"
    },
    {
     "data": {
      "text/html": [
       "Find logs at: <code>../../wandb/run-20250703_035907-inmj9nds/logs</code>"
      ],
      "text/plain": [
       "<IPython.core.display.HTML object>"
      ]
     },
     "metadata": {},
     "output_type": "display_data"
    },
    {
     "name": "stdout",
     "output_type": "stream",
     "text": [
      "\n",
      "=== Fold 4 ===\n",
      "Fold 4: Train samples=2720, Val samples=680\n"
     ]
    },
    {
     "data": {
      "text/html": [
       "creating run (1.2s)"
      ],
      "text/plain": [
       "<IPython.core.display.HTML object>"
      ]
     },
     "metadata": {},
     "output_type": "display_data"
    },
    {
     "data": {
      "text/html": [
       "Tracking run with wandb version 0.21.0"
      ],
      "text/plain": [
       "<IPython.core.display.HTML object>"
      ]
     },
     "metadata": {},
     "output_type": "display_data"
    },
    {
     "data": {
      "text/html": [
       "Run data is saved locally in <code>../../wandb/run-20250703_044313-sk7kkx7s</code>"
      ],
      "text/plain": [
       "<IPython.core.display.HTML object>"
      ]
     },
     "metadata": {},
     "output_type": "display_data"
    },
    {
     "data": {
      "text/html": [
       "Syncing run <strong><a href='https://wandb.ai/moonstalker9010-none/Document%20Classification/runs/sk7kkx7s' target=\"_blank\">V2-fold_4</a></strong> to <a href='https://wandb.ai/moonstalker9010-none/Document%20Classification' target=\"_blank\">Weights & Biases</a> (<a href='https://wandb.me/developer-guide' target=\"_blank\">docs</a>)<br>"
      ],
      "text/plain": [
       "<IPython.core.display.HTML object>"
      ]
     },
     "metadata": {},
     "output_type": "display_data"
    },
    {
     "data": {
      "text/html": [
       " View project at <a href='https://wandb.ai/moonstalker9010-none/Document%20Classification' target=\"_blank\">https://wandb.ai/moonstalker9010-none/Document%20Classification</a>"
      ],
      "text/plain": [
       "<IPython.core.display.HTML object>"
      ]
     },
     "metadata": {},
     "output_type": "display_data"
    },
    {
     "data": {
      "text/html": [
       " View run at <a href='https://wandb.ai/moonstalker9010-none/Document%20Classification/runs/sk7kkx7s' target=\"_blank\">https://wandb.ai/moonstalker9010-none/Document%20Classification/runs/sk7kkx7s</a>"
      ],
      "text/plain": [
       "<IPython.core.display.HTML object>"
      ]
     },
     "metadata": {},
     "output_type": "display_data"
    },
    {
     "name": "stderr",
     "output_type": "stream",
     "text": [
      "[Fold 4][Epoch 1/60] Training: 100%|██████████| 680/680 [01:43<00:00,  6.58it/s, loss=0.901]  \n",
      "[Fold 4][Epoch 1/60] Validation: 100%|██████████| 170/170 [00:06<00:00, 27.78it/s]\n"
     ]
    },
    {
     "name": "stdout",
     "output_type": "stream",
     "text": [
      "[F4] Ep1 - Train: 0.6946 | VaL: 0.3518, Acc: 0.8574, F1: 0.8328\n"
     ]
    },
    {
     "name": "stderr",
     "output_type": "stream",
     "text": [
      "[Fold 4][Epoch 2/60] Training: 100%|██████████| 680/680 [01:43<00:00,  6.55it/s, loss=0.0324]  \n",
      "[Fold 4][Epoch 2/60] Validation: 100%|██████████| 170/170 [00:06<00:00, 27.80it/s]\n"
     ]
    },
    {
     "name": "stdout",
     "output_type": "stream",
     "text": [
      "[F4] Ep2 - Train: 0.1883 | VaL: 0.1368, Acc: 0.9515, F1: 0.9516\n"
     ]
    },
    {
     "name": "stderr",
     "output_type": "stream",
     "text": [
      "[Fold 4][Epoch 3/60] Training: 100%|██████████| 680/680 [01:43<00:00,  6.57it/s, loss=0.0182]  \n",
      "[Fold 4][Epoch 3/60] Validation: 100%|██████████| 170/170 [00:06<00:00, 27.69it/s]\n"
     ]
    },
    {
     "name": "stdout",
     "output_type": "stream",
     "text": [
      "[F4] Ep3 - Train: 0.1058 | VaL: 0.2484, Acc: 0.9221, F1: 0.9227\n"
     ]
    },
    {
     "name": "stderr",
     "output_type": "stream",
     "text": [
      "[Fold 4][Epoch 4/60] Training: 100%|██████████| 680/680 [01:43<00:00,  6.57it/s, loss=0.000152]\n",
      "[Fold 4][Epoch 4/60] Validation: 100%|██████████| 170/170 [00:06<00:00, 27.78it/s]\n"
     ]
    },
    {
     "name": "stdout",
     "output_type": "stream",
     "text": [
      "[F4] Ep4 - Train: 0.0648 | VaL: 0.2565, Acc: 0.9368, F1: 0.9367\n"
     ]
    },
    {
     "name": "stderr",
     "output_type": "stream",
     "text": [
      "[Fold 4][Epoch 5/60] Training: 100%|██████████| 680/680 [01:43<00:00,  6.56it/s, loss=0.0115]  \n",
      "[Fold 4][Epoch 5/60] Validation: 100%|██████████| 170/170 [00:06<00:00, 27.88it/s]\n"
     ]
    },
    {
     "name": "stdout",
     "output_type": "stream",
     "text": [
      "[F4] Ep5 - Train: 0.0750 | VaL: 0.1993, Acc: 0.9397, F1: 0.9409\n"
     ]
    },
    {
     "name": "stderr",
     "output_type": "stream",
     "text": [
      "[Fold 4][Epoch 6/60] Training: 100%|██████████| 680/680 [01:43<00:00,  6.57it/s, loss=0.163]   \n",
      "[Fold 4][Epoch 6/60] Validation: 100%|██████████| 170/170 [00:06<00:00, 27.93it/s]\n"
     ]
    },
    {
     "name": "stdout",
     "output_type": "stream",
     "text": [
      "[F4] Ep6 - Train: 0.0398 | VaL: 0.1247, Acc: 0.9588, F1: 0.9589\n"
     ]
    },
    {
     "name": "stderr",
     "output_type": "stream",
     "text": [
      "[Fold 4][Epoch 7/60] Training: 100%|██████████| 680/680 [01:43<00:00,  6.55it/s, loss=0.000325]\n",
      "[Fold 4][Epoch 7/60] Validation: 100%|██████████| 170/170 [00:06<00:00, 27.74it/s]\n"
     ]
    },
    {
     "name": "stdout",
     "output_type": "stream",
     "text": [
      "[F4] Ep7 - Train: 0.0218 | VaL: 0.2181, Acc: 0.9471, F1: 0.9462\n"
     ]
    },
    {
     "name": "stderr",
     "output_type": "stream",
     "text": [
      "[Fold 4][Epoch 8/60] Training: 100%|██████████| 680/680 [01:43<00:00,  6.56it/s, loss=0.000287]\n",
      "[Fold 4][Epoch 8/60] Validation: 100%|██████████| 170/170 [00:06<00:00, 27.74it/s]\n"
     ]
    },
    {
     "name": "stdout",
     "output_type": "stream",
     "text": [
      "[F4] Ep8 - Train: 0.0791 | VaL: 0.1822, Acc: 0.9529, F1: 0.9520\n"
     ]
    },
    {
     "name": "stderr",
     "output_type": "stream",
     "text": [
      "[Fold 4][Epoch 9/60] Training: 100%|██████████| 680/680 [01:43<00:00,  6.56it/s, loss=0.000123]\n",
      "[Fold 4][Epoch 9/60] Validation: 100%|██████████| 170/170 [00:06<00:00, 27.77it/s]\n"
     ]
    },
    {
     "name": "stdout",
     "output_type": "stream",
     "text": [
      "[F4] Ep9 - Train: 0.0406 | VaL: 0.1898, Acc: 0.9529, F1: 0.9530\n"
     ]
    },
    {
     "name": "stderr",
     "output_type": "stream",
     "text": [
      "[Fold 4][Epoch 10/60] Training: 100%|██████████| 680/680 [01:43<00:00,  6.56it/s, loss=0.0019]  \n",
      "[Fold 4][Epoch 10/60] Validation: 100%|██████████| 170/170 [00:06<00:00, 27.81it/s]\n"
     ]
    },
    {
     "name": "stdout",
     "output_type": "stream",
     "text": [
      "[F4] Ep10 - Train: 0.0446 | VaL: 0.1587, Acc: 0.9544, F1: 0.9544\n"
     ]
    },
    {
     "name": "stderr",
     "output_type": "stream",
     "text": [
      "[Fold 4][Epoch 11/60] Training: 100%|██████████| 680/680 [01:43<00:00,  6.56it/s, loss=9.39e-5] \n",
      "[Fold 4][Epoch 11/60] Validation: 100%|██████████| 170/170 [00:06<00:00, 27.82it/s]\n"
     ]
    },
    {
     "name": "stdout",
     "output_type": "stream",
     "text": [
      "[F4] Ep11 - Train: 0.0268 | VaL: 0.1771, Acc: 0.9603, F1: 0.9604\n"
     ]
    },
    {
     "name": "stderr",
     "output_type": "stream",
     "text": [
      "[Fold 4][Epoch 12/60] Training: 100%|██████████| 680/680 [01:43<00:00,  6.55it/s, loss=1.93e-5] \n",
      "[Fold 4][Epoch 12/60] Validation: 100%|██████████| 170/170 [00:06<00:00, 27.60it/s]\n"
     ]
    },
    {
     "name": "stdout",
     "output_type": "stream",
     "text": [
      "[F4] Ep12 - Train: 0.0063 | VaL: 0.2305, Acc: 0.9544, F1: 0.9546\n"
     ]
    },
    {
     "name": "stderr",
     "output_type": "stream",
     "text": [
      "[Fold 4][Epoch 13/60] Training: 100%|██████████| 680/680 [01:43<00:00,  6.57it/s, loss=4.39e-5] \n",
      "[Fold 4][Epoch 13/60] Validation: 100%|██████████| 170/170 [00:06<00:00, 27.83it/s]\n"
     ]
    },
    {
     "name": "stdout",
     "output_type": "stream",
     "text": [
      "[F4] Ep13 - Train: 0.0344 | VaL: 0.2235, Acc: 0.9515, F1: 0.9516\n"
     ]
    },
    {
     "name": "stderr",
     "output_type": "stream",
     "text": [
      "[Fold 4][Epoch 14/60] Training: 100%|██████████| 680/680 [01:43<00:00,  6.56it/s, loss=0.00342] \n",
      "[Fold 4][Epoch 14/60] Validation: 100%|██████████| 170/170 [00:06<00:00, 27.76it/s]\n"
     ]
    },
    {
     "name": "stdout",
     "output_type": "stream",
     "text": [
      "[F4] Ep14 - Train: 0.0327 | VaL: 0.2234, Acc: 0.9397, F1: 0.9410\n"
     ]
    },
    {
     "name": "stderr",
     "output_type": "stream",
     "text": [
      "[Fold 4][Epoch 15/60] Training: 100%|██████████| 680/680 [01:43<00:00,  6.57it/s, loss=0.00141] \n",
      "[Fold 4][Epoch 15/60] Validation: 100%|██████████| 170/170 [00:06<00:00, 27.84it/s]\n"
     ]
    },
    {
     "name": "stdout",
     "output_type": "stream",
     "text": [
      "[F4] Ep15 - Train: 0.0412 | VaL: 0.2239, Acc: 0.9603, F1: 0.9606\n"
     ]
    },
    {
     "name": "stderr",
     "output_type": "stream",
     "text": [
      "[Fold 4][Epoch 16/60] Training: 100%|██████████| 680/680 [01:43<00:00,  6.56it/s, loss=0.0155]  \n",
      "[Fold 4][Epoch 16/60] Validation: 100%|██████████| 170/170 [00:06<00:00, 27.57it/s]\n"
     ]
    },
    {
     "name": "stdout",
     "output_type": "stream",
     "text": [
      "[F4] Ep16 - Train: 0.0289 | VaL: 0.2089, Acc: 0.9559, F1: 0.9561\n"
     ]
    },
    {
     "name": "stderr",
     "output_type": "stream",
     "text": [
      "[Fold 4][Epoch 17/60] Training: 100%|██████████| 680/680 [01:43<00:00,  6.57it/s, loss=7.69e-5] \n",
      "[Fold 4][Epoch 17/60] Validation: 100%|██████████| 170/170 [00:06<00:00, 27.98it/s]\n"
     ]
    },
    {
     "name": "stdout",
     "output_type": "stream",
     "text": [
      "[F4] Ep17 - Train: 0.0248 | VaL: 0.1698, Acc: 0.9647, F1: 0.9650\n"
     ]
    },
    {
     "name": "stderr",
     "output_type": "stream",
     "text": [
      "[Fold 4][Epoch 18/60] Training: 100%|██████████| 680/680 [01:43<00:00,  6.56it/s, loss=0.00127] \n",
      "[Fold 4][Epoch 18/60] Validation: 100%|██████████| 170/170 [00:06<00:00, 27.74it/s]\n"
     ]
    },
    {
     "name": "stdout",
     "output_type": "stream",
     "text": [
      "[F4] Ep18 - Train: 0.0172 | VaL: 0.1926, Acc: 0.9559, F1: 0.9564\n"
     ]
    },
    {
     "name": "stderr",
     "output_type": "stream",
     "text": [
      "[Fold 4][Epoch 19/60] Training: 100%|██████████| 680/680 [01:43<00:00,  6.57it/s, loss=0.000416]\n",
      "[Fold 4][Epoch 19/60] Validation: 100%|██████████| 170/170 [00:06<00:00, 27.83it/s]\n"
     ]
    },
    {
     "name": "stdout",
     "output_type": "stream",
     "text": [
      "[F4] Ep19 - Train: 0.0375 | VaL: 0.2113, Acc: 0.9529, F1: 0.9539\n"
     ]
    },
    {
     "name": "stderr",
     "output_type": "stream",
     "text": [
      "[Fold 4][Epoch 20/60] Training: 100%|██████████| 680/680 [01:43<00:00,  6.57it/s, loss=2.82e-5] \n",
      "[Fold 4][Epoch 20/60] Validation: 100%|██████████| 170/170 [00:06<00:00, 27.73it/s]\n"
     ]
    },
    {
     "name": "stdout",
     "output_type": "stream",
     "text": [
      "[F4] Ep20 - Train: 0.0442 | VaL: 0.2970, Acc: 0.9412, F1: 0.9413\n"
     ]
    },
    {
     "name": "stderr",
     "output_type": "stream",
     "text": [
      "[Fold 4][Epoch 21/60] Training: 100%|██████████| 680/680 [01:43<00:00,  6.58it/s, loss=0.00288] \n",
      "[Fold 4][Epoch 21/60] Validation: 100%|██████████| 170/170 [00:06<00:00, 27.91it/s]\n"
     ]
    },
    {
     "name": "stdout",
     "output_type": "stream",
     "text": [
      "[F4] Ep21 - Train: 0.0283 | VaL: 0.1906, Acc: 0.9588, F1: 0.9599\n"
     ]
    },
    {
     "name": "stderr",
     "output_type": "stream",
     "text": [
      "[Fold 4][Epoch 22/60] Training: 100%|██████████| 680/680 [01:43<00:00,  6.57it/s, loss=0.000239]\n",
      "[Fold 4][Epoch 22/60] Validation: 100%|██████████| 170/170 [00:06<00:00, 27.78it/s]"
     ]
    },
    {
     "name": "stdout",
     "output_type": "stream",
     "text": [
      "[F4] Ep22 - Train: 0.0078 | VaL: 0.2004, Acc: 0.9574, F1: 0.9580\n",
      "[Fold 4] Early stopping triggered. Best F1: 0.9650\n"
     ]
    },
    {
     "name": "stderr",
     "output_type": "stream",
     "text": [
      "\n"
     ]
    },
    {
     "data": {
      "text/html": [],
      "text/plain": [
       "<IPython.core.display.HTML object>"
      ]
     },
     "metadata": {},
     "output_type": "display_data"
    },
    {
     "data": {
      "text/html": [
       "<br>    <style><br>        .wandb-row {<br>            display: flex;<br>            flex-direction: row;<br>            flex-wrap: wrap;<br>            justify-content: flex-start;<br>            width: 100%;<br>        }<br>        .wandb-col {<br>            display: flex;<br>            flex-direction: column;<br>            flex-basis: 100%;<br>            flex: 1;<br>            padding: 10px;<br>        }<br>    </style><br><div class=\"wandb-row\"><div class=\"wandb-col\"><h3>Run history:</h3><br/><table class=\"wandb\"><tr><td>Train_Data</td><td>▁</td></tr><tr><td>Val_Data</td><td>▁</td></tr><tr><td>epoch</td><td>▁▁▂▂▂▃▃▃▄▄▄▅▅▅▆▆▆▇▇▇██</td></tr><tr><td>fold</td><td>▁▁▁▁▁▁▁▁▁▁▁▁▁▁▁▁▁▁▁▁▁▁</td></tr><tr><td>train_loss</td><td>█▃▂▂▂▁▁▂▁▁▁▁▁▁▁▁▁▁▁▁▁▁</td></tr><tr><td>val_acc</td><td>▁▇▅▆▆█▇▇▇▇█▇▇▆█▇█▇▇▆██</td></tr><tr><td>val_f1</td><td>▁▇▆▆▇█▇▇▇▇█▇▇▇████▇▇██</td></tr><tr><td>val_loss</td><td>█▁▅▅▃▁▄▃▃▂▃▄▄▄▄▄▂▃▄▆▃▃</td></tr></table><br/></div><div class=\"wandb-col\"><h3>Run summary:</h3><br/><table class=\"wandb\"><tr><td>Train_Data</td><td>2720</td></tr><tr><td>Val_Data</td><td>680</td></tr><tr><td>epoch</td><td>22</td></tr><tr><td>fold</td><td>4</td></tr><tr><td>train_loss</td><td>0.00781</td></tr><tr><td>val_acc</td><td>0.95735</td></tr><tr><td>val_f1</td><td>0.958</td></tr><tr><td>val_loss</td><td>0.20036</td></tr></table><br/></div></div>"
      ],
      "text/plain": [
       "<IPython.core.display.HTML object>"
      ]
     },
     "metadata": {},
     "output_type": "display_data"
    },
    {
     "data": {
      "text/html": [
       " View run <strong style=\"color:#cdcd00\">V2-fold_4</strong> at: <a href='https://wandb.ai/moonstalker9010-none/Document%20Classification/runs/sk7kkx7s' target=\"_blank\">https://wandb.ai/moonstalker9010-none/Document%20Classification/runs/sk7kkx7s</a><br> View project at: <a href='https://wandb.ai/moonstalker9010-none/Document%20Classification' target=\"_blank\">https://wandb.ai/moonstalker9010-none/Document%20Classification</a><br>Synced 5 W&B file(s), 0 media file(s), 0 artifact file(s) and 0 other file(s)"
      ],
      "text/plain": [
       "<IPython.core.display.HTML object>"
      ]
     },
     "metadata": {},
     "output_type": "display_data"
    },
    {
     "data": {
      "text/html": [
       "Find logs at: <code>../../wandb/run-20250703_044313-sk7kkx7s/logs</code>"
      ],
      "text/plain": [
       "<IPython.core.display.HTML object>"
      ]
     },
     "metadata": {},
     "output_type": "display_data"
    },
    {
     "name": "stdout",
     "output_type": "stream",
     "text": [
      "\n",
      "=== Fold 5 ===\n",
      "Fold 5: Train samples=2720, Val samples=680\n"
     ]
    },
    {
     "data": {
      "text/html": [
       "Tracking run with wandb version 0.21.0"
      ],
      "text/plain": [
       "<IPython.core.display.HTML object>"
      ]
     },
     "metadata": {},
     "output_type": "display_data"
    },
    {
     "data": {
      "text/html": [
       "Run data is saved locally in <code>../../wandb/run-20250703_052337-pgxjckwu</code>"
      ],
      "text/plain": [
       "<IPython.core.display.HTML object>"
      ]
     },
     "metadata": {},
     "output_type": "display_data"
    },
    {
     "data": {
      "text/html": [
       "Syncing run <strong><a href='https://wandb.ai/moonstalker9010-none/Document%20Classification/runs/pgxjckwu' target=\"_blank\">V2-fold_5</a></strong> to <a href='https://wandb.ai/moonstalker9010-none/Document%20Classification' target=\"_blank\">Weights & Biases</a> (<a href='https://wandb.me/developer-guide' target=\"_blank\">docs</a>)<br>"
      ],
      "text/plain": [
       "<IPython.core.display.HTML object>"
      ]
     },
     "metadata": {},
     "output_type": "display_data"
    },
    {
     "data": {
      "text/html": [
       " View project at <a href='https://wandb.ai/moonstalker9010-none/Document%20Classification' target=\"_blank\">https://wandb.ai/moonstalker9010-none/Document%20Classification</a>"
      ],
      "text/plain": [
       "<IPython.core.display.HTML object>"
      ]
     },
     "metadata": {},
     "output_type": "display_data"
    },
    {
     "data": {
      "text/html": [
       " View run at <a href='https://wandb.ai/moonstalker9010-none/Document%20Classification/runs/pgxjckwu' target=\"_blank\">https://wandb.ai/moonstalker9010-none/Document%20Classification/runs/pgxjckwu</a>"
      ],
      "text/plain": [
       "<IPython.core.display.HTML object>"
      ]
     },
     "metadata": {},
     "output_type": "display_data"
    },
    {
     "name": "stderr",
     "output_type": "stream",
     "text": [
      "[Fold 5][Epoch 1/60] Training: 100%|██████████| 680/680 [01:43<00:00,  6.58it/s, loss=2.21]  \n",
      "[Fold 5][Epoch 1/60] Validation: 100%|██████████| 170/170 [00:06<00:00, 28.01it/s]\n"
     ]
    },
    {
     "name": "stdout",
     "output_type": "stream",
     "text": [
      "[F5] Ep1 - Train: 2.2705 | VaL: 2.5324, Acc: 0.1103, F1: 0.0303\n"
     ]
    },
    {
     "name": "stderr",
     "output_type": "stream",
     "text": [
      "[Fold 5][Epoch 2/60] Training: 100%|██████████| 680/680 [01:43<00:00,  6.57it/s, loss=0.0344]  \n",
      "[Fold 5][Epoch 2/60] Validation: 100%|██████████| 170/170 [00:06<00:00, 27.86it/s]\n"
     ]
    },
    {
     "name": "stdout",
     "output_type": "stream",
     "text": [
      "[F5] Ep2 - Train: 1.0102 | VaL: 0.3142, Acc: 0.9074, F1: 0.8958\n"
     ]
    },
    {
     "name": "stderr",
     "output_type": "stream",
     "text": [
      "[Fold 5][Epoch 3/60] Training: 100%|██████████| 680/680 [01:43<00:00,  6.57it/s, loss=0.426]   \n",
      "[Fold 5][Epoch 3/60] Validation: 100%|██████████| 170/170 [00:06<00:00, 27.96it/s]\n"
     ]
    },
    {
     "name": "stdout",
     "output_type": "stream",
     "text": [
      "[F5] Ep3 - Train: 0.1922 | VaL: 0.2162, Acc: 0.9103, F1: 0.9096\n"
     ]
    },
    {
     "name": "stderr",
     "output_type": "stream",
     "text": [
      "[Fold 5][Epoch 4/60] Training: 100%|██████████| 680/680 [01:43<00:00,  6.56it/s, loss=0.00172] \n",
      "[Fold 5][Epoch 4/60] Validation: 100%|██████████| 170/170 [00:06<00:00, 27.77it/s]\n"
     ]
    },
    {
     "name": "stdout",
     "output_type": "stream",
     "text": [
      "[F5] Ep4 - Train: 0.1100 | VaL: 0.1276, Acc: 0.9397, F1: 0.9406\n"
     ]
    },
    {
     "name": "stderr",
     "output_type": "stream",
     "text": [
      "[Fold 5][Epoch 5/60] Training: 100%|██████████| 680/680 [01:43<00:00,  6.58it/s, loss=0.000428]\n",
      "[Fold 5][Epoch 5/60] Validation: 100%|██████████| 170/170 [00:06<00:00, 27.70it/s]\n"
     ]
    },
    {
     "name": "stdout",
     "output_type": "stream",
     "text": [
      "[F5] Ep5 - Train: 0.0916 | VaL: 0.1582, Acc: 0.9338, F1: 0.9299\n"
     ]
    },
    {
     "name": "stderr",
     "output_type": "stream",
     "text": [
      "[Fold 5][Epoch 6/60] Training: 100%|██████████| 680/680 [01:43<00:00,  6.58it/s, loss=0.206]   \n",
      "[Fold 5][Epoch 6/60] Validation: 100%|██████████| 170/170 [00:06<00:00, 27.91it/s]\n"
     ]
    },
    {
     "name": "stdout",
     "output_type": "stream",
     "text": [
      "[F5] Ep6 - Train: 0.0481 | VaL: 0.1721, Acc: 0.9441, F1: 0.9432\n"
     ]
    },
    {
     "name": "stderr",
     "output_type": "stream",
     "text": [
      "[Fold 5][Epoch 7/60] Training: 100%|██████████| 680/680 [01:43<00:00,  6.57it/s, loss=0.000641]\n",
      "[Fold 5][Epoch 7/60] Validation: 100%|██████████| 170/170 [00:06<00:00, 28.07it/s]\n"
     ]
    },
    {
     "name": "stdout",
     "output_type": "stream",
     "text": [
      "[F5] Ep7 - Train: 0.0821 | VaL: 0.1722, Acc: 0.9426, F1: 0.9426\n"
     ]
    },
    {
     "name": "stderr",
     "output_type": "stream",
     "text": [
      "[Fold 5][Epoch 8/60] Training: 100%|██████████| 680/680 [01:43<00:00,  6.58it/s, loss=0.000115]\n",
      "[Fold 5][Epoch 8/60] Validation: 100%|██████████| 170/170 [00:06<00:00, 27.91it/s]\n"
     ]
    },
    {
     "name": "stdout",
     "output_type": "stream",
     "text": [
      "[F5] Ep8 - Train: 0.1120 | VaL: 0.1913, Acc: 0.9588, F1: 0.9581\n"
     ]
    },
    {
     "name": "stderr",
     "output_type": "stream",
     "text": [
      "[Fold 5][Epoch 9/60] Training: 100%|██████████| 680/680 [01:43<00:00,  6.58it/s, loss=0.00125] \n",
      "[Fold 5][Epoch 9/60] Validation: 100%|██████████| 170/170 [00:06<00:00, 27.98it/s]\n"
     ]
    },
    {
     "name": "stdout",
     "output_type": "stream",
     "text": [
      "[F5] Ep9 - Train: 0.0457 | VaL: 0.2400, Acc: 0.9324, F1: 0.9311\n"
     ]
    },
    {
     "name": "stderr",
     "output_type": "stream",
     "text": [
      "[Fold 5][Epoch 10/60] Training: 100%|██████████| 680/680 [01:43<00:00,  6.58it/s, loss=4.36e-5] \n",
      "[Fold 5][Epoch 10/60] Validation: 100%|██████████| 170/170 [00:06<00:00, 27.80it/s]\n"
     ]
    },
    {
     "name": "stdout",
     "output_type": "stream",
     "text": [
      "[F5] Ep10 - Train: 0.0274 | VaL: 0.1820, Acc: 0.9618, F1: 0.9614\n"
     ]
    },
    {
     "name": "stderr",
     "output_type": "stream",
     "text": [
      "[Fold 5][Epoch 11/60] Training: 100%|██████████| 680/680 [01:43<00:00,  6.58it/s, loss=0.00266] \n",
      "[Fold 5][Epoch 11/60] Validation: 100%|██████████| 170/170 [00:06<00:00, 28.09it/s]\n"
     ]
    },
    {
     "name": "stdout",
     "output_type": "stream",
     "text": [
      "[F5] Ep11 - Train: 0.0581 | VaL: 0.2770, Acc: 0.9471, F1: 0.9460\n"
     ]
    },
    {
     "name": "stderr",
     "output_type": "stream",
     "text": [
      "[Fold 5][Epoch 12/60] Training: 100%|██████████| 680/680 [01:43<00:00,  6.58it/s, loss=6.62e-5] \n",
      "[Fold 5][Epoch 12/60] Validation: 100%|██████████| 170/170 [00:06<00:00, 27.71it/s]\n"
     ]
    },
    {
     "name": "stdout",
     "output_type": "stream",
     "text": [
      "[F5] Ep12 - Train: 0.0403 | VaL: 0.1720, Acc: 0.9603, F1: 0.9604\n"
     ]
    },
    {
     "name": "stderr",
     "output_type": "stream",
     "text": [
      "[Fold 5][Epoch 13/60] Training: 100%|██████████| 680/680 [01:43<00:00,  6.58it/s, loss=1.27e-5] \n",
      "[Fold 5][Epoch 13/60] Validation: 100%|██████████| 170/170 [00:06<00:00, 27.66it/s]\n"
     ]
    },
    {
     "name": "stdout",
     "output_type": "stream",
     "text": [
      "[F5] Ep13 - Train: 0.0266 | VaL: 0.1612, Acc: 0.9574, F1: 0.9560\n"
     ]
    },
    {
     "name": "stderr",
     "output_type": "stream",
     "text": [
      "[Fold 5][Epoch 14/60] Training: 100%|██████████| 680/680 [01:43<00:00,  6.56it/s, loss=0.00384] \n",
      "[Fold 5][Epoch 14/60] Validation: 100%|██████████| 170/170 [00:06<00:00, 27.88it/s]\n"
     ]
    },
    {
     "name": "stdout",
     "output_type": "stream",
     "text": [
      "[F5] Ep14 - Train: 0.0092 | VaL: 0.1598, Acc: 0.9618, F1: 0.9610\n"
     ]
    },
    {
     "name": "stderr",
     "output_type": "stream",
     "text": [
      "[Fold 5][Epoch 15/60] Training: 100%|██████████| 680/680 [01:43<00:00,  6.58it/s, loss=3.51e-5] \n",
      "[Fold 5][Epoch 15/60] Validation: 100%|██████████| 170/170 [00:06<00:00, 27.84it/s]"
     ]
    },
    {
     "name": "stdout",
     "output_type": "stream",
     "text": [
      "[F5] Ep15 - Train: 0.0125 | VaL: 0.2139, Acc: 0.9544, F1: 0.9518\n",
      "[Fold 5] Early stopping triggered. Best F1: 0.9614\n"
     ]
    },
    {
     "name": "stderr",
     "output_type": "stream",
     "text": [
      "\n"
     ]
    },
    {
     "data": {
      "text/html": [],
      "text/plain": [
       "<IPython.core.display.HTML object>"
      ]
     },
     "metadata": {},
     "output_type": "display_data"
    },
    {
     "data": {
      "text/html": [
       "<br>    <style><br>        .wandb-row {<br>            display: flex;<br>            flex-direction: row;<br>            flex-wrap: wrap;<br>            justify-content: flex-start;<br>            width: 100%;<br>        }<br>        .wandb-col {<br>            display: flex;<br>            flex-direction: column;<br>            flex-basis: 100%;<br>            flex: 1;<br>            padding: 10px;<br>        }<br>    </style><br><div class=\"wandb-row\"><div class=\"wandb-col\"><h3>Run history:</h3><br/><table class=\"wandb\"><tr><td>Train_Data</td><td>▁</td></tr><tr><td>Val_Data</td><td>▁</td></tr><tr><td>epoch</td><td>▁▁▂▃▃▃▄▅▅▅▆▇▇▇█</td></tr><tr><td>fold</td><td>▁▁▁▁▁▁▁▁▁▁▁▁▁▁▁</td></tr><tr><td>train_loss</td><td>█▄▂▁▁▁▁▁▁▁▁▁▁▁▁</td></tr><tr><td>val_acc</td><td>▁██████████████</td></tr><tr><td>val_f1</td><td>▁██████████████</td></tr><tr><td>val_loss</td><td>█▂▁▁▁▁▁▁▁▁▁▁▁▁▁</td></tr></table><br/></div><div class=\"wandb-col\"><h3>Run summary:</h3><br/><table class=\"wandb\"><tr><td>Train_Data</td><td>2720</td></tr><tr><td>Val_Data</td><td>680</td></tr><tr><td>epoch</td><td>15</td></tr><tr><td>fold</td><td>5</td></tr><tr><td>train_loss</td><td>0.01251</td></tr><tr><td>val_acc</td><td>0.95441</td></tr><tr><td>val_f1</td><td>0.95178</td></tr><tr><td>val_loss</td><td>0.21388</td></tr></table><br/></div></div>"
      ],
      "text/plain": [
       "<IPython.core.display.HTML object>"
      ]
     },
     "metadata": {},
     "output_type": "display_data"
    },
    {
     "data": {
      "text/html": [
       " View run <strong style=\"color:#cdcd00\">V2-fold_5</strong> at: <a href='https://wandb.ai/moonstalker9010-none/Document%20Classification/runs/pgxjckwu' target=\"_blank\">https://wandb.ai/moonstalker9010-none/Document%20Classification/runs/pgxjckwu</a><br> View project at: <a href='https://wandb.ai/moonstalker9010-none/Document%20Classification' target=\"_blank\">https://wandb.ai/moonstalker9010-none/Document%20Classification</a><br>Synced 5 W&B file(s), 0 media file(s), 0 artifact file(s) and 0 other file(s)"
      ],
      "text/plain": [
       "<IPython.core.display.HTML object>"
      ]
     },
     "metadata": {},
     "output_type": "display_data"
    },
    {
     "data": {
      "text/html": [
       "Find logs at: <code>../../wandb/run-20250703_052337-pgxjckwu/logs</code>"
      ],
      "text/plain": [
       "<IPython.core.display.HTML object>"
      ]
     },
     "metadata": {},
     "output_type": "display_data"
    }
   ],
   "source": [
    "# StratifiedKFold 설정\n",
    "kf = StratifiedKFold(n_splits=5, shuffle=True, random_state=42)\n",
    "\n",
    "for fold, (train_idx, val_idx) in enumerate(kf.split(aug_df, aug_df['target'])):\n",
    "    print(f\"\\n=== Fold {fold+1} ===\")\n",
    "    train_fold_df = aug_df.iloc[train_idx].reset_index(drop=True)\n",
    "    val_fold_df = aug_df.iloc[val_idx].reset_index(drop=True)\n",
    "\n",
    "    train_dataset = ImageDataset(train_fold_df, path=\"../data/Full_augmented\", transform=train_transform)\n",
    "    val_dataset = ImageDataset(val_fold_df, path=\"../data/Full_augmented\", transform=test_transform)\n",
    "\n",
    "    train_loader = DataLoader(train_dataset, batch_size=BATCH_SIZE, shuffle=True, num_workers=num_workers)\n",
    "    val_loader = DataLoader(val_dataset, batch_size=BATCH_SIZE, shuffle=False, num_workers=num_workers)\n",
    "    print(f\"Fold {fold+1}: Train samples={len(train_fold_df)}, Val samples={len(val_fold_df)}\")\n",
    "\n",
    "    # 모델 정의\n",
    "    model = timm.create_model(model_name, pretrained=True, num_classes=17, drop_path_rate=Drop_out).to(device)\n",
    "    loss_fn = nn.CrossEntropyLoss()\n",
    "    optimizer = torch.optim.Adam(model.parameters(), lr=LR)\n",
    "\n",
    "    best_f1 = -1.0\n",
    "    patience = 5\n",
    "    trigger = 0\n",
    "\n",
    "    os.environ[\"WANDB_DIR\"] = \"../../\"\n",
    "\n",
    "    wandb.init(\n",
    "    project=\"Document Classification\",\n",
    "    entity=\"moonstalker9010-none\",\n",
    "    name=f\"V2-fold_{fold+1}\",\n",
    "    config={\n",
    "        \"epochs\": EPOCHS,\n",
    "        \"img_size\": img_size,\n",
    "        \"batch_size\": BATCH_SIZE,\n",
    "        \"learning_rate\": LR,\n",
    "        \"Drop_out\": Drop_out,\n",
    "        \"model_name\": model_name,\n",
    "        \"train_samples\": len(train_fold_df),\n",
    "        \"val_samples\": len(val_fold_df),\n",
    "    }\n",
    ")\n",
    "    \n",
    "    wandb.log({\n",
    "    \"Train_Data\": len(train_fold_df),\n",
    "    \"Val_Data\": len(val_fold_df),\n",
    "})\n",
    "\n",
    "    for epoch in range(1, EPOCHS + 1):\n",
    "        # 학습\n",
    "        model.train()\n",
    "        train_loss = 0.0\n",
    "        train_bar = tqdm(train_loader, desc=f\"[Fold {fold+1}][Epoch {epoch}/{EPOCHS}] Training\")\n",
    "        for images, targets in train_bar:\n",
    "            images, targets = images.to(device), targets.to(device)\n",
    "            optimizer.zero_grad()\n",
    "            outputs = model(images)\n",
    "            loss = loss_fn(outputs, targets)\n",
    "            loss.backward()\n",
    "            optimizer.step()\n",
    "            train_loss += loss.item()\n",
    "            train_bar.set_postfix(loss=loss.item())\n",
    "\n",
    "        avg_train_loss = train_loss / len(train_loader)\n",
    "\n",
    "        # 검증\n",
    "        model.eval()\n",
    "        val_loss = 0.0\n",
    "        correct = 0\n",
    "        total = 0\n",
    "        all_preds = []\n",
    "        all_targets = []\n",
    "\n",
    "        with torch.no_grad():\n",
    "            val_bar = tqdm(val_loader, desc=f\"[Fold {fold+1}][Epoch {epoch}/{EPOCHS}] Validation\")\n",
    "            for images, targets in val_bar:\n",
    "                images, targets = images.to(device), targets.to(device)\n",
    "                outputs = model(images)\n",
    "                loss = loss_fn(outputs, targets)\n",
    "                val_loss += loss.item()\n",
    "\n",
    "                _, preds = torch.max(outputs, 1)\n",
    "                all_preds.extend(preds.cpu().numpy())\n",
    "                all_targets.extend(targets.cpu().numpy())\n",
    "\n",
    "                correct += (preds == targets).sum().item()\n",
    "                total += targets.size(0)\n",
    "\n",
    "        avg_val_loss = val_loss / len(val_loader)\n",
    "        val_acc = correct / total\n",
    "        val_f1 = f1_score(all_targets, all_preds, average='macro')\n",
    "\n",
    "        print(f\"[F{fold+1}] Ep{epoch} - \"\n",
    "              f\"Train: {avg_train_loss:.4f} | VaL: {avg_val_loss:.4f}, \"\n",
    "              f\"Acc: {val_acc:.4f}, F1: {val_f1:.4f}\")\n",
    "\n",
    "        wandb.log({\n",
    "            \"fold\": fold + 1,\n",
    "            \"epoch\": epoch,\n",
    "            \"train_loss\": avg_train_loss,\n",
    "            \"val_loss\": avg_val_loss,\n",
    "            \"val_acc\": val_acc,\n",
    "            \"val_f1\": val_f1,\n",
    "        })\n",
    "\n",
    "        # EarlyStopping\n",
    "        if val_f1 > best_f1:\n",
    "            best_f1 = val_f1\n",
    "            trigger = 0\n",
    "            save_dir = \"../model\"\n",
    "            os.makedirs(save_dir, exist_ok=True)\n",
    "            torch.save(model.state_dict(), os.path.join(save_dir, f\"model_fold{fold+1}.pth\"))\n",
    "        else:\n",
    "            trigger += 1\n",
    "            if trigger >= patience:\n",
    "                print(f\"[Fold {fold+1}] Early stopping triggered. Best F1: {best_f1:.4f}\")\n",
    "                break\n",
    "\n",
    "    wandb.finish()"
   ]
  },
  {
   "cell_type": "markdown",
   "id": "a129a87a",
   "metadata": {},
   "source": [
    "### Ensemble & Inference"
   ]
  },
  {
   "cell_type": "code",
   "execution_count": null,
   "id": "29ab0d2e",
   "metadata": {},
   "outputs": [],
   "source": [
    "submission = pd.read_csv(\"../data/sample_submission.csv\")\n",
    "test_dataset = ImageDataset(test_df, test_path, transform=test_transform)\n",
    "test_loader = DataLoader(test_dataset, batch_size=BATCH_SIZE, shuffle=False, num_workers=num_workers)\n",
    "\n",
    "# 저장된 fold 모델 불러오기\n",
    "models = []\n",
    "for fold in range(5):\n",
    "    model = timm.create_model(model_name, pretrained=False, num_classes=17, drop_path_rate=Drop_out)\n",
    "    model.load_state_dict(torch.load(f\"../model/V2/model_fold{fold+1}.pth\", map_location=device))\n",
    "    model.to(device)\n",
    "    model.eval()\n",
    "    models.append(model)"
   ]
  },
  {
   "cell_type": "code",
   "execution_count": null,
   "id": "4293b25d",
   "metadata": {},
   "outputs": [
    {
     "name": "stderr",
     "output_type": "stream",
     "text": [
      "Inference Fold1: 100%|██████████| 785/785 [00:27<00:00, 28.38it/s]\n",
      "Inference Fold2: 100%|██████████| 785/785 [00:27<00:00, 29.01it/s]\n",
      "Inference Fold3: 100%|██████████| 785/785 [00:27<00:00, 28.78it/s]\n",
      "Inference Fold4: 100%|██████████| 785/785 [00:27<00:00, 28.65it/s]\n",
      "Inference Fold5: 100%|██████████| 785/785 [00:27<00:00, 28.65it/s]"
     ]
    },
    {
     "name": "stdout",
     "output_type": "stream",
     "text": [
      "V2-submission_weighted.csv 저장\n"
     ]
    },
    {
     "name": "stderr",
     "output_type": "stream",
     "text": [
      "\n"
     ]
    }
   ],
   "source": [
    "fold_f1s = [0.97755, 0.95254, 0.95681, 0.95800, 0.95178]\n",
    "weights = np.array(fold_f1s) / np.sum(fold_f1s)  # normalize 가중치 합=1\n",
    "\n",
    "all_preds = []\n",
    "\n",
    "for model_idx, model in enumerate(models):\n",
    "    model_preds = []\n",
    "    with torch.no_grad():\n",
    "        for images, _ in tqdm(test_loader, desc=f\"Inference Fold{model_idx+1}\"):\n",
    "            images = images.to(device)\n",
    "            outputs = model(images)\n",
    "            probs = torch.softmax(outputs, dim=1).cpu().numpy()\n",
    "            model_preds.append(probs)\n",
    "    model_preds = np.concatenate(model_preds, axis=0)  # (num_samples, num_classes)\n",
    "    weighted_preds = model_preds * weights[model_idx]  # fold별 가중치 적용\n",
    "    all_preds.append(weighted_preds)\n",
    "\n",
    "# 앙상블 결과: 가중합\n",
    "ensemble_preds = np.sum(all_preds, axis=0)            # shape: (num_samples, num_classes)\n",
    "final_preds = np.argmax(ensemble_preds, axis=1)       # shape: (num_samples,)\n",
    "\n",
    "# 저장\n",
    "submission[\"target\"] = final_preds\n",
    "submission.to_csv(\"../data/V2-submission.csv\", index=False)\n",
    "print(\"V2-submission_weighted.csv 저장\")"
   ]
  },
  {
   "cell_type": "code",
   "execution_count": null,
   "id": "3bad2429",
   "metadata": {},
   "outputs": [],
   "source": []
  }
 ],
 "metadata": {
  "kernelspec": {
   "display_name": "CV_Project",
   "language": "python",
   "name": "python3"
  },
  "language_info": {
   "codemirror_mode": {
    "name": "ipython",
    "version": 3
   },
   "file_extension": ".py",
   "mimetype": "text/x-python",
   "name": "python",
   "nbconvert_exporter": "python",
   "pygments_lexer": "ipython3",
   "version": "3.9.23"
  }
 },
 "nbformat": 4,
 "nbformat_minor": 5
}
